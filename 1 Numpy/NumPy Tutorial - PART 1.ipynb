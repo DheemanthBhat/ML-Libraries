{
 "cells": [
  {
   "cell_type": "code",
   "execution_count": 2,
   "id": "2daee31d",
   "metadata": {},
   "outputs": [
    {
     "data": {
      "application/javascript": [
       "\n",
       "            setTimeout(function() {\n",
       "                var nbb_cell_id = 2;\n",
       "                var nbb_unformatted_code = \"# Enable code formatting using external plugin nb_black\\n%reload_ext nb_black\";\n",
       "                var nbb_formatted_code = \"# Enable code formatting using external plugin nb_black\\n%reload_ext nb_black\";\n",
       "                var nbb_cells = Jupyter.notebook.get_cells();\n",
       "                for (var i = 0; i < nbb_cells.length; ++i) {\n",
       "                    if (nbb_cells[i].input_prompt_number == nbb_cell_id) {\n",
       "                        if (nbb_cells[i].get_text() == nbb_unformatted_code) {\n",
       "                             nbb_cells[i].set_text(nbb_formatted_code);\n",
       "                        }\n",
       "                        break;\n",
       "                    }\n",
       "                }\n",
       "            }, 500);\n",
       "            "
      ],
      "text/plain": [
       "<IPython.core.display.Javascript object>"
      ]
     },
     "metadata": {},
     "output_type": "display_data"
    },
    {
     "data": {
      "application/javascript": [
       "\n",
       "            setTimeout(function() {\n",
       "                var nbb_cell_id = 2;\n",
       "                var nbb_unformatted_code = \"# Enable code formatting using external plugin nb_black\\n%reload_ext nb_black\";\n",
       "                var nbb_formatted_code = \"# Enable code formatting using external plugin nb_black\\n%reload_ext nb_black\";\n",
       "                var nbb_cells = Jupyter.notebook.get_cells();\n",
       "                for (var i = 0; i < nbb_cells.length; ++i) {\n",
       "                    if (nbb_cells[i].input_prompt_number == nbb_cell_id) {\n",
       "                        if (nbb_cells[i].get_text() == nbb_unformatted_code) {\n",
       "                             nbb_cells[i].set_text(nbb_formatted_code);\n",
       "                        }\n",
       "                        break;\n",
       "                    }\n",
       "                }\n",
       "            }, 500);\n",
       "            "
      ],
      "text/plain": [
       "<IPython.core.display.Javascript object>"
      ]
     },
     "metadata": {},
     "output_type": "display_data"
    }
   ],
   "source": [
    "# Enable code formatting using external plugin nb_black\n",
    "%reload_ext nb_black"
   ]
  },
  {
   "cell_type": "markdown",
   "id": "2f1e3af0",
   "metadata": {},
   "source": [
    "![Numpy](numpy.png)\n",
    "\n",
    "# NumPy Tutorial - PART 1\n",
    "\n",
    "**Ref: [Python NumPy Tutorial for Beginners](https://youtu.be/QUT1VHiLmmI) by [freeCodeCamp.org](https://www.freecodecamp.org/)**\n",
    "\n",
    "[NumPy](https://numpy.org/) is a library for the Python programming language, adding support for large, multi-dimensional arrays and matrices, along with a large collection of high-level mathematical functions to operate on these arrays. **NumPy is faster than traditional Python Lists**.\n",
    "\n",
    "Why NumPy is faster than Lists?\n",
    "\n",
    "1. NumPy uses Fixed Type.\n",
    "2. No type checking when iterating through objects.\n",
    "3. NumPy uses contiguous memory which can take benefit of:\n",
    " * SIMD (_Single Instruction Multiple Data_) vector processing.\n",
    " * Effective Cache Utilization.\n",
    "\n",
    "### Applications of NumPy \n",
    "\n",
    "1. Matematics (MATLAB Replacement)\n",
    "2. Plotting (Matplotlib)\n",
    "3. Backend of (Pandas, Connect 4, Digital Photography).\n",
    "4. Used very much in Machine Learning.\n",
    "5. Helps in understanding [Tensor](https://www.tensorflow.org/) library which is similar to NumPy.\n",
    "\n",
    "> **Note: [SciPy](https://scipy.org/) has lot more mathematical functions compared to Numpy**."
   ]
  },
  {
   "cell_type": "markdown",
   "id": "ced206dd",
   "metadata": {},
   "source": [
    "## Load NumPy library\n",
    "\n",
    "Run below command if NumPy is not already installed.\n",
    "```cmd\n",
    "pip install numpy\n",
    "```\n",
    "or\n",
    "```cmd\n",
    "pip3 install numpy\n",
    "```"
   ]
  },
  {
   "cell_type": "code",
   "execution_count": 2,
   "id": "d91ef6ad",
   "metadata": {},
   "outputs": [
    {
     "name": "stdout",
     "output_type": "stream",
     "text": [
      "NumPy version: 1.20.3\n"
     ]
    }
   ],
   "source": [
    "import numpy as np\n",
    "\n",
    "print(\"NumPy version:\", np.__version__)\n",
    "\n",
    "np.set_printoptions(linewidth=130)  # Line width: Maximum 130 chacters in the output, post which it will continue in next line."
   ]
  },
  {
   "cell_type": "markdown",
   "id": "b2aa4db0",
   "metadata": {},
   "source": [
    "## The Basics\n",
    "\n",
    "### Create NumPy arrays\n",
    "\n",
    "We can create NumPy arrays with elements of **same or different datatypes**."
   ]
  },
  {
   "cell_type": "code",
   "execution_count": 22,
   "id": "023eb269",
   "metadata": {},
   "outputs": [
    {
     "data": {
      "text/plain": [
       "array([1, 2, 3])"
      ]
     },
     "execution_count": 22,
     "metadata": {},
     "output_type": "execute_result"
    },
    {
     "data": {
      "application/javascript": [
       "\n",
       "            setTimeout(function() {\n",
       "                var nbb_cell_id = 22;\n",
       "                var nbb_unformatted_code = \"# Create an array of integers.\\ni = np.array([1, 2, 3])\\ni\";\n",
       "                var nbb_formatted_code = \"# Create an array of integers.\\ni = np.array([1, 2, 3])\\ni\";\n",
       "                var nbb_cells = Jupyter.notebook.get_cells();\n",
       "                for (var i = 0; i < nbb_cells.length; ++i) {\n",
       "                    if (nbb_cells[i].input_prompt_number == nbb_cell_id) {\n",
       "                        if (nbb_cells[i].get_text() == nbb_unformatted_code) {\n",
       "                             nbb_cells[i].set_text(nbb_formatted_code);\n",
       "                        }\n",
       "                        break;\n",
       "                    }\n",
       "                }\n",
       "            }, 500);\n",
       "            "
      ],
      "text/plain": [
       "<IPython.core.display.Javascript object>"
      ]
     },
     "metadata": {},
     "output_type": "display_data"
    }
   ],
   "source": [
    "# Create an array of integers.\n",
    "i = np.array([1, 2, 3])\n",
    "i"
   ]
  },
  {
   "cell_type": "code",
   "execution_count": 23,
   "id": "18a3b622",
   "metadata": {},
   "outputs": [
    {
     "data": {
      "text/plain": [
       "array([0.1  , 2.9  , 3.14 , 0.004])"
      ]
     },
     "execution_count": 23,
     "metadata": {},
     "output_type": "execute_result"
    },
    {
     "data": {
      "application/javascript": [
       "\n",
       "            setTimeout(function() {\n",
       "                var nbb_cell_id = 23;\n",
       "                var nbb_unformatted_code = \"# Create an array of floating point numbers.\\nf = np.array([0.1, 2.9, 3.14, 0.004])\\nf\";\n",
       "                var nbb_formatted_code = \"# Create an array of floating point numbers.\\nf = np.array([0.1, 2.9, 3.14, 0.004])\\nf\";\n",
       "                var nbb_cells = Jupyter.notebook.get_cells();\n",
       "                for (var i = 0; i < nbb_cells.length; ++i) {\n",
       "                    if (nbb_cells[i].input_prompt_number == nbb_cell_id) {\n",
       "                        if (nbb_cells[i].get_text() == nbb_unformatted_code) {\n",
       "                             nbb_cells[i].set_text(nbb_formatted_code);\n",
       "                        }\n",
       "                        break;\n",
       "                    }\n",
       "                }\n",
       "            }, 500);\n",
       "            "
      ],
      "text/plain": [
       "<IPython.core.display.Javascript object>"
      ]
     },
     "metadata": {},
     "output_type": "display_data"
    }
   ],
   "source": [
    "# Create an array of floating point numbers.\n",
    "f = np.array([0.1, 2.9, 3.14, 0.004])\n",
    "f"
   ]
  },
  {
   "cell_type": "code",
   "execution_count": 24,
   "id": "13ee773c",
   "metadata": {},
   "outputs": [
    {
     "data": {
      "text/plain": [
       "array([ True, False,  True,  True, False])"
      ]
     },
     "execution_count": 24,
     "metadata": {},
     "output_type": "execute_result"
    },
    {
     "data": {
      "application/javascript": [
       "\n",
       "            setTimeout(function() {\n",
       "                var nbb_cell_id = 24;\n",
       "                var nbb_unformatted_code = \"# Create an array of boolean values.\\nb = np.array([True, False, True, True, False])\\nb\";\n",
       "                var nbb_formatted_code = \"# Create an array of boolean values.\\nb = np.array([True, False, True, True, False])\\nb\";\n",
       "                var nbb_cells = Jupyter.notebook.get_cells();\n",
       "                for (var i = 0; i < nbb_cells.length; ++i) {\n",
       "                    if (nbb_cells[i].input_prompt_number == nbb_cell_id) {\n",
       "                        if (nbb_cells[i].get_text() == nbb_unformatted_code) {\n",
       "                             nbb_cells[i].set_text(nbb_formatted_code);\n",
       "                        }\n",
       "                        break;\n",
       "                    }\n",
       "                }\n",
       "            }, 500);\n",
       "            "
      ],
      "text/plain": [
       "<IPython.core.display.Javascript object>"
      ]
     },
     "metadata": {},
     "output_type": "display_data"
    }
   ],
   "source": [
    "# Create an array of boolean values.\n",
    "b = np.array([True, False, True, True, False])\n",
    "b"
   ]
  },
  {
   "cell_type": "code",
   "execution_count": 25,
   "id": "11dc11cb",
   "metadata": {},
   "outputs": [
    {
     "data": {
      "text/plain": [
       "array(['3.14', 'True', '1', 'Hello'], dtype='<U32')"
      ]
     },
     "execution_count": 25,
     "metadata": {},
     "output_type": "execute_result"
    },
    {
     "data": {
      "application/javascript": [
       "\n",
       "            setTimeout(function() {\n",
       "                var nbb_cell_id = 25;\n",
       "                var nbb_unformatted_code = \"# Create an array of mixed datatypes.\\nmixed = np.array([3.14, True, 1, \\\"Hello\\\"])\\nmixed\";\n",
       "                var nbb_formatted_code = \"# Create an array of mixed datatypes.\\nmixed = np.array([3.14, True, 1, \\\"Hello\\\"])\\nmixed\";\n",
       "                var nbb_cells = Jupyter.notebook.get_cells();\n",
       "                for (var i = 0; i < nbb_cells.length; ++i) {\n",
       "                    if (nbb_cells[i].input_prompt_number == nbb_cell_id) {\n",
       "                        if (nbb_cells[i].get_text() == nbb_unformatted_code) {\n",
       "                             nbb_cells[i].set_text(nbb_formatted_code);\n",
       "                        }\n",
       "                        break;\n",
       "                    }\n",
       "                }\n",
       "            }, 500);\n",
       "            "
      ],
      "text/plain": [
       "<IPython.core.display.Javascript object>"
      ]
     },
     "metadata": {},
     "output_type": "display_data"
    }
   ],
   "source": [
    "# Create an array of mixed datatypes.\n",
    "mixed = np.array([3.14, True, 1, \"Hello\"])\n",
    "mixed"
   ]
  },
  {
   "cell_type": "markdown",
   "id": "62c7f499",
   "metadata": {},
   "source": [
    "### Metadata of NumPy arrays\n",
    "\n",
    "#### Print _Dimension_,  _Shape_, _Datatype_ of a NumPy array."
   ]
  },
  {
   "cell_type": "code",
   "execution_count": 26,
   "id": "edc3f2c0",
   "metadata": {},
   "outputs": [
    {
     "name": "stdout",
     "output_type": "stream",
     "text": [
      "Dimention: 1\n",
      "Shape: (4,)\n",
      "Datatype: int32\n"
     ]
    },
    {
     "data": {
      "application/javascript": [
       "\n",
       "            setTimeout(function() {\n",
       "                var nbb_cell_id = 26;\n",
       "                var nbb_unformatted_code = \"a = np.array([2, 4, 6, 8])\\n\\nprint(\\\"Dimention:\\\", a.ndim)  # ndim :- Number dimensions\\nprint(\\\"Shape:\\\", a.shape)\\nprint(\\\"Datatype:\\\", a.dtype)  # dtype :- datatype\";\n",
       "                var nbb_formatted_code = \"a = np.array([2, 4, 6, 8])\\n\\nprint(\\\"Dimention:\\\", a.ndim)  # ndim :- Number dimensions\\nprint(\\\"Shape:\\\", a.shape)\\nprint(\\\"Datatype:\\\", a.dtype)  # dtype :- datatype\";\n",
       "                var nbb_cells = Jupyter.notebook.get_cells();\n",
       "                for (var i = 0; i < nbb_cells.length; ++i) {\n",
       "                    if (nbb_cells[i].input_prompt_number == nbb_cell_id) {\n",
       "                        if (nbb_cells[i].get_text() == nbb_unformatted_code) {\n",
       "                             nbb_cells[i].set_text(nbb_formatted_code);\n",
       "                        }\n",
       "                        break;\n",
       "                    }\n",
       "                }\n",
       "            }, 500);\n",
       "            "
      ],
      "text/plain": [
       "<IPython.core.display.Javascript object>"
      ]
     },
     "metadata": {},
     "output_type": "display_data"
    }
   ],
   "source": [
    "a = np.array([2, 4, 6, 8])\n",
    "\n",
    "print(\"Dimention:\", a.ndim)  # ndim :- Number dimensions\n",
    "print(\"Shape:\", a.shape)\n",
    "print(\"Datatype:\", a.dtype)  # dtype :- datatype"
   ]
  },
  {
   "cell_type": "code",
   "execution_count": 27,
   "id": "fbc4d321",
   "metadata": {},
   "outputs": [
    {
     "name": "stdout",
     "output_type": "stream",
     "text": [
      "Dimention: 2\n",
      "Shape: (3, 4)\n",
      "Datatype: float64\n"
     ]
    },
    {
     "data": {
      "application/javascript": [
       "\n",
       "            setTimeout(function() {\n",
       "                var nbb_cell_id = 27;\n",
       "                var nbb_unformatted_code = \"b = np.array(\\n    [\\n        [1.0, 2.0, 3.0, 4.0],\\n        [5.0, 6.0, 7, 8.0],\\n        [9.0, 10.0, 11.0, 12.0],\\n    ]\\n)\\n\\nprint(\\\"Dimention:\\\", b.ndim)  # Number dimensions\\nprint(\\\"Shape:\\\", b.shape)\\nprint(\\\"Datatype:\\\", b.dtype)  # datatype\";\n",
       "                var nbb_formatted_code = \"b = np.array(\\n    [\\n        [1.0, 2.0, 3.0, 4.0],\\n        [5.0, 6.0, 7, 8.0],\\n        [9.0, 10.0, 11.0, 12.0],\\n    ]\\n)\\n\\nprint(\\\"Dimention:\\\", b.ndim)  # Number dimensions\\nprint(\\\"Shape:\\\", b.shape)\\nprint(\\\"Datatype:\\\", b.dtype)  # datatype\";\n",
       "                var nbb_cells = Jupyter.notebook.get_cells();\n",
       "                for (var i = 0; i < nbb_cells.length; ++i) {\n",
       "                    if (nbb_cells[i].input_prompt_number == nbb_cell_id) {\n",
       "                        if (nbb_cells[i].get_text() == nbb_unformatted_code) {\n",
       "                             nbb_cells[i].set_text(nbb_formatted_code);\n",
       "                        }\n",
       "                        break;\n",
       "                    }\n",
       "                }\n",
       "            }, 500);\n",
       "            "
      ],
      "text/plain": [
       "<IPython.core.display.Javascript object>"
      ]
     },
     "metadata": {},
     "output_type": "display_data"
    }
   ],
   "source": [
    "b = np.array(\n",
    "    [\n",
    "        [1.0, 2.0, 3.0, 4.0],\n",
    "        [5.0, 6.0, 7, 8.0],\n",
    "        [9.0, 10.0, 11.0, 12.0],\n",
    "    ]\n",
    ")\n",
    "\n",
    "print(\"Dimention:\", b.ndim)  # Number dimensions\n",
    "print(\"Shape:\", b.shape)\n",
    "print(\"Datatype:\", b.dtype)  # datatype"
   ]
  },
  {
   "cell_type": "markdown",
   "id": "73536af8",
   "metadata": {},
   "source": [
    "We can explicitly specify the datatype during initialization of an array. This helps in improving performance, for example if we are sure that we are dealing with small range of integers then we can explicitly specify the the datatype as `int16` or `int8`."
   ]
  },
  {
   "cell_type": "code",
   "execution_count": 28,
   "id": "2afca46f",
   "metadata": {},
   "outputs": [
    {
     "name": "stdout",
     "output_type": "stream",
     "text": [
      "Datatype of `int16_arr` array: int16\n",
      "Default datatype for integer array: int32\n"
     ]
    },
    {
     "data": {
      "application/javascript": [
       "\n",
       "            setTimeout(function() {\n",
       "                var nbb_cell_id = 28;\n",
       "                var nbb_unformatted_code = \"int16_arr = np.array([123, 8723, 907], dtype=\\\"int16\\\")\\nprint(\\\"Datatype of `int16_arr` array:\\\", int16_arr.dtype)\\n\\ndflt_arr = np.array([1, 2, 3])\\nprint(\\\"Default datatype for integer array:\\\", dflt_arr.dtype)\";\n",
       "                var nbb_formatted_code = \"int16_arr = np.array([123, 8723, 907], dtype=\\\"int16\\\")\\nprint(\\\"Datatype of `int16_arr` array:\\\", int16_arr.dtype)\\n\\ndflt_arr = np.array([1, 2, 3])\\nprint(\\\"Default datatype for integer array:\\\", dflt_arr.dtype)\";\n",
       "                var nbb_cells = Jupyter.notebook.get_cells();\n",
       "                for (var i = 0; i < nbb_cells.length; ++i) {\n",
       "                    if (nbb_cells[i].input_prompt_number == nbb_cell_id) {\n",
       "                        if (nbb_cells[i].get_text() == nbb_unformatted_code) {\n",
       "                             nbb_cells[i].set_text(nbb_formatted_code);\n",
       "                        }\n",
       "                        break;\n",
       "                    }\n",
       "                }\n",
       "            }, 500);\n",
       "            "
      ],
      "text/plain": [
       "<IPython.core.display.Javascript object>"
      ]
     },
     "metadata": {},
     "output_type": "display_data"
    }
   ],
   "source": [
    "int16_arr = np.array([123, 8723, 907], dtype=\"int16\")\n",
    "print(\"Datatype of `int16_arr` array:\", int16_arr.dtype)\n",
    "\n",
    "dflt_arr = np.array([1, 2, 3])\n",
    "print(\"Default datatype for integer array:\", dflt_arr.dtype)"
   ]
  },
  {
   "cell_type": "markdown",
   "id": "691c6d93",
   "metadata": {},
   "source": [
    "Datatype of the array depends on the largest number in the array. For example an array with at least one element greater than **2147483647** can force NumPy to create array of datatype `int64` instead of default `int32`."
   ]
  },
  {
   "cell_type": "code",
   "execution_count": 29,
   "id": "8704dca0",
   "metadata": {},
   "outputs": [
    {
     "name": "stdout",
     "output_type": "stream",
     "text": [
      "Datatype of int32_arr: int32\n",
      "Datatype of int64_arr: int64\n"
     ]
    },
    {
     "data": {
      "application/javascript": [
       "\n",
       "            setTimeout(function() {\n",
       "                var nbb_cell_id = 29;\n",
       "                var nbb_unformatted_code = \"int32_arr = np.array([1, 2, 2147483647])\\nprint(\\\"Datatype of int32_arr:\\\", int32_arr.dtype)\\n\\nint64_arr = np.array([1, 2, 2147483648])\\nprint(\\\"Datatype of int64_arr:\\\", int64_arr.dtype)\";\n",
       "                var nbb_formatted_code = \"int32_arr = np.array([1, 2, 2147483647])\\nprint(\\\"Datatype of int32_arr:\\\", int32_arr.dtype)\\n\\nint64_arr = np.array([1, 2, 2147483648])\\nprint(\\\"Datatype of int64_arr:\\\", int64_arr.dtype)\";\n",
       "                var nbb_cells = Jupyter.notebook.get_cells();\n",
       "                for (var i = 0; i < nbb_cells.length; ++i) {\n",
       "                    if (nbb_cells[i].input_prompt_number == nbb_cell_id) {\n",
       "                        if (nbb_cells[i].get_text() == nbb_unformatted_code) {\n",
       "                             nbb_cells[i].set_text(nbb_formatted_code);\n",
       "                        }\n",
       "                        break;\n",
       "                    }\n",
       "                }\n",
       "            }, 500);\n",
       "            "
      ],
      "text/plain": [
       "<IPython.core.display.Javascript object>"
      ]
     },
     "metadata": {},
     "output_type": "display_data"
    }
   ],
   "source": [
    "int32_arr = np.array([1, 2, 2147483647])\n",
    "print(\"Datatype of int32_arr:\", int32_arr.dtype)\n",
    "\n",
    "int64_arr = np.array([1, 2, 2147483648])\n",
    "print(\"Datatype of int64_arr:\", int64_arr.dtype)"
   ]
  },
  {
   "cell_type": "markdown",
   "id": "1850f84f",
   "metadata": {},
   "source": [
    "#### Print _size_ (of each element in the array) and _total size_ (of an array)"
   ]
  },
  {
   "cell_type": "code",
   "execution_count": 30,
   "id": "11a55955",
   "metadata": {},
   "outputs": [
    {
     "name": "stdout",
     "output_type": "stream",
     "text": [
      "Datatype of each element in array `a`: int32\n",
      "Total number of elements in array `a`: 5\n",
      "Memory allocated to each element in array `a`: 4 Bytes\n",
      "Memory taken by array `a`: 20 Bytes\n"
     ]
    },
    {
     "data": {
      "application/javascript": [
       "\n",
       "            setTimeout(function() {\n",
       "                var nbb_cell_id = 30;\n",
       "                var nbb_unformatted_code = \"a = np.array([1, 100, 2147483647, 987, 0])\\n\\nprint(\\\"Datatype of each element in array `a`:\\\", a.dtype)\\nprint(\\\"Total number of elements in array `a`:\\\", a.size)\\nprint(\\\"Memory allocated to each element in array `a`:\\\", a.itemsize, \\\"Bytes\\\")\\nprint(\\\"Memory taken by array `a`:\\\", a.nbytes, \\\"Bytes\\\")  # nbytes :- Number of bytes\";\n",
       "                var nbb_formatted_code = \"a = np.array([1, 100, 2147483647, 987, 0])\\n\\nprint(\\\"Datatype of each element in array `a`:\\\", a.dtype)\\nprint(\\\"Total number of elements in array `a`:\\\", a.size)\\nprint(\\\"Memory allocated to each element in array `a`:\\\", a.itemsize, \\\"Bytes\\\")\\nprint(\\\"Memory taken by array `a`:\\\", a.nbytes, \\\"Bytes\\\")  # nbytes :- Number of bytes\";\n",
       "                var nbb_cells = Jupyter.notebook.get_cells();\n",
       "                for (var i = 0; i < nbb_cells.length; ++i) {\n",
       "                    if (nbb_cells[i].input_prompt_number == nbb_cell_id) {\n",
       "                        if (nbb_cells[i].get_text() == nbb_unformatted_code) {\n",
       "                             nbb_cells[i].set_text(nbb_formatted_code);\n",
       "                        }\n",
       "                        break;\n",
       "                    }\n",
       "                }\n",
       "            }, 500);\n",
       "            "
      ],
      "text/plain": [
       "<IPython.core.display.Javascript object>"
      ]
     },
     "metadata": {},
     "output_type": "display_data"
    }
   ],
   "source": [
    "a = np.array([1, 100, 2147483647, 987, 0])\n",
    "\n",
    "print(\"Datatype of each element in array `a`:\", a.dtype)\n",
    "print(\"Total number of elements in array `a`:\", a.size)\n",
    "print(\"Memory allocated to each element in array `a`:\", a.itemsize, \"Bytes\")\n",
    "print(\"Memory taken by array `a`:\", a.nbytes, \"Bytes\")  # nbytes :- Number of bytes"
   ]
  },
  {
   "cell_type": "markdown",
   "id": "0259efc0",
   "metadata": {},
   "source": [
    "1. `itemsize` value depends on the datatype of the element.\n",
    "  1. `itemsize` value will be 2 Bytes for `int16`.\n",
    "  2. `itemsize` value will be 4 Bytes for `int32`.\n",
    "2. Total memory taken by a NumPy array can also be obtained using `a.size * a.itemsize`"
   ]
  },
  {
   "cell_type": "code",
   "execution_count": 31,
   "id": "e69cf8fa",
   "metadata": {},
   "outputs": [
    {
     "name": "stdout",
     "output_type": "stream",
     "text": [
      "Memory taken by `a` array: 20 Bytes\n"
     ]
    },
    {
     "data": {
      "application/javascript": [
       "\n",
       "            setTimeout(function() {\n",
       "                var nbb_cell_id = 31;\n",
       "                var nbb_unformatted_code = \"print(\\\"Memory taken by `a` array:\\\", a.size * a.itemsize, \\\"Bytes\\\")\";\n",
       "                var nbb_formatted_code = \"print(\\\"Memory taken by `a` array:\\\", a.size * a.itemsize, \\\"Bytes\\\")\";\n",
       "                var nbb_cells = Jupyter.notebook.get_cells();\n",
       "                for (var i = 0; i < nbb_cells.length; ++i) {\n",
       "                    if (nbb_cells[i].input_prompt_number == nbb_cell_id) {\n",
       "                        if (nbb_cells[i].get_text() == nbb_unformatted_code) {\n",
       "                             nbb_cells[i].set_text(nbb_formatted_code);\n",
       "                        }\n",
       "                        break;\n",
       "                    }\n",
       "                }\n",
       "            }, 500);\n",
       "            "
      ],
      "text/plain": [
       "<IPython.core.display.Javascript object>"
      ]
     },
     "metadata": {},
     "output_type": "display_data"
    }
   ],
   "source": [
    "print(\"Memory taken by `a` array:\", a.size * a.itemsize, \"Bytes\")"
   ]
  },
  {
   "cell_type": "code",
   "execution_count": null,
   "id": "17b76b9c",
   "metadata": {},
   "outputs": [],
   "source": []
  }
 ],
 "metadata": {
  "kernelspec": {
   "display_name": "Python 3 (ipykernel)",
   "language": "python",
   "name": "python3"
  },
  "language_info": {
   "codemirror_mode": {
    "name": "ipython",
    "version": 3
   },
   "file_extension": ".py",
   "mimetype": "text/x-python",
   "name": "python",
   "nbconvert_exporter": "python",
   "pygments_lexer": "ipython3",
   "version": "3.9.7"
  }
 },
 "nbformat": 4,
 "nbformat_minor": 5
}
