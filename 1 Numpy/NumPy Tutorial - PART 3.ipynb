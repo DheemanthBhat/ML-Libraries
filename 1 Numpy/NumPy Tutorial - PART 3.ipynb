{
 "cells": [
  {
   "cell_type": "code",
   "execution_count": 1,
   "id": "579eb8a4",
   "metadata": {},
   "outputs": [
    {
     "data": {
      "application/javascript": [
       "\n",
       "            setTimeout(function() {\n",
       "                var nbb_cell_id = 1;\n",
       "                var nbb_unformatted_code = \"%reload_ext nb_black\";\n",
       "                var nbb_formatted_code = \"%reload_ext nb_black\";\n",
       "                var nbb_cells = Jupyter.notebook.get_cells();\n",
       "                for (var i = 0; i < nbb_cells.length; ++i) {\n",
       "                    if (nbb_cells[i].input_prompt_number == nbb_cell_id) {\n",
       "                        if (nbb_cells[i].get_text() == nbb_unformatted_code) {\n",
       "                             nbb_cells[i].set_text(nbb_formatted_code);\n",
       "                        }\n",
       "                        break;\n",
       "                    }\n",
       "                }\n",
       "            }, 500);\n",
       "            "
      ],
      "text/plain": [
       "<IPython.core.display.Javascript object>"
      ]
     },
     "metadata": {},
     "output_type": "display_data"
    }
   ],
   "source": [
    "%reload_ext nb_black"
   ]
  },
  {
   "cell_type": "markdown",
   "id": "2e967e39",
   "metadata": {},
   "source": [
    "# NumPy Tutorial - PART 3\n",
    "\n",
    "**Ref: [Python NumPy Tutorial for Beginners](https://youtu.be/QUT1VHiLmmI) by [freeCodeCamp.org](https://www.freecodecamp.org/)**\n",
    "\n",
    "#### Load and configure NumPy library"
   ]
  },
  {
   "cell_type": "code",
   "execution_count": 2,
   "id": "6391318c",
   "metadata": {},
   "outputs": [
    {
     "name": "stdout",
     "output_type": "stream",
     "text": [
      "NumPy version: 1.20.3\n"
     ]
    },
    {
     "data": {
      "application/javascript": [
       "\n",
       "            setTimeout(function() {\n",
       "                var nbb_cell_id = 2;\n",
       "                var nbb_unformatted_code = \"import numpy as np\\n\\nprint(\\\"NumPy version:\\\", np.__version__)\\n\\nnp.set_printoptions(linewidth=130)  # Line width: Maximum 130 chacters in the output, post which it will continue in next line.\";\n",
       "                var nbb_formatted_code = \"import numpy as np\\n\\nprint(\\\"NumPy version:\\\", np.__version__)\\n\\nnp.set_printoptions(linewidth=130)  # Line width: Maximum 130 chacters in the output, post which it will continue in next line.\";\n",
       "                var nbb_cells = Jupyter.notebook.get_cells();\n",
       "                for (var i = 0; i < nbb_cells.length; ++i) {\n",
       "                    if (nbb_cells[i].input_prompt_number == nbb_cell_id) {\n",
       "                        if (nbb_cells[i].get_text() == nbb_unformatted_code) {\n",
       "                             nbb_cells[i].set_text(nbb_formatted_code);\n",
       "                        }\n",
       "                        break;\n",
       "                    }\n",
       "                }\n",
       "            }, 500);\n",
       "            "
      ],
      "text/plain": [
       "<IPython.core.display.Javascript object>"
      ]
     },
     "metadata": {},
     "output_type": "display_data"
    }
   ],
   "source": [
    "import numpy as np\n",
    "\n",
    "print(\"NumPy version:\", np.__version__)\n",
    "\n",
    "np.set_printoptions(linewidth=130)  # Line width: Maximum 130 chacters in the output, post which it will continue in next line."
   ]
  },
  {
   "cell_type": "markdown",
   "id": "f34e9aad",
   "metadata": {},
   "source": [
    "## Advance Concepts\n",
    "\n",
    "### Copying NumPy arrays\n",
    "\n",
    "NumPy uses reference type assignment hence direct assignment of an array to new variable does not copy the array elements. \n",
    "```python\n",
    "b = a  # Does not copy `a` to `b`.\n",
    "```"
   ]
  },
  {
   "cell_type": "code",
   "execution_count": 3,
   "id": "d5b273ff",
   "metadata": {},
   "outputs": [
    {
     "name": "stdout",
     "output_type": "stream",
     "text": [
      "Array `a`:  [ 1 99  3]\n",
      "Array `b`:  [ 1 99  3]\n",
      "Array `c`:  [ 1 99 -1]\n"
     ]
    },
    {
     "data": {
      "application/javascript": [
       "\n",
       "            setTimeout(function() {\n",
       "                var nbb_cell_id = 3;\n",
       "                var nbb_unformatted_code = \"a = np.array([1, 2, 3])\\nb = a\\n\\nb[1] = 99\\n\\nprint(\\\"Array `a`: \\\", a)\\nprint(\\\"Array `b`: \\\", b)\\n\\nc = a.copy()\\nc[2] = -1\\n\\nprint(\\\"Array `c`: \\\", c)\";\n",
       "                var nbb_formatted_code = \"a = np.array([1, 2, 3])\\nb = a\\n\\nb[1] = 99\\n\\nprint(\\\"Array `a`: \\\", a)\\nprint(\\\"Array `b`: \\\", b)\\n\\nc = a.copy()\\nc[2] = -1\\n\\nprint(\\\"Array `c`: \\\", c)\";\n",
       "                var nbb_cells = Jupyter.notebook.get_cells();\n",
       "                for (var i = 0; i < nbb_cells.length; ++i) {\n",
       "                    if (nbb_cells[i].input_prompt_number == nbb_cell_id) {\n",
       "                        if (nbb_cells[i].get_text() == nbb_unformatted_code) {\n",
       "                             nbb_cells[i].set_text(nbb_formatted_code);\n",
       "                        }\n",
       "                        break;\n",
       "                    }\n",
       "                }\n",
       "            }, 500);\n",
       "            "
      ],
      "text/plain": [
       "<IPython.core.display.Javascript object>"
      ]
     },
     "metadata": {},
     "output_type": "display_data"
    }
   ],
   "source": [
    "a = np.array([1, 2, 3])\n",
    "b = a\n",
    "\n",
    "b[1] = 99\n",
    "\n",
    "print(\"Array `a`: \", a)\n",
    "print(\"Array `b`: \", b)\n",
    "\n",
    "c = a.copy()\n",
    "c[2] = -1\n",
    "\n",
    "print(\"Array `c`: \", c)"
   ]
  },
  {
   "cell_type": "markdown",
   "id": "1e5299e9",
   "metadata": {},
   "source": [
    "### Mathematics\n",
    "\n",
    "Element wise math operations"
   ]
  },
  {
   "cell_type": "code",
   "execution_count": null,
   "id": "e043d184",
   "metadata": {},
   "outputs": [],
   "source": []
  },
  {
   "cell_type": "markdown",
   "id": "25ff3b41",
   "metadata": {},
   "source": [
    "### Quiz 3\n",
    "\n",
    "Create below array using NumPy and extract blue, green and red patterns:\n",
    "\n",
    "![Quiz 3](Quiz_3.jpg)"
   ]
  },
  {
   "cell_type": "code",
   "execution_count": 4,
   "id": "2cf75f45",
   "metadata": {},
   "outputs": [
    {
     "data": {
      "text/plain": [
       "array([[ 1,  2,  3,  4,  5],\n",
       "       [ 6,  7,  8,  9, 10],\n",
       "       [11, 12, 13, 14, 15],\n",
       "       [16, 17, 18, 19, 20],\n",
       "       [21, 22, 23, 24, 25],\n",
       "       [26, 27, 28, 29, 30]], dtype=int8)"
      ]
     },
     "execution_count": 4,
     "metadata": {},
     "output_type": "execute_result"
    },
    {
     "data": {
      "application/javascript": [
       "\n",
       "            setTimeout(function() {\n",
       "                var nbb_cell_id = 4;\n",
       "                var nbb_unformatted_code = \"arr = np.array(np.arange(1, 31), dtype=\\\"int8\\\").reshape((6, 5))\\narr\";\n",
       "                var nbb_formatted_code = \"arr = np.array(np.arange(1, 31), dtype=\\\"int8\\\").reshape((6, 5))\\narr\";\n",
       "                var nbb_cells = Jupyter.notebook.get_cells();\n",
       "                for (var i = 0; i < nbb_cells.length; ++i) {\n",
       "                    if (nbb_cells[i].input_prompt_number == nbb_cell_id) {\n",
       "                        if (nbb_cells[i].get_text() == nbb_unformatted_code) {\n",
       "                             nbb_cells[i].set_text(nbb_formatted_code);\n",
       "                        }\n",
       "                        break;\n",
       "                    }\n",
       "                }\n",
       "            }, 500);\n",
       "            "
      ],
      "text/plain": [
       "<IPython.core.display.Javascript object>"
      ]
     },
     "metadata": {},
     "output_type": "display_data"
    }
   ],
   "source": [
    "arr = np.array(np.arange(1, 31), dtype=\"int8\").reshape((6, 5))\n",
    "arr"
   ]
  },
  {
   "cell_type": "markdown",
   "id": "22481e89",
   "metadata": {},
   "source": [
    "#### Blue pattern"
   ]
  },
  {
   "cell_type": "code",
   "execution_count": 5,
   "id": "b6b1c3da",
   "metadata": {},
   "outputs": [
    {
     "data": {
      "text/plain": [
       "array([[11, 12],\n",
       "       [16, 17]], dtype=int8)"
      ]
     },
     "execution_count": 5,
     "metadata": {},
     "output_type": "execute_result"
    },
    {
     "data": {
      "application/javascript": [
       "\n",
       "            setTimeout(function() {\n",
       "                var nbb_cell_id = 5;\n",
       "                var nbb_unformatted_code = \"arr[2:4, 0:2]\";\n",
       "                var nbb_formatted_code = \"arr[2:4, 0:2]\";\n",
       "                var nbb_cells = Jupyter.notebook.get_cells();\n",
       "                for (var i = 0; i < nbb_cells.length; ++i) {\n",
       "                    if (nbb_cells[i].input_prompt_number == nbb_cell_id) {\n",
       "                        if (nbb_cells[i].get_text() == nbb_unformatted_code) {\n",
       "                             nbb_cells[i].set_text(nbb_formatted_code);\n",
       "                        }\n",
       "                        break;\n",
       "                    }\n",
       "                }\n",
       "            }, 500);\n",
       "            "
      ],
      "text/plain": [
       "<IPython.core.display.Javascript object>"
      ]
     },
     "metadata": {},
     "output_type": "display_data"
    }
   ],
   "source": [
    "arr[2:4, 0:2]"
   ]
  },
  {
   "cell_type": "markdown",
   "id": "5f0e54b7",
   "metadata": {},
   "source": [
    "#### Green pattern"
   ]
  },
  {
   "cell_type": "code",
   "execution_count": 6,
   "id": "ef7ec6aa",
   "metadata": {},
   "outputs": [
    {
     "data": {
      "text/plain": [
       "array([ 2,  8, 14, 20], dtype=int8)"
      ]
     },
     "execution_count": 6,
     "metadata": {},
     "output_type": "execute_result"
    },
    {
     "data": {
      "application/javascript": [
       "\n",
       "            setTimeout(function() {\n",
       "                var nbb_cell_id = 6;\n",
       "                var nbb_unformatted_code = \"arr[[0, 1, 2, 3], [1, 2, 3, 4]]  # [[row_indexes], [col_indexes]]\";\n",
       "                var nbb_formatted_code = \"arr[[0, 1, 2, 3], [1, 2, 3, 4]]  # [[row_indexes], [col_indexes]]\";\n",
       "                var nbb_cells = Jupyter.notebook.get_cells();\n",
       "                for (var i = 0; i < nbb_cells.length; ++i) {\n",
       "                    if (nbb_cells[i].input_prompt_number == nbb_cell_id) {\n",
       "                        if (nbb_cells[i].get_text() == nbb_unformatted_code) {\n",
       "                             nbb_cells[i].set_text(nbb_formatted_code);\n",
       "                        }\n",
       "                        break;\n",
       "                    }\n",
       "                }\n",
       "            }, 500);\n",
       "            "
      ],
      "text/plain": [
       "<IPython.core.display.Javascript object>"
      ]
     },
     "metadata": {},
     "output_type": "display_data"
    }
   ],
   "source": [
    "arr[[0, 1, 2, 3], [1, 2, 3, 4]]  # [[row_indexes], [col_indexes]]\n",
    "# or \n",
    "# arr[range(0, 4), range(1, 5)]"
   ]
  },
  {
   "cell_type": "markdown",
   "id": "bc0e1f7a",
   "metadata": {},
   "source": [
    "#### Red pattern"
   ]
  },
  {
   "cell_type": "code",
   "execution_count": 7,
   "id": "c02cd12d",
   "metadata": {},
   "outputs": [
    {
     "data": {
      "text/plain": [
       "array([[ 4,  5],\n",
       "       [24, 25],\n",
       "       [29, 30]], dtype=int8)"
      ]
     },
     "execution_count": 7,
     "metadata": {},
     "output_type": "execute_result"
    },
    {
     "data": {
      "application/javascript": [
       "\n",
       "            setTimeout(function() {\n",
       "                var nbb_cell_id = 7;\n",
       "                var nbb_unformatted_code = \"arr[[0, -2, -1], -2:]\";\n",
       "                var nbb_formatted_code = \"arr[[0, -2, -1], -2:]\";\n",
       "                var nbb_cells = Jupyter.notebook.get_cells();\n",
       "                for (var i = 0; i < nbb_cells.length; ++i) {\n",
       "                    if (nbb_cells[i].input_prompt_number == nbb_cell_id) {\n",
       "                        if (nbb_cells[i].get_text() == nbb_unformatted_code) {\n",
       "                             nbb_cells[i].set_text(nbb_formatted_code);\n",
       "                        }\n",
       "                        break;\n",
       "                    }\n",
       "                }\n",
       "            }, 500);\n",
       "            "
      ],
      "text/plain": [
       "<IPython.core.display.Javascript object>"
      ]
     },
     "metadata": {},
     "output_type": "display_data"
    }
   ],
   "source": [
    "arr[[0, -2, -1], -2:]"
   ]
  },
  {
   "cell_type": "code",
   "execution_count": null,
   "id": "1c6b7408",
   "metadata": {},
   "outputs": [],
   "source": []
  }
 ],
 "metadata": {
  "kernelspec": {
   "display_name": "Python 3 (ipykernel)",
   "language": "python",
   "name": "python3"
  },
  "language_info": {
   "codemirror_mode": {
    "name": "ipython",
    "version": 3
   },
   "file_extension": ".py",
   "mimetype": "text/x-python",
   "name": "python",
   "nbconvert_exporter": "python",
   "pygments_lexer": "ipython3",
   "version": "3.9.7"
  }
 },
 "nbformat": 4,
 "nbformat_minor": 5
}
