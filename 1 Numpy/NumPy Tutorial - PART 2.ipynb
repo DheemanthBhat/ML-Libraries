{
 "cells": [
  {
   "cell_type": "code",
   "execution_count": 1,
   "id": "eee6c66c",
   "metadata": {},
   "outputs": [
    {
     "data": {
      "application/javascript": "\n            setTimeout(function() {\n                var nbb_cell_id = 1;\n                var nbb_unformatted_code = \"%reload_ext nb_black\";\n                var nbb_formatted_code = \"%reload_ext nb_black\";\n                var nbb_cells = Jupyter.notebook.get_cells();\n                for (var i = 0; i < nbb_cells.length; ++i) {\n                    if (nbb_cells[i].input_prompt_number == nbb_cell_id) {\n                        if (nbb_cells[i].get_text() == nbb_unformatted_code) {\n                             nbb_cells[i].set_text(nbb_formatted_code);\n                        }\n                        break;\n                    }\n                }\n            }, 500);\n            ",
      "text/plain": [
       "<IPython.core.display.Javascript object>"
      ]
     },
     "metadata": {},
     "output_type": "display_data"
    }
   ],
   "source": [
    "%reload_ext nb_black"
   ]
  },
  {
   "cell_type": "markdown",
   "id": "14456903",
   "metadata": {},
   "source": [
    "# NumPy Tutorial - PART 2\n",
    "\n",
    "**Ref: [Python NumPy Tutorial for Beginners](https://youtu.be/QUT1VHiLmmI) by [freeCodeCamp.org](https://www.freecodecamp.org/)**\n",
    "\n",
    "#### Load and configure NumPy library"
   ]
  },
  {
   "cell_type": "code",
   "execution_count": 2,
   "id": "545305fe",
   "metadata": {},
   "outputs": [
    {
     "name": "stdout",
     "output_type": "stream",
     "text": [
      "NumPy version: 1.20.3\n"
     ]
    },
    {
     "data": {
      "application/javascript": "\n            setTimeout(function() {\n                var nbb_cell_id = 2;\n                var nbb_unformatted_code = \"import numpy as np\\n\\nprint(\\\"NumPy version:\\\", np.__version__)\\n\\nnp.set_printoptions(linewidth=130)  # Line width: Maximum 130 chacters in the output, post which it will continue in next line.\";\n                var nbb_formatted_code = \"import numpy as np\\n\\nprint(\\\"NumPy version:\\\", np.__version__)\\n\\nnp.set_printoptions(linewidth=130)  # Line width: Maximum 130 chacters in the output, post which it will continue in next line.\";\n                var nbb_cells = Jupyter.notebook.get_cells();\n                for (var i = 0; i < nbb_cells.length; ++i) {\n                    if (nbb_cells[i].input_prompt_number == nbb_cell_id) {\n                        if (nbb_cells[i].get_text() == nbb_unformatted_code) {\n                             nbb_cells[i].set_text(nbb_formatted_code);\n                        }\n                        break;\n                    }\n                }\n            }, 500);\n            ",
      "text/plain": [
       "<IPython.core.display.Javascript object>"
      ]
     },
     "metadata": {},
     "output_type": "display_data"
    }
   ],
   "source": [
    "import numpy as np\n",
    "\n",
    "print(\"NumPy version:\", np.__version__)\n",
    "\n",
    "np.set_printoptions(linewidth=130)  # Line width: Maximum 130 characters in the output, post which it will continue in next line."
   ]
  },
  {
   "cell_type": "markdown",
   "id": "dc35734a",
   "metadata": {},
   "source": [
    "## NumPy Array Operations\n",
    "\n",
    "### Accessing specific elements, rows, columns etc"
   ]
  },
  {
   "cell_type": "code",
   "execution_count": 3,
   "id": "d3b7cdf8",
   "metadata": {},
   "outputs": [
    {
     "name": "stdout",
     "output_type": "stream",
     "text": [
      "Arrary:\n",
      "[[ 1  2  3  4  5  6  7]\n",
      " [ 8  9 10 11 12 13 14]\n",
      " [ 7  6  5  4  3  2  1]]\n",
      "Shape: (3, 7)\n"
     ]
    },
    {
     "data": {
      "application/javascript": "\n            setTimeout(function() {\n                var nbb_cell_id = 3;\n                var nbb_unformatted_code = \"arr = np.array(\\n    [\\n        [1, 2, 3, 4, 5, 6, 7],\\n        [8, 9, 10, 11, 12, 13, 14],\\n        [7, 6, 5, 4, 3, 2, 1],\\n    ]\\n)\\n\\nprint(\\\"Arrary:\\\")\\nprint(arr)\\n\\nprint(\\\"Shape:\\\", arr.shape)\";\n                var nbb_formatted_code = \"arr = np.array(\\n    [\\n        [1, 2, 3, 4, 5, 6, 7],\\n        [8, 9, 10, 11, 12, 13, 14],\\n        [7, 6, 5, 4, 3, 2, 1],\\n    ]\\n)\\n\\nprint(\\\"Arrary:\\\")\\nprint(arr)\\n\\nprint(\\\"Shape:\\\", arr.shape)\";\n                var nbb_cells = Jupyter.notebook.get_cells();\n                for (var i = 0; i < nbb_cells.length; ++i) {\n                    if (nbb_cells[i].input_prompt_number == nbb_cell_id) {\n                        if (nbb_cells[i].get_text() == nbb_unformatted_code) {\n                             nbb_cells[i].set_text(nbb_formatted_code);\n                        }\n                        break;\n                    }\n                }\n            }, 500);\n            ",
      "text/plain": [
       "<IPython.core.display.Javascript object>"
      ]
     },
     "metadata": {},
     "output_type": "display_data"
    }
   ],
   "source": [
    "arr = np.array(\n",
    "    [\n",
    "        [1, 2, 3, 4, 5, 6, 7],\n",
    "        [8, 9, 10, 11, 12, 13, 14],\n",
    "        [7, 6, 5, 4, 3, 2, 1],\n",
    "    ]\n",
    ")\n",
    "\n",
    "print(\"Arrary:\")\n",
    "print(arr)\n",
    "\n",
    "print(\"Shape:\", arr.shape)"
   ]
  },
  {
   "cell_type": "markdown",
   "id": "d073ffb8",
   "metadata": {},
   "source": [
    "Get elements `5` ,  `8` and `13` from above array."
   ]
  },
  {
   "cell_type": "code",
   "execution_count": 4,
   "id": "06fe2b47",
   "metadata": {},
   "outputs": [
    {
     "name": "stdout",
     "output_type": "stream",
     "text": [
      "Fetching 5 from array `arr`: 5\n",
      "Fetching 8 from array `arr`: 8\n",
      "Fetching 8 from array `arr`: 13\n"
     ]
    },
    {
     "data": {
      "application/javascript": "\n            setTimeout(function() {\n                var nbb_cell_id = 4;\n                var nbb_unformatted_code = \"print(\\\"Fetching 5 from array `arr`:\\\", arr[0, 4])  # arr[row_index, col_index]\\nprint(\\\"Fetching 8 from array `arr`:\\\", arr[1, 0])  # arr[row_index, col_index]\\nprint(\\\"Fetching 8 from array `arr`:\\\", arr[1, -2])  # arr[row_index, col_index]\";\n                var nbb_formatted_code = \"print(\\\"Fetching 5 from array `arr`:\\\", arr[0, 4])  # arr[row_index, col_index]\\nprint(\\\"Fetching 8 from array `arr`:\\\", arr[1, 0])  # arr[row_index, col_index]\\nprint(\\\"Fetching 8 from array `arr`:\\\", arr[1, -2])  # arr[row_index, col_index]\";\n                var nbb_cells = Jupyter.notebook.get_cells();\n                for (var i = 0; i < nbb_cells.length; ++i) {\n                    if (nbb_cells[i].input_prompt_number == nbb_cell_id) {\n                        if (nbb_cells[i].get_text() == nbb_unformatted_code) {\n                             nbb_cells[i].set_text(nbb_formatted_code);\n                        }\n                        break;\n                    }\n                }\n            }, 500);\n            ",
      "text/plain": [
       "<IPython.core.display.Javascript object>"
      ]
     },
     "metadata": {},
     "output_type": "display_data"
    }
   ],
   "source": [
    "print(\"Fetching 5 from array `arr`:\", arr[0, 4])  # arr[row_index, col_index]\n",
    "print(\"Fetching 8 from array `arr`:\", arr[1, 0])  # arr[row_index, col_index]\n",
    "print(\"Fetching 8 from array `arr`:\", arr[1, -2])  # arr[row_index, col_index]"
   ]
  },
  {
   "cell_type": "markdown",
   "id": "f5733d32",
   "metadata": {},
   "source": [
    "Get specific row and column entirely."
   ]
  },
  {
   "cell_type": "code",
   "execution_count": 5,
   "id": "1d72d910",
   "metadata": {},
   "outputs": [
    {
     "name": "stdout",
     "output_type": "stream",
     "text": [
      "All elements from first row: [1 2 3 4 5 6 7]\n",
      "All elements from third column: [ 3 10  5]\n"
     ]
    },
    {
     "data": {
      "application/javascript": "\n            setTimeout(function() {\n                var nbb_cell_id = 5;\n                var nbb_unformatted_code = \"print(\\\"All elements from first row:\\\", arr[0, :])\\nprint(\\\"All elements from third column:\\\", arr[:, 2])\";\n                var nbb_formatted_code = \"print(\\\"All elements from first row:\\\", arr[0, :])\\nprint(\\\"All elements from third column:\\\", arr[:, 2])\";\n                var nbb_cells = Jupyter.notebook.get_cells();\n                for (var i = 0; i < nbb_cells.length; ++i) {\n                    if (nbb_cells[i].input_prompt_number == nbb_cell_id) {\n                        if (nbb_cells[i].get_text() == nbb_unformatted_code) {\n                             nbb_cells[i].set_text(nbb_formatted_code);\n                        }\n                        break;\n                    }\n                }\n            }, 500);\n            ",
      "text/plain": [
       "<IPython.core.display.Javascript object>"
      ]
     },
     "metadata": {},
     "output_type": "display_data"
    }
   ],
   "source": [
    "print(\"All elements from first row:\", arr[0, :])\n",
    "print(\"All elements from third column:\", arr[:, 2])"
   ]
  },
  {
   "cell_type": "markdown",
   "id": "e11c7bd8",
   "metadata": {},
   "source": [
    "Get subset `[9, 11, 13]` from second row. Syntax for extracting subset from a row:\n",
    "\n",
    "```python\n",
    "arr[row_index, start_index:end_index:step_size]\n",
    "```\n",
    "> **Note: The `end_index` is not inclusive**:"
   ]
  },
  {
   "cell_type": "code",
   "execution_count": 6,
   "id": "679675f0",
   "metadata": {},
   "outputs": [
    {
     "data": {
      "text/plain": [
       "array([ 9, 11, 13])"
      ]
     },
     "execution_count": 6,
     "metadata": {},
     "output_type": "execute_result"
    },
    {
     "data": {
      "application/javascript": "\n            setTimeout(function() {\n                var nbb_cell_id = 6;\n                var nbb_unformatted_code = \"arr[1, 1:6:2]\";\n                var nbb_formatted_code = \"arr[1, 1:6:2]\";\n                var nbb_cells = Jupyter.notebook.get_cells();\n                for (var i = 0; i < nbb_cells.length; ++i) {\n                    if (nbb_cells[i].input_prompt_number == nbb_cell_id) {\n                        if (nbb_cells[i].get_text() == nbb_unformatted_code) {\n                             nbb_cells[i].set_text(nbb_formatted_code);\n                        }\n                        break;\n                    }\n                }\n            }, 500);\n            ",
      "text/plain": [
       "<IPython.core.display.Javascript object>"
      ]
     },
     "metadata": {},
     "output_type": "display_data"
    }
   ],
   "source": [
    "arr[1, 1:6:2]"
   ]
  },
  {
   "cell_type": "markdown",
   "id": "e1e09a15",
   "metadata": {},
   "source": [
    "Get subset `[13, 2]` from last but one column. Syntax for extracting subset from a column.\n",
    "\n",
    "```python\n",
    "arr[start_index:end_index:step_size, col_index]\n",
    "```\n",
    "\n",
    "> **Note: The `end_index` is not inclusive**:"
   ]
  },
  {
   "cell_type": "code",
   "execution_count": 7,
   "id": "51774ea3",
   "metadata": {},
   "outputs": [
    {
     "data": {
      "text/plain": [
       "array([13,  2])"
      ]
     },
     "execution_count": 7,
     "metadata": {},
     "output_type": "execute_result"
    },
    {
     "data": {
      "application/javascript": "\n            setTimeout(function() {\n                var nbb_cell_id = 7;\n                var nbb_unformatted_code = \"arr[1:3, -2]\";\n                var nbb_formatted_code = \"arr[1:3, -2]\";\n                var nbb_cells = Jupyter.notebook.get_cells();\n                for (var i = 0; i < nbb_cells.length; ++i) {\n                    if (nbb_cells[i].input_prompt_number == nbb_cell_id) {\n                        if (nbb_cells[i].get_text() == nbb_unformatted_code) {\n                             nbb_cells[i].set_text(nbb_formatted_code);\n                        }\n                        break;\n                    }\n                }\n            }, 500);\n            ",
      "text/plain": [
       "<IPython.core.display.Javascript object>"
      ]
     },
     "metadata": {},
     "output_type": "display_data"
    }
   ],
   "source": [
    "arr[1:3, -2]"
   ]
  },
  {
   "cell_type": "markdown",
   "id": "559edf7a",
   "metadata": {},
   "source": [
    "### Changing specific elements, rows, columns etc"
   ]
  },
  {
   "cell_type": "code",
   "execution_count": 8,
   "id": "3b4e4311",
   "metadata": {},
   "outputs": [
    {
     "data": {
      "text/plain": [
       "array([[100,  11,  54],\n",
       "       [ 23,   7,   0]], dtype=int8)"
      ]
     },
     "execution_count": 8,
     "metadata": {},
     "output_type": "execute_result"
    },
    {
     "data": {
      "application/javascript": "\n            setTimeout(function() {\n                var nbb_cell_id = 8;\n                var nbb_unformatted_code = \"arr = np.array(\\n    [\\n        [100, 11, 54],\\n        [23, 7, 0],\\n    ],\\n    dtype=\\\"int8\\\",\\n)\\narr\";\n                var nbb_formatted_code = \"arr = np.array(\\n    [\\n        [100, 11, 54],\\n        [23, 7, 0],\\n    ],\\n    dtype=\\\"int8\\\",\\n)\\narr\";\n                var nbb_cells = Jupyter.notebook.get_cells();\n                for (var i = 0; i < nbb_cells.length; ++i) {\n                    if (nbb_cells[i].input_prompt_number == nbb_cell_id) {\n                        if (nbb_cells[i].get_text() == nbb_unformatted_code) {\n                             nbb_cells[i].set_text(nbb_formatted_code);\n                        }\n                        break;\n                    }\n                }\n            }, 500);\n            ",
      "text/plain": [
       "<IPython.core.display.Javascript object>"
      ]
     },
     "metadata": {},
     "output_type": "display_data"
    }
   ],
   "source": [
    "arr = np.array(\n",
    "    [\n",
    "        [100, 11, 54],\n",
    "        [23, 7, 0],\n",
    "    ],\n",
    "    dtype=\"int8\",\n",
    ")\n",
    "arr"
   ]
  },
  {
   "cell_type": "markdown",
   "id": "a5ac1b38",
   "metadata": {},
   "source": [
    "Change element `54` in _first row_, _third column_ with `3`."
   ]
  },
  {
   "cell_type": "code",
   "execution_count": 9,
   "id": "ea922f9e",
   "metadata": {},
   "outputs": [
    {
     "data": {
      "text/plain": [
       "array([[100,  11,   3],\n",
       "       [ 23,   7,   0]], dtype=int8)"
      ]
     },
     "execution_count": 9,
     "metadata": {},
     "output_type": "execute_result"
    },
    {
     "data": {
      "application/javascript": "\n            setTimeout(function() {\n                var nbb_cell_id = 9;\n                var nbb_unformatted_code = \"arr[0, 2] = 3\\narr\";\n                var nbb_formatted_code = \"arr[0, 2] = 3\\narr\";\n                var nbb_cells = Jupyter.notebook.get_cells();\n                for (var i = 0; i < nbb_cells.length; ++i) {\n                    if (nbb_cells[i].input_prompt_number == nbb_cell_id) {\n                        if (nbb_cells[i].get_text() == nbb_unformatted_code) {\n                             nbb_cells[i].set_text(nbb_formatted_code);\n                        }\n                        break;\n                    }\n                }\n            }, 500);\n            ",
      "text/plain": [
       "<IPython.core.display.Javascript object>"
      ]
     },
     "metadata": {},
     "output_type": "display_data"
    }
   ],
   "source": [
    "arr[0, 2] = 3\n",
    "arr"
   ]
  },
  {
   "cell_type": "markdown",
   "id": "cabcb1c6",
   "metadata": {},
   "source": [
    "Change all elements in second row `[23, 7, 0]` with **similar** value `99`."
   ]
  },
  {
   "cell_type": "code",
   "execution_count": 10,
   "id": "4b84fe4b",
   "metadata": {},
   "outputs": [
    {
     "data": {
      "text/plain": [
       "array([[100,  11,   3],\n",
       "       [ 99,  99,  99]], dtype=int8)"
      ]
     },
     "execution_count": 10,
     "metadata": {},
     "output_type": "execute_result"
    },
    {
     "data": {
      "application/javascript": "\n            setTimeout(function() {\n                var nbb_cell_id = 10;\n                var nbb_unformatted_code = \"arr[1] = 99\\narr\";\n                var nbb_formatted_code = \"arr[1] = 99\\narr\";\n                var nbb_cells = Jupyter.notebook.get_cells();\n                for (var i = 0; i < nbb_cells.length; ++i) {\n                    if (nbb_cells[i].input_prompt_number == nbb_cell_id) {\n                        if (nbb_cells[i].get_text() == nbb_unformatted_code) {\n                             nbb_cells[i].set_text(nbb_formatted_code);\n                        }\n                        break;\n                    }\n                }\n            }, 500);\n            ",
      "text/plain": [
       "<IPython.core.display.Javascript object>"
      ]
     },
     "metadata": {},
     "output_type": "display_data"
    }
   ],
   "source": [
    "arr[1] = 99\n",
    "arr"
   ]
  },
  {
   "cell_type": "markdown",
   "id": "a4f71342",
   "metadata": {},
   "source": [
    "Trying to change value to a different datatype.\n",
    "\n",
    "> **Note: Booleans are explicitly considered as integers in Python 2 and 3.**"
   ]
  },
  {
   "cell_type": "code",
   "execution_count": 11,
   "id": "b5ef089e",
   "metadata": {},
   "outputs": [
    {
     "data": {
      "text/plain": [
       "array([[ 1,  1,  1],\n",
       "       [99, 99, 99]], dtype=int8)"
      ]
     },
     "execution_count": 11,
     "metadata": {},
     "output_type": "execute_result"
    },
    {
     "data": {
      "application/javascript": "\n            setTimeout(function() {\n                var nbb_cell_id = 11;\n                var nbb_unformatted_code = \"# arr[0] = \\\"Hello\\\" # Does not work. Throws error.\\n# arr[0] = None # Does not work. Throws error.\\narr[0] = True\\narr\";\n                var nbb_formatted_code = \"# arr[0] = \\\"Hello\\\" # Does not work. Throws error.\\n# arr[0] = None # Does not work. Throws error.\\narr[0] = True\\narr\";\n                var nbb_cells = Jupyter.notebook.get_cells();\n                for (var i = 0; i < nbb_cells.length; ++i) {\n                    if (nbb_cells[i].input_prompt_number == nbb_cell_id) {\n                        if (nbb_cells[i].get_text() == nbb_unformatted_code) {\n                             nbb_cells[i].set_text(nbb_formatted_code);\n                        }\n                        break;\n                    }\n                }\n            }, 500);\n            ",
      "text/plain": [
       "<IPython.core.display.Javascript object>"
      ]
     },
     "metadata": {},
     "output_type": "display_data"
    }
   ],
   "source": [
    "# arr[0] = \"Hello\" # Does not work. Throws error.\n",
    "# arr[0] = None # Does not work. Throws error.\n",
    "arr[0] = True\n",
    "arr"
   ]
  },
  {
   "cell_type": "markdown",
   "id": "5bba7e27",
   "metadata": {},
   "source": [
    "Change all elements in first column `[1, 99]` with **similar** value `47`."
   ]
  },
  {
   "cell_type": "code",
   "execution_count": 12,
   "id": "93a58eaa",
   "metadata": {},
   "outputs": [
    {
     "data": {
      "text/plain": [
       "array([[47,  1,  1],\n",
       "       [47, 99, 99]], dtype=int8)"
      ]
     },
     "execution_count": 12,
     "metadata": {},
     "output_type": "execute_result"
    },
    {
     "data": {
      "application/javascript": "\n            setTimeout(function() {\n                var nbb_cell_id = 12;\n                var nbb_unformatted_code = \"arr[:, 0] = 47\\narr\";\n                var nbb_formatted_code = \"arr[:, 0] = 47\\narr\";\n                var nbb_cells = Jupyter.notebook.get_cells();\n                for (var i = 0; i < nbb_cells.length; ++i) {\n                    if (nbb_cells[i].input_prompt_number == nbb_cell_id) {\n                        if (nbb_cells[i].get_text() == nbb_unformatted_code) {\n                             nbb_cells[i].set_text(nbb_formatted_code);\n                        }\n                        break;\n                    }\n                }\n            }, 500);\n            ",
      "text/plain": [
       "<IPython.core.display.Javascript object>"
      ]
     },
     "metadata": {},
     "output_type": "display_data"
    }
   ],
   "source": [
    "arr[:, 0] = 47\n",
    "arr"
   ]
  },
  {
   "cell_type": "markdown",
   "id": "01c55559",
   "metadata": {},
   "source": [
    "Change all elements in second row `[47, 99, 99]` with **different** values `[0, -2, 84]`.\n",
    "\n",
    "> **Note: When updating multiple values of a row / column we must respect its Shape.**"
   ]
  },
  {
   "cell_type": "code",
   "execution_count": 13,
   "id": "8a9667c0",
   "metadata": {},
   "outputs": [
    {
     "data": {
      "text/plain": [
       "array([[47,  1,  1],\n",
       "       [ 0, -2, 84]], dtype=int8)"
      ]
     },
     "execution_count": 13,
     "metadata": {},
     "output_type": "execute_result"
    },
    {
     "data": {
      "application/javascript": "\n            setTimeout(function() {\n                var nbb_cell_id = 13;\n                var nbb_unformatted_code = \"# arr[1] = [0, -3] # Does not work. Throws error.\\narr[1] = [0, -2, 84]\\narr\";\n                var nbb_formatted_code = \"# arr[1] = [0, -3] # Does not work. Throws error.\\narr[1] = [0, -2, 84]\\narr\";\n                var nbb_cells = Jupyter.notebook.get_cells();\n                for (var i = 0; i < nbb_cells.length; ++i) {\n                    if (nbb_cells[i].input_prompt_number == nbb_cell_id) {\n                        if (nbb_cells[i].get_text() == nbb_unformatted_code) {\n                             nbb_cells[i].set_text(nbb_formatted_code);\n                        }\n                        break;\n                    }\n                }\n            }, 500);\n            ",
      "text/plain": [
       "<IPython.core.display.Javascript object>"
      ]
     },
     "metadata": {},
     "output_type": "display_data"
    }
   ],
   "source": [
    "# arr[1] = [0, -3] # Does not work. Throws error.\n",
    "arr[1] = [0, -2, 84]\n",
    "arr"
   ]
  },
  {
   "cell_type": "markdown",
   "id": "b6fa9969",
   "metadata": {},
   "source": [
    "Changing all elements in third column `[1, 84]` with **different** values `[79, 100]`."
   ]
  },
  {
   "cell_type": "code",
   "execution_count": 14,
   "id": "c9464b15",
   "metadata": {},
   "outputs": [
    {
     "data": {
      "text/plain": [
       "array([[ 47,   1,  79],\n",
       "       [  0,  -2, 100]], dtype=int8)"
      ]
     },
     "execution_count": 14,
     "metadata": {},
     "output_type": "execute_result"
    },
    {
     "data": {
      "application/javascript": "\n            setTimeout(function() {\n                var nbb_cell_id = 14;\n                var nbb_unformatted_code = \"# arr[:, 2] = [79] # Also works\\narr[:, 2] = [79, 100]\\narr\";\n                var nbb_formatted_code = \"# arr[:, 2] = [79] # Also works\\narr[:, 2] = [79, 100]\\narr\";\n                var nbb_cells = Jupyter.notebook.get_cells();\n                for (var i = 0; i < nbb_cells.length; ++i) {\n                    if (nbb_cells[i].input_prompt_number == nbb_cell_id) {\n                        if (nbb_cells[i].get_text() == nbb_unformatted_code) {\n                             nbb_cells[i].set_text(nbb_formatted_code);\n                        }\n                        break;\n                    }\n                }\n            }, 500);\n            ",
      "text/plain": [
       "<IPython.core.display.Javascript object>"
      ]
     },
     "metadata": {},
     "output_type": "display_data"
    }
   ],
   "source": [
    "# arr[:, 2] = [79] # Also works\n",
    "arr[:, 2] = [79, 100]\n",
    "arr"
   ]
  },
  {
   "cell_type": "markdown",
   "id": "545ed976",
   "metadata": {},
   "source": [
    "### Quiz 1: 3-D Matrix\n",
    "\n",
    "Create below 3-D matrix using NumPy array:\n",
    "\n",
    "![Sample 3-D Matrix](Quiz_1.svg)"
   ]
  },
  {
   "cell_type": "code",
   "execution_count": 15,
   "id": "480e88d3",
   "metadata": {},
   "outputs": [
    {
     "name": "stdout",
     "output_type": "stream",
     "text": [
      "3-D Matrix:\n",
      "[[[ 7  1]\n",
      "  [ 9  4]\n",
      "  [ 2  3]]\n",
      "\n",
      " [[ 4 -2]\n",
      "  [ 0 -5]\n",
      "  [ 8  0]]\n",
      "\n",
      " [[ 1 -9]\n",
      "  [ 3 -7]\n",
      "  [ 6  9]]\n",
      "\n",
      " [[ 5 -3]\n",
      "  [ 8 -1]\n",
      "  [ 4  7]]]\n",
      "Shape: (4, 3, 2)\n"
     ]
    },
    {
     "data": {
      "application/javascript": "\n            setTimeout(function() {\n                var nbb_cell_id = 15;\n                var nbb_unformatted_code = \"td_mat = np.array(\\n    [\\n        [[7, 1], [9, 4], [2, 3]],\\n        [[4, -2], [0, -5], [8, 0]],\\n        [[1, -9], [3, -7], [6, 9]],\\n        [[5, -3], [8, -1], [4, 7]],\\n    ],\\n    # All negative numbers represent hidden elements in the image.\\n    dtype=\\\"int8\\\",\\n)\\n\\nprint(\\\"3-D Matrix:\\\")\\nprint(td_mat)\\n\\nprint(\\\"Shape:\\\", td_mat.shape)\";\n                var nbb_formatted_code = \"td_mat = np.array(\\n    [\\n        [[7, 1], [9, 4], [2, 3]],\\n        [[4, -2], [0, -5], [8, 0]],\\n        [[1, -9], [3, -7], [6, 9]],\\n        [[5, -3], [8, -1], [4, 7]],\\n    ],\\n    # All negative numbers represent hidden elements in the image.\\n    dtype=\\\"int8\\\",\\n)\\n\\nprint(\\\"3-D Matrix:\\\")\\nprint(td_mat)\\n\\nprint(\\\"Shape:\\\", td_mat.shape)\";\n                var nbb_cells = Jupyter.notebook.get_cells();\n                for (var i = 0; i < nbb_cells.length; ++i) {\n                    if (nbb_cells[i].input_prompt_number == nbb_cell_id) {\n                        if (nbb_cells[i].get_text() == nbb_unformatted_code) {\n                             nbb_cells[i].set_text(nbb_formatted_code);\n                        }\n                        break;\n                    }\n                }\n            }, 500);\n            ",
      "text/plain": [
       "<IPython.core.display.Javascript object>"
      ]
     },
     "metadata": {},
     "output_type": "display_data"
    }
   ],
   "source": [
    "td_mat = np.array(\n",
    "    [\n",
    "        [[7, 1], [9, 4], [2, 3]],\n",
    "        [[4, -2], [0, -5], [8, 0]],\n",
    "        [[1, -9], [3, -7], [6, 9]],\n",
    "        [[5, -3], [8, -1], [4, 7]],\n",
    "    ],\n",
    "    # All negative numbers represent hidden elements in the image.\n",
    "    dtype=\"int8\",\n",
    ")\n",
    "\n",
    "print(\"3-D Matrix:\")\n",
    "print(td_mat)\n",
    "\n",
    "print(\"Shape:\", td_mat.shape)"
   ]
  },
  {
   "cell_type": "markdown",
   "id": "966afb6d",
   "metadata": {},
   "source": [
    "Get elements `[[4, 0], [1, 3]]` from the above 3-D matrix."
   ]
  },
  {
   "cell_type": "code",
   "execution_count": 16,
   "id": "ea99ff3d",
   "metadata": {},
   "outputs": [
    {
     "data": {
      "text/plain": [
       "array([[4, 0],\n",
       "       [1, 3]], dtype=int8)"
      ]
     },
     "execution_count": 16,
     "metadata": {},
     "output_type": "execute_result"
    },
    {
     "data": {
      "application/javascript": "\n            setTimeout(function() {\n                var nbb_cell_id = 16;\n                var nbb_unformatted_code = \"# [x_axis, y_axis, z_axis]\\n# [1_axis, 0_axis, 2_axis]\\n# [rows, columns, Z-index]\\ntd_mat[1:3, 0:2, 0]\";\n                var nbb_formatted_code = \"# [x_axis, y_axis, z_axis]\\n# [1_axis, 0_axis, 2_axis]\\n# [rows, columns, Z-index]\\ntd_mat[1:3, 0:2, 0]\";\n                var nbb_cells = Jupyter.notebook.get_cells();\n                for (var i = 0; i < nbb_cells.length; ++i) {\n                    if (nbb_cells[i].input_prompt_number == nbb_cell_id) {\n                        if (nbb_cells[i].get_text() == nbb_unformatted_code) {\n                             nbb_cells[i].set_text(nbb_formatted_code);\n                        }\n                        break;\n                    }\n                }\n            }, 500);\n            ",
      "text/plain": [
       "<IPython.core.display.Javascript object>"
      ]
     },
     "metadata": {},
     "output_type": "display_data"
    }
   ],
   "source": [
    "# [x_axis, y_axis, z_axis]\n",
    "# [1_axis, 0_axis, 2_axis]\n",
    "# [rows, columns, Z-index]\n",
    "td_mat[1:3, 0:2, 0]"
   ]
  },
  {
   "cell_type": "markdown",
   "id": "838300df",
   "metadata": {},
   "source": [
    "### Initializing Different Types of Arrays\n",
    "\n",
    "#### All Zeros matrix"
   ]
  },
  {
   "cell_type": "code",
   "execution_count": 17,
   "id": "e26ad867",
   "metadata": {},
   "outputs": [
    {
     "data": {
      "text/plain": [
       "array([0., 0., 0., 0., 0.])"
      ]
     },
     "execution_count": 17,
     "metadata": {},
     "output_type": "execute_result"
    },
    {
     "data": {
      "application/javascript": "\n            setTimeout(function() {\n                var nbb_cell_id = 17;\n                var nbb_unformatted_code = \"np.zeros(5)\";\n                var nbb_formatted_code = \"np.zeros(5)\";\n                var nbb_cells = Jupyter.notebook.get_cells();\n                for (var i = 0; i < nbb_cells.length; ++i) {\n                    if (nbb_cells[i].input_prompt_number == nbb_cell_id) {\n                        if (nbb_cells[i].get_text() == nbb_unformatted_code) {\n                             nbb_cells[i].set_text(nbb_formatted_code);\n                        }\n                        break;\n                    }\n                }\n            }, 500);\n            ",
      "text/plain": [
       "<IPython.core.display.Javascript object>"
      ]
     },
     "metadata": {},
     "output_type": "display_data"
    }
   ],
   "source": [
    "np.zeros(5)"
   ]
  },
  {
   "cell_type": "code",
   "execution_count": 18,
   "id": "d3238c60",
   "metadata": {},
   "outputs": [
    {
     "data": {
      "text/plain": [
       "array([[0., 0., 0., 0., 0., 0.],\n",
       "       [0., 0., 0., 0., 0., 0.],\n",
       "       [0., 0., 0., 0., 0., 0.],\n",
       "       [0., 0., 0., 0., 0., 0.]])"
      ]
     },
     "execution_count": 18,
     "metadata": {},
     "output_type": "execute_result"
    },
    {
     "data": {
      "application/javascript": "\n            setTimeout(function() {\n                var nbb_cell_id = 18;\n                var nbb_unformatted_code = \"np.zeros((4, 6))\";\n                var nbb_formatted_code = \"np.zeros((4, 6))\";\n                var nbb_cells = Jupyter.notebook.get_cells();\n                for (var i = 0; i < nbb_cells.length; ++i) {\n                    if (nbb_cells[i].input_prompt_number == nbb_cell_id) {\n                        if (nbb_cells[i].get_text() == nbb_unformatted_code) {\n                             nbb_cells[i].set_text(nbb_formatted_code);\n                        }\n                        break;\n                    }\n                }\n            }, 500);\n            ",
      "text/plain": [
       "<IPython.core.display.Javascript object>"
      ]
     },
     "metadata": {},
     "output_type": "display_data"
    }
   ],
   "source": [
    "np.zeros((4, 6))"
   ]
  },
  {
   "cell_type": "markdown",
   "id": "6f940d71",
   "metadata": {},
   "source": [
    "#### All Ones matrix"
   ]
  },
  {
   "cell_type": "code",
   "execution_count": 19,
   "id": "2b8841f2",
   "metadata": {},
   "outputs": [
    {
     "data": {
      "text/plain": [
       "array([1., 1., 1., 1., 1., 1., 1., 1., 1.])"
      ]
     },
     "execution_count": 19,
     "metadata": {},
     "output_type": "execute_result"
    },
    {
     "data": {
      "application/javascript": "\n            setTimeout(function() {\n                var nbb_cell_id = 19;\n                var nbb_unformatted_code = \"np.ones(9)\";\n                var nbb_formatted_code = \"np.ones(9)\";\n                var nbb_cells = Jupyter.notebook.get_cells();\n                for (var i = 0; i < nbb_cells.length; ++i) {\n                    if (nbb_cells[i].input_prompt_number == nbb_cell_id) {\n                        if (nbb_cells[i].get_text() == nbb_unformatted_code) {\n                             nbb_cells[i].set_text(nbb_formatted_code);\n                        }\n                        break;\n                    }\n                }\n            }, 500);\n            ",
      "text/plain": [
       "<IPython.core.display.Javascript object>"
      ]
     },
     "metadata": {},
     "output_type": "display_data"
    }
   ],
   "source": [
    "np.ones(9)"
   ]
  },
  {
   "cell_type": "code",
   "execution_count": 20,
   "id": "6376273f",
   "metadata": {},
   "outputs": [
    {
     "data": {
      "text/plain": [
       "array([[[1., 1., 1., 1., 1., 1., 1., 1.],\n",
       "        [1., 1., 1., 1., 1., 1., 1., 1.],\n",
       "        [1., 1., 1., 1., 1., 1., 1., 1.]]])"
      ]
     },
     "execution_count": 20,
     "metadata": {},
     "output_type": "execute_result"
    },
    {
     "data": {
      "application/javascript": "\n            setTimeout(function() {\n                var nbb_cell_id = 20;\n                var nbb_unformatted_code = \"np.ones((1, 3, 8))\";\n                var nbb_formatted_code = \"np.ones((1, 3, 8))\";\n                var nbb_cells = Jupyter.notebook.get_cells();\n                for (var i = 0; i < nbb_cells.length; ++i) {\n                    if (nbb_cells[i].input_prompt_number == nbb_cell_id) {\n                        if (nbb_cells[i].get_text() == nbb_unformatted_code) {\n                             nbb_cells[i].set_text(nbb_formatted_code);\n                        }\n                        break;\n                    }\n                }\n            }, 500);\n            ",
      "text/plain": [
       "<IPython.core.display.Javascript object>"
      ]
     },
     "metadata": {},
     "output_type": "display_data"
    }
   ],
   "source": [
    "np.ones((1, 3, 8))"
   ]
  },
  {
   "cell_type": "code",
   "execution_count": 21,
   "id": "bb2e4614",
   "metadata": {},
   "outputs": [
    {
     "data": {
      "text/plain": [
       "array([[1, 1, 1, 1, 1],\n",
       "       [1, 1, 1, 1, 1]], dtype=int8)"
      ]
     },
     "execution_count": 21,
     "metadata": {},
     "output_type": "execute_result"
    },
    {
     "data": {
      "application/javascript": "\n            setTimeout(function() {\n                var nbb_cell_id = 21;\n                var nbb_unformatted_code = \"np.ones((2, 5), dtype=\\\"int8\\\")\";\n                var nbb_formatted_code = \"np.ones((2, 5), dtype=\\\"int8\\\")\";\n                var nbb_cells = Jupyter.notebook.get_cells();\n                for (var i = 0; i < nbb_cells.length; ++i) {\n                    if (nbb_cells[i].input_prompt_number == nbb_cell_id) {\n                        if (nbb_cells[i].get_text() == nbb_unformatted_code) {\n                             nbb_cells[i].set_text(nbb_formatted_code);\n                        }\n                        break;\n                    }\n                }\n            }, 500);\n            ",
      "text/plain": [
       "<IPython.core.display.Javascript object>"
      ]
     },
     "metadata": {},
     "output_type": "display_data"
    }
   ],
   "source": [
    "np.ones((2, 5), dtype=\"int8\")"
   ]
  },
  {
   "cell_type": "markdown",
   "id": "c0082180",
   "metadata": {},
   "source": [
    "#### Non-Zeros / Non-Ones matrix\n",
    "\n",
    "Create matrix of shape - `(3, 9)` - three rows and nine columns with all elements being `47` of datatype `int8`."
   ]
  },
  {
   "cell_type": "code",
   "execution_count": 22,
   "id": "16ae9a28",
   "metadata": {},
   "outputs": [
    {
     "data": {
      "text/plain": [
       "array([[47, 47, 47, 47, 47, 47, 47, 47, 47],\n",
       "       [47, 47, 47, 47, 47, 47, 47, 47, 47],\n",
       "       [47, 47, 47, 47, 47, 47, 47, 47, 47]], dtype=int8)"
      ]
     },
     "execution_count": 22,
     "metadata": {},
     "output_type": "execute_result"
    },
    {
     "data": {
      "application/javascript": "\n            setTimeout(function() {\n                var nbb_cell_id = 22;\n                var nbb_unformatted_code = \"np.full((3, 9), 47, dtype=\\\"int8\\\")\";\n                var nbb_formatted_code = \"np.full((3, 9), 47, dtype=\\\"int8\\\")\";\n                var nbb_cells = Jupyter.notebook.get_cells();\n                for (var i = 0; i < nbb_cells.length; ++i) {\n                    if (nbb_cells[i].input_prompt_number == nbb_cell_id) {\n                        if (nbb_cells[i].get_text() == nbb_unformatted_code) {\n                             nbb_cells[i].set_text(nbb_formatted_code);\n                        }\n                        break;\n                    }\n                }\n            }, 500);\n            ",
      "text/plain": [
       "<IPython.core.display.Javascript object>"
      ]
     },
     "metadata": {},
     "output_type": "display_data"
    }
   ],
   "source": [
    "np.full((3, 9), 47, dtype=\"int8\")"
   ]
  },
  {
   "cell_type": "code",
   "execution_count": 23,
   "id": "06b4513d",
   "metadata": {},
   "outputs": [
    {
     "name": "stdout",
     "output_type": "stream",
     "text": [
      "Array `arr`: [100  47  66]\n",
      "New array `nar1` with shape of `arr`: [4 4 4]\n",
      "New array `nar2` with shape of `arr`: [4 4 4]\n"
     ]
    },
    {
     "data": {
      "application/javascript": "\n            setTimeout(function() {\n                var nbb_cell_id = 23;\n                var nbb_unformatted_code = \"arr = np.array([100, 47, 66], dtype=\\\"int32\\\")\\nprint(\\\"Array `arr`:\\\", arr)\\n\\nnar1 = np.full_like(arr, 4)\\nprint(\\\"New array `nar1` with shape of `arr`:\\\", nar1)\\n\\n# or\\n\\nnar2 = np.full(arr.shape, 4)\\nprint(\\\"New array `nar2` with shape of `arr`:\\\", nar2)\";\n                var nbb_formatted_code = \"arr = np.array([100, 47, 66], dtype=\\\"int32\\\")\\nprint(\\\"Array `arr`:\\\", arr)\\n\\nnar1 = np.full_like(arr, 4)\\nprint(\\\"New array `nar1` with shape of `arr`:\\\", nar1)\\n\\n# or\\n\\nnar2 = np.full(arr.shape, 4)\\nprint(\\\"New array `nar2` with shape of `arr`:\\\", nar2)\";\n                var nbb_cells = Jupyter.notebook.get_cells();\n                for (var i = 0; i < nbb_cells.length; ++i) {\n                    if (nbb_cells[i].input_prompt_number == nbb_cell_id) {\n                        if (nbb_cells[i].get_text() == nbb_unformatted_code) {\n                             nbb_cells[i].set_text(nbb_formatted_code);\n                        }\n                        break;\n                    }\n                }\n            }, 500);\n            ",
      "text/plain": [
       "<IPython.core.display.Javascript object>"
      ]
     },
     "metadata": {},
     "output_type": "display_data"
    }
   ],
   "source": [
    "arr = np.array([100, 47, 66], dtype=\"int32\")\n",
    "print(\"Array `arr`:\", arr)\n",
    "\n",
    "nar1 = np.full_like(arr, 4)\n",
    "print(\"New array `nar1` with shape of `arr`:\", nar1)\n",
    "\n",
    "# or\n",
    "\n",
    "nar2 = np.full(arr.shape, 4)\n",
    "print(\"New array `nar2` with shape of `arr`:\", nar2)"
   ]
  },
  {
   "cell_type": "markdown",
   "id": "14fb6a15",
   "metadata": {},
   "source": [
    "#### Random Decimal matrix"
   ]
  },
  {
   "cell_type": "code",
   "execution_count": 24,
   "id": "c93656d1",
   "metadata": {},
   "outputs": [
    {
     "data": {
      "text/plain": [
       "array([[[0.58063897, 0.07547732, 0.79508575, 0.44965035, 0.27173693, 0.03620963, 0.32538712],\n",
       "        [0.09321295, 0.56901718, 0.98084301, 0.2416608 , 0.69149727, 0.30419422, 0.89553746],\n",
       "        [0.69431822, 0.65449152, 0.25975544, 0.6116095 , 0.46383718, 0.99786724, 0.20708409]],\n",
       "\n",
       "       [[0.95093352, 0.23036866, 0.40967048, 0.4638276 , 0.57093751, 0.26631529, 0.59908168],\n",
       "        [0.45022942, 0.1655905 , 0.93892726, 0.05214085, 0.81318888, 0.48314301, 0.61357702],\n",
       "        [0.01467856, 0.21560484, 0.30445835, 0.02176561, 0.35796478, 0.50390639, 0.60120975]]])"
      ]
     },
     "execution_count": 24,
     "metadata": {},
     "output_type": "execute_result"
    },
    {
     "data": {
      "application/javascript": "\n            setTimeout(function() {\n                var nbb_cell_id = 24;\n                var nbb_unformatted_code = \"np.random.rand(2, 3, 7)  # Pass the required shape as function paramets.\";\n                var nbb_formatted_code = \"np.random.rand(2, 3, 7)  # Pass the required shape as function paramets.\";\n                var nbb_cells = Jupyter.notebook.get_cells();\n                for (var i = 0; i < nbb_cells.length; ++i) {\n                    if (nbb_cells[i].input_prompt_number == nbb_cell_id) {\n                        if (nbb_cells[i].get_text() == nbb_unformatted_code) {\n                             nbb_cells[i].set_text(nbb_formatted_code);\n                        }\n                        break;\n                    }\n                }\n            }, 500);\n            ",
      "text/plain": [
       "<IPython.core.display.Javascript object>"
      ]
     },
     "metadata": {},
     "output_type": "display_data"
    }
   ],
   "source": [
    "np.random.rand(2, 3, 7)  # Pass the required shape as function paramets."
   ]
  },
  {
   "cell_type": "code",
   "execution_count": 25,
   "id": "25c7f049",
   "metadata": {},
   "outputs": [
    {
     "data": {
      "text/plain": [
       "array([0.43526387, 0.72814015, 0.72166006])"
      ]
     },
     "execution_count": 25,
     "metadata": {},
     "output_type": "execute_result"
    },
    {
     "data": {
      "application/javascript": "\n            setTimeout(function() {\n                var nbb_cell_id = 25;\n                var nbb_unformatted_code = \"np.random.random_sample(arr.shape)\";\n                var nbb_formatted_code = \"np.random.random_sample(arr.shape)\";\n                var nbb_cells = Jupyter.notebook.get_cells();\n                for (var i = 0; i < nbb_cells.length; ++i) {\n                    if (nbb_cells[i].input_prompt_number == nbb_cell_id) {\n                        if (nbb_cells[i].get_text() == nbb_unformatted_code) {\n                             nbb_cells[i].set_text(nbb_formatted_code);\n                        }\n                        break;\n                    }\n                }\n            }, 500);\n            ",
      "text/plain": [
       "<IPython.core.display.Javascript object>"
      ]
     },
     "metadata": {},
     "output_type": "display_data"
    }
   ],
   "source": [
    "np.random.random_sample(arr.shape)"
   ]
  },
  {
   "cell_type": "markdown",
   "id": "7087444c",
   "metadata": {},
   "source": [
    "#### Random Integer matrix\n",
    "\n",
    "Syntax:\n",
    "\n",
    "```python\n",
    "np.random.randint(start_index, end_index)\n",
    "np.random.randint(start_index, end_index, size=(row, column))\n",
    "```\n",
    "1. Start index - `start_index` - is optional. If not present array starts from zero.\n",
    "2. End index - `end_index` - is not inclusive."
   ]
  },
  {
   "cell_type": "code",
   "execution_count": 26,
   "id": "d9b39532",
   "metadata": {},
   "outputs": [
    {
     "data": {
      "text/plain": [
       "28"
      ]
     },
     "execution_count": 26,
     "metadata": {},
     "output_type": "execute_result"
    },
    {
     "data": {
      "application/javascript": "\n            setTimeout(function() {\n                var nbb_cell_id = 26;\n                var nbb_unformatted_code = \"np.random.randint(2, 100)\";\n                var nbb_formatted_code = \"np.random.randint(2, 100)\";\n                var nbb_cells = Jupyter.notebook.get_cells();\n                for (var i = 0; i < nbb_cells.length; ++i) {\n                    if (nbb_cells[i].input_prompt_number == nbb_cell_id) {\n                        if (nbb_cells[i].get_text() == nbb_unformatted_code) {\n                             nbb_cells[i].set_text(nbb_formatted_code);\n                        }\n                        break;\n                    }\n                }\n            }, 500);\n            ",
      "text/plain": [
       "<IPython.core.display.Javascript object>"
      ]
     },
     "metadata": {},
     "output_type": "display_data"
    }
   ],
   "source": [
    "np.random.randint(2, 100)"
   ]
  },
  {
   "cell_type": "code",
   "execution_count": 27,
   "id": "50b6d022",
   "metadata": {},
   "outputs": [
    {
     "data": {
      "text/plain": [
       "array([8, 1, 1, 7, 3, 3, 6, 5, 2, 0])"
      ]
     },
     "execution_count": 27,
     "metadata": {},
     "output_type": "execute_result"
    },
    {
     "data": {
      "application/javascript": "\n            setTimeout(function() {\n                var nbb_cell_id = 27;\n                var nbb_unformatted_code = \"np.random.randint(10, size=(10))\";\n                var nbb_formatted_code = \"np.random.randint(10, size=(10))\";\n                var nbb_cells = Jupyter.notebook.get_cells();\n                for (var i = 0; i < nbb_cells.length; ++i) {\n                    if (nbb_cells[i].input_prompt_number == nbb_cell_id) {\n                        if (nbb_cells[i].get_text() == nbb_unformatted_code) {\n                             nbb_cells[i].set_text(nbb_formatted_code);\n                        }\n                        break;\n                    }\n                }\n            }, 500);\n            ",
      "text/plain": [
       "<IPython.core.display.Javascript object>"
      ]
     },
     "metadata": {},
     "output_type": "display_data"
    }
   ],
   "source": [
    "np.random.randint(10, size=(10))"
   ]
  },
  {
   "cell_type": "code",
   "execution_count": 28,
   "id": "0a98bd05",
   "metadata": {},
   "outputs": [
    {
     "data": {
      "text/plain": [
       "array([[39, 33, 18, 11, 19,  9,  4, 34, 23,  4, 12,  1, 10, 38, 18,  9, 43, 19,  4,  1],\n",
       "       [44, 19, 24,  3, 43, 19,  9, 18, 30, 18, 33, 45,  7, 18, 21, 32, 30, 11, 46, 26],\n",
       "       [25, 28,  7, 25, 30,  6,  7,  3, 45, 44, 22, 38, 23, 18, 26, 25, 20, 36,  2, 17]])"
      ]
     },
     "execution_count": 28,
     "metadata": {},
     "output_type": "execute_result"
    },
    {
     "data": {
      "application/javascript": "\n            setTimeout(function() {\n                var nbb_cell_id = 28;\n                var nbb_unformatted_code = \"np.random.randint(47, size=(3, 20))\";\n                var nbb_formatted_code = \"np.random.randint(47, size=(3, 20))\";\n                var nbb_cells = Jupyter.notebook.get_cells();\n                for (var i = 0; i < nbb_cells.length; ++i) {\n                    if (nbb_cells[i].input_prompt_number == nbb_cell_id) {\n                        if (nbb_cells[i].get_text() == nbb_unformatted_code) {\n                             nbb_cells[i].set_text(nbb_formatted_code);\n                        }\n                        break;\n                    }\n                }\n            }, 500);\n            ",
      "text/plain": [
       "<IPython.core.display.Javascript object>"
      ]
     },
     "metadata": {},
     "output_type": "display_data"
    }
   ],
   "source": [
    "np.random.randint(47, size=(3, 20))"
   ]
  },
  {
   "cell_type": "markdown",
   "id": "ffbcc910",
   "metadata": {},
   "source": [
    "#### Identity matrix\n",
    "\n",
    "All diagonal elements are `1` and all non diagonal elements are `0`."
   ]
  },
  {
   "cell_type": "code",
   "execution_count": 29,
   "id": "54881c26",
   "metadata": {},
   "outputs": [
    {
     "data": {
      "text/plain": [
       "array([[1., 0., 0., 0., 0.],\n",
       "       [0., 1., 0., 0., 0.],\n",
       "       [0., 0., 1., 0., 0.],\n",
       "       [0., 0., 0., 1., 0.],\n",
       "       [0., 0., 0., 0., 1.]])"
      ]
     },
     "execution_count": 29,
     "metadata": {},
     "output_type": "execute_result"
    },
    {
     "data": {
      "application/javascript": "\n            setTimeout(function() {\n                var nbb_cell_id = 29;\n                var nbb_unformatted_code = \"np.identity(5)  # Creates 5 X 5 identity matrix.\";\n                var nbb_formatted_code = \"np.identity(5)  # Creates 5 X 5 identity matrix.\";\n                var nbb_cells = Jupyter.notebook.get_cells();\n                for (var i = 0; i < nbb_cells.length; ++i) {\n                    if (nbb_cells[i].input_prompt_number == nbb_cell_id) {\n                        if (nbb_cells[i].get_text() == nbb_unformatted_code) {\n                             nbb_cells[i].set_text(nbb_formatted_code);\n                        }\n                        break;\n                    }\n                }\n            }, 500);\n            ",
      "text/plain": [
       "<IPython.core.display.Javascript object>"
      ]
     },
     "metadata": {},
     "output_type": "display_data"
    }
   ],
   "source": [
    "np.identity(5)  # Creates 5 X 5 identity matrix."
   ]
  },
  {
   "cell_type": "markdown",
   "id": "9f80d92b",
   "metadata": {},
   "source": [
    "### Quiz 2\n",
    "\n",
    "Create below array using NumPy:\n",
    "\n",
    "![Quiz 2](Quiz_2.jpg)"
   ]
  },
  {
   "cell_type": "markdown",
   "id": "32fe22b6",
   "metadata": {},
   "source": [
    "**STEP 1**: Create 5 X 5 matrix of zeros."
   ]
  },
  {
   "cell_type": "code",
   "execution_count": 50,
   "id": "a0eb2b40",
   "metadata": {},
   "outputs": [
    {
     "name": "stdout",
     "output_type": "stream",
     "text": [
      "Enter an odd number greater than 3 to create N X N matrix: 5\n"
     ]
    },
    {
     "data": {
      "text/plain": [
       "array([[0, 0, 0, 0, 0],\n",
       "       [0, 0, 0, 0, 0],\n",
       "       [0, 0, 0, 0, 0],\n",
       "       [0, 0, 0, 0, 0],\n",
       "       [0, 0, 0, 0, 0]], dtype=int8)"
      ]
     },
     "execution_count": 50,
     "metadata": {},
     "output_type": "execute_result"
    },
    {
     "data": {
      "application/javascript": "\n            setTimeout(function() {\n                var nbb_cell_id = 50;\n                var nbb_unformatted_code = \"N = input(\\\"Enter an odd number greater than 3 to create N X N matrix: \\\")\\nN = int(N)\\n\\nif N < 3 or N % 2 == 0:\\n    raise Exception(\\\"N must be an odd number greater than 3.\\\")\\n\\nq2_op = np.zeros((N, N), dtype=\\\"int8\\\")\\nq2_op\";\n                var nbb_formatted_code = \"N = input(\\\"Enter an odd number greater than 3 to create N X N matrix: \\\")\\nN = int(N)\\n\\nif N < 3 or N % 2 == 0:\\n    raise Exception(\\\"N must be an odd number greater than 3.\\\")\\n\\nq2_op = np.zeros((N, N), dtype=\\\"int8\\\")\\nq2_op\";\n                var nbb_cells = Jupyter.notebook.get_cells();\n                for (var i = 0; i < nbb_cells.length; ++i) {\n                    if (nbb_cells[i].input_prompt_number == nbb_cell_id) {\n                        if (nbb_cells[i].get_text() == nbb_unformatted_code) {\n                             nbb_cells[i].set_text(nbb_formatted_code);\n                        }\n                        break;\n                    }\n                }\n            }, 500);\n            ",
      "text/plain": [
       "<IPython.core.display.Javascript object>"
      ]
     },
     "metadata": {},
     "output_type": "display_data"
    }
   ],
   "source": [
    "N = input(\"Enter an odd number greater than 3 to create N X N matrix: \")\n",
    "N = int(N)\n",
    "\n",
    "if N < 3 or N % 2 == 0:\n",
    "    raise Exception(\"N must be an odd number greater than 3.\")\n",
    "\n",
    "q2_op = np.zeros((N, N), dtype=\"int8\")\n",
    "q2_op"
   ]
  },
  {
   "cell_type": "markdown",
   "id": "06b0f63c",
   "metadata": {},
   "source": [
    "**STEP 2**: "
   ]
  },
  {
   "cell_type": "code",
   "execution_count": 51,
   "id": "57b693c0",
   "metadata": {},
   "outputs": [
    {
     "data": {
      "text/plain": [
       "array([[1, 1, 1, 1, 1],\n",
       "       [1, 0, 0, 0, 1],\n",
       "       [1, 0, 0, 0, 1],\n",
       "       [1, 0, 0, 0, 1],\n",
       "       [1, 1, 1, 1, 1]], dtype=int8)"
      ]
     },
     "execution_count": 51,
     "metadata": {},
     "output_type": "execute_result"
    },
    {
     "data": {
      "application/javascript": "\n            setTimeout(function() {\n                var nbb_cell_id = 51;\n                var nbb_unformatted_code = \"q2_op[[0, -1]] = 1  # Update rows\\nq2_op[:, [0, -1]] = 1  # Update columns\\n\\nq2_op\";\n                var nbb_formatted_code = \"q2_op[[0, -1]] = 1  # Update rows\\nq2_op[:, [0, -1]] = 1  # Update columns\\n\\nq2_op\";\n                var nbb_cells = Jupyter.notebook.get_cells();\n                for (var i = 0; i < nbb_cells.length; ++i) {\n                    if (nbb_cells[i].input_prompt_number == nbb_cell_id) {\n                        if (nbb_cells[i].get_text() == nbb_unformatted_code) {\n                             nbb_cells[i].set_text(nbb_formatted_code);\n                        }\n                        break;\n                    }\n                }\n            }, 500);\n            ",
      "text/plain": [
       "<IPython.core.display.Javascript object>"
      ]
     },
     "metadata": {},
     "output_type": "display_data"
    }
   ],
   "source": [
    "q2_op[[0, -1]] = 1  # Update rows\n",
    "q2_op[:, [0, -1]] = 1  # Update columns\n",
    "\n",
    "q2_op"
   ]
  },
  {
   "cell_type": "markdown",
   "id": "07adb756",
   "metadata": {},
   "source": [
    "**STEP 3**: "
   ]
  },
  {
   "cell_type": "code",
   "execution_count": 52,
   "id": "7043f399",
   "metadata": {},
   "outputs": [
    {
     "name": "stdout",
     "output_type": "stream",
     "text": [
      "[[1 1 1 1 1]\n",
      " [1 0 0 0 1]\n",
      " [1 0 9 0 1]\n",
      " [1 0 0 0 1]\n",
      " [1 1 1 1 1]]\n"
     ]
    },
    {
     "data": {
      "application/javascript": "\n            setTimeout(function() {\n                var nbb_cell_id = 52;\n                var nbb_unformatted_code = \"row, col = q2_op.shape\\n\\nif row >= 3 and row % 2 != 0 and col >= 3 and col % 2 != 0:\\n    q2_op[int(row / 2), int(col / 2)] = 9\\n    print(q2_op)\\nelse:\\n    print(\\\"Please create Square matrix of size greater than 3 X 3 with odd dimensions.\\\")\";\n                var nbb_formatted_code = \"row, col = q2_op.shape\\n\\nif row >= 3 and row % 2 != 0 and col >= 3 and col % 2 != 0:\\n    q2_op[int(row / 2), int(col / 2)] = 9\\n    print(q2_op)\\nelse:\\n    print(\\\"Please create Square matrix of size greater than 3 X 3 with odd dimensions.\\\")\";\n                var nbb_cells = Jupyter.notebook.get_cells();\n                for (var i = 0; i < nbb_cells.length; ++i) {\n                    if (nbb_cells[i].input_prompt_number == nbb_cell_id) {\n                        if (nbb_cells[i].get_text() == nbb_unformatted_code) {\n                             nbb_cells[i].set_text(nbb_formatted_code);\n                        }\n                        break;\n                    }\n                }\n            }, 500);\n            ",
      "text/plain": [
       "<IPython.core.display.Javascript object>"
      ]
     },
     "metadata": {},
     "output_type": "display_data"
    }
   ],
   "source": [
    "row, col = q2_op.shape\n",
    "\n",
    "if row >= 3 and row % 2 != 0 and col >= 3 and col % 2 != 0:\n",
    "    q2_op[int(row / 2), int(col / 2)] = 9\n",
    "    print(q2_op)\n",
    "else:\n",
    "    print(\"Please create Square matrix of size greater than 3 X 3 with odd dimensions.\")"
   ]
  },
  {
   "cell_type": "code",
   "execution_count": null,
   "id": "cd154334",
   "metadata": {},
   "outputs": [],
   "source": []
  }
 ],
 "metadata": {
  "kernelspec": {
   "display_name": "Python 3 (ipykernel)",
   "language": "python",
   "name": "python3"
  },
  "language_info": {
   "codemirror_mode": {
    "name": "ipython",
    "version": 3
   },
   "file_extension": ".py",
   "mimetype": "text/x-python",
   "name": "python",
   "nbconvert_exporter": "python",
   "pygments_lexer": "ipython3",
   "version": "3.9.7"
  }
 },
 "nbformat": 4,
 "nbformat_minor": 5
}
