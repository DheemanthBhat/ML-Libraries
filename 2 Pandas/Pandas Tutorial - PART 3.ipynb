{
 "cells": [
  {
   "cell_type": "code",
   "execution_count": 1,
   "id": "98198780",
   "metadata": {},
   "outputs": [
    {
     "data": {
      "application/javascript": "\n            setTimeout(function() {\n                var nbb_cell_id = 1;\n                var nbb_unformatted_code = \"# Enable code formatting using external plugin: nb_black.\\n%reload_ext nb_black\";\n                var nbb_formatted_code = \"# Enable code formatting using external plugin: nb_black.\\n%reload_ext nb_black\";\n                var nbb_cells = Jupyter.notebook.get_cells();\n                for (var i = 0; i < nbb_cells.length; ++i) {\n                    if (nbb_cells[i].input_prompt_number == nbb_cell_id) {\n                        if (nbb_cells[i].get_text() == nbb_unformatted_code) {\n                             nbb_cells[i].set_text(nbb_formatted_code);\n                        }\n                        break;\n                    }\n                }\n            }, 500);\n            ",
      "text/plain": [
       "<IPython.core.display.Javascript object>"
      ]
     },
     "metadata": {},
     "output_type": "display_data"
    }
   ],
   "source": [
    "# Enable code formatting using external plugin: nb_black.\n",
    "%reload_ext nb_black"
   ]
  },
  {
   "cell_type": "markdown",
   "id": "47b6f116",
   "metadata": {},
   "source": [
    "# Pandas Tutorial - PART 3\n",
    "\n",
    "**Ref: [Pandas Tutorials][1] by [Corey Schafer][2]**\n",
    "\n",
    "[1]: https://youtube.com/playlist?list=PL-osiE80TeTsWmV9i9c58mdDCSskIFdDS\n",
    "[2]: https://coreyms.com/\n",
    "\n",
    "#### Load and configure `pandas` library"
   ]
  },
  {
   "cell_type": "code",
   "execution_count": 2,
   "id": "ff86f244",
   "metadata": {},
   "outputs": [
    {
     "name": "stdout",
     "output_type": "stream",
     "text": [
      "Pandas version: 1.3.4\n"
     ]
    },
    {
     "data": {
      "application/javascript": "\n            setTimeout(function() {\n                var nbb_cell_id = 2;\n                var nbb_unformatted_code = \"import pandas as pd\\n\\nprint(\\\"Pandas version:\\\", pd.__version__)\\n\\n# Set display width to maximum 130 chacters in the output, post which it will continue in next line.\\npd.options.display.width = 130\";\n                var nbb_formatted_code = \"import pandas as pd\\n\\nprint(\\\"Pandas version:\\\", pd.__version__)\\n\\n# Set display width to maximum 130 chacters in the output, post which it will continue in next line.\\npd.options.display.width = 130\";\n                var nbb_cells = Jupyter.notebook.get_cells();\n                for (var i = 0; i < nbb_cells.length; ++i) {\n                    if (nbb_cells[i].input_prompt_number == nbb_cell_id) {\n                        if (nbb_cells[i].get_text() == nbb_unformatted_code) {\n                             nbb_cells[i].set_text(nbb_formatted_code);\n                        }\n                        break;\n                    }\n                }\n            }, 500);\n            ",
      "text/plain": [
       "<IPython.core.display.Javascript object>"
      ]
     },
     "metadata": {},
     "output_type": "display_data"
    }
   ],
   "source": [
    "import pandas as pd\n",
    "\n",
    "print(\"Pandas version:\", pd.__version__)\n",
    "\n",
    "# Set display width to maximum 130 characters in the output, post which it will continue in next line.\n",
    "pd.options.display.width = 130"
   ]
  },
  {
   "cell_type": "markdown",
   "id": "4b69ec76",
   "metadata": {},
   "source": [
    "#### Load _Stackoverflow_ data from csv file"
   ]
  },
  {
   "cell_type": "code",
   "execution_count": 3,
   "id": "5cedb3a1",
   "metadata": {},
   "outputs": [
    {
     "data": {
      "text/html": [
       "<div>\n",
       "<style scoped>\n",
       "    .dataframe tbody tr th:only-of-type {\n",
       "        vertical-align: middle;\n",
       "    }\n",
       "\n",
       "    .dataframe tbody tr th {\n",
       "        vertical-align: top;\n",
       "    }\n",
       "\n",
       "    .dataframe thead th {\n",
       "        text-align: right;\n",
       "    }\n",
       "</style>\n",
       "<table border=\"1\" class=\"dataframe\">\n",
       "  <thead>\n",
       "    <tr style=\"text-align: right;\">\n",
       "      <th></th>\n",
       "      <th>MainBranch</th>\n",
       "      <th>Hobbyist</th>\n",
       "      <th>OpenSourcer</th>\n",
       "      <th>OpenSource</th>\n",
       "      <th>Employment</th>\n",
       "      <th>Country</th>\n",
       "      <th>Student</th>\n",
       "      <th>EdLevel</th>\n",
       "      <th>UndergradMajor</th>\n",
       "      <th>EduOther</th>\n",
       "      <th>...</th>\n",
       "      <th>WelcomeChange</th>\n",
       "      <th>SONewContent</th>\n",
       "      <th>Age</th>\n",
       "      <th>Gender</th>\n",
       "      <th>Trans</th>\n",
       "      <th>Sexuality</th>\n",
       "      <th>Ethnicity</th>\n",
       "      <th>Dependents</th>\n",
       "      <th>SurveyLength</th>\n",
       "      <th>SurveyEase</th>\n",
       "    </tr>\n",
       "    <tr>\n",
       "      <th>Respondent</th>\n",
       "      <th></th>\n",
       "      <th></th>\n",
       "      <th></th>\n",
       "      <th></th>\n",
       "      <th></th>\n",
       "      <th></th>\n",
       "      <th></th>\n",
       "      <th></th>\n",
       "      <th></th>\n",
       "      <th></th>\n",
       "      <th></th>\n",
       "      <th></th>\n",
       "      <th></th>\n",
       "      <th></th>\n",
       "      <th></th>\n",
       "      <th></th>\n",
       "      <th></th>\n",
       "      <th></th>\n",
       "      <th></th>\n",
       "      <th></th>\n",
       "      <th></th>\n",
       "    </tr>\n",
       "  </thead>\n",
       "  <tbody>\n",
       "    <tr>\n",
       "      <th>1</th>\n",
       "      <td>I am a student who is learning to code</td>\n",
       "      <td>Yes</td>\n",
       "      <td>Never</td>\n",
       "      <td>The quality of OSS and closed source software ...</td>\n",
       "      <td>Not employed, and not looking for work</td>\n",
       "      <td>United Kingdom</td>\n",
       "      <td>No</td>\n",
       "      <td>Primary/elementary school</td>\n",
       "      <td>NaN</td>\n",
       "      <td>Taught yourself a new language, framework, or ...</td>\n",
       "      <td>...</td>\n",
       "      <td>Just as welcome now as I felt last year</td>\n",
       "      <td>Tech articles written by other developers;Indu...</td>\n",
       "      <td>14.0</td>\n",
       "      <td>Man</td>\n",
       "      <td>No</td>\n",
       "      <td>Straight / Heterosexual</td>\n",
       "      <td>NaN</td>\n",
       "      <td>No</td>\n",
       "      <td>Appropriate in length</td>\n",
       "      <td>Neither easy nor difficult</td>\n",
       "    </tr>\n",
       "    <tr>\n",
       "      <th>2</th>\n",
       "      <td>I am a student who is learning to code</td>\n",
       "      <td>No</td>\n",
       "      <td>Less than once per year</td>\n",
       "      <td>The quality of OSS and closed source software ...</td>\n",
       "      <td>Not employed, but looking for work</td>\n",
       "      <td>Bosnia and Herzegovina</td>\n",
       "      <td>Yes, full-time</td>\n",
       "      <td>Secondary school (e.g. American high school, G...</td>\n",
       "      <td>NaN</td>\n",
       "      <td>Taken an online course in programming or softw...</td>\n",
       "      <td>...</td>\n",
       "      <td>Just as welcome now as I felt last year</td>\n",
       "      <td>Tech articles written by other developers;Indu...</td>\n",
       "      <td>19.0</td>\n",
       "      <td>Man</td>\n",
       "      <td>No</td>\n",
       "      <td>Straight / Heterosexual</td>\n",
       "      <td>NaN</td>\n",
       "      <td>No</td>\n",
       "      <td>Appropriate in length</td>\n",
       "      <td>Neither easy nor difficult</td>\n",
       "    </tr>\n",
       "  </tbody>\n",
       "</table>\n",
       "<p>2 rows × 84 columns</p>\n",
       "</div>"
      ],
      "text/plain": [
       "                                        MainBranch Hobbyist              OpenSourcer  \\\n",
       "Respondent                                                                             \n",
       "1           I am a student who is learning to code      Yes                    Never   \n",
       "2           I am a student who is learning to code       No  Less than once per year   \n",
       "\n",
       "                                                   OpenSource                              Employment                 Country  \\\n",
       "Respondent                                                                                                                      \n",
       "1           The quality of OSS and closed source software ...  Not employed, and not looking for work          United Kingdom   \n",
       "2           The quality of OSS and closed source software ...      Not employed, but looking for work  Bosnia and Herzegovina   \n",
       "\n",
       "                   Student                                            EdLevel UndergradMajor  \\\n",
       "Respondent                                                                                     \n",
       "1                       No                          Primary/elementary school            NaN   \n",
       "2           Yes, full-time  Secondary school (e.g. American high school, G...            NaN   \n",
       "\n",
       "                                                     EduOther  ...                            WelcomeChange  \\\n",
       "Respondent                                                     ...                                            \n",
       "1           Taught yourself a new language, framework, or ...  ...  Just as welcome now as I felt last year   \n",
       "2           Taken an online course in programming or softw...  ...  Just as welcome now as I felt last year   \n",
       "\n",
       "                                                 SONewContent   Age Gender Trans                Sexuality Ethnicity Dependents  \\\n",
       "Respondent                                                                                                                       \n",
       "1           Tech articles written by other developers;Indu...  14.0    Man    No  Straight / Heterosexual       NaN         No   \n",
       "2           Tech articles written by other developers;Indu...  19.0    Man    No  Straight / Heterosexual       NaN         No   \n",
       "\n",
       "                     SurveyLength                  SurveyEase  \n",
       "Respondent                                                     \n",
       "1           Appropriate in length  Neither easy nor difficult  \n",
       "2           Appropriate in length  Neither easy nor difficult  \n",
       "\n",
       "[2 rows x 84 columns]"
      ]
     },
     "execution_count": 3,
     "metadata": {},
     "output_type": "execute_result"
    },
    {
     "data": {
      "application/javascript": "\n            setTimeout(function() {\n                var nbb_cell_id = 3;\n                var nbb_unformatted_code = \"df = pd.read_csv(\\\"./data/Stackoverflow/survey_results_public.csv\\\", index_col=\\\"Respondent\\\")\\n\\ndf.head(2)\";\n                var nbb_formatted_code = \"df = pd.read_csv(\\\"./data/Stackoverflow/survey_results_public.csv\\\", index_col=\\\"Respondent\\\")\\n\\ndf.head(2)\";\n                var nbb_cells = Jupyter.notebook.get_cells();\n                for (var i = 0; i < nbb_cells.length; ++i) {\n                    if (nbb_cells[i].input_prompt_number == nbb_cell_id) {\n                        if (nbb_cells[i].get_text() == nbb_unformatted_code) {\n                             nbb_cells[i].set_text(nbb_formatted_code);\n                        }\n                        break;\n                    }\n                }\n            }, 500);\n            ",
      "text/plain": [
       "<IPython.core.display.Javascript object>"
      ]
     },
     "metadata": {},
     "output_type": "display_data"
    }
   ],
   "source": [
    "df = pd.read_csv(\"./data/Stackoverflow/survey_results_public.csv\", index_col=\"Respondent\")\n",
    "\n",
    "df.head(2)"
   ]
  },
  {
   "cell_type": "markdown",
   "id": "a4591408",
   "metadata": {},
   "source": [
    "#### Load schema for the columns in _Stackoverflow_ data\n",
    "\n",
    "Every column name in the _Stackoverflow_ csv file has a row in _Schema_ csv file. _Schema_ csv has two columns namely `Column` and `QuestionText`. Column _Column_ is converted to index in _Schema_ `DataFrame`."
   ]
  },
  {
   "cell_type": "code",
   "execution_count": 4,
   "id": "92497d3c",
   "metadata": {},
   "outputs": [
    {
     "data": {
      "text/html": [
       "<div>\n",
       "<style scoped>\n",
       "    .dataframe tbody tr th:only-of-type {\n",
       "        vertical-align: middle;\n",
       "    }\n",
       "\n",
       "    .dataframe tbody tr th {\n",
       "        vertical-align: top;\n",
       "    }\n",
       "\n",
       "    .dataframe thead th {\n",
       "        text-align: right;\n",
       "    }\n",
       "</style>\n",
       "<table border=\"1\" class=\"dataframe\">\n",
       "  <thead>\n",
       "    <tr style=\"text-align: right;\">\n",
       "      <th></th>\n",
       "      <th>QuestionText</th>\n",
       "    </tr>\n",
       "    <tr>\n",
       "      <th>Column</th>\n",
       "      <th></th>\n",
       "    </tr>\n",
       "  </thead>\n",
       "  <tbody>\n",
       "    <tr>\n",
       "      <th>Respondent</th>\n",
       "      <td>Randomized respondent ID number (not in order ...</td>\n",
       "    </tr>\n",
       "    <tr>\n",
       "      <th>MainBranch</th>\n",
       "      <td>Which of the following options best describes ...</td>\n",
       "    </tr>\n",
       "    <tr>\n",
       "      <th>Hobbyist</th>\n",
       "      <td>Do you code as a hobby?</td>\n",
       "    </tr>\n",
       "  </tbody>\n",
       "</table>\n",
       "</div>"
      ],
      "text/plain": [
       "                                                 QuestionText\n",
       "Column                                                       \n",
       "Respondent  Randomized respondent ID number (not in order ...\n",
       "MainBranch  Which of the following options best describes ...\n",
       "Hobbyist                              Do you code as a hobby?"
      ]
     },
     "execution_count": 4,
     "metadata": {},
     "output_type": "execute_result"
    },
    {
     "data": {
      "application/javascript": "\n            setTimeout(function() {\n                var nbb_cell_id = 4;\n                var nbb_unformatted_code = \"# Load schema from csv file.\\nsdf = pd.read_csv(\\\"./data/Stackoverflow/survey_results_schema.csv\\\", index_col=\\\"Column\\\")\\n\\nsdf.head(3)\";\n                var nbb_formatted_code = \"# Load schema from csv file.\\nsdf = pd.read_csv(\\\"./data/Stackoverflow/survey_results_schema.csv\\\", index_col=\\\"Column\\\")\\n\\nsdf.head(3)\";\n                var nbb_cells = Jupyter.notebook.get_cells();\n                for (var i = 0; i < nbb_cells.length; ++i) {\n                    if (nbb_cells[i].input_prompt_number == nbb_cell_id) {\n                        if (nbb_cells[i].get_text() == nbb_unformatted_code) {\n                             nbb_cells[i].set_text(nbb_formatted_code);\n                        }\n                        break;\n                    }\n                }\n            }, 500);\n            ",
      "text/plain": [
       "<IPython.core.display.Javascript object>"
      ]
     },
     "metadata": {},
     "output_type": "display_data"
    }
   ],
   "source": [
    "# Load schema from csv file.\n",
    "sdf = pd.read_csv(\"./data/Stackoverflow/survey_results_schema.csv\", index_col=\"Column\")\n",
    "\n",
    "sdf.head(3)"
   ]
  },
  {
   "cell_type": "markdown",
   "id": "cc186a9a",
   "metadata": {},
   "source": [
    "Using _Schema_ `DataFrame` - `sdf` - to understand some of the columns in the _Stackoverflow_ `DataFrame`."
   ]
  },
  {
   "cell_type": "code",
   "execution_count": 5,
   "id": "c1b096fc",
   "metadata": {},
   "outputs": [
    {
     "data": {
      "text/plain": [
       "Index(['MainBranch', 'Hobbyist', 'OpenSourcer', 'OpenSource', 'Employment', 'Country', 'Student', 'EdLevel', 'UndergradMajor',\n",
       "       'EduOther', 'OrgSize', 'DevType', 'YearsCode', 'Age1stCode', 'YearsCodePro', 'CareerSat', 'JobSat', 'MgrIdiot',\n",
       "       'MgrMoney', 'MgrWant', 'JobSeek', 'LastHireDate', 'LastInt', 'FizzBuzz', 'JobFactors', 'ResumeUpdate', 'CurrencySymbol',\n",
       "       'CurrencyDesc', 'CompTotal', 'CompFreq', 'ConvertedComp', 'WorkWeekHrs', 'WorkPlan', 'WorkChallenge', 'WorkRemote',\n",
       "       'WorkLoc', 'ImpSyn', 'CodeRev', 'CodeRevHrs', 'UnitTests', 'PurchaseHow', 'PurchaseWhat', 'LanguageWorkedWith',\n",
       "       'LanguageDesireNextYear', 'DatabaseWorkedWith', 'DatabaseDesireNextYear', 'PlatformWorkedWith', 'PlatformDesireNextYear',\n",
       "       'WebFrameWorkedWith', 'WebFrameDesireNextYear', 'MiscTechWorkedWith', 'MiscTechDesireNextYear', 'DevEnviron', 'OpSys',\n",
       "       'Containers', 'BlockchainOrg', 'BlockchainIs', 'BetterLife', 'ITperson', 'OffOn', 'SocialMedia', 'Extraversion',\n",
       "       'ScreenName', 'SOVisit1st', 'SOVisitFreq', 'SOVisitTo', 'SOFindAnswer', 'SOTimeSaved', 'SOHowMuchTime', 'SOAccount',\n",
       "       'SOPartFreq', 'SOJobs', 'EntTeams', 'SOComm', 'WelcomeChange', 'SONewContent', 'Age', 'Gender', 'Trans', 'Sexuality',\n",
       "       'Ethnicity', 'Dependents', 'SurveyLength', 'SurveyEase'],\n",
       "      dtype='object')"
      ]
     },
     "execution_count": 5,
     "metadata": {},
     "output_type": "execute_result"
    },
    {
     "data": {
      "application/javascript": "\n            setTimeout(function() {\n                var nbb_cell_id = 5;\n                var nbb_unformatted_code = \"df.columns\";\n                var nbb_formatted_code = \"df.columns\";\n                var nbb_cells = Jupyter.notebook.get_cells();\n                for (var i = 0; i < nbb_cells.length; ++i) {\n                    if (nbb_cells[i].input_prompt_number == nbb_cell_id) {\n                        if (nbb_cells[i].get_text() == nbb_unformatted_code) {\n                             nbb_cells[i].set_text(nbb_formatted_code);\n                        }\n                        break;\n                    }\n                }\n            }, 500);\n            ",
      "text/plain": [
       "<IPython.core.display.Javascript object>"
      ]
     },
     "metadata": {},
     "output_type": "display_data"
    }
   ],
   "source": [
    "df.columns"
   ]
  },
  {
   "cell_type": "markdown",
   "id": "4e010e01",
   "metadata": {},
   "source": [
    "Lets check what does _MgrIdiot_ and _ImpSyn_ column names in _Stackoverflow_ `DataFrame` mean?"
   ]
  },
  {
   "cell_type": "code",
   "execution_count": 6,
   "id": "a8f90dcd",
   "metadata": {},
   "outputs": [
    {
     "name": "stdout",
     "output_type": "stream",
     "text": [
      "MgrIdiot :- How confident are you that your manager knows what they’re doing?\n",
      "ImpSyn :- For the specific work you do, and the years of experience you have, how do you rate your own level of competence?\n"
     ]
    },
    {
     "data": {
      "application/javascript": "\n            setTimeout(function() {\n                var nbb_cell_id = 6;\n                var nbb_unformatted_code = \"sdf.loc[[\\\"MgrIdiot\\\", \\\"ImpSyn\\\"], \\\"QuestionText\\\"]  # Also works but the `QuestionText` column is not displayed fully.\\n\\n# Instead print separately to fully display the text.\\nprint(\\\"MgrIdiot :-\\\", sdf.loc[\\\"MgrIdiot\\\", \\\"QuestionText\\\"])\\nprint(\\\"ImpSyn :-\\\", sdf.loc[\\\"ImpSyn\\\", \\\"QuestionText\\\"])\";\n                var nbb_formatted_code = \"sdf.loc[[\\\"MgrIdiot\\\", \\\"ImpSyn\\\"], \\\"QuestionText\\\"]  # Also works but the `QuestionText` column is not displayed fully.\\n\\n# Instead print separately to fully display the text.\\nprint(\\\"MgrIdiot :-\\\", sdf.loc[\\\"MgrIdiot\\\", \\\"QuestionText\\\"])\\nprint(\\\"ImpSyn :-\\\", sdf.loc[\\\"ImpSyn\\\", \\\"QuestionText\\\"])\";\n                var nbb_cells = Jupyter.notebook.get_cells();\n                for (var i = 0; i < nbb_cells.length; ++i) {\n                    if (nbb_cells[i].input_prompt_number == nbb_cell_id) {\n                        if (nbb_cells[i].get_text() == nbb_unformatted_code) {\n                             nbb_cells[i].set_text(nbb_formatted_code);\n                        }\n                        break;\n                    }\n                }\n            }, 500);\n            ",
      "text/plain": [
       "<IPython.core.display.Javascript object>"
      ]
     },
     "metadata": {},
     "output_type": "display_data"
    }
   ],
   "source": [
    "sdf.loc[[\"MgrIdiot\", \"ImpSyn\"], \"QuestionText\"]  # Also works but the `QuestionText` column is not displayed fully.\n",
    "\n",
    "# Instead print separately to fully display the text.\n",
    "print(\"MgrIdiot :-\", sdf.loc[\"MgrIdiot\", \"QuestionText\"])\n",
    "print(\"ImpSyn :-\", sdf.loc[\"ImpSyn\", \"QuestionText\"])"
   ]
  },
  {
   "cell_type": "markdown",
   "id": "b7c85c52",
   "metadata": {},
   "source": [
    "### Analyze performance of `iloc` and `loc` indexers\n",
    "\n",
    "#### Accessing data in `DataFrame` with and without `loc`? Which is faster?"
   ]
  },
  {
   "cell_type": "code",
   "execution_count": 7,
   "id": "3b0c9399",
   "metadata": {},
   "outputs": [
    {
     "name": "stdout",
     "output_type": "stream",
     "text": [
      "590 µs ± 3.7 µs per loop (mean ± std. dev. of 7 runs, 1000 loops each)\n",
      "936 µs ± 749 ns per loop (mean ± std. dev. of 7 runs, 1000 loops each)\n"
     ]
    },
    {
     "data": {
      "application/javascript": "\n            setTimeout(function() {\n                var nbb_cell_id = 7;\n                var nbb_unformatted_code = \"fltr = df[\\\"Hobbyist\\\"] == \\\"Yes\\\"\\n\\n%timeit df[\\\"Gender\\\"][fltr]\\n%timeit df.loc[fltr, \\\"Gender\\\"]\";\n                var nbb_formatted_code = \"fltr = df[\\\"Hobbyist\\\"] == \\\"Yes\\\"\\n\\n%timeit df[\\\"Gender\\\"][fltr]\\n%timeit df.loc[fltr, \\\"Gender\\\"]\";\n                var nbb_cells = Jupyter.notebook.get_cells();\n                for (var i = 0; i < nbb_cells.length; ++i) {\n                    if (nbb_cells[i].input_prompt_number == nbb_cell_id) {\n                        if (nbb_cells[i].get_text() == nbb_unformatted_code) {\n                             nbb_cells[i].set_text(nbb_formatted_code);\n                        }\n                        break;\n                    }\n                }\n            }, 500);\n            ",
      "text/plain": [
       "<IPython.core.display.Javascript object>"
      ]
     },
     "metadata": {},
     "output_type": "display_data"
    }
   ],
   "source": [
    "fltr = df[\"Hobbyist\"] == \"Yes\"\n",
    "\n",
    "%timeit df[\"Gender\"][fltr]\n",
    "%timeit df.loc[fltr, \"Gender\"]"
   ]
  },
  {
   "cell_type": "markdown",
   "id": "209be166",
   "metadata": {},
   "source": [
    "> Note: Values might differ in your system based on the system specification.\n",
    "\n",
    "1. It takes approximately **583 µs** to filter records **without `loc`**.\n",
    "2. It takes approximately **933 µs** to filter records **using `loc`**.\n",
    "\n",
    "**`loc` takes nearly double the amount of time to filter the records.**"
   ]
  },
  {
   "cell_type": "markdown",
   "id": "da1e145b",
   "metadata": {},
   "source": [
    "#### Accessing data in `DataFrame` with and without `iloc`? Which is faster?"
   ]
  },
  {
   "cell_type": "code",
   "execution_count": 8,
   "id": "328f92ba",
   "metadata": {
    "scrolled": false
   },
   "outputs": [
    {
     "name": "stdout",
     "output_type": "stream",
     "text": [
      "77th column is: Gender\n",
      "590 µs ± 641 ns per loop (mean ± std. dev. of 7 runs, 1000 loops each)\n",
      "900 µs ± 1.62 µs per loop (mean ± std. dev. of 7 runs, 1000 loops each)\n"
     ]
    },
    {
     "data": {
      "application/javascript": "\n            setTimeout(function() {\n                var nbb_cell_id = 8;\n                var nbb_unformatted_code = \"import numpy as np\\n\\nfltr = df[\\\"Hobbyist\\\"] == \\\"Yes\\\"\\n\\nprint(f\\\"77th column is:\\\", df.columns[77])\\n\\nfltd_idx = np.array(df[\\\"Gender\\\"][fltr].index) - 1\\n\\n%timeit df[\\\"Gender\\\"][fltr]\\n%timeit df.iloc[fltd_idx, 77]\";\n                var nbb_formatted_code = \"import numpy as np\\n\\nfltr = df[\\\"Hobbyist\\\"] == \\\"Yes\\\"\\n\\nprint(f\\\"77th column is:\\\", df.columns[77])\\n\\nfltd_idx = np.array(df[\\\"Gender\\\"][fltr].index) - 1\\n\\n%timeit df[\\\"Gender\\\"][fltr]\\n%timeit df.iloc[fltd_idx, 77]\";\n                var nbb_cells = Jupyter.notebook.get_cells();\n                for (var i = 0; i < nbb_cells.length; ++i) {\n                    if (nbb_cells[i].input_prompt_number == nbb_cell_id) {\n                        if (nbb_cells[i].get_text() == nbb_unformatted_code) {\n                             nbb_cells[i].set_text(nbb_formatted_code);\n                        }\n                        break;\n                    }\n                }\n            }, 500);\n            ",
      "text/plain": [
       "<IPython.core.display.Javascript object>"
      ]
     },
     "metadata": {},
     "output_type": "display_data"
    }
   ],
   "source": [
    "import numpy as np\n",
    "\n",
    "fltr = df[\"Hobbyist\"] == \"Yes\"\n",
    "\n",
    "print(f\"77th column is:\", df.columns[77])\n",
    "\n",
    "fltd_idx = np.array(df[\"Gender\"][fltr].index) - 1\n",
    "\n",
    "%timeit df[\"Gender\"][fltr]\n",
    "%timeit df.iloc[fltd_idx, 77]"
   ]
  },
  {
   "cell_type": "markdown",
   "id": "c4a572df",
   "metadata": {},
   "source": [
    "> Note: Values might differ in your system based on the system specification.\n",
    "\n",
    "1. It takes approximately **584 µs** to filter records **without `iloc`**.\n",
    "2. It takes approximately **901 µs** to filter records **using `iloc`**.\n",
    "\n",
    "**`iloc` takes nearly double the amount of time to filter the records.**"
   ]
  },
  {
   "cell_type": "markdown",
   "id": "6950e491",
   "metadata": {},
   "source": [
    "## Applying Filters on Real-world dataset\n",
    "\n",
    "Respondents b/w the age of 5 and 14 who's hobby is codding."
   ]
  },
  {
   "cell_type": "code",
   "execution_count": 9,
   "id": "45278e31",
   "metadata": {},
   "outputs": [
    {
     "data": {
      "text/html": [
       "<div>\n",
       "<style scoped>\n",
       "    .dataframe tbody tr th:only-of-type {\n",
       "        vertical-align: middle;\n",
       "    }\n",
       "\n",
       "    .dataframe tbody tr th {\n",
       "        vertical-align: top;\n",
       "    }\n",
       "\n",
       "    .dataframe thead th {\n",
       "        text-align: right;\n",
       "    }\n",
       "</style>\n",
       "<table border=\"1\" class=\"dataframe\">\n",
       "  <thead>\n",
       "    <tr style=\"text-align: right;\">\n",
       "      <th></th>\n",
       "      <th>Country</th>\n",
       "      <th>Age</th>\n",
       "    </tr>\n",
       "    <tr>\n",
       "      <th>Respondent</th>\n",
       "      <th></th>\n",
       "      <th></th>\n",
       "    </tr>\n",
       "  </thead>\n",
       "  <tbody>\n",
       "    <tr>\n",
       "      <th>204</th>\n",
       "      <td>China</td>\n",
       "      <td>12.0</td>\n",
       "    </tr>\n",
       "    <tr>\n",
       "      <th>673</th>\n",
       "      <td>Turkey</td>\n",
       "      <td>13.0</td>\n",
       "    </tr>\n",
       "    <tr>\n",
       "      <th>2517</th>\n",
       "      <td>Bosnia and Herzegovina</td>\n",
       "      <td>12.0</td>\n",
       "    </tr>\n",
       "    <tr>\n",
       "      <th>3089</th>\n",
       "      <td>France</td>\n",
       "      <td>12.0</td>\n",
       "    </tr>\n",
       "    <tr>\n",
       "      <th>3306</th>\n",
       "      <td>United States</td>\n",
       "      <td>12.0</td>\n",
       "    </tr>\n",
       "    <tr>\n",
       "      <th>...</th>\n",
       "      <td>...</td>\n",
       "      <td>...</td>\n",
       "    </tr>\n",
       "    <tr>\n",
       "      <th>88201</th>\n",
       "      <td>United States</td>\n",
       "      <td>12.0</td>\n",
       "    </tr>\n",
       "    <tr>\n",
       "      <th>88450</th>\n",
       "      <td>Spain</td>\n",
       "      <td>13.0</td>\n",
       "    </tr>\n",
       "    <tr>\n",
       "      <th>88621</th>\n",
       "      <td>Canada</td>\n",
       "      <td>12.0</td>\n",
       "    </tr>\n",
       "    <tr>\n",
       "      <th>14724</th>\n",
       "      <td>United Kingdom</td>\n",
       "      <td>12.0</td>\n",
       "    </tr>\n",
       "    <tr>\n",
       "      <th>43897</th>\n",
       "      <td>Denmark</td>\n",
       "      <td>13.0</td>\n",
       "    </tr>\n",
       "  </tbody>\n",
       "</table>\n",
       "<p>201 rows × 2 columns</p>\n",
       "</div>"
      ],
      "text/plain": [
       "                           Country   Age\n",
       "Respondent                              \n",
       "204                          China  12.0\n",
       "673                         Turkey  13.0\n",
       "2517        Bosnia and Herzegovina  12.0\n",
       "3089                        France  12.0\n",
       "3306                 United States  12.0\n",
       "...                            ...   ...\n",
       "88201                United States  12.0\n",
       "88450                        Spain  13.0\n",
       "88621                       Canada  12.0\n",
       "14724               United Kingdom  12.0\n",
       "43897                      Denmark  13.0\n",
       "\n",
       "[201 rows x 2 columns]"
      ]
     },
     "execution_count": 9,
     "metadata": {},
     "output_type": "execute_result"
    },
    {
     "data": {
      "application/javascript": "\n            setTimeout(function() {\n                var nbb_cell_id = 9;\n                var nbb_unformatted_code = \"fltr = (df[\\\"Hobbyist\\\"] == \\\"Yes\\\") & (df[\\\"Age\\\"] > 5) & (df[\\\"Age\\\"] < 14)\\ndf.loc[fltr, [\\\"Country\\\", \\\"Age\\\"]]\";\n                var nbb_formatted_code = \"fltr = (df[\\\"Hobbyist\\\"] == \\\"Yes\\\") & (df[\\\"Age\\\"] > 5) & (df[\\\"Age\\\"] < 14)\\ndf.loc[fltr, [\\\"Country\\\", \\\"Age\\\"]]\";\n                var nbb_cells = Jupyter.notebook.get_cells();\n                for (var i = 0; i < nbb_cells.length; ++i) {\n                    if (nbb_cells[i].input_prompt_number == nbb_cell_id) {\n                        if (nbb_cells[i].get_text() == nbb_unformatted_code) {\n                             nbb_cells[i].set_text(nbb_formatted_code);\n                        }\n                        break;\n                    }\n                }\n            }, 500);\n            ",
      "text/plain": [
       "<IPython.core.display.Javascript object>"
      ]
     },
     "metadata": {},
     "output_type": "display_data"
    }
   ],
   "source": [
    "fltr = (df[\"Hobbyist\"] == \"Yes\") & (df[\"Age\"] > 5) & (df[\"Age\"] < 14)\n",
    "df.loc[fltr, [\"Country\", \"Age\"]]"
   ]
  },
  {
   "cell_type": "code",
   "execution_count": 10,
   "id": "911d7bbb",
   "metadata": {},
   "outputs": [
    {
     "data": {
      "text/html": [
       "<div>\n",
       "<style scoped>\n",
       "    .dataframe tbody tr th:only-of-type {\n",
       "        vertical-align: middle;\n",
       "    }\n",
       "\n",
       "    .dataframe tbody tr th {\n",
       "        vertical-align: top;\n",
       "    }\n",
       "\n",
       "    .dataframe thead th {\n",
       "        text-align: right;\n",
       "    }\n",
       "</style>\n",
       "<table border=\"1\" class=\"dataframe\">\n",
       "  <thead>\n",
       "    <tr style=\"text-align: right;\">\n",
       "      <th></th>\n",
       "      <th>Hobbyist</th>\n",
       "      <th>OpenSourcer</th>\n",
       "    </tr>\n",
       "    <tr>\n",
       "      <th>Respondent</th>\n",
       "      <th></th>\n",
       "      <th></th>\n",
       "    </tr>\n",
       "  </thead>\n",
       "  <tbody>\n",
       "    <tr>\n",
       "      <th>1</th>\n",
       "      <td>Yes</td>\n",
       "      <td>Never</td>\n",
       "    </tr>\n",
       "    <tr>\n",
       "      <th>2</th>\n",
       "      <td>No</td>\n",
       "      <td>Less than once per year</td>\n",
       "    </tr>\n",
       "    <tr>\n",
       "      <th>3</th>\n",
       "      <td>Yes</td>\n",
       "      <td>Never</td>\n",
       "    </tr>\n",
       "    <tr>\n",
       "      <th>5</th>\n",
       "      <td>Yes</td>\n",
       "      <td>Once a month or more often</td>\n",
       "    </tr>\n",
       "    <tr>\n",
       "      <th>6</th>\n",
       "      <td>Yes</td>\n",
       "      <td>Never</td>\n",
       "    </tr>\n",
       "    <tr>\n",
       "      <th>...</th>\n",
       "      <td>...</td>\n",
       "      <td>...</td>\n",
       "    </tr>\n",
       "    <tr>\n",
       "      <th>88182</th>\n",
       "      <td>Yes</td>\n",
       "      <td>Once a month or more often</td>\n",
       "    </tr>\n",
       "    <tr>\n",
       "      <th>88212</th>\n",
       "      <td>No</td>\n",
       "      <td>Less than once per year</td>\n",
       "    </tr>\n",
       "    <tr>\n",
       "      <th>88282</th>\n",
       "      <td>Yes</td>\n",
       "      <td>Once a month or more often</td>\n",
       "    </tr>\n",
       "    <tr>\n",
       "      <th>88377</th>\n",
       "      <td>Yes</td>\n",
       "      <td>Less than once a month but more than once per ...</td>\n",
       "    </tr>\n",
       "    <tr>\n",
       "      <th>88863</th>\n",
       "      <td>Yes</td>\n",
       "      <td>Less than once per year</td>\n",
       "    </tr>\n",
       "  </tbody>\n",
       "</table>\n",
       "<p>79319 rows × 2 columns</p>\n",
       "</div>"
      ],
      "text/plain": [
       "           Hobbyist                                        OpenSourcer\n",
       "Respondent                                                            \n",
       "1               Yes                                              Never\n",
       "2                No                            Less than once per year\n",
       "3               Yes                                              Never\n",
       "5               Yes                         Once a month or more often\n",
       "6               Yes                                              Never\n",
       "...             ...                                                ...\n",
       "88182           Yes                         Once a month or more often\n",
       "88212            No                            Less than once per year\n",
       "88282           Yes                         Once a month or more often\n",
       "88377           Yes  Less than once a month but more than once per ...\n",
       "88863           Yes                            Less than once per year\n",
       "\n",
       "[79319 rows x 2 columns]"
      ]
     },
     "execution_count": 10,
     "metadata": {},
     "output_type": "execute_result"
    },
    {
     "data": {
      "application/javascript": "\n            setTimeout(function() {\n                var nbb_cell_id = 10;\n                var nbb_unformatted_code = \"fltr = (df[\\\"Hobbyist\\\"] == \\\"Yes\\\") | (df[\\\"OpenSourcer\\\"] != \\\"Never\\\")\\ndf.loc[fltr, [\\\"Hobbyist\\\", \\\"OpenSourcer\\\"]]\";\n                var nbb_formatted_code = \"fltr = (df[\\\"Hobbyist\\\"] == \\\"Yes\\\") | (df[\\\"OpenSourcer\\\"] != \\\"Never\\\")\\ndf.loc[fltr, [\\\"Hobbyist\\\", \\\"OpenSourcer\\\"]]\";\n                var nbb_cells = Jupyter.notebook.get_cells();\n                for (var i = 0; i < nbb_cells.length; ++i) {\n                    if (nbb_cells[i].input_prompt_number == nbb_cell_id) {\n                        if (nbb_cells[i].get_text() == nbb_unformatted_code) {\n                             nbb_cells[i].set_text(nbb_formatted_code);\n                        }\n                        break;\n                    }\n                }\n            }, 500);\n            ",
      "text/plain": [
       "<IPython.core.display.Javascript object>"
      ]
     },
     "metadata": {},
     "output_type": "display_data"
    }
   ],
   "source": [
    "fltr = (df[\"Hobbyist\"] == \"Yes\") | (df[\"OpenSourcer\"] != \"Never\")\n",
    "df.loc[fltr, [\"Hobbyist\", \"OpenSourcer\"]]"
   ]
  },
  {
   "cell_type": "markdown",
   "id": "2a85d2fa",
   "metadata": {},
   "source": [
    "Get highest salary reported by a respondent. Group the results by country."
   ]
  },
  {
   "cell_type": "code",
   "execution_count": 11,
   "id": "f0eb0b48",
   "metadata": {},
   "outputs": [
    {
     "data": {
      "text/plain": [
       "United States     698\n",
       "India               3\n",
       "Canada              1\n",
       "Switzerland         1\n",
       "Peru                1\n",
       "Singapore           1\n",
       "Mexico              1\n",
       "Netherlands         1\n",
       "United Kingdom      1\n",
       "Germany             1\n",
       "Name: Country, dtype: int64"
      ]
     },
     "execution_count": 11,
     "metadata": {},
     "output_type": "execute_result"
    },
    {
     "data": {
      "application/javascript": "\n            setTimeout(function() {\n                var nbb_cell_id = 11;\n                var nbb_unformatted_code = \"max_sal = df[\\\"ConvertedComp\\\"].max()\\nfltr = df[\\\"ConvertedComp\\\"] == max_sal\\n\\ndf.loc[fltr, \\\"Country\\\"].value_counts()\";\n                var nbb_formatted_code = \"max_sal = df[\\\"ConvertedComp\\\"].max()\\nfltr = df[\\\"ConvertedComp\\\"] == max_sal\\n\\ndf.loc[fltr, \\\"Country\\\"].value_counts()\";\n                var nbb_cells = Jupyter.notebook.get_cells();\n                for (var i = 0; i < nbb_cells.length; ++i) {\n                    if (nbb_cells[i].input_prompt_number == nbb_cell_id) {\n                        if (nbb_cells[i].get_text() == nbb_unformatted_code) {\n                             nbb_cells[i].set_text(nbb_formatted_code);\n                        }\n                        break;\n                    }\n                }\n            }, 500);\n            ",
      "text/plain": [
       "<IPython.core.display.Javascript object>"
      ]
     },
     "metadata": {},
     "output_type": "display_data"
    }
   ],
   "source": [
    "max_sal = df[\"ConvertedComp\"].max()\n",
    "fltr = df[\"ConvertedComp\"] == max_sal\n",
    "\n",
    "df.loc[fltr, \"Country\"].value_counts()"
   ]
  },
  {
   "cell_type": "code",
   "execution_count": 12,
   "id": "e7891559",
   "metadata": {},
   "outputs": [
    {
     "data": {
      "text/html": [
       "<div>\n",
       "<style scoped>\n",
       "    .dataframe tbody tr th:only-of-type {\n",
       "        vertical-align: middle;\n",
       "    }\n",
       "\n",
       "    .dataframe tbody tr th {\n",
       "        vertical-align: top;\n",
       "    }\n",
       "\n",
       "    .dataframe thead th {\n",
       "        text-align: right;\n",
       "    }\n",
       "</style>\n",
       "<table border=\"1\" class=\"dataframe\">\n",
       "  <thead>\n",
       "    <tr style=\"text-align: right;\">\n",
       "      <th></th>\n",
       "      <th>Country</th>\n",
       "      <th>LanguageWorkedWith</th>\n",
       "      <th>ConvertedComp</th>\n",
       "    </tr>\n",
       "    <tr>\n",
       "      <th>Respondent</th>\n",
       "      <th></th>\n",
       "      <th></th>\n",
       "      <th></th>\n",
       "    </tr>\n",
       "  </thead>\n",
       "  <tbody>\n",
       "    <tr>\n",
       "      <th>6</th>\n",
       "      <td>Canada</td>\n",
       "      <td>Java;R;SQL</td>\n",
       "      <td>366420.0</td>\n",
       "    </tr>\n",
       "    <tr>\n",
       "      <th>9</th>\n",
       "      <td>New Zealand</td>\n",
       "      <td>Bash/Shell/PowerShell;C#;HTML/CSS;JavaScript;P...</td>\n",
       "      <td>95179.0</td>\n",
       "    </tr>\n",
       "    <tr>\n",
       "      <th>13</th>\n",
       "      <td>United States</td>\n",
       "      <td>Bash/Shell/PowerShell;HTML/CSS;JavaScript;PHP;...</td>\n",
       "      <td>90000.0</td>\n",
       "    </tr>\n",
       "    <tr>\n",
       "      <th>16</th>\n",
       "      <td>United Kingdom</td>\n",
       "      <td>Bash/Shell/PowerShell;C#;HTML/CSS;JavaScript;T...</td>\n",
       "      <td>455352.0</td>\n",
       "    </tr>\n",
       "    <tr>\n",
       "      <th>22</th>\n",
       "      <td>United States</td>\n",
       "      <td>Bash/Shell/PowerShell;C++;HTML/CSS;JavaScript;...</td>\n",
       "      <td>103000.0</td>\n",
       "    </tr>\n",
       "    <tr>\n",
       "      <th>...</th>\n",
       "      <td>...</td>\n",
       "      <td>...</td>\n",
       "      <td>...</td>\n",
       "    </tr>\n",
       "    <tr>\n",
       "      <th>88876</th>\n",
       "      <td>United States</td>\n",
       "      <td>Bash/Shell/PowerShell;C#;HTML/CSS;Java;Python;...</td>\n",
       "      <td>180000.0</td>\n",
       "    </tr>\n",
       "    <tr>\n",
       "      <th>88877</th>\n",
       "      <td>United States</td>\n",
       "      <td>Bash/Shell/PowerShell;C;Clojure;HTML/CSS;Java;...</td>\n",
       "      <td>2000000.0</td>\n",
       "    </tr>\n",
       "    <tr>\n",
       "      <th>88878</th>\n",
       "      <td>United States</td>\n",
       "      <td>HTML/CSS;JavaScript;Scala;TypeScript</td>\n",
       "      <td>130000.0</td>\n",
       "    </tr>\n",
       "    <tr>\n",
       "      <th>88879</th>\n",
       "      <td>Finland</td>\n",
       "      <td>Bash/Shell/PowerShell;C++;Python</td>\n",
       "      <td>82488.0</td>\n",
       "    </tr>\n",
       "    <tr>\n",
       "      <th>88882</th>\n",
       "      <td>Netherlands</td>\n",
       "      <td>C#;HTML/CSS;Java;JavaScript;PHP;Python</td>\n",
       "      <td>588012.0</td>\n",
       "    </tr>\n",
       "  </tbody>\n",
       "</table>\n",
       "<p>22289 rows × 3 columns</p>\n",
       "</div>"
      ],
      "text/plain": [
       "                   Country                                 LanguageWorkedWith  ConvertedComp\n",
       "Respondent                                                                                  \n",
       "6                   Canada                                         Java;R;SQL       366420.0\n",
       "9              New Zealand  Bash/Shell/PowerShell;C#;HTML/CSS;JavaScript;P...        95179.0\n",
       "13           United States  Bash/Shell/PowerShell;HTML/CSS;JavaScript;PHP;...        90000.0\n",
       "16          United Kingdom  Bash/Shell/PowerShell;C#;HTML/CSS;JavaScript;T...       455352.0\n",
       "22           United States  Bash/Shell/PowerShell;C++;HTML/CSS;JavaScript;...       103000.0\n",
       "...                    ...                                                ...            ...\n",
       "88876        United States  Bash/Shell/PowerShell;C#;HTML/CSS;Java;Python;...       180000.0\n",
       "88877        United States  Bash/Shell/PowerShell;C;Clojure;HTML/CSS;Java;...      2000000.0\n",
       "88878        United States               HTML/CSS;JavaScript;Scala;TypeScript       130000.0\n",
       "88879              Finland                   Bash/Shell/PowerShell;C++;Python        82488.0\n",
       "88882          Netherlands             C#;HTML/CSS;Java;JavaScript;PHP;Python       588012.0\n",
       "\n",
       "[22289 rows x 3 columns]"
      ]
     },
     "execution_count": 12,
     "metadata": {},
     "output_type": "execute_result"
    },
    {
     "data": {
      "application/javascript": "\n            setTimeout(function() {\n                var nbb_cell_id = 12;\n                var nbb_unformatted_code = \"high_salary = df[\\\"ConvertedComp\\\"] > 70000\\ndf.loc[high_salary, [\\\"Country\\\", \\\"LanguageWorkedWith\\\", \\\"ConvertedComp\\\"]]\";\n                var nbb_formatted_code = \"high_salary = df[\\\"ConvertedComp\\\"] > 70000\\ndf.loc[high_salary, [\\\"Country\\\", \\\"LanguageWorkedWith\\\", \\\"ConvertedComp\\\"]]\";\n                var nbb_cells = Jupyter.notebook.get_cells();\n                for (var i = 0; i < nbb_cells.length; ++i) {\n                    if (nbb_cells[i].input_prompt_number == nbb_cell_id) {\n                        if (nbb_cells[i].get_text() == nbb_unformatted_code) {\n                             nbb_cells[i].set_text(nbb_formatted_code);\n                        }\n                        break;\n                    }\n                }\n            }, 500);\n            ",
      "text/plain": [
       "<IPython.core.display.Javascript object>"
      ]
     },
     "metadata": {},
     "output_type": "display_data"
    }
   ],
   "source": [
    "high_salary = df[\"ConvertedComp\"] > 70000\n",
    "df.loc[high_salary, [\"Country\", \"LanguageWorkedWith\", \"ConvertedComp\"]]"
   ]
  },
  {
   "cell_type": "markdown",
   "id": "8aa40442",
   "metadata": {},
   "source": [
    "### `isin()` \n",
    "\n",
    "Similar to MySQL `IN` (or MongoDB `$in`) operator."
   ]
  },
  {
   "cell_type": "code",
   "execution_count": 13,
   "id": "89806ecf",
   "metadata": {},
   "outputs": [
    {
     "data": {
      "text/plain": [
       "United States     20949\n",
       "India              9061\n",
       "Germany            5866\n",
       "United Kingdom     5737\n",
       "Canada             3395\n",
       "Name: Country, dtype: int64"
      ]
     },
     "execution_count": 13,
     "metadata": {},
     "output_type": "execute_result"
    },
    {
     "data": {
      "application/javascript": "\n            setTimeout(function() {\n                var nbb_cell_id = 13;\n                var nbb_unformatted_code = \"countries = [\\\"United States\\\", \\\"India\\\", \\\"United Kingdom\\\", \\\"Germany\\\", \\\"Canada\\\"]\\nfltr = df[\\\"Country\\\"].isin(countries)\\n\\ndf.loc[fltr, \\\"Country\\\"].value_counts()\";\n                var nbb_formatted_code = \"countries = [\\\"United States\\\", \\\"India\\\", \\\"United Kingdom\\\", \\\"Germany\\\", \\\"Canada\\\"]\\nfltr = df[\\\"Country\\\"].isin(countries)\\n\\ndf.loc[fltr, \\\"Country\\\"].value_counts()\";\n                var nbb_cells = Jupyter.notebook.get_cells();\n                for (var i = 0; i < nbb_cells.length; ++i) {\n                    if (nbb_cells[i].input_prompt_number == nbb_cell_id) {\n                        if (nbb_cells[i].get_text() == nbb_unformatted_code) {\n                             nbb_cells[i].set_text(nbb_formatted_code);\n                        }\n                        break;\n                    }\n                }\n            }, 500);\n            ",
      "text/plain": [
       "<IPython.core.display.Javascript object>"
      ]
     },
     "metadata": {},
     "output_type": "display_data"
    }
   ],
   "source": [
    "countries = [\"United States\", \"India\", \"United Kingdom\", \"Germany\", \"Canada\"]\n",
    "fltr = df[\"Country\"].isin(countries)\n",
    "\n",
    "df.loc[fltr, \"Country\"].value_counts()"
   ]
  },
  {
   "cell_type": "markdown",
   "id": "9f944105",
   "metadata": {},
   "source": [
    "#### String methods for filtering\n",
    "\n",
    "For example, Get the count of respondents who code in _Python_ programing language by profession.\n",
    "\n",
    "1. Column `MainBranch` describes the profession of respondents."
   ]
  },
  {
   "cell_type": "code",
   "execution_count": 14,
   "id": "2360ece0",
   "metadata": {},
   "outputs": [
    {
     "data": {
      "text/plain": [
       "'Which of the following options best describes you today? Here, by \"developer\" we mean \"someone who writes code.\"'"
      ]
     },
     "execution_count": 14,
     "metadata": {},
     "output_type": "execute_result"
    },
    {
     "data": {
      "application/javascript": "\n            setTimeout(function() {\n                var nbb_cell_id = 14;\n                var nbb_unformatted_code = \"sdf.loc[\\\"MainBranch\\\", \\\"QuestionText\\\"]\";\n                var nbb_formatted_code = \"sdf.loc[\\\"MainBranch\\\", \\\"QuestionText\\\"]\";\n                var nbb_cells = Jupyter.notebook.get_cells();\n                for (var i = 0; i < nbb_cells.length; ++i) {\n                    if (nbb_cells[i].input_prompt_number == nbb_cell_id) {\n                        if (nbb_cells[i].get_text() == nbb_unformatted_code) {\n                             nbb_cells[i].set_text(nbb_formatted_code);\n                        }\n                        break;\n                    }\n                }\n            }, 500);\n            ",
      "text/plain": [
       "<IPython.core.display.Javascript object>"
      ]
     },
     "metadata": {},
     "output_type": "display_data"
    }
   ],
   "source": [
    "sdf.loc[\"MainBranch\", \"QuestionText\"]"
   ]
  },
  {
   "cell_type": "markdown",
   "id": "9aa8f8a5",
   "metadata": {},
   "source": [
    "2. Column `LanguageWorkedWith` describes which all programing languages are known to a respondent."
   ]
  },
  {
   "cell_type": "code",
   "execution_count": 15,
   "id": "5758c38f",
   "metadata": {},
   "outputs": [
    {
     "data": {
      "text/plain": [
       "'Which of the following programming, scripting, and markup languages have you done extensive development work in over the past year, and which do you want to work in over the next year?  (If you both worked with the language and want to continue to do so, please check both boxes in that row.)'"
      ]
     },
     "execution_count": 15,
     "metadata": {},
     "output_type": "execute_result"
    },
    {
     "data": {
      "application/javascript": "\n            setTimeout(function() {\n                var nbb_cell_id = 15;\n                var nbb_unformatted_code = \"sdf.loc[\\\"LanguageWorkedWith\\\", \\\"QuestionText\\\"]\";\n                var nbb_formatted_code = \"sdf.loc[\\\"LanguageWorkedWith\\\", \\\"QuestionText\\\"]\";\n                var nbb_cells = Jupyter.notebook.get_cells();\n                for (var i = 0; i < nbb_cells.length; ++i) {\n                    if (nbb_cells[i].input_prompt_number == nbb_cell_id) {\n                        if (nbb_cells[i].get_text() == nbb_unformatted_code) {\n                             nbb_cells[i].set_text(nbb_formatted_code);\n                        }\n                        break;\n                    }\n                }\n            }, 500);\n            ",
      "text/plain": [
       "<IPython.core.display.Javascript object>"
      ]
     },
     "metadata": {},
     "output_type": "display_data"
    }
   ],
   "source": [
    "sdf.loc[\"LanguageWorkedWith\", \"QuestionText\"]"
   ]
  },
  {
   "cell_type": "markdown",
   "id": "9a220b21",
   "metadata": {},
   "source": [
    "3. Filter to check if string data in `LanguageWorkedWith` column contains word `Python` in it."
   ]
  },
  {
   "cell_type": "code",
   "execution_count": 16,
   "id": "8945142e",
   "metadata": {},
   "outputs": [
    {
     "data": {
      "application/javascript": "\n            setTimeout(function() {\n                var nbb_cell_id = 16;\n                var nbb_unformatted_code = \"fltr = df[\\\"LanguageWorkedWith\\\"].str.contains(\\\"Python\\\", na=False)\";\n                var nbb_formatted_code = \"fltr = df[\\\"LanguageWorkedWith\\\"].str.contains(\\\"Python\\\", na=False)\";\n                var nbb_cells = Jupyter.notebook.get_cells();\n                for (var i = 0; i < nbb_cells.length; ++i) {\n                    if (nbb_cells[i].input_prompt_number == nbb_cell_id) {\n                        if (nbb_cells[i].get_text() == nbb_unformatted_code) {\n                             nbb_cells[i].set_text(nbb_formatted_code);\n                        }\n                        break;\n                    }\n                }\n            }, 500);\n            ",
      "text/plain": [
       "<IPython.core.display.Javascript object>"
      ]
     },
     "metadata": {},
     "output_type": "display_data"
    }
   ],
   "source": [
    "fltr = df[\"LanguageWorkedWith\"].str.contains(\"Python\", na=False)"
   ]
  },
  {
   "cell_type": "markdown",
   "id": "3fb7460e",
   "metadata": {},
   "source": [
    "4. Apply filter and group the results to fetch count."
   ]
  },
  {
   "cell_type": "code",
   "execution_count": 17,
   "id": "e606f9e9",
   "metadata": {},
   "outputs": [
    {
     "data": {
      "text/plain": [
       "I am a developer by profession                                                   24285\n",
       "I am a student who is learning to code                                            5374\n",
       "I am not primarily a developer, but I write code sometimes as part of my work     4300\n",
       "I code primarily as a hobby                                                       1716\n",
       "I used to be a developer by profession, but no longer am                           627\n",
       "Name: MainBranch, dtype: int64"
      ]
     },
     "execution_count": 17,
     "metadata": {},
     "output_type": "execute_result"
    },
    {
     "data": {
      "application/javascript": "\n            setTimeout(function() {\n                var nbb_cell_id = 17;\n                var nbb_unformatted_code = \"df.loc[fltr, \\\"MainBranch\\\"].value_counts()\";\n                var nbb_formatted_code = \"df.loc[fltr, \\\"MainBranch\\\"].value_counts()\";\n                var nbb_cells = Jupyter.notebook.get_cells();\n                for (var i = 0; i < nbb_cells.length; ++i) {\n                    if (nbb_cells[i].input_prompt_number == nbb_cell_id) {\n                        if (nbb_cells[i].get_text() == nbb_unformatted_code) {\n                             nbb_cells[i].set_text(nbb_formatted_code);\n                        }\n                        break;\n                    }\n                }\n            }, 500);\n            ",
      "text/plain": [
       "<IPython.core.display.Javascript object>"
      ]
     },
     "metadata": {},
     "output_type": "display_data"
    }
   ],
   "source": [
    "df.loc[fltr, \"MainBranch\"].value_counts()"
   ]
  },
  {
   "cell_type": "markdown",
   "id": "2d25a5c6",
   "metadata": {},
   "source": [
    "So **24285** respondents code in Python."
   ]
  },
  {
   "cell_type": "code",
   "execution_count": 18,
   "id": "097fb95c",
   "metadata": {},
   "outputs": [
    {
     "data": {
      "text/plain": [
       "27.322435111326126"
      ]
     },
     "execution_count": 18,
     "metadata": {},
     "output_type": "execute_result"
    },
    {
     "data": {
      "application/javascript": "\n            setTimeout(function() {\n                var nbb_cell_id = 18;\n                var nbb_unformatted_code = \"row_count, col_count = df.shape\\n24285 / row_count * 100\";\n                var nbb_formatted_code = \"row_count, col_count = df.shape\\n24285 / row_count * 100\";\n                var nbb_cells = Jupyter.notebook.get_cells();\n                for (var i = 0; i < nbb_cells.length; ++i) {\n                    if (nbb_cells[i].input_prompt_number == nbb_cell_id) {\n                        if (nbb_cells[i].get_text() == nbb_unformatted_code) {\n                             nbb_cells[i].set_text(nbb_formatted_code);\n                        }\n                        break;\n                    }\n                }\n            }, 500);\n            ",
      "text/plain": [
       "<IPython.core.display.Javascript object>"
      ]
     },
     "metadata": {},
     "output_type": "display_data"
    }
   ],
   "source": [
    "row_count, col_count = df.shape\n",
    "24285 / row_count * 100"
   ]
  },
  {
   "cell_type": "markdown",
   "id": "f08e6438",
   "metadata": {},
   "source": [
    "So **27%** of respondents are _Python_ developers"
   ]
  },
  {
   "cell_type": "markdown",
   "id": "8d61d0a4",
   "metadata": {},
   "source": [
    "### Alter `DataFrame`\n",
    "\n",
    "#### Rename column _ConvertedComp_ to _SlaryUSD_"
   ]
  },
  {
   "cell_type": "code",
   "execution_count": 19,
   "id": "c63f4d7c",
   "metadata": {},
   "outputs": [
    {
     "data": {
      "text/plain": [
       "'Salary converted to annual USD salaries using the exchange rate on 2019-02-01, assuming 12 working months and 50 working weeks.'"
      ]
     },
     "execution_count": 19,
     "metadata": {},
     "output_type": "execute_result"
    },
    {
     "data": {
      "application/javascript": "\n            setTimeout(function() {\n                var nbb_cell_id = 19;\n                var nbb_unformatted_code = \"sdf.loc[\\\"ConvertedComp\\\", \\\"QuestionText\\\"]\";\n                var nbb_formatted_code = \"sdf.loc[\\\"ConvertedComp\\\", \\\"QuestionText\\\"]\";\n                var nbb_cells = Jupyter.notebook.get_cells();\n                for (var i = 0; i < nbb_cells.length; ++i) {\n                    if (nbb_cells[i].input_prompt_number == nbb_cell_id) {\n                        if (nbb_cells[i].get_text() == nbb_unformatted_code) {\n                             nbb_cells[i].set_text(nbb_formatted_code);\n                        }\n                        break;\n                    }\n                }\n            }, 500);\n            ",
      "text/plain": [
       "<IPython.core.display.Javascript object>"
      ]
     },
     "metadata": {},
     "output_type": "display_data"
    }
   ],
   "source": [
    "sdf.loc[\"ConvertedComp\", \"QuestionText\"]"
   ]
  },
  {
   "cell_type": "markdown",
   "id": "08af192d",
   "metadata": {},
   "source": [
    "Since column _ConvertedComp_ contains salaries of respondents converted to US Dollars, column name _SalaryUSD_ is more meaning full."
   ]
  },
  {
   "cell_type": "code",
   "execution_count": 20,
   "id": "1f9720de",
   "metadata": {},
   "outputs": [
    {
     "data": {
      "text/plain": [
       "Index(['MainBranch', 'Hobbyist', 'OpenSourcer', 'OpenSource', 'Employment', 'Country', 'Student', 'EdLevel', 'UndergradMajor',\n",
       "       'EduOther', 'OrgSize', 'DevType', 'YearsCode', 'Age1stCode', 'YearsCodePro', 'CareerSat', 'JobSat', 'MgrIdiot',\n",
       "       'MgrMoney', 'MgrWant', 'JobSeek', 'LastHireDate', 'LastInt', 'FizzBuzz', 'JobFactors', 'ResumeUpdate', 'CurrencySymbol',\n",
       "       'CurrencyDesc', 'CompTotal', 'CompFreq', 'SalaryUSD', 'WorkWeekHrs', 'WorkPlan', 'WorkChallenge', 'WorkRemote', 'WorkLoc',\n",
       "       'ImpSyn', 'CodeRev', 'CodeRevHrs', 'UnitTests', 'PurchaseHow', 'PurchaseWhat', 'LanguageWorkedWith',\n",
       "       'LanguageDesireNextYear', 'DatabaseWorkedWith', 'DatabaseDesireNextYear', 'PlatformWorkedWith', 'PlatformDesireNextYear',\n",
       "       'WebFrameWorkedWith', 'WebFrameDesireNextYear', 'MiscTechWorkedWith', 'MiscTechDesireNextYear', 'DevEnviron', 'OpSys',\n",
       "       'Containers', 'BlockchainOrg', 'BlockchainIs', 'BetterLife', 'ITperson', 'OffOn', 'SocialMedia', 'Extraversion',\n",
       "       'ScreenName', 'SOVisit1st', 'SOVisitFreq', 'SOVisitTo', 'SOFindAnswer', 'SOTimeSaved', 'SOHowMuchTime', 'SOAccount',\n",
       "       'SOPartFreq', 'SOJobs', 'EntTeams', 'SOComm', 'WelcomeChange', 'SONewContent', 'Age', 'Gender', 'Trans', 'Sexuality',\n",
       "       'Ethnicity', 'Dependents', 'SurveyLength', 'SurveyEase'],\n",
       "      dtype='object')"
      ]
     },
     "execution_count": 20,
     "metadata": {},
     "output_type": "execute_result"
    },
    {
     "data": {
      "application/javascript": "\n            setTimeout(function() {\n                var nbb_cell_id = 20;\n                var nbb_unformatted_code = \"df.rename(\\n    columns={\\n        \\\"ConvertedComp\\\": \\\"SalaryUSD\\\",\\n    },\\n    inplace=True,\\n)\\n\\n# Print column names\\ndf.columns\";\n                var nbb_formatted_code = \"df.rename(\\n    columns={\\n        \\\"ConvertedComp\\\": \\\"SalaryUSD\\\",\\n    },\\n    inplace=True,\\n)\\n\\n# Print column names\\ndf.columns\";\n                var nbb_cells = Jupyter.notebook.get_cells();\n                for (var i = 0; i < nbb_cells.length; ++i) {\n                    if (nbb_cells[i].input_prompt_number == nbb_cell_id) {\n                        if (nbb_cells[i].get_text() == nbb_unformatted_code) {\n                             nbb_cells[i].set_text(nbb_formatted_code);\n                        }\n                        break;\n                    }\n                }\n            }, 500);\n            ",
      "text/plain": [
       "<IPython.core.display.Javascript object>"
      ]
     },
     "metadata": {},
     "output_type": "display_data"
    }
   ],
   "source": [
    "df.rename(\n",
    "    columns={\n",
    "        \"ConvertedComp\": \"SalaryUSD\",\n",
    "    },\n",
    "    inplace=True,\n",
    ")\n",
    "\n",
    "# Print column names\n",
    "df.columns"
   ]
  },
  {
   "cell_type": "markdown",
   "id": "33a7141a",
   "metadata": {},
   "source": [
    "#### Get count of respondents who knows following languages\n",
    "\n",
    "1. Python\n",
    "2. JavaScript\n",
    "3. Java\n",
    "4. php\n",
    "\n",
    "expected output:\n",
    "```python\n",
    "{\n",
    "    \"python\": 100,\n",
    "    \"javascript\": 230,\n",
    "    \"java\": 80,\n",
    "    \"php\": 50,\n",
    "}\n",
    "```"
   ]
  },
  {
   "cell_type": "markdown",
   "id": "f7401c95",
   "metadata": {},
   "source": [
    "_LanguageWorkedWith_ column that contains respondent's skills concatenated with `;` as delimiter. List this column to observe the data."
   ]
  },
  {
   "cell_type": "code",
   "execution_count": 21,
   "id": "4d2a242e",
   "metadata": {},
   "outputs": [
    {
     "data": {
      "text/plain": [
       "Respondent\n",
       "1                HTML/CSS;Java;JavaScript;Python\n",
       "2                            C++;HTML/CSS;Python\n",
       "3                                       HTML/CSS\n",
       "4                            C;C++;C#;Python;SQL\n",
       "5    C++;HTML/CSS;Java;JavaScript;Python;SQL;VBA\n",
       "Name: LanguageWorkedWith, dtype: object"
      ]
     },
     "execution_count": 21,
     "metadata": {},
     "output_type": "execute_result"
    },
    {
     "data": {
      "application/javascript": "\n            setTimeout(function() {\n                var nbb_cell_id = 21;\n                var nbb_unformatted_code = \"df[\\\"LanguageWorkedWith\\\"].head()\";\n                var nbb_formatted_code = \"df[\\\"LanguageWorkedWith\\\"].head()\";\n                var nbb_cells = Jupyter.notebook.get_cells();\n                for (var i = 0; i < nbb_cells.length; ++i) {\n                    if (nbb_cells[i].input_prompt_number == nbb_cell_id) {\n                        if (nbb_cells[i].get_text() == nbb_unformatted_code) {\n                             nbb_cells[i].set_text(nbb_formatted_code);\n                        }\n                        break;\n                    }\n                }\n            }, 500);\n            ",
      "text/plain": [
       "<IPython.core.display.Javascript object>"
      ]
     },
     "metadata": {},
     "output_type": "display_data"
    }
   ],
   "source": [
    "df[\"LanguageWorkedWith\"].head()"
   ]
  },
  {
   "cell_type": "markdown",
   "id": "990172b4",
   "metadata": {},
   "source": [
    "Using `apply()` apply a function to split respondent's skill set by `;` and check if the set contains the languages we are looking for."
   ]
  },
  {
   "cell_type": "code",
   "execution_count": 23,
   "id": "6fc5bdbe",
   "metadata": {},
   "outputs": [
    {
     "name": "stdout",
     "output_type": "stream",
     "text": [
      "{'Python': 36443, 'JavaScript': 59219, 'Java': 35917, 'PHP': 23030}\n"
     ]
    },
    {
     "data": {
      "application/javascript": "\n            setTimeout(function() {\n                var nbb_cell_id = 23;\n                var nbb_unformatted_code = \"lang_count = {\\n    \\\"Python\\\": 0,\\n    \\\"JavaScript\\\": 0,\\n    \\\"Java\\\": 0,\\n    \\\"PHP\\\": 0,\\n}\\n\\n\\ndef get_lang_count(skills):\\n    if not isinstance(skills, str):\\n        return\\n\\n    languages = skills.split(\\\";\\\")\\n\\n    for language in languages:\\n        if language in lang_count:\\n            lang_count[language] += 1\\n\\n\\ndf[\\\"LanguageWorkedWith\\\"].apply(get_lang_count)\\n\\nprint(lang_count)\";\n                var nbb_formatted_code = \"lang_count = {\\n    \\\"Python\\\": 0,\\n    \\\"JavaScript\\\": 0,\\n    \\\"Java\\\": 0,\\n    \\\"PHP\\\": 0,\\n}\\n\\n\\ndef get_lang_count(skills):\\n    if not isinstance(skills, str):\\n        return\\n\\n    languages = skills.split(\\\";\\\")\\n\\n    for language in languages:\\n        if language in lang_count:\\n            lang_count[language] += 1\\n\\n\\ndf[\\\"LanguageWorkedWith\\\"].apply(get_lang_count)\\n\\nprint(lang_count)\";\n                var nbb_cells = Jupyter.notebook.get_cells();\n                for (var i = 0; i < nbb_cells.length; ++i) {\n                    if (nbb_cells[i].input_prompt_number == nbb_cell_id) {\n                        if (nbb_cells[i].get_text() == nbb_unformatted_code) {\n                             nbb_cells[i].set_text(nbb_formatted_code);\n                        }\n                        break;\n                    }\n                }\n            }, 500);\n            ",
      "text/plain": [
       "<IPython.core.display.Javascript object>"
      ]
     },
     "metadata": {},
     "output_type": "display_data"
    }
   ],
   "source": [
    "lang_count = {\n",
    "    \"Python\": 0,\n",
    "    \"JavaScript\": 0,\n",
    "    \"Java\": 0,\n",
    "    \"PHP\": 0,\n",
    "}\n",
    "\n",
    "\n",
    "def get_lang_count(skills):\n",
    "    if not isinstance(skills, str):\n",
    "        return\n",
    "\n",
    "    for language in skills.split(\";\"):\n",
    "        if language in lang_count:\n",
    "            lang_count[language] += 1\n",
    "\n",
    "\n",
    "df[\"LanguageWorkedWith\"].apply(get_lang_count)\n",
    "\n",
    "print(lang_count)"
   ]
  },
  {
   "cell_type": "code",
   "execution_count": null,
   "id": "e3ba8f34",
   "metadata": {},
   "outputs": [],
   "source": []
  }
 ],
 "metadata": {
  "kernelspec": {
   "display_name": "Python 3 (ipykernel)",
   "language": "python",
   "name": "python3"
  },
  "language_info": {
   "codemirror_mode": {
    "name": "ipython",
    "version": 3
   },
   "file_extension": ".py",
   "mimetype": "text/x-python",
   "name": "python",
   "nbconvert_exporter": "python",
   "pygments_lexer": "ipython3",
   "version": "3.9.7"
  }
 },
 "nbformat": 4,
 "nbformat_minor": 5
}
