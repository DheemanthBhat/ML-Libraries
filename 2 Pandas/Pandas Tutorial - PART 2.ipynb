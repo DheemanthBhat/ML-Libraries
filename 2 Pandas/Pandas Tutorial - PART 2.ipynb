{
 "cells": [
  {
   "cell_type": "code",
   "execution_count": 1,
   "id": "4e4423f2",
   "metadata": {},
   "outputs": [
    {
     "data": {
      "application/javascript": [
       "\n",
       "            setTimeout(function() {\n",
       "                var nbb_cell_id = 1;\n",
       "                var nbb_unformatted_code = \"# Enable code formatting using external plugin: nb_black.\\n%reload_ext nb_black\";\n",
       "                var nbb_formatted_code = \"# Enable code formatting using external plugin: nb_black.\\n%reload_ext nb_black\";\n",
       "                var nbb_cells = Jupyter.notebook.get_cells();\n",
       "                for (var i = 0; i < nbb_cells.length; ++i) {\n",
       "                    if (nbb_cells[i].input_prompt_number == nbb_cell_id) {\n",
       "                        if (nbb_cells[i].get_text() == nbb_unformatted_code) {\n",
       "                             nbb_cells[i].set_text(nbb_formatted_code);\n",
       "                        }\n",
       "                        break;\n",
       "                    }\n",
       "                }\n",
       "            }, 500);\n",
       "            "
      ],
      "text/plain": [
       "<IPython.core.display.Javascript object>"
      ]
     },
     "metadata": {},
     "output_type": "display_data"
    }
   ],
   "source": [
    "# Enable code formatting using external plugin: nb_black.\n",
    "%reload_ext nb_black"
   ]
  },
  {
   "cell_type": "markdown",
   "id": "38d30126",
   "metadata": {},
   "source": [
    "# Pandas Tutorial - PART 2\n",
    "\n",
    "**Ref: [Pandas Tutorials][1] by [Corey Schafer][2]**\n",
    "\n",
    "[1]: https://youtube.com/playlist?list=PL-osiE80TeTsWmV9i9c58mdDCSskIFdDS\n",
    "[2]: https://coreyms.com/\n",
    "\n",
    "### Topics:\n",
    "\n",
    "1. [Basics of pandas](#Basics-of-pandas-using-test-data)\n",
    "2. [`loc` and `iloc`](#Fetch-rows-and-columns-using-loc-and-iloc-indexers)\n",
    "  1. [`iloc`](#Fetch-rows-using-iloc:-Integer-Location)\n",
    "  2. [`loc`](#Fetch-rows-and-columns-using-loc:-Location)\n",
    "3. [Custom Indexes](#Custom-Indexes)\n",
    "4. [Filters](#Filters)\n",
    "\n",
    "#### Load and configure `pandas` library"
   ]
  },
  {
   "cell_type": "code",
   "execution_count": 2,
   "id": "71c4f9e4",
   "metadata": {},
   "outputs": [
    {
     "name": "stdout",
     "output_type": "stream",
     "text": [
      "Pandas version: 1.3.4\n"
     ]
    },
    {
     "data": {
      "application/javascript": [
       "\n",
       "            setTimeout(function() {\n",
       "                var nbb_cell_id = 2;\n",
       "                var nbb_unformatted_code = \"import pandas as pd\\n\\nprint(\\\"Pandas version:\\\", pd.__version__)\\n\\n# Set display width to maximum 130 chacters in the output, post which it will continue in next line.\\npd.options.display.width = 130\";\n",
       "                var nbb_formatted_code = \"import pandas as pd\\n\\nprint(\\\"Pandas version:\\\", pd.__version__)\\n\\n# Set display width to maximum 130 chacters in the output, post which it will continue in next line.\\npd.options.display.width = 130\";\n",
       "                var nbb_cells = Jupyter.notebook.get_cells();\n",
       "                for (var i = 0; i < nbb_cells.length; ++i) {\n",
       "                    if (nbb_cells[i].input_prompt_number == nbb_cell_id) {\n",
       "                        if (nbb_cells[i].get_text() == nbb_unformatted_code) {\n",
       "                             nbb_cells[i].set_text(nbb_formatted_code);\n",
       "                        }\n",
       "                        break;\n",
       "                    }\n",
       "                }\n",
       "            }, 500);\n",
       "            "
      ],
      "text/plain": [
       "<IPython.core.display.Javascript object>"
      ]
     },
     "metadata": {},
     "output_type": "display_data"
    }
   ],
   "source": [
    "import pandas as pd\n",
    "\n",
    "print(\"Pandas version:\", pd.__version__)\n",
    "\n",
    "# Set display width to maximum 130 chacters in the output, post which it will continue in next line.\n",
    "pd.options.display.width = 130"
   ]
  },
  {
   "cell_type": "markdown",
   "id": "b961ea29",
   "metadata": {},
   "source": [
    "## Basics of `pandas` using test data\n",
    "\n",
    "Basics:\n",
    "1. Understand different data types used in `pandas` library. \n",
    "  1. Series\n",
    "  2. DataFrame\n",
    "  3. Panel (Not discussed in the video)\n",
    "2. Different techniques to access rows and columns in a `DataFrame`.\n",
    "\n",
    "Create a python dictionary containing some sample data:"
   ]
  },
  {
   "cell_type": "code",
   "execution_count": 3,
   "id": "496ab9b3",
   "metadata": {},
   "outputs": [
    {
     "data": {
      "text/plain": [
       "{'Code': ['IN028', 'UK007', 'US003', 'US004', 'XX001', 'IN100'],\n",
       " 'First Name': ['Dheemanth', 'Alex', 'Corey', 'Bucky', 'John', 'M.S'],\n",
       " 'Last Name': ['Bhat', 'Rider', 'Schafer', 'Roberts', 'Oldman', 'Dhoni'],\n",
       " 'Country': ['India', 'U.K.', 'U.S.', 'U.S.', None, 'India'],\n",
       " 'Age': [28, 14, 32, 37, None, 40],\n",
       " 'AOI': ['Codding', 'Adventure', 'Youtube', 'Youtube', 'History', 'Cricket'],\n",
       " 'Fictional': [False, True, False, False, True, False]}"
      ]
     },
     "execution_count": 3,
     "metadata": {},
     "output_type": "execute_result"
    },
    {
     "data": {
      "application/javascript": [
       "\n",
       "            setTimeout(function() {\n",
       "                var nbb_cell_id = 3;\n",
       "                var nbb_unformatted_code = \"people = {\\n    \\\"Code\\\": [\\\"IN028\\\", \\\"UK007\\\", \\\"US003\\\", \\\"US004\\\", \\\"XX001\\\", \\\"IN100\\\"],\\n    \\\"First Name\\\": [\\\"Dheemanth\\\", \\\"Alex\\\", \\\"Corey\\\", \\\"Bucky\\\", \\\"John\\\", \\\"M.S\\\"],\\n    \\\"Last Name\\\": [\\\"Bhat\\\", \\\"Rider\\\", \\\"Schafer\\\", \\\"Roberts\\\", \\\"Oldman\\\", \\\"Dhoni\\\"],\\n    \\\"Country\\\": [\\\"India\\\", \\\"U.K.\\\", \\\"U.S.\\\", \\\"U.S.\\\", None, \\\"India\\\"],\\n    \\\"Age\\\": [28, 14, 32, 37, None, 40],\\n    \\\"AOI\\\": [\\\"Codding\\\", \\\"Adventure\\\", \\\"Youtube\\\", \\\"Youtube\\\", \\\"History\\\", \\\"Cricket\\\"],\\n    \\\"Fictional\\\": [False, True, False, False, True, False],\\n}\\n\\npeople\";\n",
       "                var nbb_formatted_code = \"people = {\\n    \\\"Code\\\": [\\\"IN028\\\", \\\"UK007\\\", \\\"US003\\\", \\\"US004\\\", \\\"XX001\\\", \\\"IN100\\\"],\\n    \\\"First Name\\\": [\\\"Dheemanth\\\", \\\"Alex\\\", \\\"Corey\\\", \\\"Bucky\\\", \\\"John\\\", \\\"M.S\\\"],\\n    \\\"Last Name\\\": [\\\"Bhat\\\", \\\"Rider\\\", \\\"Schafer\\\", \\\"Roberts\\\", \\\"Oldman\\\", \\\"Dhoni\\\"],\\n    \\\"Country\\\": [\\\"India\\\", \\\"U.K.\\\", \\\"U.S.\\\", \\\"U.S.\\\", None, \\\"India\\\"],\\n    \\\"Age\\\": [28, 14, 32, 37, None, 40],\\n    \\\"AOI\\\": [\\\"Codding\\\", \\\"Adventure\\\", \\\"Youtube\\\", \\\"Youtube\\\", \\\"History\\\", \\\"Cricket\\\"],\\n    \\\"Fictional\\\": [False, True, False, False, True, False],\\n}\\n\\npeople\";\n",
       "                var nbb_cells = Jupyter.notebook.get_cells();\n",
       "                for (var i = 0; i < nbb_cells.length; ++i) {\n",
       "                    if (nbb_cells[i].input_prompt_number == nbb_cell_id) {\n",
       "                        if (nbb_cells[i].get_text() == nbb_unformatted_code) {\n",
       "                             nbb_cells[i].set_text(nbb_formatted_code);\n",
       "                        }\n",
       "                        break;\n",
       "                    }\n",
       "                }\n",
       "            }, 500);\n",
       "            "
      ],
      "text/plain": [
       "<IPython.core.display.Javascript object>"
      ]
     },
     "metadata": {},
     "output_type": "display_data"
    }
   ],
   "source": [
    "people = {\n",
    "    \"Code\": [\"IN028\", \"UK007\", \"US003\", \"US004\", \"XX001\", \"IN100\"],\n",
    "    \"First Name\": [\"Dheemanth\", \"Alex\", \"Corey\", \"Bucky\", \"John\", \"M.S\"],\n",
    "    \"Last Name\": [\"Bhat\", \"Rider\", \"Schafer\", \"Roberts\", \"Oldman\", \"Dhoni\"],\n",
    "    \"Country\": [\"India\", \"U.K.\", \"U.S.\", \"U.S.\", None, \"India\"],\n",
    "    \"Age\": [28, 14, 32, 37, None, 40],\n",
    "    \"AOI\": [\"Codding\", \"Adventure\", \"Youtube\", \"Youtube\", \"History\", \"Cricket\"],\n",
    "    \"Fictional\": [False, True, False, False, True, False],\n",
    "}\n",
    "\n",
    "people"
   ]
  },
  {
   "cell_type": "markdown",
   "id": "7f640c4a",
   "metadata": {},
   "source": [
    "Load test data from the above python dictionary into a `DataFrame` and display the same."
   ]
  },
  {
   "cell_type": "code",
   "execution_count": 4,
   "id": "22d659a3",
   "metadata": {},
   "outputs": [
    {
     "data": {
      "text/html": [
       "<div>\n",
       "<style scoped>\n",
       "    .dataframe tbody tr th:only-of-type {\n",
       "        vertical-align: middle;\n",
       "    }\n",
       "\n",
       "    .dataframe tbody tr th {\n",
       "        vertical-align: top;\n",
       "    }\n",
       "\n",
       "    .dataframe thead th {\n",
       "        text-align: right;\n",
       "    }\n",
       "</style>\n",
       "<table border=\"1\" class=\"dataframe\">\n",
       "  <thead>\n",
       "    <tr style=\"text-align: right;\">\n",
       "      <th></th>\n",
       "      <th>Code</th>\n",
       "      <th>First Name</th>\n",
       "      <th>Last Name</th>\n",
       "      <th>Country</th>\n",
       "      <th>Age</th>\n",
       "      <th>AOI</th>\n",
       "      <th>Fictional</th>\n",
       "    </tr>\n",
       "  </thead>\n",
       "  <tbody>\n",
       "    <tr>\n",
       "      <th>0</th>\n",
       "      <td>IN028</td>\n",
       "      <td>Dheemanth</td>\n",
       "      <td>Bhat</td>\n",
       "      <td>India</td>\n",
       "      <td>28.0</td>\n",
       "      <td>Codding</td>\n",
       "      <td>False</td>\n",
       "    </tr>\n",
       "    <tr>\n",
       "      <th>1</th>\n",
       "      <td>UK007</td>\n",
       "      <td>Alex</td>\n",
       "      <td>Rider</td>\n",
       "      <td>U.K.</td>\n",
       "      <td>14.0</td>\n",
       "      <td>Adventure</td>\n",
       "      <td>True</td>\n",
       "    </tr>\n",
       "    <tr>\n",
       "      <th>2</th>\n",
       "      <td>US003</td>\n",
       "      <td>Corey</td>\n",
       "      <td>Schafer</td>\n",
       "      <td>U.S.</td>\n",
       "      <td>32.0</td>\n",
       "      <td>Youtube</td>\n",
       "      <td>False</td>\n",
       "    </tr>\n",
       "    <tr>\n",
       "      <th>3</th>\n",
       "      <td>US004</td>\n",
       "      <td>Bucky</td>\n",
       "      <td>Roberts</td>\n",
       "      <td>U.S.</td>\n",
       "      <td>37.0</td>\n",
       "      <td>Youtube</td>\n",
       "      <td>False</td>\n",
       "    </tr>\n",
       "    <tr>\n",
       "      <th>4</th>\n",
       "      <td>XX001</td>\n",
       "      <td>John</td>\n",
       "      <td>Oldman</td>\n",
       "      <td>None</td>\n",
       "      <td>NaN</td>\n",
       "      <td>History</td>\n",
       "      <td>True</td>\n",
       "    </tr>\n",
       "    <tr>\n",
       "      <th>5</th>\n",
       "      <td>IN100</td>\n",
       "      <td>M.S</td>\n",
       "      <td>Dhoni</td>\n",
       "      <td>India</td>\n",
       "      <td>40.0</td>\n",
       "      <td>Cricket</td>\n",
       "      <td>False</td>\n",
       "    </tr>\n",
       "  </tbody>\n",
       "</table>\n",
       "</div>"
      ],
      "text/plain": [
       "    Code First Name Last Name Country   Age        AOI  Fictional\n",
       "0  IN028  Dheemanth      Bhat   India  28.0    Codding      False\n",
       "1  UK007       Alex     Rider    U.K.  14.0  Adventure       True\n",
       "2  US003      Corey   Schafer    U.S.  32.0    Youtube      False\n",
       "3  US004      Bucky   Roberts    U.S.  37.0    Youtube      False\n",
       "4  XX001       John    Oldman    None   NaN    History       True\n",
       "5  IN100        M.S     Dhoni   India  40.0    Cricket      False"
      ]
     },
     "execution_count": 4,
     "metadata": {},
     "output_type": "execute_result"
    },
    {
     "data": {
      "application/javascript": [
       "\n",
       "            setTimeout(function() {\n",
       "                var nbb_cell_id = 4;\n",
       "                var nbb_unformatted_code = \"df = pd.DataFrame(people)\\ndf\";\n",
       "                var nbb_formatted_code = \"df = pd.DataFrame(people)\\ndf\";\n",
       "                var nbb_cells = Jupyter.notebook.get_cells();\n",
       "                for (var i = 0; i < nbb_cells.length; ++i) {\n",
       "                    if (nbb_cells[i].input_prompt_number == nbb_cell_id) {\n",
       "                        if (nbb_cells[i].get_text() == nbb_unformatted_code) {\n",
       "                             nbb_cells[i].set_text(nbb_formatted_code);\n",
       "                        }\n",
       "                        break;\n",
       "                    }\n",
       "                }\n",
       "            }, 500);\n",
       "            "
      ],
      "text/plain": [
       "<IPython.core.display.Javascript object>"
      ]
     },
     "metadata": {},
     "output_type": "display_data"
    }
   ],
   "source": [
    "df = pd.DataFrame(people)\n",
    "df"
   ]
  },
  {
   "cell_type": "markdown",
   "id": "fb086b49",
   "metadata": {},
   "source": [
    "> Note:\n",
    "> 1. First column without column-name is the **default index** column provided by the `pandas` library.\n",
    "> 2. Default indexes are **unique values for rows**. It starts from zero and incremented by one.\n",
    "> 3. Indexes **need not be unique** always i.e., two or more rows can have same index."
   ]
  },
  {
   "cell_type": "markdown",
   "id": "7c0dc95d",
   "metadata": {},
   "source": [
    "### `Series`\n",
    "\n",
    "`Series` is a 1-D array (Vector) i.e., a series can be either these two:\n",
    "1. All rows of a single column.\n",
    "2. All columns of a single row."
   ]
  },
  {
   "cell_type": "code",
   "execution_count": 5,
   "id": "e3d0fbc8",
   "metadata": {},
   "outputs": [
    {
     "data": {
      "text/plain": [
       "pandas.core.series.Series"
      ]
     },
     "execution_count": 5,
     "metadata": {},
     "output_type": "execute_result"
    },
    {
     "data": {
      "application/javascript": [
       "\n",
       "            setTimeout(function() {\n",
       "                var nbb_cell_id = 5;\n",
       "                var nbb_unformatted_code = \"type(df[\\\"First Name\\\"])\";\n",
       "                var nbb_formatted_code = \"type(df[\\\"First Name\\\"])\";\n",
       "                var nbb_cells = Jupyter.notebook.get_cells();\n",
       "                for (var i = 0; i < nbb_cells.length; ++i) {\n",
       "                    if (nbb_cells[i].input_prompt_number == nbb_cell_id) {\n",
       "                        if (nbb_cells[i].get_text() == nbb_unformatted_code) {\n",
       "                             nbb_cells[i].set_text(nbb_formatted_code);\n",
       "                        }\n",
       "                        break;\n",
       "                    }\n",
       "                }\n",
       "            }, 500);\n",
       "            "
      ],
      "text/plain": [
       "<IPython.core.display.Javascript object>"
      ]
     },
     "metadata": {},
     "output_type": "display_data"
    }
   ],
   "source": [
    "type(df[\"First Name\"])"
   ]
  },
  {
   "cell_type": "markdown",
   "id": "caafd59e",
   "metadata": {},
   "source": [
    "### `DataFrame`\n",
    "\n",
    "1. `DataFrame` is a 2-D array i.e., it contains rows and columns.\n",
    "2. `DataFrame` is a container for multiple `Series` objects."
   ]
  },
  {
   "cell_type": "code",
   "execution_count": 6,
   "id": "4711f274",
   "metadata": {},
   "outputs": [
    {
     "data": {
      "text/plain": [
       "pandas.core.frame.DataFrame"
      ]
     },
     "execution_count": 6,
     "metadata": {},
     "output_type": "execute_result"
    },
    {
     "data": {
      "application/javascript": [
       "\n",
       "            setTimeout(function() {\n",
       "                var nbb_cell_id = 6;\n",
       "                var nbb_unformatted_code = \"type(df[[\\\"First Name\\\", \\\"Last Name\\\"]])\";\n",
       "                var nbb_formatted_code = \"type(df[[\\\"First Name\\\", \\\"Last Name\\\"]])\";\n",
       "                var nbb_cells = Jupyter.notebook.get_cells();\n",
       "                for (var i = 0; i < nbb_cells.length; ++i) {\n",
       "                    if (nbb_cells[i].input_prompt_number == nbb_cell_id) {\n",
       "                        if (nbb_cells[i].get_text() == nbb_unformatted_code) {\n",
       "                             nbb_cells[i].set_text(nbb_formatted_code);\n",
       "                        }\n",
       "                        break;\n",
       "                    }\n",
       "                }\n",
       "            }, 500);\n",
       "            "
      ],
      "text/plain": [
       "<IPython.core.display.Javascript object>"
      ]
     },
     "metadata": {},
     "output_type": "display_data"
    }
   ],
   "source": [
    "type(df[[\"First Name\", \"Last Name\"]])"
   ]
  },
  {
   "cell_type": "markdown",
   "id": "4364bc7a",
   "metadata": {},
   "source": [
    "### Access single column in a `DataFrame`\n",
    "\n",
    "A single column can be assessed in two ways, for example:"
   ]
  },
  {
   "cell_type": "code",
   "execution_count": 7,
   "id": "27323640",
   "metadata": {},
   "outputs": [
    {
     "data": {
      "text/plain": [
       "0    Dheemanth\n",
       "1         Alex\n",
       "2        Corey\n",
       "3        Bucky\n",
       "4         John\n",
       "5          M.S\n",
       "Name: First Name, dtype: object"
      ]
     },
     "execution_count": 7,
     "metadata": {},
     "output_type": "execute_result"
    },
    {
     "data": {
      "application/javascript": [
       "\n",
       "            setTimeout(function() {\n",
       "                var nbb_cell_id = 7;\n",
       "                var nbb_unformatted_code = \"# Technique #1: When column name contains space or python keyword or pandas attribute/method name.\\ndf[\\\"First Name\\\"]\";\n",
       "                var nbb_formatted_code = \"# Technique #1: When column name contains space or python keyword or pandas attribute/method name.\\ndf[\\\"First Name\\\"]\";\n",
       "                var nbb_cells = Jupyter.notebook.get_cells();\n",
       "                for (var i = 0; i < nbb_cells.length; ++i) {\n",
       "                    if (nbb_cells[i].input_prompt_number == nbb_cell_id) {\n",
       "                        if (nbb_cells[i].get_text() == nbb_unformatted_code) {\n",
       "                             nbb_cells[i].set_text(nbb_formatted_code);\n",
       "                        }\n",
       "                        break;\n",
       "                    }\n",
       "                }\n",
       "            }, 500);\n",
       "            "
      ],
      "text/plain": [
       "<IPython.core.display.Javascript object>"
      ]
     },
     "metadata": {},
     "output_type": "display_data"
    }
   ],
   "source": [
    "# Technique #1: When column name contains space or python keyword or pandas attribute/method name.\n",
    "df[\"First Name\"]"
   ]
  },
  {
   "cell_type": "markdown",
   "id": "b231ea7c",
   "metadata": {},
   "source": [
    "As it is seen in the above output, a `Series` (in this case first column) also gets **default unique index**, starting from zero and incremented by one."
   ]
  },
  {
   "cell_type": "code",
   "execution_count": 8,
   "id": "55018fc9",
   "metadata": {},
   "outputs": [
    {
     "data": {
      "text/plain": [
       "0    India\n",
       "1     U.K.\n",
       "2     U.S.\n",
       "3     U.S.\n",
       "4     None\n",
       "5    India\n",
       "Name: Country, dtype: object"
      ]
     },
     "execution_count": 8,
     "metadata": {},
     "output_type": "execute_result"
    },
    {
     "data": {
      "application/javascript": [
       "\n",
       "            setTimeout(function() {\n",
       "                var nbb_cell_id = 8;\n",
       "                var nbb_unformatted_code = \"# Technique #2: Using dot notation.\\ndf.Country\";\n",
       "                var nbb_formatted_code = \"# Technique #2: Using dot notation.\\ndf.Country\";\n",
       "                var nbb_cells = Jupyter.notebook.get_cells();\n",
       "                for (var i = 0; i < nbb_cells.length; ++i) {\n",
       "                    if (nbb_cells[i].input_prompt_number == nbb_cell_id) {\n",
       "                        if (nbb_cells[i].get_text() == nbb_unformatted_code) {\n",
       "                             nbb_cells[i].set_text(nbb_formatted_code);\n",
       "                        }\n",
       "                        break;\n",
       "                    }\n",
       "                }\n",
       "            }, 500);\n",
       "            "
      ],
      "text/plain": [
       "<IPython.core.display.Javascript object>"
      ]
     },
     "metadata": {},
     "output_type": "display_data"
    }
   ],
   "source": [
    "# Technique #2: Using dot notation.\n",
    "df.Country"
   ]
  },
  {
   "cell_type": "markdown",
   "id": "03a7d0fd",
   "metadata": {},
   "source": [
    "#### Access single row of a column\n",
    "\n",
    "Accessing single row of a column returns the value in [Numpy data types][1].\n",
    "\n",
    "[1]: https://numpy.org/doc/stable/user/basics.types.html#array-types-and-conversions-between-types"
   ]
  },
  {
   "cell_type": "code",
   "execution_count": 9,
   "id": "f8438a23",
   "metadata": {},
   "outputs": [
    {
     "name": "stdout",
     "output_type": "stream",
     "text": [
      "Data type:  <class 'str'> Value:  Corey\n",
      "Data type:  <class 'numpy.float64'> Value:  32.0\n",
      "Data type:  <class 'numpy.bool_'> Value:  False\n"
     ]
    },
    {
     "data": {
      "application/javascript": [
       "\n",
       "            setTimeout(function() {\n",
       "                var nbb_cell_id = 9;\n",
       "                var nbb_unformatted_code = \"f_name = df[\\\"First Name\\\"][2]\\nage = df[\\\"Age\\\"][2]\\nis_fic = df[\\\"Fictional\\\"][2]\\n\\nprint(\\\"Data type: \\\", type(f_name), \\\"Value: \\\", f_name)\\nprint(\\\"Data type: \\\", type(age), \\\"Value: \\\", age)\\nprint(\\\"Data type: \\\", type(is_fic), \\\"Value: \\\", is_fic)\";\n",
       "                var nbb_formatted_code = \"f_name = df[\\\"First Name\\\"][2]\\nage = df[\\\"Age\\\"][2]\\nis_fic = df[\\\"Fictional\\\"][2]\\n\\nprint(\\\"Data type: \\\", type(f_name), \\\"Value: \\\", f_name)\\nprint(\\\"Data type: \\\", type(age), \\\"Value: \\\", age)\\nprint(\\\"Data type: \\\", type(is_fic), \\\"Value: \\\", is_fic)\";\n",
       "                var nbb_cells = Jupyter.notebook.get_cells();\n",
       "                for (var i = 0; i < nbb_cells.length; ++i) {\n",
       "                    if (nbb_cells[i].input_prompt_number == nbb_cell_id) {\n",
       "                        if (nbb_cells[i].get_text() == nbb_unformatted_code) {\n",
       "                             nbb_cells[i].set_text(nbb_formatted_code);\n",
       "                        }\n",
       "                        break;\n",
       "                    }\n",
       "                }\n",
       "            }, 500);\n",
       "            "
      ],
      "text/plain": [
       "<IPython.core.display.Javascript object>"
      ]
     },
     "metadata": {},
     "output_type": "display_data"
    }
   ],
   "source": [
    "f_name = df[\"First Name\"][2]\n",
    "age = df[\"Age\"][2]\n",
    "is_fic = df[\"Fictional\"][2]\n",
    "\n",
    "print(\"Data type: \", type(f_name), \"Value: \", f_name)\n",
    "print(\"Data type: \", type(age), \"Value: \", age)\n",
    "print(\"Data type: \", type(is_fic), \"Value: \", is_fic)"
   ]
  },
  {
   "cell_type": "markdown",
   "id": "a4c490c1",
   "metadata": {},
   "source": [
    "#### Access selected rows of a column - Row Slicing"
   ]
  },
  {
   "cell_type": "code",
   "execution_count": 10,
   "id": "1d8caf1c",
   "metadata": {},
   "outputs": [
    {
     "data": {
      "text/plain": [
       "1      Rider\n",
       "2    Schafer\n",
       "3    Roberts\n",
       "Name: Last Name, dtype: object"
      ]
     },
     "execution_count": 10,
     "metadata": {},
     "output_type": "execute_result"
    },
    {
     "data": {
      "application/javascript": [
       "\n",
       "            setTimeout(function() {\n",
       "                var nbb_cell_id = 10;\n",
       "                var nbb_unformatted_code = \"df[\\\"Last Name\\\"][1:4]\";\n",
       "                var nbb_formatted_code = \"df[\\\"Last Name\\\"][1:4]\";\n",
       "                var nbb_cells = Jupyter.notebook.get_cells();\n",
       "                for (var i = 0; i < nbb_cells.length; ++i) {\n",
       "                    if (nbb_cells[i].input_prompt_number == nbb_cell_id) {\n",
       "                        if (nbb_cells[i].get_text() == nbb_unformatted_code) {\n",
       "                             nbb_cells[i].set_text(nbb_formatted_code);\n",
       "                        }\n",
       "                        break;\n",
       "                    }\n",
       "                }\n",
       "            }, 500);\n",
       "            "
      ],
      "text/plain": [
       "<IPython.core.display.Javascript object>"
      ]
     },
     "metadata": {},
     "output_type": "display_data"
    }
   ],
   "source": [
    "df[\"Last Name\"][1:4]"
   ]
  },
  {
   "cell_type": "markdown",
   "id": "530a20e1",
   "metadata": {},
   "source": [
    "### Access multiple columns in a `DataFrame`\n",
    "\n",
    "To accesses multiple columns in a `DataFrame`, pass list of column names using `[]` notation."
   ]
  },
  {
   "cell_type": "code",
   "execution_count": 11,
   "id": "c769f638",
   "metadata": {},
   "outputs": [
    {
     "data": {
      "text/html": [
       "<div>\n",
       "<style scoped>\n",
       "    .dataframe tbody tr th:only-of-type {\n",
       "        vertical-align: middle;\n",
       "    }\n",
       "\n",
       "    .dataframe tbody tr th {\n",
       "        vertical-align: top;\n",
       "    }\n",
       "\n",
       "    .dataframe thead th {\n",
       "        text-align: right;\n",
       "    }\n",
       "</style>\n",
       "<table border=\"1\" class=\"dataframe\">\n",
       "  <thead>\n",
       "    <tr style=\"text-align: right;\">\n",
       "      <th></th>\n",
       "      <th>First Name</th>\n",
       "      <th>Last Name</th>\n",
       "    </tr>\n",
       "  </thead>\n",
       "  <tbody>\n",
       "    <tr>\n",
       "      <th>0</th>\n",
       "      <td>Dheemanth</td>\n",
       "      <td>Bhat</td>\n",
       "    </tr>\n",
       "    <tr>\n",
       "      <th>1</th>\n",
       "      <td>Alex</td>\n",
       "      <td>Rider</td>\n",
       "    </tr>\n",
       "    <tr>\n",
       "      <th>2</th>\n",
       "      <td>Corey</td>\n",
       "      <td>Schafer</td>\n",
       "    </tr>\n",
       "    <tr>\n",
       "      <th>3</th>\n",
       "      <td>Bucky</td>\n",
       "      <td>Roberts</td>\n",
       "    </tr>\n",
       "    <tr>\n",
       "      <th>4</th>\n",
       "      <td>John</td>\n",
       "      <td>Oldman</td>\n",
       "    </tr>\n",
       "    <tr>\n",
       "      <th>5</th>\n",
       "      <td>M.S</td>\n",
       "      <td>Dhoni</td>\n",
       "    </tr>\n",
       "  </tbody>\n",
       "</table>\n",
       "</div>"
      ],
      "text/plain": [
       "  First Name Last Name\n",
       "0  Dheemanth      Bhat\n",
       "1       Alex     Rider\n",
       "2      Corey   Schafer\n",
       "3      Bucky   Roberts\n",
       "4       John    Oldman\n",
       "5        M.S     Dhoni"
      ]
     },
     "execution_count": 11,
     "metadata": {},
     "output_type": "execute_result"
    },
    {
     "data": {
      "application/javascript": [
       "\n",
       "            setTimeout(function() {\n",
       "                var nbb_cell_id = 11;\n",
       "                var nbb_unformatted_code = \"df[[\\\"First Name\\\", \\\"Last Name\\\"]]\";\n",
       "                var nbb_formatted_code = \"df[[\\\"First Name\\\", \\\"Last Name\\\"]]\";\n",
       "                var nbb_cells = Jupyter.notebook.get_cells();\n",
       "                for (var i = 0; i < nbb_cells.length; ++i) {\n",
       "                    if (nbb_cells[i].input_prompt_number == nbb_cell_id) {\n",
       "                        if (nbb_cells[i].get_text() == nbb_unformatted_code) {\n",
       "                             nbb_cells[i].set_text(nbb_formatted_code);\n",
       "                        }\n",
       "                        break;\n",
       "                    }\n",
       "                }\n",
       "            }, 500);\n",
       "            "
      ],
      "text/plain": [
       "<IPython.core.display.Javascript object>"
      ]
     },
     "metadata": {},
     "output_type": "display_data"
    }
   ],
   "source": [
    "df[[\"First Name\", \"Last Name\"]]"
   ]
  },
  {
   "cell_type": "markdown",
   "id": "279c4b49",
   "metadata": {},
   "source": [
    "### Valid ways to access columns in `DataFrame`\n",
    "\n",
    "✅ - Valid  \n",
    "⚠️ - KeyError  \n",
    "❌ - SyntaxError\n",
    "\n",
    "1. ✅ `df[\"First Name\"]`\n",
    "2. ⚠️ `df[\"First Name\", \"Last Name\"]`\n",
    "3. ✅ `df[\"First Name\" and \"Last Name\"]`\n",
    "4. ⚠️ `df[0]`\n",
    "5. ⚠️ `df[0, 1, 2]`\n",
    "6. ✅ `df[:]`\n",
    "7. ✅ `df[::-1]` **# Reverse the DaraFrame**\n",
    "8. ✅ `df[0:3]`\n",
    "9. ⚠️ `df[0, \"First Name\"]` **# -> `df[\"0\", \"First Name\"]` will work if column exits with name \"0\".**\n",
    "10. ⚠️ `df[0, [\"First Name\"]]`\n",
    "11. ⚠️ `df[0, \"First Name\":\"Age\"]`\n",
    "12. ❌ `df[0, [\"First Name\":\"Age\"]]`\n",
    "13. ✅ `df[[\"First Name\"]]`\n",
    "14. ✅ `df[[\"First Name\", \"Last Name\"]]`\n",
    "15. ✅ `df[[\"First Name\" and \"Last Name\"]]`\n",
    "16. ⚠️ `df[[0]]`\n",
    "17. ⚠️ `df[[0, 1, 2]]`\n",
    "18. ❌ `df[[:]]`\n",
    "19. ❌ `df[[::-1]]`\n",
    "20. ❌ `df[[0:3]]`\n",
    "21. ⚠️ `df[[0, \"First Name\"]]`\n",
    "22. ❌ `df[[0, \"First Name\":\"Age\"]]`\n",
    "\n",
    "> Note: Strings / List of strings / Slicing can be used to access columns in a `DataFrame`."
   ]
  },
  {
   "cell_type": "markdown",
   "id": "cb4070dc",
   "metadata": {},
   "source": [
    "#### Get list of column names used in the `DataFrame`."
   ]
  },
  {
   "cell_type": "code",
   "execution_count": 12,
   "id": "96a99282",
   "metadata": {},
   "outputs": [
    {
     "data": {
      "text/plain": [
       "Index(['Code', 'First Name', 'Last Name', 'Country', 'Age', 'AOI', 'Fictional'], dtype='object')"
      ]
     },
     "execution_count": 12,
     "metadata": {},
     "output_type": "execute_result"
    },
    {
     "data": {
      "application/javascript": [
       "\n",
       "            setTimeout(function() {\n",
       "                var nbb_cell_id = 12;\n",
       "                var nbb_unformatted_code = \"df.columns\";\n",
       "                var nbb_formatted_code = \"df.columns\";\n",
       "                var nbb_cells = Jupyter.notebook.get_cells();\n",
       "                for (var i = 0; i < nbb_cells.length; ++i) {\n",
       "                    if (nbb_cells[i].input_prompt_number == nbb_cell_id) {\n",
       "                        if (nbb_cells[i].get_text() == nbb_unformatted_code) {\n",
       "                             nbb_cells[i].set_text(nbb_formatted_code);\n",
       "                        }\n",
       "                        break;\n",
       "                    }\n",
       "                }\n",
       "            }, 500);\n",
       "            "
      ],
      "text/plain": [
       "<IPython.core.display.Javascript object>"
      ]
     },
     "metadata": {},
     "output_type": "display_data"
    }
   ],
   "source": [
    "df.columns"
   ]
  },
  {
   "cell_type": "markdown",
   "id": "4a6267cc",
   "metadata": {},
   "source": [
    "## Fetch rows and columns using `loc` and `iloc` indexers\n",
    "\n",
    "All the above techniques enables us to access data directly from a `DataFrame` by specifying column name (or list of column names) in a `[]` (square brackets) notation. To access data by addressing rows (and/or columns) we have to use **`indexers`**:\n",
    "\n",
    "1. `iloc` - Integer Location\n",
    "2. `loc` - Location\n",
    "\n",
    "### Fetch rows using `iloc`: Integer Location\n",
    "\n",
    "`iloc` allows us to access rows in a `DataFrame` using integer location. \n",
    "\n",
    "#### Access first row using integer location zero"
   ]
  },
  {
   "cell_type": "code",
   "execution_count": 13,
   "id": "4fa8c3eb",
   "metadata": {},
   "outputs": [
    {
     "data": {
      "text/plain": [
       "pandas.core.series.Series"
      ]
     },
     "execution_count": 13,
     "metadata": {},
     "output_type": "execute_result"
    },
    {
     "data": {
      "application/javascript": [
       "\n",
       "            setTimeout(function() {\n",
       "                var nbb_cell_id = 13;\n",
       "                var nbb_unformatted_code = \"type(df.iloc[0])\";\n",
       "                var nbb_formatted_code = \"type(df.iloc[0])\";\n",
       "                var nbb_cells = Jupyter.notebook.get_cells();\n",
       "                for (var i = 0; i < nbb_cells.length; ++i) {\n",
       "                    if (nbb_cells[i].input_prompt_number == nbb_cell_id) {\n",
       "                        if (nbb_cells[i].get_text() == nbb_unformatted_code) {\n",
       "                             nbb_cells[i].set_text(nbb_formatted_code);\n",
       "                        }\n",
       "                        break;\n",
       "                    }\n",
       "                }\n",
       "            }, 500);\n",
       "            "
      ],
      "text/plain": [
       "<IPython.core.display.Javascript object>"
      ]
     },
     "metadata": {},
     "output_type": "display_data"
    }
   ],
   "source": [
    "type(df.iloc[0])"
   ]
  },
  {
   "cell_type": "code",
   "execution_count": 14,
   "id": "da968b4d",
   "metadata": {},
   "outputs": [
    {
     "data": {
      "text/plain": [
       "Code              IN028\n",
       "First Name    Dheemanth\n",
       "Last Name          Bhat\n",
       "Country           India\n",
       "Age                28.0\n",
       "AOI             Codding\n",
       "Fictional         False\n",
       "Name: 0, dtype: object"
      ]
     },
     "execution_count": 14,
     "metadata": {},
     "output_type": "execute_result"
    },
    {
     "data": {
      "application/javascript": [
       "\n",
       "            setTimeout(function() {\n",
       "                var nbb_cell_id = 14;\n",
       "                var nbb_unformatted_code = \"df.iloc[0]\";\n",
       "                var nbb_formatted_code = \"df.iloc[0]\";\n",
       "                var nbb_cells = Jupyter.notebook.get_cells();\n",
       "                for (var i = 0; i < nbb_cells.length; ++i) {\n",
       "                    if (nbb_cells[i].input_prompt_number == nbb_cell_id) {\n",
       "                        if (nbb_cells[i].get_text() == nbb_unformatted_code) {\n",
       "                             nbb_cells[i].set_text(nbb_formatted_code);\n",
       "                        }\n",
       "                        break;\n",
       "                    }\n",
       "                }\n",
       "            }, 500);\n",
       "            "
      ],
      "text/plain": [
       "<IPython.core.display.Javascript object>"
      ]
     },
     "metadata": {},
     "output_type": "display_data"
    }
   ],
   "source": [
    "df.iloc[0]"
   ]
  },
  {
   "cell_type": "markdown",
   "id": "cdb309b5",
   "metadata": {},
   "source": [
    "As it is seen in the above output, a `Series` (in this case first row) gets a **string index**, which is nothing but the column names."
   ]
  },
  {
   "cell_type": "markdown",
   "id": "d47709ad",
   "metadata": {},
   "source": [
    "#### Access multiple rows using list of integers"
   ]
  },
  {
   "cell_type": "code",
   "execution_count": 15,
   "id": "18c688d2",
   "metadata": {},
   "outputs": [
    {
     "data": {
      "text/plain": [
       "pandas.core.frame.DataFrame"
      ]
     },
     "execution_count": 15,
     "metadata": {},
     "output_type": "execute_result"
    },
    {
     "data": {
      "application/javascript": [
       "\n",
       "            setTimeout(function() {\n",
       "                var nbb_cell_id = 15;\n",
       "                var nbb_unformatted_code = \"type(df.iloc[[0, 1, 2]])\";\n",
       "                var nbb_formatted_code = \"type(df.iloc[[0, 1, 2]])\";\n",
       "                var nbb_cells = Jupyter.notebook.get_cells();\n",
       "                for (var i = 0; i < nbb_cells.length; ++i) {\n",
       "                    if (nbb_cells[i].input_prompt_number == nbb_cell_id) {\n",
       "                        if (nbb_cells[i].get_text() == nbb_unformatted_code) {\n",
       "                             nbb_cells[i].set_text(nbb_formatted_code);\n",
       "                        }\n",
       "                        break;\n",
       "                    }\n",
       "                }\n",
       "            }, 500);\n",
       "            "
      ],
      "text/plain": [
       "<IPython.core.display.Javascript object>"
      ]
     },
     "metadata": {},
     "output_type": "display_data"
    }
   ],
   "source": [
    "type(df.iloc[[0, 1, 2]])"
   ]
  },
  {
   "cell_type": "code",
   "execution_count": 16,
   "id": "1925cf4a",
   "metadata": {},
   "outputs": [
    {
     "data": {
      "text/html": [
       "<div>\n",
       "<style scoped>\n",
       "    .dataframe tbody tr th:only-of-type {\n",
       "        vertical-align: middle;\n",
       "    }\n",
       "\n",
       "    .dataframe tbody tr th {\n",
       "        vertical-align: top;\n",
       "    }\n",
       "\n",
       "    .dataframe thead th {\n",
       "        text-align: right;\n",
       "    }\n",
       "</style>\n",
       "<table border=\"1\" class=\"dataframe\">\n",
       "  <thead>\n",
       "    <tr style=\"text-align: right;\">\n",
       "      <th></th>\n",
       "      <th>Code</th>\n",
       "      <th>First Name</th>\n",
       "      <th>Last Name</th>\n",
       "      <th>Country</th>\n",
       "      <th>Age</th>\n",
       "      <th>AOI</th>\n",
       "      <th>Fictional</th>\n",
       "    </tr>\n",
       "  </thead>\n",
       "  <tbody>\n",
       "    <tr>\n",
       "      <th>3</th>\n",
       "      <td>US004</td>\n",
       "      <td>Bucky</td>\n",
       "      <td>Roberts</td>\n",
       "      <td>U.S.</td>\n",
       "      <td>37.0</td>\n",
       "      <td>Youtube</td>\n",
       "      <td>False</td>\n",
       "    </tr>\n",
       "    <tr>\n",
       "      <th>1</th>\n",
       "      <td>UK007</td>\n",
       "      <td>Alex</td>\n",
       "      <td>Rider</td>\n",
       "      <td>U.K.</td>\n",
       "      <td>14.0</td>\n",
       "      <td>Adventure</td>\n",
       "      <td>True</td>\n",
       "    </tr>\n",
       "    <tr>\n",
       "      <th>2</th>\n",
       "      <td>US003</td>\n",
       "      <td>Corey</td>\n",
       "      <td>Schafer</td>\n",
       "      <td>U.S.</td>\n",
       "      <td>32.0</td>\n",
       "      <td>Youtube</td>\n",
       "      <td>False</td>\n",
       "    </tr>\n",
       "  </tbody>\n",
       "</table>\n",
       "</div>"
      ],
      "text/plain": [
       "    Code First Name Last Name Country   Age        AOI  Fictional\n",
       "3  US004      Bucky   Roberts    U.S.  37.0    Youtube      False\n",
       "1  UK007       Alex     Rider    U.K.  14.0  Adventure       True\n",
       "2  US003      Corey   Schafer    U.S.  32.0    Youtube      False"
      ]
     },
     "execution_count": 16,
     "metadata": {},
     "output_type": "execute_result"
    },
    {
     "data": {
      "application/javascript": [
       "\n",
       "            setTimeout(function() {\n",
       "                var nbb_cell_id = 16;\n",
       "                var nbb_unformatted_code = \"df.iloc[[3, 1, 2]]\";\n",
       "                var nbb_formatted_code = \"df.iloc[[3, 1, 2]]\";\n",
       "                var nbb_cells = Jupyter.notebook.get_cells();\n",
       "                for (var i = 0; i < nbb_cells.length; ++i) {\n",
       "                    if (nbb_cells[i].input_prompt_number == nbb_cell_id) {\n",
       "                        if (nbb_cells[i].get_text() == nbb_unformatted_code) {\n",
       "                             nbb_cells[i].set_text(nbb_formatted_code);\n",
       "                        }\n",
       "                        break;\n",
       "                    }\n",
       "                }\n",
       "            }, 500);\n",
       "            "
      ],
      "text/plain": [
       "<IPython.core.display.Javascript object>"
      ]
     },
     "metadata": {},
     "output_type": "display_data"
    }
   ],
   "source": [
    "df.iloc[[3, 1, 2]]"
   ]
  },
  {
   "cell_type": "markdown",
   "id": "5a060030",
   "metadata": {},
   "source": [
    "> Note: Rows are displayed based on the order passed in the list."
   ]
  },
  {
   "cell_type": "code",
   "execution_count": 17,
   "id": "c816bf4b",
   "metadata": {},
   "outputs": [
    {
     "data": {
      "text/html": [
       "<div>\n",
       "<style scoped>\n",
       "    .dataframe tbody tr th:only-of-type {\n",
       "        vertical-align: middle;\n",
       "    }\n",
       "\n",
       "    .dataframe tbody tr th {\n",
       "        vertical-align: top;\n",
       "    }\n",
       "\n",
       "    .dataframe thead th {\n",
       "        text-align: right;\n",
       "    }\n",
       "</style>\n",
       "<table border=\"1\" class=\"dataframe\">\n",
       "  <thead>\n",
       "    <tr style=\"text-align: right;\">\n",
       "      <th></th>\n",
       "      <th>Code</th>\n",
       "      <th>First Name</th>\n",
       "      <th>Last Name</th>\n",
       "      <th>Country</th>\n",
       "      <th>Age</th>\n",
       "      <th>AOI</th>\n",
       "      <th>Fictional</th>\n",
       "    </tr>\n",
       "  </thead>\n",
       "  <tbody>\n",
       "    <tr>\n",
       "      <th>5</th>\n",
       "      <td>IN100</td>\n",
       "      <td>M.S</td>\n",
       "      <td>Dhoni</td>\n",
       "      <td>India</td>\n",
       "      <td>40.0</td>\n",
       "      <td>Cricket</td>\n",
       "      <td>False</td>\n",
       "    </tr>\n",
       "  </tbody>\n",
       "</table>\n",
       "</div>"
      ],
      "text/plain": [
       "    Code First Name Last Name Country   Age      AOI  Fictional\n",
       "5  IN100        M.S     Dhoni   India  40.0  Cricket      False"
      ]
     },
     "execution_count": 17,
     "metadata": {},
     "output_type": "execute_result"
    },
    {
     "data": {
      "application/javascript": [
       "\n",
       "            setTimeout(function() {\n",
       "                var nbb_cell_id = 17;\n",
       "                var nbb_unformatted_code = \"df.iloc[[-1]]\";\n",
       "                var nbb_formatted_code = \"df.iloc[[-1]]\";\n",
       "                var nbb_cells = Jupyter.notebook.get_cells();\n",
       "                for (var i = 0; i < nbb_cells.length; ++i) {\n",
       "                    if (nbb_cells[i].input_prompt_number == nbb_cell_id) {\n",
       "                        if (nbb_cells[i].get_text() == nbb_unformatted_code) {\n",
       "                             nbb_cells[i].set_text(nbb_formatted_code);\n",
       "                        }\n",
       "                        break;\n",
       "                    }\n",
       "                }\n",
       "            }, 500);\n",
       "            "
      ],
      "text/plain": [
       "<IPython.core.display.Javascript object>"
      ]
     },
     "metadata": {},
     "output_type": "display_data"
    }
   ],
   "source": [
    "df.iloc[[-1]]"
   ]
  },
  {
   "cell_type": "code",
   "execution_count": 18,
   "id": "dcb279cb",
   "metadata": {},
   "outputs": [
    {
     "data": {
      "text/html": [
       "<div>\n",
       "<style scoped>\n",
       "    .dataframe tbody tr th:only-of-type {\n",
       "        vertical-align: middle;\n",
       "    }\n",
       "\n",
       "    .dataframe tbody tr th {\n",
       "        vertical-align: top;\n",
       "    }\n",
       "\n",
       "    .dataframe thead th {\n",
       "        text-align: right;\n",
       "    }\n",
       "</style>\n",
       "<table border=\"1\" class=\"dataframe\">\n",
       "  <thead>\n",
       "    <tr style=\"text-align: right;\">\n",
       "      <th></th>\n",
       "      <th>Code</th>\n",
       "      <th>First Name</th>\n",
       "      <th>Last Name</th>\n",
       "      <th>Country</th>\n",
       "      <th>Age</th>\n",
       "      <th>AOI</th>\n",
       "      <th>Fictional</th>\n",
       "    </tr>\n",
       "  </thead>\n",
       "  <tbody>\n",
       "  </tbody>\n",
       "</table>\n",
       "</div>"
      ],
      "text/plain": [
       "Empty DataFrame\n",
       "Columns: [Code, First Name, Last Name, Country, Age, AOI, Fictional]\n",
       "Index: []"
      ]
     },
     "execution_count": 18,
     "metadata": {},
     "output_type": "execute_result"
    },
    {
     "data": {
      "application/javascript": [
       "\n",
       "            setTimeout(function() {\n",
       "                var nbb_cell_id = 18;\n",
       "                var nbb_unformatted_code = \"df.iloc[[]]\";\n",
       "                var nbb_formatted_code = \"df.iloc[[]]\";\n",
       "                var nbb_cells = Jupyter.notebook.get_cells();\n",
       "                for (var i = 0; i < nbb_cells.length; ++i) {\n",
       "                    if (nbb_cells[i].input_prompt_number == nbb_cell_id) {\n",
       "                        if (nbb_cells[i].get_text() == nbb_unformatted_code) {\n",
       "                             nbb_cells[i].set_text(nbb_formatted_code);\n",
       "                        }\n",
       "                        break;\n",
       "                    }\n",
       "                }\n",
       "            }, 500);\n",
       "            "
      ],
      "text/plain": [
       "<IPython.core.display.Javascript object>"
      ]
     },
     "metadata": {},
     "output_type": "display_data"
    }
   ],
   "source": [
    "df.iloc[[]]"
   ]
  },
  {
   "cell_type": "markdown",
   "id": "38e4106a",
   "metadata": {},
   "source": [
    "Empty list of integers returns empty result."
   ]
  },
  {
   "cell_type": "markdown",
   "id": "c9642173",
   "metadata": {},
   "source": [
    "#### Access multiple rows using Slicing.\n",
    "\n",
    "Syntax:\n",
    "\n",
    "```python\n",
    "df.iloc[start_row_idx:end_row_idx:offset]\n",
    "```\n",
    "\n",
    "> Note:\n",
    "> 1. `end_row_idx` is not inclusive and optional.\n",
    "> 2. `offset` is optional."
   ]
  },
  {
   "cell_type": "code",
   "execution_count": 19,
   "id": "3e30d2d9",
   "metadata": {},
   "outputs": [
    {
     "data": {
      "text/html": [
       "<div>\n",
       "<style scoped>\n",
       "    .dataframe tbody tr th:only-of-type {\n",
       "        vertical-align: middle;\n",
       "    }\n",
       "\n",
       "    .dataframe tbody tr th {\n",
       "        vertical-align: top;\n",
       "    }\n",
       "\n",
       "    .dataframe thead th {\n",
       "        text-align: right;\n",
       "    }\n",
       "</style>\n",
       "<table border=\"1\" class=\"dataframe\">\n",
       "  <thead>\n",
       "    <tr style=\"text-align: right;\">\n",
       "      <th></th>\n",
       "      <th>Code</th>\n",
       "      <th>First Name</th>\n",
       "      <th>Last Name</th>\n",
       "      <th>Country</th>\n",
       "      <th>Age</th>\n",
       "      <th>AOI</th>\n",
       "      <th>Fictional</th>\n",
       "    </tr>\n",
       "  </thead>\n",
       "  <tbody>\n",
       "    <tr>\n",
       "      <th>2</th>\n",
       "      <td>US003</td>\n",
       "      <td>Corey</td>\n",
       "      <td>Schafer</td>\n",
       "      <td>U.S.</td>\n",
       "      <td>32.0</td>\n",
       "      <td>Youtube</td>\n",
       "      <td>False</td>\n",
       "    </tr>\n",
       "    <tr>\n",
       "      <th>3</th>\n",
       "      <td>US004</td>\n",
       "      <td>Bucky</td>\n",
       "      <td>Roberts</td>\n",
       "      <td>U.S.</td>\n",
       "      <td>37.0</td>\n",
       "      <td>Youtube</td>\n",
       "      <td>False</td>\n",
       "    </tr>\n",
       "  </tbody>\n",
       "</table>\n",
       "</div>"
      ],
      "text/plain": [
       "    Code First Name Last Name Country   Age      AOI  Fictional\n",
       "2  US003      Corey   Schafer    U.S.  32.0  Youtube      False\n",
       "3  US004      Bucky   Roberts    U.S.  37.0  Youtube      False"
      ]
     },
     "execution_count": 19,
     "metadata": {},
     "output_type": "execute_result"
    },
    {
     "data": {
      "application/javascript": [
       "\n",
       "            setTimeout(function() {\n",
       "                var nbb_cell_id = 19;\n",
       "                var nbb_unformatted_code = \"# Fetch rows starting from 2nd index till 3rd index.\\ndf.iloc[2:4]\";\n",
       "                var nbb_formatted_code = \"# Fetch rows starting from 2nd index till 3rd index.\\ndf.iloc[2:4]\";\n",
       "                var nbb_cells = Jupyter.notebook.get_cells();\n",
       "                for (var i = 0; i < nbb_cells.length; ++i) {\n",
       "                    if (nbb_cells[i].input_prompt_number == nbb_cell_id) {\n",
       "                        if (nbb_cells[i].get_text() == nbb_unformatted_code) {\n",
       "                             nbb_cells[i].set_text(nbb_formatted_code);\n",
       "                        }\n",
       "                        break;\n",
       "                    }\n",
       "                }\n",
       "            }, 500);\n",
       "            "
      ],
      "text/plain": [
       "<IPython.core.display.Javascript object>"
      ]
     },
     "metadata": {},
     "output_type": "display_data"
    }
   ],
   "source": [
    "# Fetch rows starting from 2nd index till 3rd index.\n",
    "df.iloc[2:4]"
   ]
  },
  {
   "cell_type": "code",
   "execution_count": 20,
   "id": "bbea5e82",
   "metadata": {},
   "outputs": [
    {
     "data": {
      "text/html": [
       "<div>\n",
       "<style scoped>\n",
       "    .dataframe tbody tr th:only-of-type {\n",
       "        vertical-align: middle;\n",
       "    }\n",
       "\n",
       "    .dataframe tbody tr th {\n",
       "        vertical-align: top;\n",
       "    }\n",
       "\n",
       "    .dataframe thead th {\n",
       "        text-align: right;\n",
       "    }\n",
       "</style>\n",
       "<table border=\"1\" class=\"dataframe\">\n",
       "  <thead>\n",
       "    <tr style=\"text-align: right;\">\n",
       "      <th></th>\n",
       "      <th>Code</th>\n",
       "      <th>First Name</th>\n",
       "      <th>Last Name</th>\n",
       "      <th>Country</th>\n",
       "      <th>Age</th>\n",
       "      <th>AOI</th>\n",
       "      <th>Fictional</th>\n",
       "    </tr>\n",
       "  </thead>\n",
       "  <tbody>\n",
       "    <tr>\n",
       "      <th>0</th>\n",
       "      <td>IN028</td>\n",
       "      <td>Dheemanth</td>\n",
       "      <td>Bhat</td>\n",
       "      <td>India</td>\n",
       "      <td>28.0</td>\n",
       "      <td>Codding</td>\n",
       "      <td>False</td>\n",
       "    </tr>\n",
       "    <tr>\n",
       "      <th>1</th>\n",
       "      <td>UK007</td>\n",
       "      <td>Alex</td>\n",
       "      <td>Rider</td>\n",
       "      <td>U.K.</td>\n",
       "      <td>14.0</td>\n",
       "      <td>Adventure</td>\n",
       "      <td>True</td>\n",
       "    </tr>\n",
       "  </tbody>\n",
       "</table>\n",
       "</div>"
      ],
      "text/plain": [
       "    Code First Name Last Name Country   Age        AOI  Fictional\n",
       "0  IN028  Dheemanth      Bhat   India  28.0    Codding      False\n",
       "1  UK007       Alex     Rider    U.K.  14.0  Adventure       True"
      ]
     },
     "execution_count": 20,
     "metadata": {},
     "output_type": "execute_result"
    },
    {
     "data": {
      "application/javascript": [
       "\n",
       "            setTimeout(function() {\n",
       "                var nbb_cell_id = 20;\n",
       "                var nbb_unformatted_code = \"# Fetch rows starting from 0th index till 1st index.\\ndf.iloc[:2]\";\n",
       "                var nbb_formatted_code = \"# Fetch rows starting from 0th index till 1st index.\\ndf.iloc[:2]\";\n",
       "                var nbb_cells = Jupyter.notebook.get_cells();\n",
       "                for (var i = 0; i < nbb_cells.length; ++i) {\n",
       "                    if (nbb_cells[i].input_prompt_number == nbb_cell_id) {\n",
       "                        if (nbb_cells[i].get_text() == nbb_unformatted_code) {\n",
       "                             nbb_cells[i].set_text(nbb_formatted_code);\n",
       "                        }\n",
       "                        break;\n",
       "                    }\n",
       "                }\n",
       "            }, 500);\n",
       "            "
      ],
      "text/plain": [
       "<IPython.core.display.Javascript object>"
      ]
     },
     "metadata": {},
     "output_type": "display_data"
    }
   ],
   "source": [
    "# Fetch rows starting from 0th index till 1st index.\n",
    "df.iloc[:2]"
   ]
  },
  {
   "cell_type": "code",
   "execution_count": 21,
   "id": "2ce6f5f9",
   "metadata": {},
   "outputs": [
    {
     "data": {
      "text/html": [
       "<div>\n",
       "<style scoped>\n",
       "    .dataframe tbody tr th:only-of-type {\n",
       "        vertical-align: middle;\n",
       "    }\n",
       "\n",
       "    .dataframe tbody tr th {\n",
       "        vertical-align: top;\n",
       "    }\n",
       "\n",
       "    .dataframe thead th {\n",
       "        text-align: right;\n",
       "    }\n",
       "</style>\n",
       "<table border=\"1\" class=\"dataframe\">\n",
       "  <thead>\n",
       "    <tr style=\"text-align: right;\">\n",
       "      <th></th>\n",
       "      <th>Code</th>\n",
       "      <th>First Name</th>\n",
       "      <th>Last Name</th>\n",
       "      <th>Country</th>\n",
       "      <th>Age</th>\n",
       "      <th>AOI</th>\n",
       "      <th>Fictional</th>\n",
       "    </tr>\n",
       "  </thead>\n",
       "  <tbody>\n",
       "    <tr>\n",
       "      <th>1</th>\n",
       "      <td>UK007</td>\n",
       "      <td>Alex</td>\n",
       "      <td>Rider</td>\n",
       "      <td>U.K.</td>\n",
       "      <td>14.0</td>\n",
       "      <td>Adventure</td>\n",
       "      <td>True</td>\n",
       "    </tr>\n",
       "    <tr>\n",
       "      <th>3</th>\n",
       "      <td>US004</td>\n",
       "      <td>Bucky</td>\n",
       "      <td>Roberts</td>\n",
       "      <td>U.S.</td>\n",
       "      <td>37.0</td>\n",
       "      <td>Youtube</td>\n",
       "      <td>False</td>\n",
       "    </tr>\n",
       "    <tr>\n",
       "      <th>5</th>\n",
       "      <td>IN100</td>\n",
       "      <td>M.S</td>\n",
       "      <td>Dhoni</td>\n",
       "      <td>India</td>\n",
       "      <td>40.0</td>\n",
       "      <td>Cricket</td>\n",
       "      <td>False</td>\n",
       "    </tr>\n",
       "  </tbody>\n",
       "</table>\n",
       "</div>"
      ],
      "text/plain": [
       "    Code First Name Last Name Country   Age        AOI  Fictional\n",
       "1  UK007       Alex     Rider    U.K.  14.0  Adventure       True\n",
       "3  US004      Bucky   Roberts    U.S.  37.0    Youtube      False\n",
       "5  IN100        M.S     Dhoni   India  40.0    Cricket      False"
      ]
     },
     "execution_count": 21,
     "metadata": {},
     "output_type": "execute_result"
    },
    {
     "data": {
      "application/javascript": [
       "\n",
       "            setTimeout(function() {\n",
       "                var nbb_cell_id = 21;\n",
       "                var nbb_unformatted_code = \"# Get rows with odd-numbered indexes.\\ndf.iloc[1::2]\";\n",
       "                var nbb_formatted_code = \"# Get rows with odd-numbered indexes.\\ndf.iloc[1::2]\";\n",
       "                var nbb_cells = Jupyter.notebook.get_cells();\n",
       "                for (var i = 0; i < nbb_cells.length; ++i) {\n",
       "                    if (nbb_cells[i].input_prompt_number == nbb_cell_id) {\n",
       "                        if (nbb_cells[i].get_text() == nbb_unformatted_code) {\n",
       "                             nbb_cells[i].set_text(nbb_formatted_code);\n",
       "                        }\n",
       "                        break;\n",
       "                    }\n",
       "                }\n",
       "            }, 500);\n",
       "            "
      ],
      "text/plain": [
       "<IPython.core.display.Javascript object>"
      ]
     },
     "metadata": {},
     "output_type": "display_data"
    }
   ],
   "source": [
    "# Get rows with odd-numbered indexes.\n",
    "df.iloc[1::2]"
   ]
  },
  {
   "cell_type": "code",
   "execution_count": 22,
   "id": "d124d31f",
   "metadata": {},
   "outputs": [
    {
     "data": {
      "text/html": [
       "<div>\n",
       "<style scoped>\n",
       "    .dataframe tbody tr th:only-of-type {\n",
       "        vertical-align: middle;\n",
       "    }\n",
       "\n",
       "    .dataframe tbody tr th {\n",
       "        vertical-align: top;\n",
       "    }\n",
       "\n",
       "    .dataframe thead th {\n",
       "        text-align: right;\n",
       "    }\n",
       "</style>\n",
       "<table border=\"1\" class=\"dataframe\">\n",
       "  <thead>\n",
       "    <tr style=\"text-align: right;\">\n",
       "      <th></th>\n",
       "      <th>Code</th>\n",
       "      <th>First Name</th>\n",
       "      <th>Last Name</th>\n",
       "      <th>Country</th>\n",
       "      <th>Age</th>\n",
       "      <th>AOI</th>\n",
       "      <th>Fictional</th>\n",
       "    </tr>\n",
       "  </thead>\n",
       "  <tbody>\n",
       "    <tr>\n",
       "      <th>5</th>\n",
       "      <td>IN100</td>\n",
       "      <td>M.S</td>\n",
       "      <td>Dhoni</td>\n",
       "      <td>India</td>\n",
       "      <td>40.0</td>\n",
       "      <td>Cricket</td>\n",
       "      <td>False</td>\n",
       "    </tr>\n",
       "    <tr>\n",
       "      <th>4</th>\n",
       "      <td>XX001</td>\n",
       "      <td>John</td>\n",
       "      <td>Oldman</td>\n",
       "      <td>None</td>\n",
       "      <td>NaN</td>\n",
       "      <td>History</td>\n",
       "      <td>True</td>\n",
       "    </tr>\n",
       "    <tr>\n",
       "      <th>3</th>\n",
       "      <td>US004</td>\n",
       "      <td>Bucky</td>\n",
       "      <td>Roberts</td>\n",
       "      <td>U.S.</td>\n",
       "      <td>37.0</td>\n",
       "      <td>Youtube</td>\n",
       "      <td>False</td>\n",
       "    </tr>\n",
       "    <tr>\n",
       "      <th>2</th>\n",
       "      <td>US003</td>\n",
       "      <td>Corey</td>\n",
       "      <td>Schafer</td>\n",
       "      <td>U.S.</td>\n",
       "      <td>32.0</td>\n",
       "      <td>Youtube</td>\n",
       "      <td>False</td>\n",
       "    </tr>\n",
       "    <tr>\n",
       "      <th>1</th>\n",
       "      <td>UK007</td>\n",
       "      <td>Alex</td>\n",
       "      <td>Rider</td>\n",
       "      <td>U.K.</td>\n",
       "      <td>14.0</td>\n",
       "      <td>Adventure</td>\n",
       "      <td>True</td>\n",
       "    </tr>\n",
       "    <tr>\n",
       "      <th>0</th>\n",
       "      <td>IN028</td>\n",
       "      <td>Dheemanth</td>\n",
       "      <td>Bhat</td>\n",
       "      <td>India</td>\n",
       "      <td>28.0</td>\n",
       "      <td>Codding</td>\n",
       "      <td>False</td>\n",
       "    </tr>\n",
       "  </tbody>\n",
       "</table>\n",
       "</div>"
      ],
      "text/plain": [
       "    Code First Name Last Name Country   Age        AOI  Fictional\n",
       "5  IN100        M.S     Dhoni   India  40.0    Cricket      False\n",
       "4  XX001       John    Oldman    None   NaN    History       True\n",
       "3  US004      Bucky   Roberts    U.S.  37.0    Youtube      False\n",
       "2  US003      Corey   Schafer    U.S.  32.0    Youtube      False\n",
       "1  UK007       Alex     Rider    U.K.  14.0  Adventure       True\n",
       "0  IN028  Dheemanth      Bhat   India  28.0    Codding      False"
      ]
     },
     "execution_count": 22,
     "metadata": {},
     "output_type": "execute_result"
    },
    {
     "data": {
      "application/javascript": [
       "\n",
       "            setTimeout(function() {\n",
       "                var nbb_cell_id = 22;\n",
       "                var nbb_unformatted_code = \"# Get all rows in reverse order of their index.\\ndf.iloc[::-1]\";\n",
       "                var nbb_formatted_code = \"# Get all rows in reverse order of their index.\\ndf.iloc[::-1]\";\n",
       "                var nbb_cells = Jupyter.notebook.get_cells();\n",
       "                for (var i = 0; i < nbb_cells.length; ++i) {\n",
       "                    if (nbb_cells[i].input_prompt_number == nbb_cell_id) {\n",
       "                        if (nbb_cells[i].get_text() == nbb_unformatted_code) {\n",
       "                             nbb_cells[i].set_text(nbb_formatted_code);\n",
       "                        }\n",
       "                        break;\n",
       "                    }\n",
       "                }\n",
       "            }, 500);\n",
       "            "
      ],
      "text/plain": [
       "<IPython.core.display.Javascript object>"
      ]
     },
     "metadata": {},
     "output_type": "display_data"
    }
   ],
   "source": [
    "# Get all rows in reverse order of their index.\n",
    "df.iloc[::-1]"
   ]
  },
  {
   "cell_type": "markdown",
   "id": "7f202019",
   "metadata": {},
   "source": [
    "### Fetch columns using `iloc`\n",
    "\n",
    "#### Access first column using integer location zero"
   ]
  },
  {
   "cell_type": "code",
   "execution_count": 23,
   "id": "fb577219",
   "metadata": {},
   "outputs": [
    {
     "data": {
      "text/plain": [
       "pandas.core.series.Series"
      ]
     },
     "execution_count": 23,
     "metadata": {},
     "output_type": "execute_result"
    },
    {
     "data": {
      "application/javascript": [
       "\n",
       "            setTimeout(function() {\n",
       "                var nbb_cell_id = 23;\n",
       "                var nbb_unformatted_code = \"type(df.iloc[:, 0])\";\n",
       "                var nbb_formatted_code = \"type(df.iloc[:, 0])\";\n",
       "                var nbb_cells = Jupyter.notebook.get_cells();\n",
       "                for (var i = 0; i < nbb_cells.length; ++i) {\n",
       "                    if (nbb_cells[i].input_prompt_number == nbb_cell_id) {\n",
       "                        if (nbb_cells[i].get_text() == nbb_unformatted_code) {\n",
       "                             nbb_cells[i].set_text(nbb_formatted_code);\n",
       "                        }\n",
       "                        break;\n",
       "                    }\n",
       "                }\n",
       "            }, 500);\n",
       "            "
      ],
      "text/plain": [
       "<IPython.core.display.Javascript object>"
      ]
     },
     "metadata": {},
     "output_type": "display_data"
    }
   ],
   "source": [
    "type(df.iloc[:, 0])"
   ]
  },
  {
   "cell_type": "code",
   "execution_count": 24,
   "id": "5dd7ca95",
   "metadata": {},
   "outputs": [
    {
     "data": {
      "text/plain": [
       "0    IN028\n",
       "1    UK007\n",
       "2    US003\n",
       "3    US004\n",
       "4    XX001\n",
       "5    IN100\n",
       "Name: Code, dtype: object"
      ]
     },
     "execution_count": 24,
     "metadata": {},
     "output_type": "execute_result"
    },
    {
     "data": {
      "application/javascript": [
       "\n",
       "            setTimeout(function() {\n",
       "                var nbb_cell_id = 24;\n",
       "                var nbb_unformatted_code = \"df.iloc[:, 0]\";\n",
       "                var nbb_formatted_code = \"df.iloc[:, 0]\";\n",
       "                var nbb_cells = Jupyter.notebook.get_cells();\n",
       "                for (var i = 0; i < nbb_cells.length; ++i) {\n",
       "                    if (nbb_cells[i].input_prompt_number == nbb_cell_id) {\n",
       "                        if (nbb_cells[i].get_text() == nbb_unformatted_code) {\n",
       "                             nbb_cells[i].set_text(nbb_formatted_code);\n",
       "                        }\n",
       "                        break;\n",
       "                    }\n",
       "                }\n",
       "            }, 500);\n",
       "            "
      ],
      "text/plain": [
       "<IPython.core.display.Javascript object>"
      ]
     },
     "metadata": {},
     "output_type": "display_data"
    }
   ],
   "source": [
    "df.iloc[:, 0]"
   ]
  },
  {
   "cell_type": "markdown",
   "id": "0bf9fd5b",
   "metadata": {},
   "source": [
    "As it is seen in the above output, a `Series` (in this case first column) gets **default unique index**, starting from zero and incremented by one where a row gets **default string index**.\n",
    "\n",
    "#### Access multiple columns using list of integers"
   ]
  },
  {
   "cell_type": "code",
   "execution_count": 25,
   "id": "b7f47ce4",
   "metadata": {},
   "outputs": [
    {
     "data": {
      "text/html": [
       "<div>\n",
       "<style scoped>\n",
       "    .dataframe tbody tr th:only-of-type {\n",
       "        vertical-align: middle;\n",
       "    }\n",
       "\n",
       "    .dataframe tbody tr th {\n",
       "        vertical-align: top;\n",
       "    }\n",
       "\n",
       "    .dataframe thead th {\n",
       "        text-align: right;\n",
       "    }\n",
       "</style>\n",
       "<table border=\"1\" class=\"dataframe\">\n",
       "  <thead>\n",
       "    <tr style=\"text-align: right;\">\n",
       "      <th></th>\n",
       "      <th>First Name</th>\n",
       "      <th>Last Name</th>\n",
       "      <th>Code</th>\n",
       "    </tr>\n",
       "  </thead>\n",
       "  <tbody>\n",
       "    <tr>\n",
       "      <th>0</th>\n",
       "      <td>Dheemanth</td>\n",
       "      <td>Bhat</td>\n",
       "      <td>IN028</td>\n",
       "    </tr>\n",
       "    <tr>\n",
       "      <th>1</th>\n",
       "      <td>Alex</td>\n",
       "      <td>Rider</td>\n",
       "      <td>UK007</td>\n",
       "    </tr>\n",
       "    <tr>\n",
       "      <th>2</th>\n",
       "      <td>Corey</td>\n",
       "      <td>Schafer</td>\n",
       "      <td>US003</td>\n",
       "    </tr>\n",
       "    <tr>\n",
       "      <th>3</th>\n",
       "      <td>Bucky</td>\n",
       "      <td>Roberts</td>\n",
       "      <td>US004</td>\n",
       "    </tr>\n",
       "    <tr>\n",
       "      <th>4</th>\n",
       "      <td>John</td>\n",
       "      <td>Oldman</td>\n",
       "      <td>XX001</td>\n",
       "    </tr>\n",
       "    <tr>\n",
       "      <th>5</th>\n",
       "      <td>M.S</td>\n",
       "      <td>Dhoni</td>\n",
       "      <td>IN100</td>\n",
       "    </tr>\n",
       "  </tbody>\n",
       "</table>\n",
       "</div>"
      ],
      "text/plain": [
       "  First Name Last Name   Code\n",
       "0  Dheemanth      Bhat  IN028\n",
       "1       Alex     Rider  UK007\n",
       "2      Corey   Schafer  US003\n",
       "3      Bucky   Roberts  US004\n",
       "4       John    Oldman  XX001\n",
       "5        M.S     Dhoni  IN100"
      ]
     },
     "execution_count": 25,
     "metadata": {},
     "output_type": "execute_result"
    },
    {
     "data": {
      "application/javascript": [
       "\n",
       "            setTimeout(function() {\n",
       "                var nbb_cell_id = 25;\n",
       "                var nbb_unformatted_code = \"df.iloc[:, [1, 2, 0]]\";\n",
       "                var nbb_formatted_code = \"df.iloc[:, [1, 2, 0]]\";\n",
       "                var nbb_cells = Jupyter.notebook.get_cells();\n",
       "                for (var i = 0; i < nbb_cells.length; ++i) {\n",
       "                    if (nbb_cells[i].input_prompt_number == nbb_cell_id) {\n",
       "                        if (nbb_cells[i].get_text() == nbb_unformatted_code) {\n",
       "                             nbb_cells[i].set_text(nbb_formatted_code);\n",
       "                        }\n",
       "                        break;\n",
       "                    }\n",
       "                }\n",
       "            }, 500);\n",
       "            "
      ],
      "text/plain": [
       "<IPython.core.display.Javascript object>"
      ]
     },
     "metadata": {},
     "output_type": "display_data"
    }
   ],
   "source": [
    "df.iloc[:, [1, 2, 0]]"
   ]
  },
  {
   "cell_type": "markdown",
   "id": "b4899edb",
   "metadata": {},
   "source": [
    "> Note: Columns are displayed based on the order passed in the list."
   ]
  },
  {
   "cell_type": "markdown",
   "id": "55247d36",
   "metadata": {},
   "source": [
    "#### Access multiple columns using Slicing.\n",
    "\n",
    "Syntax:\n",
    "\n",
    "```python\n",
    "df.iloc[start_row_idx:end_row_idx:offset, start_col_idx:end_col_idx:offset]\n",
    "```\n",
    "\n",
    "> Note:\n",
    "> 1. `end_row_idx` and `end_col_idx` are not inclusive and optional.\n",
    "> 2. `offset` is optional.\n",
    "> 3. Default index column **does not participate** in slicing."
   ]
  },
  {
   "cell_type": "code",
   "execution_count": 26,
   "id": "5726b51f",
   "metadata": {},
   "outputs": [
    {
     "name": "stdout",
     "output_type": "stream",
     "text": [
      "All column names for reference: Index(['Code', 'First Name', 'Last Name', 'Country', 'Age', 'AOI', 'Fictional'], dtype='object')\n"
     ]
    },
    {
     "data": {
      "text/html": [
       "<div>\n",
       "<style scoped>\n",
       "    .dataframe tbody tr th:only-of-type {\n",
       "        vertical-align: middle;\n",
       "    }\n",
       "\n",
       "    .dataframe tbody tr th {\n",
       "        vertical-align: top;\n",
       "    }\n",
       "\n",
       "    .dataframe thead th {\n",
       "        text-align: right;\n",
       "    }\n",
       "</style>\n",
       "<table border=\"1\" class=\"dataframe\">\n",
       "  <thead>\n",
       "    <tr style=\"text-align: right;\">\n",
       "      <th></th>\n",
       "      <th>Last Name</th>\n",
       "      <th>Country</th>\n",
       "    </tr>\n",
       "  </thead>\n",
       "  <tbody>\n",
       "    <tr>\n",
       "      <th>0</th>\n",
       "      <td>Bhat</td>\n",
       "      <td>India</td>\n",
       "    </tr>\n",
       "    <tr>\n",
       "      <th>1</th>\n",
       "      <td>Rider</td>\n",
       "      <td>U.K.</td>\n",
       "    </tr>\n",
       "    <tr>\n",
       "      <th>2</th>\n",
       "      <td>Schafer</td>\n",
       "      <td>U.S.</td>\n",
       "    </tr>\n",
       "    <tr>\n",
       "      <th>3</th>\n",
       "      <td>Roberts</td>\n",
       "      <td>U.S.</td>\n",
       "    </tr>\n",
       "    <tr>\n",
       "      <th>4</th>\n",
       "      <td>Oldman</td>\n",
       "      <td>None</td>\n",
       "    </tr>\n",
       "    <tr>\n",
       "      <th>5</th>\n",
       "      <td>Dhoni</td>\n",
       "      <td>India</td>\n",
       "    </tr>\n",
       "  </tbody>\n",
       "</table>\n",
       "</div>"
      ],
      "text/plain": [
       "  Last Name Country\n",
       "0      Bhat   India\n",
       "1     Rider    U.K.\n",
       "2   Schafer    U.S.\n",
       "3   Roberts    U.S.\n",
       "4    Oldman    None\n",
       "5     Dhoni   India"
      ]
     },
     "execution_count": 26,
     "metadata": {},
     "output_type": "execute_result"
    },
    {
     "data": {
      "application/javascript": [
       "\n",
       "            setTimeout(function() {\n",
       "                var nbb_cell_id = 26;\n",
       "                var nbb_unformatted_code = \"print(\\\"All column names for reference:\\\", df.columns)\\n\\n# Fetch all rows but columns starting from 2nd index till 3rd index.\\ndf.iloc[:, 2:4]\";\n",
       "                var nbb_formatted_code = \"print(\\\"All column names for reference:\\\", df.columns)\\n\\n# Fetch all rows but columns starting from 2nd index till 3rd index.\\ndf.iloc[:, 2:4]\";\n",
       "                var nbb_cells = Jupyter.notebook.get_cells();\n",
       "                for (var i = 0; i < nbb_cells.length; ++i) {\n",
       "                    if (nbb_cells[i].input_prompt_number == nbb_cell_id) {\n",
       "                        if (nbb_cells[i].get_text() == nbb_unformatted_code) {\n",
       "                             nbb_cells[i].set_text(nbb_formatted_code);\n",
       "                        }\n",
       "                        break;\n",
       "                    }\n",
       "                }\n",
       "            }, 500);\n",
       "            "
      ],
      "text/plain": [
       "<IPython.core.display.Javascript object>"
      ]
     },
     "metadata": {},
     "output_type": "display_data"
    }
   ],
   "source": [
    "print(\"All column names for reference:\", df.columns)\n",
    "\n",
    "# Fetch all rows but columns starting from 2nd index till 3rd index.\n",
    "df.iloc[:, 2:4]"
   ]
  },
  {
   "cell_type": "code",
   "execution_count": 27,
   "id": "66d90022",
   "metadata": {},
   "outputs": [
    {
     "data": {
      "text/html": [
       "<div>\n",
       "<style scoped>\n",
       "    .dataframe tbody tr th:only-of-type {\n",
       "        vertical-align: middle;\n",
       "    }\n",
       "\n",
       "    .dataframe tbody tr th {\n",
       "        vertical-align: top;\n",
       "    }\n",
       "\n",
       "    .dataframe thead th {\n",
       "        text-align: right;\n",
       "    }\n",
       "</style>\n",
       "<table border=\"1\" class=\"dataframe\">\n",
       "  <thead>\n",
       "    <tr style=\"text-align: right;\">\n",
       "      <th></th>\n",
       "      <th>Code</th>\n",
       "      <th>First Name</th>\n",
       "      <th>Last Name</th>\n",
       "    </tr>\n",
       "  </thead>\n",
       "  <tbody>\n",
       "    <tr>\n",
       "      <th>0</th>\n",
       "      <td>IN028</td>\n",
       "      <td>Dheemanth</td>\n",
       "      <td>Bhat</td>\n",
       "    </tr>\n",
       "    <tr>\n",
       "      <th>1</th>\n",
       "      <td>UK007</td>\n",
       "      <td>Alex</td>\n",
       "      <td>Rider</td>\n",
       "    </tr>\n",
       "    <tr>\n",
       "      <th>2</th>\n",
       "      <td>US003</td>\n",
       "      <td>Corey</td>\n",
       "      <td>Schafer</td>\n",
       "    </tr>\n",
       "    <tr>\n",
       "      <th>3</th>\n",
       "      <td>US004</td>\n",
       "      <td>Bucky</td>\n",
       "      <td>Roberts</td>\n",
       "    </tr>\n",
       "    <tr>\n",
       "      <th>4</th>\n",
       "      <td>XX001</td>\n",
       "      <td>John</td>\n",
       "      <td>Oldman</td>\n",
       "    </tr>\n",
       "    <tr>\n",
       "      <th>5</th>\n",
       "      <td>IN100</td>\n",
       "      <td>M.S</td>\n",
       "      <td>Dhoni</td>\n",
       "    </tr>\n",
       "  </tbody>\n",
       "</table>\n",
       "</div>"
      ],
      "text/plain": [
       "    Code First Name Last Name\n",
       "0  IN028  Dheemanth      Bhat\n",
       "1  UK007       Alex     Rider\n",
       "2  US003      Corey   Schafer\n",
       "3  US004      Bucky   Roberts\n",
       "4  XX001       John    Oldman\n",
       "5  IN100        M.S     Dhoni"
      ]
     },
     "execution_count": 27,
     "metadata": {},
     "output_type": "execute_result"
    },
    {
     "data": {
      "application/javascript": [
       "\n",
       "            setTimeout(function() {\n",
       "                var nbb_cell_id = 27;\n",
       "                var nbb_unformatted_code = \"# Fetch all rows but columns starting from 0th index till 2nd index.\\ndf.iloc[:, :3]\";\n",
       "                var nbb_formatted_code = \"# Fetch all rows but columns starting from 0th index till 2nd index.\\ndf.iloc[:, :3]\";\n",
       "                var nbb_cells = Jupyter.notebook.get_cells();\n",
       "                for (var i = 0; i < nbb_cells.length; ++i) {\n",
       "                    if (nbb_cells[i].input_prompt_number == nbb_cell_id) {\n",
       "                        if (nbb_cells[i].get_text() == nbb_unformatted_code) {\n",
       "                             nbb_cells[i].set_text(nbb_formatted_code);\n",
       "                        }\n",
       "                        break;\n",
       "                    }\n",
       "                }\n",
       "            }, 500);\n",
       "            "
      ],
      "text/plain": [
       "<IPython.core.display.Javascript object>"
      ]
     },
     "metadata": {},
     "output_type": "display_data"
    }
   ],
   "source": [
    "# Fetch all rows but columns starting from 0th index till 2nd index.\n",
    "df.iloc[:, :3]"
   ]
  },
  {
   "cell_type": "code",
   "execution_count": 28,
   "id": "1cb4bb2b",
   "metadata": {},
   "outputs": [
    {
     "name": "stdout",
     "output_type": "stream",
     "text": [
      "All column names for reference: Index(['Code', 'First Name', 'Last Name', 'Country', 'Age', 'AOI', 'Fictional'], dtype='object')\n"
     ]
    },
    {
     "data": {
      "text/html": [
       "<div>\n",
       "<style scoped>\n",
       "    .dataframe tbody tr th:only-of-type {\n",
       "        vertical-align: middle;\n",
       "    }\n",
       "\n",
       "    .dataframe tbody tr th {\n",
       "        vertical-align: top;\n",
       "    }\n",
       "\n",
       "    .dataframe thead th {\n",
       "        text-align: right;\n",
       "    }\n",
       "</style>\n",
       "<table border=\"1\" class=\"dataframe\">\n",
       "  <thead>\n",
       "    <tr style=\"text-align: right;\">\n",
       "      <th></th>\n",
       "      <th>First Name</th>\n",
       "      <th>Country</th>\n",
       "      <th>AOI</th>\n",
       "    </tr>\n",
       "  </thead>\n",
       "  <tbody>\n",
       "    <tr>\n",
       "      <th>0</th>\n",
       "      <td>Dheemanth</td>\n",
       "      <td>India</td>\n",
       "      <td>Codding</td>\n",
       "    </tr>\n",
       "    <tr>\n",
       "      <th>1</th>\n",
       "      <td>Alex</td>\n",
       "      <td>U.K.</td>\n",
       "      <td>Adventure</td>\n",
       "    </tr>\n",
       "    <tr>\n",
       "      <th>2</th>\n",
       "      <td>Corey</td>\n",
       "      <td>U.S.</td>\n",
       "      <td>Youtube</td>\n",
       "    </tr>\n",
       "    <tr>\n",
       "      <th>3</th>\n",
       "      <td>Bucky</td>\n",
       "      <td>U.S.</td>\n",
       "      <td>Youtube</td>\n",
       "    </tr>\n",
       "    <tr>\n",
       "      <th>4</th>\n",
       "      <td>John</td>\n",
       "      <td>None</td>\n",
       "      <td>History</td>\n",
       "    </tr>\n",
       "    <tr>\n",
       "      <th>5</th>\n",
       "      <td>M.S</td>\n",
       "      <td>India</td>\n",
       "      <td>Cricket</td>\n",
       "    </tr>\n",
       "  </tbody>\n",
       "</table>\n",
       "</div>"
      ],
      "text/plain": [
       "  First Name Country        AOI\n",
       "0  Dheemanth   India    Codding\n",
       "1       Alex    U.K.  Adventure\n",
       "2      Corey    U.S.    Youtube\n",
       "3      Bucky    U.S.    Youtube\n",
       "4       John    None    History\n",
       "5        M.S   India    Cricket"
      ]
     },
     "execution_count": 28,
     "metadata": {},
     "output_type": "execute_result"
    },
    {
     "data": {
      "application/javascript": [
       "\n",
       "            setTimeout(function() {\n",
       "                var nbb_cell_id = 28;\n",
       "                var nbb_unformatted_code = \"print(\\\"All column names for reference:\\\", df.columns)\\n\\n# Fetch all rows but only even-indexed columns.\\ndf.iloc[:, 1::2]\";\n",
       "                var nbb_formatted_code = \"print(\\\"All column names for reference:\\\", df.columns)\\n\\n# Fetch all rows but only even-indexed columns.\\ndf.iloc[:, 1::2]\";\n",
       "                var nbb_cells = Jupyter.notebook.get_cells();\n",
       "                for (var i = 0; i < nbb_cells.length; ++i) {\n",
       "                    if (nbb_cells[i].input_prompt_number == nbb_cell_id) {\n",
       "                        if (nbb_cells[i].get_text() == nbb_unformatted_code) {\n",
       "                             nbb_cells[i].set_text(nbb_formatted_code);\n",
       "                        }\n",
       "                        break;\n",
       "                    }\n",
       "                }\n",
       "            }, 500);\n",
       "            "
      ],
      "text/plain": [
       "<IPython.core.display.Javascript object>"
      ]
     },
     "metadata": {},
     "output_type": "display_data"
    }
   ],
   "source": [
    "print(\"All column names for reference:\", df.columns)\n",
    "\n",
    "# Fetch all rows but only even-indexed columns.\n",
    "df.iloc[:, 1::2]"
   ]
  },
  {
   "cell_type": "code",
   "execution_count": 29,
   "id": "f8392b7c",
   "metadata": {},
   "outputs": [
    {
     "data": {
      "text/html": [
       "<div>\n",
       "<style scoped>\n",
       "    .dataframe tbody tr th:only-of-type {\n",
       "        vertical-align: middle;\n",
       "    }\n",
       "\n",
       "    .dataframe tbody tr th {\n",
       "        vertical-align: top;\n",
       "    }\n",
       "\n",
       "    .dataframe thead th {\n",
       "        text-align: right;\n",
       "    }\n",
       "</style>\n",
       "<table border=\"1\" class=\"dataframe\">\n",
       "  <thead>\n",
       "    <tr style=\"text-align: right;\">\n",
       "      <th></th>\n",
       "      <th>Fictional</th>\n",
       "      <th>AOI</th>\n",
       "      <th>Age</th>\n",
       "      <th>Country</th>\n",
       "      <th>Last Name</th>\n",
       "      <th>First Name</th>\n",
       "      <th>Code</th>\n",
       "    </tr>\n",
       "  </thead>\n",
       "  <tbody>\n",
       "    <tr>\n",
       "      <th>5</th>\n",
       "      <td>False</td>\n",
       "      <td>Cricket</td>\n",
       "      <td>40.0</td>\n",
       "      <td>India</td>\n",
       "      <td>Dhoni</td>\n",
       "      <td>M.S</td>\n",
       "      <td>IN100</td>\n",
       "    </tr>\n",
       "    <tr>\n",
       "      <th>4</th>\n",
       "      <td>True</td>\n",
       "      <td>History</td>\n",
       "      <td>NaN</td>\n",
       "      <td>None</td>\n",
       "      <td>Oldman</td>\n",
       "      <td>John</td>\n",
       "      <td>XX001</td>\n",
       "    </tr>\n",
       "    <tr>\n",
       "      <th>3</th>\n",
       "      <td>False</td>\n",
       "      <td>Youtube</td>\n",
       "      <td>37.0</td>\n",
       "      <td>U.S.</td>\n",
       "      <td>Roberts</td>\n",
       "      <td>Bucky</td>\n",
       "      <td>US004</td>\n",
       "    </tr>\n",
       "    <tr>\n",
       "      <th>2</th>\n",
       "      <td>False</td>\n",
       "      <td>Youtube</td>\n",
       "      <td>32.0</td>\n",
       "      <td>U.S.</td>\n",
       "      <td>Schafer</td>\n",
       "      <td>Corey</td>\n",
       "      <td>US003</td>\n",
       "    </tr>\n",
       "    <tr>\n",
       "      <th>1</th>\n",
       "      <td>True</td>\n",
       "      <td>Adventure</td>\n",
       "      <td>14.0</td>\n",
       "      <td>U.K.</td>\n",
       "      <td>Rider</td>\n",
       "      <td>Alex</td>\n",
       "      <td>UK007</td>\n",
       "    </tr>\n",
       "    <tr>\n",
       "      <th>0</th>\n",
       "      <td>False</td>\n",
       "      <td>Codding</td>\n",
       "      <td>28.0</td>\n",
       "      <td>India</td>\n",
       "      <td>Bhat</td>\n",
       "      <td>Dheemanth</td>\n",
       "      <td>IN028</td>\n",
       "    </tr>\n",
       "  </tbody>\n",
       "</table>\n",
       "</div>"
      ],
      "text/plain": [
       "   Fictional        AOI   Age Country Last Name First Name   Code\n",
       "5      False    Cricket  40.0   India     Dhoni        M.S  IN100\n",
       "4       True    History   NaN    None    Oldman       John  XX001\n",
       "3      False    Youtube  37.0    U.S.   Roberts      Bucky  US004\n",
       "2      False    Youtube  32.0    U.S.   Schafer      Corey  US003\n",
       "1       True  Adventure  14.0    U.K.     Rider       Alex  UK007\n",
       "0      False    Codding  28.0   India      Bhat  Dheemanth  IN028"
      ]
     },
     "execution_count": 29,
     "metadata": {},
     "output_type": "execute_result"
    },
    {
     "data": {
      "application/javascript": [
       "\n",
       "            setTimeout(function() {\n",
       "                var nbb_cell_id = 29;\n",
       "                var nbb_unformatted_code = \"# Fetch all rows and columns in reverse order of their indexes.\\ndf.iloc[::-1, ::-1]\";\n",
       "                var nbb_formatted_code = \"# Fetch all rows and columns in reverse order of their indexes.\\ndf.iloc[::-1, ::-1]\";\n",
       "                var nbb_cells = Jupyter.notebook.get_cells();\n",
       "                for (var i = 0; i < nbb_cells.length; ++i) {\n",
       "                    if (nbb_cells[i].input_prompt_number == nbb_cell_id) {\n",
       "                        if (nbb_cells[i].get_text() == nbb_unformatted_code) {\n",
       "                             nbb_cells[i].set_text(nbb_formatted_code);\n",
       "                        }\n",
       "                        break;\n",
       "                    }\n",
       "                }\n",
       "            }, 500);\n",
       "            "
      ],
      "text/plain": [
       "<IPython.core.display.Javascript object>"
      ]
     },
     "metadata": {},
     "output_type": "display_data"
    }
   ],
   "source": [
    "# Fetch all rows and columns in reverse order of their indexes.\n",
    "df.iloc[::-1, ::-1]"
   ]
  },
  {
   "cell_type": "markdown",
   "id": "7dc7bd84",
   "metadata": {},
   "source": [
    "### Fetch rows and columns using `loc`: Location\n",
    "\n",
    "1. `iloc` uses **integer locations** or **indexes** to fetch rows and columns whereas `loc` uses **labels** to fetch rows and columns.\n",
    "2. _labels_ are very different from _integer locations_ hence some of the techniques used in `iloc` will not work (results in `KeyError` exception) in `loc`.\n",
    "3. _labels_ can be strings or integers.\n",
    "\n",
    "#### Access first row using label zero"
   ]
  },
  {
   "cell_type": "code",
   "execution_count": 30,
   "id": "69f024ed",
   "metadata": {},
   "outputs": [
    {
     "data": {
      "text/plain": [
       "Code              IN028\n",
       "First Name    Dheemanth\n",
       "Last Name          Bhat\n",
       "Country           India\n",
       "Age                28.0\n",
       "AOI             Codding\n",
       "Fictional         False\n",
       "Name: 0, dtype: object"
      ]
     },
     "execution_count": 30,
     "metadata": {},
     "output_type": "execute_result"
    },
    {
     "data": {
      "application/javascript": [
       "\n",
       "            setTimeout(function() {\n",
       "                var nbb_cell_id = 30;\n",
       "                var nbb_unformatted_code = \"df.loc[0]\";\n",
       "                var nbb_formatted_code = \"df.loc[0]\";\n",
       "                var nbb_cells = Jupyter.notebook.get_cells();\n",
       "                for (var i = 0; i < nbb_cells.length; ++i) {\n",
       "                    if (nbb_cells[i].input_prompt_number == nbb_cell_id) {\n",
       "                        if (nbb_cells[i].get_text() == nbb_unformatted_code) {\n",
       "                             nbb_cells[i].set_text(nbb_formatted_code);\n",
       "                        }\n",
       "                        break;\n",
       "                    }\n",
       "                }\n",
       "            }, 500);\n",
       "            "
      ],
      "text/plain": [
       "<IPython.core.display.Javascript object>"
      ]
     },
     "metadata": {},
     "output_type": "display_data"
    }
   ],
   "source": [
    "df.loc[0]"
   ]
  },
  {
   "cell_type": "markdown",
   "id": "c7d720c1",
   "metadata": {},
   "source": [
    "#### Access multiple rows using list of labels"
   ]
  },
  {
   "cell_type": "code",
   "execution_count": 31,
   "id": "7bb89705",
   "metadata": {},
   "outputs": [
    {
     "data": {
      "text/html": [
       "<div>\n",
       "<style scoped>\n",
       "    .dataframe tbody tr th:only-of-type {\n",
       "        vertical-align: middle;\n",
       "    }\n",
       "\n",
       "    .dataframe tbody tr th {\n",
       "        vertical-align: top;\n",
       "    }\n",
       "\n",
       "    .dataframe thead th {\n",
       "        text-align: right;\n",
       "    }\n",
       "</style>\n",
       "<table border=\"1\" class=\"dataframe\">\n",
       "  <thead>\n",
       "    <tr style=\"text-align: right;\">\n",
       "      <th></th>\n",
       "      <th>Code</th>\n",
       "      <th>First Name</th>\n",
       "      <th>Last Name</th>\n",
       "      <th>Country</th>\n",
       "      <th>Age</th>\n",
       "      <th>AOI</th>\n",
       "      <th>Fictional</th>\n",
       "    </tr>\n",
       "  </thead>\n",
       "  <tbody>\n",
       "    <tr>\n",
       "      <th>3</th>\n",
       "      <td>US004</td>\n",
       "      <td>Bucky</td>\n",
       "      <td>Roberts</td>\n",
       "      <td>U.S.</td>\n",
       "      <td>37.0</td>\n",
       "      <td>Youtube</td>\n",
       "      <td>False</td>\n",
       "    </tr>\n",
       "    <tr>\n",
       "      <th>1</th>\n",
       "      <td>UK007</td>\n",
       "      <td>Alex</td>\n",
       "      <td>Rider</td>\n",
       "      <td>U.K.</td>\n",
       "      <td>14.0</td>\n",
       "      <td>Adventure</td>\n",
       "      <td>True</td>\n",
       "    </tr>\n",
       "    <tr>\n",
       "      <th>2</th>\n",
       "      <td>US003</td>\n",
       "      <td>Corey</td>\n",
       "      <td>Schafer</td>\n",
       "      <td>U.S.</td>\n",
       "      <td>32.0</td>\n",
       "      <td>Youtube</td>\n",
       "      <td>False</td>\n",
       "    </tr>\n",
       "  </tbody>\n",
       "</table>\n",
       "</div>"
      ],
      "text/plain": [
       "    Code First Name Last Name Country   Age        AOI  Fictional\n",
       "3  US004      Bucky   Roberts    U.S.  37.0    Youtube      False\n",
       "1  UK007       Alex     Rider    U.K.  14.0  Adventure       True\n",
       "2  US003      Corey   Schafer    U.S.  32.0    Youtube      False"
      ]
     },
     "execution_count": 31,
     "metadata": {},
     "output_type": "execute_result"
    },
    {
     "data": {
      "application/javascript": [
       "\n",
       "            setTimeout(function() {\n",
       "                var nbb_cell_id = 31;\n",
       "                var nbb_unformatted_code = \"df.loc[[3, 1, 2]]\";\n",
       "                var nbb_formatted_code = \"df.loc[[3, 1, 2]]\";\n",
       "                var nbb_cells = Jupyter.notebook.get_cells();\n",
       "                for (var i = 0; i < nbb_cells.length; ++i) {\n",
       "                    if (nbb_cells[i].input_prompt_number == nbb_cell_id) {\n",
       "                        if (nbb_cells[i].get_text() == nbb_unformatted_code) {\n",
       "                             nbb_cells[i].set_text(nbb_formatted_code);\n",
       "                        }\n",
       "                        break;\n",
       "                    }\n",
       "                }\n",
       "            }, 500);\n",
       "            "
      ],
      "text/plain": [
       "<IPython.core.display.Javascript object>"
      ]
     },
     "metadata": {},
     "output_type": "display_data"
    }
   ],
   "source": [
    "df.loc[[3, 1, 2]]"
   ]
  },
  {
   "cell_type": "markdown",
   "id": "7806d9ca",
   "metadata": {},
   "source": [
    "> Note: Rows are displayed based on the order passed in the list.\n",
    "\n",
    "Negative integers cannot be used to access rows, as any numbers used to address rows will be considered as _labels_ and will be compared exactly with _default indexes_."
   ]
  },
  {
   "cell_type": "code",
   "execution_count": 32,
   "id": "e117178d",
   "metadata": {},
   "outputs": [
    {
     "name": "stdout",
     "output_type": "stream",
     "text": [
      "Default index: RangeIndex(start=0, stop=6, step=1)\n",
      "\"None of [Int64Index([-1], dtype='int64')] are in the [index]\"\n"
     ]
    },
    {
     "data": {
      "application/javascript": [
       "\n",
       "            setTimeout(function() {\n",
       "                var nbb_cell_id = 32;\n",
       "                var nbb_unformatted_code = \"try:\\n    print(\\\"Default index:\\\", df.index)\\n    df.loc[[-1]]  # Does not work. Throws error.\\n\\nexcept KeyError as ke:\\n    print(ke)\";\n",
       "                var nbb_formatted_code = \"try:\\n    print(\\\"Default index:\\\", df.index)\\n    df.loc[[-1]]  # Does not work. Throws error.\\n\\nexcept KeyError as ke:\\n    print(ke)\";\n",
       "                var nbb_cells = Jupyter.notebook.get_cells();\n",
       "                for (var i = 0; i < nbb_cells.length; ++i) {\n",
       "                    if (nbb_cells[i].input_prompt_number == nbb_cell_id) {\n",
       "                        if (nbb_cells[i].get_text() == nbb_unformatted_code) {\n",
       "                             nbb_cells[i].set_text(nbb_formatted_code);\n",
       "                        }\n",
       "                        break;\n",
       "                    }\n",
       "                }\n",
       "            }, 500);\n",
       "            "
      ],
      "text/plain": [
       "<IPython.core.display.Javascript object>"
      ]
     },
     "metadata": {},
     "output_type": "display_data"
    }
   ],
   "source": [
    "try:\n",
    "    print(\"Default index:\", df.index)\n",
    "    df.loc[[-1]]  # Does not work. Throws error.\n",
    "\n",
    "except KeyError as ke:\n",
    "    print(ke)"
   ]
  },
  {
   "cell_type": "code",
   "execution_count": 33,
   "id": "faf4df5d",
   "metadata": {},
   "outputs": [
    {
     "data": {
      "text/html": [
       "<div>\n",
       "<style scoped>\n",
       "    .dataframe tbody tr th:only-of-type {\n",
       "        vertical-align: middle;\n",
       "    }\n",
       "\n",
       "    .dataframe tbody tr th {\n",
       "        vertical-align: top;\n",
       "    }\n",
       "\n",
       "    .dataframe thead th {\n",
       "        text-align: right;\n",
       "    }\n",
       "</style>\n",
       "<table border=\"1\" class=\"dataframe\">\n",
       "  <thead>\n",
       "    <tr style=\"text-align: right;\">\n",
       "      <th></th>\n",
       "      <th>Code</th>\n",
       "      <th>First Name</th>\n",
       "      <th>Last Name</th>\n",
       "      <th>Country</th>\n",
       "      <th>Age</th>\n",
       "      <th>AOI</th>\n",
       "      <th>Fictional</th>\n",
       "    </tr>\n",
       "  </thead>\n",
       "  <tbody>\n",
       "  </tbody>\n",
       "</table>\n",
       "</div>"
      ],
      "text/plain": [
       "Empty DataFrame\n",
       "Columns: [Code, First Name, Last Name, Country, Age, AOI, Fictional]\n",
       "Index: []"
      ]
     },
     "execution_count": 33,
     "metadata": {},
     "output_type": "execute_result"
    },
    {
     "data": {
      "application/javascript": [
       "\n",
       "            setTimeout(function() {\n",
       "                var nbb_cell_id = 33;\n",
       "                var nbb_unformatted_code = \"df.loc[[]]\";\n",
       "                var nbb_formatted_code = \"df.loc[[]]\";\n",
       "                var nbb_cells = Jupyter.notebook.get_cells();\n",
       "                for (var i = 0; i < nbb_cells.length; ++i) {\n",
       "                    if (nbb_cells[i].input_prompt_number == nbb_cell_id) {\n",
       "                        if (nbb_cells[i].get_text() == nbb_unformatted_code) {\n",
       "                             nbb_cells[i].set_text(nbb_formatted_code);\n",
       "                        }\n",
       "                        break;\n",
       "                    }\n",
       "                }\n",
       "            }, 500);\n",
       "            "
      ],
      "text/plain": [
       "<IPython.core.display.Javascript object>"
      ]
     },
     "metadata": {},
     "output_type": "display_data"
    }
   ],
   "source": [
    "df.loc[[]]"
   ]
  },
  {
   "cell_type": "markdown",
   "id": "c6832a93",
   "metadata": {},
   "source": [
    "Empty list of labels return empty result."
   ]
  },
  {
   "cell_type": "markdown",
   "id": "2a0b3d95",
   "metadata": {},
   "source": [
    "#### Access multiple rows using Slicing.\n",
    "\n",
    "Syntax:\n",
    "\n",
    "```python\n",
    "df.loc[start_row_label:end_row_label:offset]\n",
    "```\n",
    "\n",
    "> Note:\n",
    "> 1. `end_row_label` **is inclusive** and optional whereas in `iloc` its not inclusive.\n",
    "> 2. `offset` is optional."
   ]
  },
  {
   "cell_type": "code",
   "execution_count": 34,
   "id": "b93d5ac7",
   "metadata": {},
   "outputs": [
    {
     "data": {
      "text/html": [
       "<div>\n",
       "<style scoped>\n",
       "    .dataframe tbody tr th:only-of-type {\n",
       "        vertical-align: middle;\n",
       "    }\n",
       "\n",
       "    .dataframe tbody tr th {\n",
       "        vertical-align: top;\n",
       "    }\n",
       "\n",
       "    .dataframe thead th {\n",
       "        text-align: right;\n",
       "    }\n",
       "</style>\n",
       "<table border=\"1\" class=\"dataframe\">\n",
       "  <thead>\n",
       "    <tr style=\"text-align: right;\">\n",
       "      <th></th>\n",
       "      <th>Code</th>\n",
       "      <th>First Name</th>\n",
       "      <th>Last Name</th>\n",
       "      <th>Country</th>\n",
       "      <th>Age</th>\n",
       "      <th>AOI</th>\n",
       "      <th>Fictional</th>\n",
       "    </tr>\n",
       "  </thead>\n",
       "  <tbody>\n",
       "    <tr>\n",
       "      <th>2</th>\n",
       "      <td>US003</td>\n",
       "      <td>Corey</td>\n",
       "      <td>Schafer</td>\n",
       "      <td>U.S.</td>\n",
       "      <td>32.0</td>\n",
       "      <td>Youtube</td>\n",
       "      <td>False</td>\n",
       "    </tr>\n",
       "    <tr>\n",
       "      <th>3</th>\n",
       "      <td>US004</td>\n",
       "      <td>Bucky</td>\n",
       "      <td>Roberts</td>\n",
       "      <td>U.S.</td>\n",
       "      <td>37.0</td>\n",
       "      <td>Youtube</td>\n",
       "      <td>False</td>\n",
       "    </tr>\n",
       "    <tr>\n",
       "      <th>4</th>\n",
       "      <td>XX001</td>\n",
       "      <td>John</td>\n",
       "      <td>Oldman</td>\n",
       "      <td>None</td>\n",
       "      <td>NaN</td>\n",
       "      <td>History</td>\n",
       "      <td>True</td>\n",
       "    </tr>\n",
       "  </tbody>\n",
       "</table>\n",
       "</div>"
      ],
      "text/plain": [
       "    Code First Name Last Name Country   Age      AOI  Fictional\n",
       "2  US003      Corey   Schafer    U.S.  32.0  Youtube      False\n",
       "3  US004      Bucky   Roberts    U.S.  37.0  Youtube      False\n",
       "4  XX001       John    Oldman    None   NaN  History       True"
      ]
     },
     "execution_count": 34,
     "metadata": {},
     "output_type": "execute_result"
    },
    {
     "data": {
      "application/javascript": [
       "\n",
       "            setTimeout(function() {\n",
       "                var nbb_cell_id = 34;\n",
       "                var nbb_unformatted_code = \"# Fetch rows starting from 2nd index till 4th index.\\ndf.loc[2:4]\";\n",
       "                var nbb_formatted_code = \"# Fetch rows starting from 2nd index till 4th index.\\ndf.loc[2:4]\";\n",
       "                var nbb_cells = Jupyter.notebook.get_cells();\n",
       "                for (var i = 0; i < nbb_cells.length; ++i) {\n",
       "                    if (nbb_cells[i].input_prompt_number == nbb_cell_id) {\n",
       "                        if (nbb_cells[i].get_text() == nbb_unformatted_code) {\n",
       "                             nbb_cells[i].set_text(nbb_formatted_code);\n",
       "                        }\n",
       "                        break;\n",
       "                    }\n",
       "                }\n",
       "            }, 500);\n",
       "            "
      ],
      "text/plain": [
       "<IPython.core.display.Javascript object>"
      ]
     },
     "metadata": {},
     "output_type": "display_data"
    }
   ],
   "source": [
    "# Fetch rows starting from 2nd index till 4th index.\n",
    "df.loc[2:4]"
   ]
  },
  {
   "cell_type": "code",
   "execution_count": 35,
   "id": "06db21ac",
   "metadata": {},
   "outputs": [
    {
     "data": {
      "text/html": [
       "<div>\n",
       "<style scoped>\n",
       "    .dataframe tbody tr th:only-of-type {\n",
       "        vertical-align: middle;\n",
       "    }\n",
       "\n",
       "    .dataframe tbody tr th {\n",
       "        vertical-align: top;\n",
       "    }\n",
       "\n",
       "    .dataframe thead th {\n",
       "        text-align: right;\n",
       "    }\n",
       "</style>\n",
       "<table border=\"1\" class=\"dataframe\">\n",
       "  <thead>\n",
       "    <tr style=\"text-align: right;\">\n",
       "      <th></th>\n",
       "      <th>Code</th>\n",
       "      <th>First Name</th>\n",
       "      <th>Last Name</th>\n",
       "      <th>Country</th>\n",
       "      <th>Age</th>\n",
       "      <th>AOI</th>\n",
       "      <th>Fictional</th>\n",
       "    </tr>\n",
       "  </thead>\n",
       "  <tbody>\n",
       "    <tr>\n",
       "      <th>0</th>\n",
       "      <td>IN028</td>\n",
       "      <td>Dheemanth</td>\n",
       "      <td>Bhat</td>\n",
       "      <td>India</td>\n",
       "      <td>28.0</td>\n",
       "      <td>Codding</td>\n",
       "      <td>False</td>\n",
       "    </tr>\n",
       "    <tr>\n",
       "      <th>1</th>\n",
       "      <td>UK007</td>\n",
       "      <td>Alex</td>\n",
       "      <td>Rider</td>\n",
       "      <td>U.K.</td>\n",
       "      <td>14.0</td>\n",
       "      <td>Adventure</td>\n",
       "      <td>True</td>\n",
       "    </tr>\n",
       "    <tr>\n",
       "      <th>2</th>\n",
       "      <td>US003</td>\n",
       "      <td>Corey</td>\n",
       "      <td>Schafer</td>\n",
       "      <td>U.S.</td>\n",
       "      <td>32.0</td>\n",
       "      <td>Youtube</td>\n",
       "      <td>False</td>\n",
       "    </tr>\n",
       "  </tbody>\n",
       "</table>\n",
       "</div>"
      ],
      "text/plain": [
       "    Code First Name Last Name Country   Age        AOI  Fictional\n",
       "0  IN028  Dheemanth      Bhat   India  28.0    Codding      False\n",
       "1  UK007       Alex     Rider    U.K.  14.0  Adventure       True\n",
       "2  US003      Corey   Schafer    U.S.  32.0    Youtube      False"
      ]
     },
     "execution_count": 35,
     "metadata": {},
     "output_type": "execute_result"
    },
    {
     "data": {
      "application/javascript": [
       "\n",
       "            setTimeout(function() {\n",
       "                var nbb_cell_id = 35;\n",
       "                var nbb_unformatted_code = \"# Fetch rows starting from 0th index till 2nd index.\\ndf.loc[:2]\";\n",
       "                var nbb_formatted_code = \"# Fetch rows starting from 0th index till 2nd index.\\ndf.loc[:2]\";\n",
       "                var nbb_cells = Jupyter.notebook.get_cells();\n",
       "                for (var i = 0; i < nbb_cells.length; ++i) {\n",
       "                    if (nbb_cells[i].input_prompt_number == nbb_cell_id) {\n",
       "                        if (nbb_cells[i].get_text() == nbb_unformatted_code) {\n",
       "                             nbb_cells[i].set_text(nbb_formatted_code);\n",
       "                        }\n",
       "                        break;\n",
       "                    }\n",
       "                }\n",
       "            }, 500);\n",
       "            "
      ],
      "text/plain": [
       "<IPython.core.display.Javascript object>"
      ]
     },
     "metadata": {},
     "output_type": "display_data"
    }
   ],
   "source": [
    "# Fetch rows starting from 0th index till 2nd index.\n",
    "df.loc[:2]"
   ]
  },
  {
   "cell_type": "code",
   "execution_count": 36,
   "id": "440891b1",
   "metadata": {},
   "outputs": [
    {
     "data": {
      "text/html": [
       "<div>\n",
       "<style scoped>\n",
       "    .dataframe tbody tr th:only-of-type {\n",
       "        vertical-align: middle;\n",
       "    }\n",
       "\n",
       "    .dataframe tbody tr th {\n",
       "        vertical-align: top;\n",
       "    }\n",
       "\n",
       "    .dataframe thead th {\n",
       "        text-align: right;\n",
       "    }\n",
       "</style>\n",
       "<table border=\"1\" class=\"dataframe\">\n",
       "  <thead>\n",
       "    <tr style=\"text-align: right;\">\n",
       "      <th></th>\n",
       "      <th>Code</th>\n",
       "      <th>First Name</th>\n",
       "      <th>Last Name</th>\n",
       "      <th>Country</th>\n",
       "      <th>Age</th>\n",
       "      <th>AOI</th>\n",
       "      <th>Fictional</th>\n",
       "    </tr>\n",
       "  </thead>\n",
       "  <tbody>\n",
       "    <tr>\n",
       "      <th>1</th>\n",
       "      <td>UK007</td>\n",
       "      <td>Alex</td>\n",
       "      <td>Rider</td>\n",
       "      <td>U.K.</td>\n",
       "      <td>14.0</td>\n",
       "      <td>Adventure</td>\n",
       "      <td>True</td>\n",
       "    </tr>\n",
       "    <tr>\n",
       "      <th>3</th>\n",
       "      <td>US004</td>\n",
       "      <td>Bucky</td>\n",
       "      <td>Roberts</td>\n",
       "      <td>U.S.</td>\n",
       "      <td>37.0</td>\n",
       "      <td>Youtube</td>\n",
       "      <td>False</td>\n",
       "    </tr>\n",
       "    <tr>\n",
       "      <th>5</th>\n",
       "      <td>IN100</td>\n",
       "      <td>M.S</td>\n",
       "      <td>Dhoni</td>\n",
       "      <td>India</td>\n",
       "      <td>40.0</td>\n",
       "      <td>Cricket</td>\n",
       "      <td>False</td>\n",
       "    </tr>\n",
       "  </tbody>\n",
       "</table>\n",
       "</div>"
      ],
      "text/plain": [
       "    Code First Name Last Name Country   Age        AOI  Fictional\n",
       "1  UK007       Alex     Rider    U.K.  14.0  Adventure       True\n",
       "3  US004      Bucky   Roberts    U.S.  37.0    Youtube      False\n",
       "5  IN100        M.S     Dhoni   India  40.0    Cricket      False"
      ]
     },
     "execution_count": 36,
     "metadata": {},
     "output_type": "execute_result"
    },
    {
     "data": {
      "application/javascript": [
       "\n",
       "            setTimeout(function() {\n",
       "                var nbb_cell_id = 36;\n",
       "                var nbb_unformatted_code = \"# Get rows with odd-numbered indexes.\\ndf.loc[1::2]\";\n",
       "                var nbb_formatted_code = \"# Get rows with odd-numbered indexes.\\ndf.loc[1::2]\";\n",
       "                var nbb_cells = Jupyter.notebook.get_cells();\n",
       "                for (var i = 0; i < nbb_cells.length; ++i) {\n",
       "                    if (nbb_cells[i].input_prompt_number == nbb_cell_id) {\n",
       "                        if (nbb_cells[i].get_text() == nbb_unformatted_code) {\n",
       "                             nbb_cells[i].set_text(nbb_formatted_code);\n",
       "                        }\n",
       "                        break;\n",
       "                    }\n",
       "                }\n",
       "            }, 500);\n",
       "            "
      ],
      "text/plain": [
       "<IPython.core.display.Javascript object>"
      ]
     },
     "metadata": {},
     "output_type": "display_data"
    }
   ],
   "source": [
    "# Get rows with odd-numbered indexes.\n",
    "df.loc[1::2]"
   ]
  },
  {
   "cell_type": "code",
   "execution_count": 37,
   "id": "d3355115",
   "metadata": {},
   "outputs": [
    {
     "data": {
      "text/html": [
       "<div>\n",
       "<style scoped>\n",
       "    .dataframe tbody tr th:only-of-type {\n",
       "        vertical-align: middle;\n",
       "    }\n",
       "\n",
       "    .dataframe tbody tr th {\n",
       "        vertical-align: top;\n",
       "    }\n",
       "\n",
       "    .dataframe thead th {\n",
       "        text-align: right;\n",
       "    }\n",
       "</style>\n",
       "<table border=\"1\" class=\"dataframe\">\n",
       "  <thead>\n",
       "    <tr style=\"text-align: right;\">\n",
       "      <th></th>\n",
       "      <th>Code</th>\n",
       "      <th>First Name</th>\n",
       "      <th>Last Name</th>\n",
       "      <th>Country</th>\n",
       "      <th>Age</th>\n",
       "      <th>AOI</th>\n",
       "      <th>Fictional</th>\n",
       "    </tr>\n",
       "  </thead>\n",
       "  <tbody>\n",
       "    <tr>\n",
       "      <th>5</th>\n",
       "      <td>IN100</td>\n",
       "      <td>M.S</td>\n",
       "      <td>Dhoni</td>\n",
       "      <td>India</td>\n",
       "      <td>40.0</td>\n",
       "      <td>Cricket</td>\n",
       "      <td>False</td>\n",
       "    </tr>\n",
       "    <tr>\n",
       "      <th>4</th>\n",
       "      <td>XX001</td>\n",
       "      <td>John</td>\n",
       "      <td>Oldman</td>\n",
       "      <td>None</td>\n",
       "      <td>NaN</td>\n",
       "      <td>History</td>\n",
       "      <td>True</td>\n",
       "    </tr>\n",
       "    <tr>\n",
       "      <th>3</th>\n",
       "      <td>US004</td>\n",
       "      <td>Bucky</td>\n",
       "      <td>Roberts</td>\n",
       "      <td>U.S.</td>\n",
       "      <td>37.0</td>\n",
       "      <td>Youtube</td>\n",
       "      <td>False</td>\n",
       "    </tr>\n",
       "    <tr>\n",
       "      <th>2</th>\n",
       "      <td>US003</td>\n",
       "      <td>Corey</td>\n",
       "      <td>Schafer</td>\n",
       "      <td>U.S.</td>\n",
       "      <td>32.0</td>\n",
       "      <td>Youtube</td>\n",
       "      <td>False</td>\n",
       "    </tr>\n",
       "    <tr>\n",
       "      <th>1</th>\n",
       "      <td>UK007</td>\n",
       "      <td>Alex</td>\n",
       "      <td>Rider</td>\n",
       "      <td>U.K.</td>\n",
       "      <td>14.0</td>\n",
       "      <td>Adventure</td>\n",
       "      <td>True</td>\n",
       "    </tr>\n",
       "    <tr>\n",
       "      <th>0</th>\n",
       "      <td>IN028</td>\n",
       "      <td>Dheemanth</td>\n",
       "      <td>Bhat</td>\n",
       "      <td>India</td>\n",
       "      <td>28.0</td>\n",
       "      <td>Codding</td>\n",
       "      <td>False</td>\n",
       "    </tr>\n",
       "  </tbody>\n",
       "</table>\n",
       "</div>"
      ],
      "text/plain": [
       "    Code First Name Last Name Country   Age        AOI  Fictional\n",
       "5  IN100        M.S     Dhoni   India  40.0    Cricket      False\n",
       "4  XX001       John    Oldman    None   NaN    History       True\n",
       "3  US004      Bucky   Roberts    U.S.  37.0    Youtube      False\n",
       "2  US003      Corey   Schafer    U.S.  32.0    Youtube      False\n",
       "1  UK007       Alex     Rider    U.K.  14.0  Adventure       True\n",
       "0  IN028  Dheemanth      Bhat   India  28.0    Codding      False"
      ]
     },
     "execution_count": 37,
     "metadata": {},
     "output_type": "execute_result"
    },
    {
     "data": {
      "application/javascript": [
       "\n",
       "            setTimeout(function() {\n",
       "                var nbb_cell_id = 37;\n",
       "                var nbb_unformatted_code = \"# Get all rows in reverse order of their index.\\ndf.loc[::-1]\";\n",
       "                var nbb_formatted_code = \"# Get all rows in reverse order of their index.\\ndf.loc[::-1]\";\n",
       "                var nbb_cells = Jupyter.notebook.get_cells();\n",
       "                for (var i = 0; i < nbb_cells.length; ++i) {\n",
       "                    if (nbb_cells[i].input_prompt_number == nbb_cell_id) {\n",
       "                        if (nbb_cells[i].get_text() == nbb_unformatted_code) {\n",
       "                             nbb_cells[i].set_text(nbb_formatted_code);\n",
       "                        }\n",
       "                        break;\n",
       "                    }\n",
       "                }\n",
       "            }, 500);\n",
       "            "
      ],
      "text/plain": [
       "<IPython.core.display.Javascript object>"
      ]
     },
     "metadata": {},
     "output_type": "display_data"
    }
   ],
   "source": [
    "# Get all rows in reverse order of their index.\n",
    "df.loc[::-1]"
   ]
  },
  {
   "cell_type": "markdown",
   "id": "e4d20435",
   "metadata": {},
   "source": [
    "#### Access first column using integer label zero\n",
    "\n",
    "In `loc` integers cannot be used to access columns."
   ]
  },
  {
   "cell_type": "code",
   "execution_count": 38,
   "id": "49141a2b",
   "metadata": {},
   "outputs": [
    {
     "name": "stdout",
     "output_type": "stream",
     "text": [
      "0\n"
     ]
    },
    {
     "data": {
      "application/javascript": [
       "\n",
       "            setTimeout(function() {\n",
       "                var nbb_cell_id = 38;\n",
       "                var nbb_unformatted_code = \"try:\\n    df.loc[:, 0]  # Does not work. Throws error.\\n\\nexcept KeyError as ke:\\n    print(ke)\";\n",
       "                var nbb_formatted_code = \"try:\\n    df.loc[:, 0]  # Does not work. Throws error.\\n\\nexcept KeyError as ke:\\n    print(ke)\";\n",
       "                var nbb_cells = Jupyter.notebook.get_cells();\n",
       "                for (var i = 0; i < nbb_cells.length; ++i) {\n",
       "                    if (nbb_cells[i].input_prompt_number == nbb_cell_id) {\n",
       "                        if (nbb_cells[i].get_text() == nbb_unformatted_code) {\n",
       "                             nbb_cells[i].set_text(nbb_formatted_code);\n",
       "                        }\n",
       "                        break;\n",
       "                    }\n",
       "                }\n",
       "            }, 500);\n",
       "            "
      ],
      "text/plain": [
       "<IPython.core.display.Javascript object>"
      ]
     },
     "metadata": {},
     "output_type": "display_data"
    }
   ],
   "source": [
    "try:\n",
    "    df.loc[:, 0]  # Does not work. Throws error.\n",
    "\n",
    "except KeyError as ke:\n",
    "    print(ke)"
   ]
  },
  {
   "cell_type": "markdown",
   "id": "e84232dd",
   "metadata": {},
   "source": [
    "To access single column in a `DataFrame` use column name."
   ]
  },
  {
   "cell_type": "code",
   "execution_count": 39,
   "id": "5109da37",
   "metadata": {},
   "outputs": [
    {
     "data": {
      "text/plain": [
       "0      Codding\n",
       "1    Adventure\n",
       "2      Youtube\n",
       "3      Youtube\n",
       "4      History\n",
       "5      Cricket\n",
       "Name: AOI, dtype: object"
      ]
     },
     "execution_count": 39,
     "metadata": {},
     "output_type": "execute_result"
    },
    {
     "data": {
      "application/javascript": [
       "\n",
       "            setTimeout(function() {\n",
       "                var nbb_cell_id = 39;\n",
       "                var nbb_unformatted_code = \"df.loc[:, \\\"AOI\\\"]\";\n",
       "                var nbb_formatted_code = \"df.loc[:, \\\"AOI\\\"]\";\n",
       "                var nbb_cells = Jupyter.notebook.get_cells();\n",
       "                for (var i = 0; i < nbb_cells.length; ++i) {\n",
       "                    if (nbb_cells[i].input_prompt_number == nbb_cell_id) {\n",
       "                        if (nbb_cells[i].get_text() == nbb_unformatted_code) {\n",
       "                             nbb_cells[i].set_text(nbb_formatted_code);\n",
       "                        }\n",
       "                        break;\n",
       "                    }\n",
       "                }\n",
       "            }, 500);\n",
       "            "
      ],
      "text/plain": [
       "<IPython.core.display.Javascript object>"
      ]
     },
     "metadata": {},
     "output_type": "display_data"
    }
   ],
   "source": [
    "df.loc[:, \"AOI\"]"
   ]
  },
  {
   "cell_type": "markdown",
   "id": "71ae39a4",
   "metadata": {},
   "source": [
    "#### Access multiple columns using list of _labels_ or column names"
   ]
  },
  {
   "cell_type": "code",
   "execution_count": 40,
   "id": "91f6e762",
   "metadata": {},
   "outputs": [
    {
     "name": "stdout",
     "output_type": "stream",
     "text": [
      "Columns: ['0: Code', '1: First Name', '2: Last Name', '3: Country', '4: Age', '5: AOI', '6: Fictional']\n"
     ]
    },
    {
     "data": {
      "text/html": [
       "<div>\n",
       "<style scoped>\n",
       "    .dataframe tbody tr th:only-of-type {\n",
       "        vertical-align: middle;\n",
       "    }\n",
       "\n",
       "    .dataframe tbody tr th {\n",
       "        vertical-align: top;\n",
       "    }\n",
       "\n",
       "    .dataframe thead th {\n",
       "        text-align: right;\n",
       "    }\n",
       "</style>\n",
       "<table border=\"1\" class=\"dataframe\">\n",
       "  <thead>\n",
       "    <tr style=\"text-align: right;\">\n",
       "      <th></th>\n",
       "      <th>First Name</th>\n",
       "      <th>Last Name</th>\n",
       "      <th>Code</th>\n",
       "    </tr>\n",
       "  </thead>\n",
       "  <tbody>\n",
       "    <tr>\n",
       "      <th>0</th>\n",
       "      <td>Dheemanth</td>\n",
       "      <td>Bhat</td>\n",
       "      <td>IN028</td>\n",
       "    </tr>\n",
       "    <tr>\n",
       "      <th>1</th>\n",
       "      <td>Alex</td>\n",
       "      <td>Rider</td>\n",
       "      <td>UK007</td>\n",
       "    </tr>\n",
       "    <tr>\n",
       "      <th>2</th>\n",
       "      <td>Corey</td>\n",
       "      <td>Schafer</td>\n",
       "      <td>US003</td>\n",
       "    </tr>\n",
       "    <tr>\n",
       "      <th>3</th>\n",
       "      <td>Bucky</td>\n",
       "      <td>Roberts</td>\n",
       "      <td>US004</td>\n",
       "    </tr>\n",
       "    <tr>\n",
       "      <th>4</th>\n",
       "      <td>John</td>\n",
       "      <td>Oldman</td>\n",
       "      <td>XX001</td>\n",
       "    </tr>\n",
       "    <tr>\n",
       "      <th>5</th>\n",
       "      <td>M.S</td>\n",
       "      <td>Dhoni</td>\n",
       "      <td>IN100</td>\n",
       "    </tr>\n",
       "  </tbody>\n",
       "</table>\n",
       "</div>"
      ],
      "text/plain": [
       "  First Name Last Name   Code\n",
       "0  Dheemanth      Bhat  IN028\n",
       "1       Alex     Rider  UK007\n",
       "2      Corey   Schafer  US003\n",
       "3      Bucky   Roberts  US004\n",
       "4       John    Oldman  XX001\n",
       "5        M.S     Dhoni  IN100"
      ]
     },
     "execution_count": 40,
     "metadata": {},
     "output_type": "execute_result"
    },
    {
     "data": {
      "application/javascript": [
       "\n",
       "            setTimeout(function() {\n",
       "                var nbb_cell_id = 40;\n",
       "                var nbb_unformatted_code = \"# Equivaluent of `df.iloc[:, [1, 2, 0]]` in `loc`.\\nprint(f\\\"Columns: {[f'{index}: {column}' for index, column in enumerate(df.columns)]}\\\")\\n\\ndf.loc[:, [\\\"First Name\\\", \\\"Last Name\\\", \\\"Code\\\"]]\";\n",
       "                var nbb_formatted_code = \"# Equivaluent of `df.iloc[:, [1, 2, 0]]` in `loc`.\\nprint(f\\\"Columns: {[f'{index}: {column}' for index, column in enumerate(df.columns)]}\\\")\\n\\ndf.loc[:, [\\\"First Name\\\", \\\"Last Name\\\", \\\"Code\\\"]]\";\n",
       "                var nbb_cells = Jupyter.notebook.get_cells();\n",
       "                for (var i = 0; i < nbb_cells.length; ++i) {\n",
       "                    if (nbb_cells[i].input_prompt_number == nbb_cell_id) {\n",
       "                        if (nbb_cells[i].get_text() == nbb_unformatted_code) {\n",
       "                             nbb_cells[i].set_text(nbb_formatted_code);\n",
       "                        }\n",
       "                        break;\n",
       "                    }\n",
       "                }\n",
       "            }, 500);\n",
       "            "
      ],
      "text/plain": [
       "<IPython.core.display.Javascript object>"
      ]
     },
     "metadata": {},
     "output_type": "display_data"
    }
   ],
   "source": [
    "# Equivaluent of `df.iloc[:, [1, 2, 0]]` in `loc`.\n",
    "print(f\"Columns: {[f'{index}: {column}' for index, column in enumerate(df.columns)]}\")\n",
    "\n",
    "df.loc[:, [\"First Name\", \"Last Name\", \"Code\"]]"
   ]
  },
  {
   "cell_type": "markdown",
   "id": "4bf287f5",
   "metadata": {},
   "source": [
    "> Note: Columns are displayed based on the order passed in the list."
   ]
  },
  {
   "cell_type": "markdown",
   "id": "c198cc63",
   "metadata": {},
   "source": [
    "#### Access multiple columns using Slicing.\n",
    "\n",
    "Syntax:\n",
    "\n",
    "```python\n",
    "df.loc[start_row_lbl:end_row_lbl:offset, start_col_lbl:end_col_lbl:offset]\n",
    "```\n",
    "\n",
    "> Note:\n",
    "> 1. `end_row_lbl` and `end_col_lbl` **are inclusive** and optional.\n",
    "> 2. `offset` is integer and optional.\n",
    "> 3. Default index column **does not participate** in slicing."
   ]
  },
  {
   "cell_type": "code",
   "execution_count": 41,
   "id": "94a7d469",
   "metadata": {},
   "outputs": [
    {
     "name": "stdout",
     "output_type": "stream",
     "text": [
      "2nd Column:'Last Name', 4th Column: 'Age'\n"
     ]
    },
    {
     "data": {
      "text/html": [
       "<div>\n",
       "<style scoped>\n",
       "    .dataframe tbody tr th:only-of-type {\n",
       "        vertical-align: middle;\n",
       "    }\n",
       "\n",
       "    .dataframe tbody tr th {\n",
       "        vertical-align: top;\n",
       "    }\n",
       "\n",
       "    .dataframe thead th {\n",
       "        text-align: right;\n",
       "    }\n",
       "</style>\n",
       "<table border=\"1\" class=\"dataframe\">\n",
       "  <thead>\n",
       "    <tr style=\"text-align: right;\">\n",
       "      <th></th>\n",
       "      <th>Last Name</th>\n",
       "      <th>Country</th>\n",
       "      <th>Age</th>\n",
       "    </tr>\n",
       "  </thead>\n",
       "  <tbody>\n",
       "    <tr>\n",
       "      <th>0</th>\n",
       "      <td>Bhat</td>\n",
       "      <td>India</td>\n",
       "      <td>28.0</td>\n",
       "    </tr>\n",
       "    <tr>\n",
       "      <th>1</th>\n",
       "      <td>Rider</td>\n",
       "      <td>U.K.</td>\n",
       "      <td>14.0</td>\n",
       "    </tr>\n",
       "    <tr>\n",
       "      <th>2</th>\n",
       "      <td>Schafer</td>\n",
       "      <td>U.S.</td>\n",
       "      <td>32.0</td>\n",
       "    </tr>\n",
       "    <tr>\n",
       "      <th>3</th>\n",
       "      <td>Roberts</td>\n",
       "      <td>U.S.</td>\n",
       "      <td>37.0</td>\n",
       "    </tr>\n",
       "    <tr>\n",
       "      <th>4</th>\n",
       "      <td>Oldman</td>\n",
       "      <td>None</td>\n",
       "      <td>NaN</td>\n",
       "    </tr>\n",
       "    <tr>\n",
       "      <th>5</th>\n",
       "      <td>Dhoni</td>\n",
       "      <td>India</td>\n",
       "      <td>40.0</td>\n",
       "    </tr>\n",
       "  </tbody>\n",
       "</table>\n",
       "</div>"
      ],
      "text/plain": [
       "  Last Name Country   Age\n",
       "0      Bhat   India  28.0\n",
       "1     Rider    U.K.  14.0\n",
       "2   Schafer    U.S.  32.0\n",
       "3   Roberts    U.S.  37.0\n",
       "4    Oldman    None   NaN\n",
       "5     Dhoni   India  40.0"
      ]
     },
     "execution_count": 41,
     "metadata": {},
     "output_type": "execute_result"
    },
    {
     "data": {
      "application/javascript": [
       "\n",
       "            setTimeout(function() {\n",
       "                var nbb_cell_id = 41;\n",
       "                var nbb_unformatted_code = \"# Fetch all rows but from 2nd to 4th column.\\n# Equivaluent of `df.iloc[:, 2:4]` in `loc`.\\nprint(f\\\"2nd Column:'{df.columns[2]}', 4th Column: '{df.columns[4]}'\\\")\\n\\ndf.loc[:, \\\"Last Name\\\":\\\"Age\\\"]\";\n",
       "                var nbb_formatted_code = \"# Fetch all rows but from 2nd to 4th column.\\n# Equivaluent of `df.iloc[:, 2:4]` in `loc`.\\nprint(f\\\"2nd Column:'{df.columns[2]}', 4th Column: '{df.columns[4]}'\\\")\\n\\ndf.loc[:, \\\"Last Name\\\":\\\"Age\\\"]\";\n",
       "                var nbb_cells = Jupyter.notebook.get_cells();\n",
       "                for (var i = 0; i < nbb_cells.length; ++i) {\n",
       "                    if (nbb_cells[i].input_prompt_number == nbb_cell_id) {\n",
       "                        if (nbb_cells[i].get_text() == nbb_unformatted_code) {\n",
       "                             nbb_cells[i].set_text(nbb_formatted_code);\n",
       "                        }\n",
       "                        break;\n",
       "                    }\n",
       "                }\n",
       "            }, 500);\n",
       "            "
      ],
      "text/plain": [
       "<IPython.core.display.Javascript object>"
      ]
     },
     "metadata": {},
     "output_type": "display_data"
    }
   ],
   "source": [
    "# Fetch all rows but from 2nd to 4th column.\n",
    "# Equivaluent of `df.iloc[:, 2:4]` in `loc`.\n",
    "print(f\"2nd Column:'{df.columns[2]}', 4th Column: '{df.columns[4]}'\")\n",
    "\n",
    "df.loc[:, \"Last Name\":\"Age\"]"
   ]
  },
  {
   "cell_type": "code",
   "execution_count": 42,
   "id": "2dc6f500",
   "metadata": {},
   "outputs": [
    {
     "name": "stdout",
     "output_type": "stream",
     "text": [
      "3rd Column: Country\n"
     ]
    },
    {
     "data": {
      "text/html": [
       "<div>\n",
       "<style scoped>\n",
       "    .dataframe tbody tr th:only-of-type {\n",
       "        vertical-align: middle;\n",
       "    }\n",
       "\n",
       "    .dataframe tbody tr th {\n",
       "        vertical-align: top;\n",
       "    }\n",
       "\n",
       "    .dataframe thead th {\n",
       "        text-align: right;\n",
       "    }\n",
       "</style>\n",
       "<table border=\"1\" class=\"dataframe\">\n",
       "  <thead>\n",
       "    <tr style=\"text-align: right;\">\n",
       "      <th></th>\n",
       "      <th>Code</th>\n",
       "      <th>First Name</th>\n",
       "      <th>Last Name</th>\n",
       "      <th>Country</th>\n",
       "    </tr>\n",
       "  </thead>\n",
       "  <tbody>\n",
       "    <tr>\n",
       "      <th>0</th>\n",
       "      <td>IN028</td>\n",
       "      <td>Dheemanth</td>\n",
       "      <td>Bhat</td>\n",
       "      <td>India</td>\n",
       "    </tr>\n",
       "    <tr>\n",
       "      <th>1</th>\n",
       "      <td>UK007</td>\n",
       "      <td>Alex</td>\n",
       "      <td>Rider</td>\n",
       "      <td>U.K.</td>\n",
       "    </tr>\n",
       "    <tr>\n",
       "      <th>2</th>\n",
       "      <td>US003</td>\n",
       "      <td>Corey</td>\n",
       "      <td>Schafer</td>\n",
       "      <td>U.S.</td>\n",
       "    </tr>\n",
       "    <tr>\n",
       "      <th>3</th>\n",
       "      <td>US004</td>\n",
       "      <td>Bucky</td>\n",
       "      <td>Roberts</td>\n",
       "      <td>U.S.</td>\n",
       "    </tr>\n",
       "    <tr>\n",
       "      <th>4</th>\n",
       "      <td>XX001</td>\n",
       "      <td>John</td>\n",
       "      <td>Oldman</td>\n",
       "      <td>None</td>\n",
       "    </tr>\n",
       "    <tr>\n",
       "      <th>5</th>\n",
       "      <td>IN100</td>\n",
       "      <td>M.S</td>\n",
       "      <td>Dhoni</td>\n",
       "      <td>India</td>\n",
       "    </tr>\n",
       "  </tbody>\n",
       "</table>\n",
       "</div>"
      ],
      "text/plain": [
       "    Code First Name Last Name Country\n",
       "0  IN028  Dheemanth      Bhat   India\n",
       "1  UK007       Alex     Rider    U.K.\n",
       "2  US003      Corey   Schafer    U.S.\n",
       "3  US004      Bucky   Roberts    U.S.\n",
       "4  XX001       John    Oldman    None\n",
       "5  IN100        M.S     Dhoni   India"
      ]
     },
     "execution_count": 42,
     "metadata": {},
     "output_type": "execute_result"
    },
    {
     "data": {
      "application/javascript": [
       "\n",
       "            setTimeout(function() {\n",
       "                var nbb_cell_id = 42;\n",
       "                var nbb_unformatted_code = \"# Fetch all rows but from 1st to 3rd column.\\n# Equivaluent of `df.iloc[:, :3]` using `loc`.\\nprint(\\\"3rd Column:\\\", df.columns[3])\\n\\ndf.loc[:, :\\\"Country\\\"]\";\n",
       "                var nbb_formatted_code = \"# Fetch all rows but from 1st to 3rd column.\\n# Equivaluent of `df.iloc[:, :3]` using `loc`.\\nprint(\\\"3rd Column:\\\", df.columns[3])\\n\\ndf.loc[:, :\\\"Country\\\"]\";\n",
       "                var nbb_cells = Jupyter.notebook.get_cells();\n",
       "                for (var i = 0; i < nbb_cells.length; ++i) {\n",
       "                    if (nbb_cells[i].input_prompt_number == nbb_cell_id) {\n",
       "                        if (nbb_cells[i].get_text() == nbb_unformatted_code) {\n",
       "                             nbb_cells[i].set_text(nbb_formatted_code);\n",
       "                        }\n",
       "                        break;\n",
       "                    }\n",
       "                }\n",
       "            }, 500);\n",
       "            "
      ],
      "text/plain": [
       "<IPython.core.display.Javascript object>"
      ]
     },
     "metadata": {},
     "output_type": "display_data"
    }
   ],
   "source": [
    "# Fetch all rows but from 1st to 3rd column.\n",
    "# Equivaluent of `df.iloc[:, :3]` using `loc`.\n",
    "print(\"3rd Column:\", df.columns[3])\n",
    "\n",
    "df.loc[:, :\"Country\"]"
   ]
  },
  {
   "cell_type": "code",
   "execution_count": 43,
   "id": "048c74e6",
   "metadata": {},
   "outputs": [
    {
     "data": {
      "text/html": [
       "<div>\n",
       "<style scoped>\n",
       "    .dataframe tbody tr th:only-of-type {\n",
       "        vertical-align: middle;\n",
       "    }\n",
       "\n",
       "    .dataframe tbody tr th {\n",
       "        vertical-align: top;\n",
       "    }\n",
       "\n",
       "    .dataframe thead th {\n",
       "        text-align: right;\n",
       "    }\n",
       "</style>\n",
       "<table border=\"1\" class=\"dataframe\">\n",
       "  <thead>\n",
       "    <tr style=\"text-align: right;\">\n",
       "      <th></th>\n",
       "      <th>Fictional</th>\n",
       "      <th>AOI</th>\n",
       "      <th>Age</th>\n",
       "      <th>Country</th>\n",
       "      <th>Last Name</th>\n",
       "      <th>First Name</th>\n",
       "      <th>Code</th>\n",
       "    </tr>\n",
       "  </thead>\n",
       "  <tbody>\n",
       "    <tr>\n",
       "      <th>5</th>\n",
       "      <td>False</td>\n",
       "      <td>Cricket</td>\n",
       "      <td>40.0</td>\n",
       "      <td>India</td>\n",
       "      <td>Dhoni</td>\n",
       "      <td>M.S</td>\n",
       "      <td>IN100</td>\n",
       "    </tr>\n",
       "    <tr>\n",
       "      <th>4</th>\n",
       "      <td>True</td>\n",
       "      <td>History</td>\n",
       "      <td>NaN</td>\n",
       "      <td>None</td>\n",
       "      <td>Oldman</td>\n",
       "      <td>John</td>\n",
       "      <td>XX001</td>\n",
       "    </tr>\n",
       "    <tr>\n",
       "      <th>3</th>\n",
       "      <td>False</td>\n",
       "      <td>Youtube</td>\n",
       "      <td>37.0</td>\n",
       "      <td>U.S.</td>\n",
       "      <td>Roberts</td>\n",
       "      <td>Bucky</td>\n",
       "      <td>US004</td>\n",
       "    </tr>\n",
       "    <tr>\n",
       "      <th>2</th>\n",
       "      <td>False</td>\n",
       "      <td>Youtube</td>\n",
       "      <td>32.0</td>\n",
       "      <td>U.S.</td>\n",
       "      <td>Schafer</td>\n",
       "      <td>Corey</td>\n",
       "      <td>US003</td>\n",
       "    </tr>\n",
       "    <tr>\n",
       "      <th>1</th>\n",
       "      <td>True</td>\n",
       "      <td>Adventure</td>\n",
       "      <td>14.0</td>\n",
       "      <td>U.K.</td>\n",
       "      <td>Rider</td>\n",
       "      <td>Alex</td>\n",
       "      <td>UK007</td>\n",
       "    </tr>\n",
       "    <tr>\n",
       "      <th>0</th>\n",
       "      <td>False</td>\n",
       "      <td>Codding</td>\n",
       "      <td>28.0</td>\n",
       "      <td>India</td>\n",
       "      <td>Bhat</td>\n",
       "      <td>Dheemanth</td>\n",
       "      <td>IN028</td>\n",
       "    </tr>\n",
       "  </tbody>\n",
       "</table>\n",
       "</div>"
      ],
      "text/plain": [
       "   Fictional        AOI   Age Country Last Name First Name   Code\n",
       "5      False    Cricket  40.0   India     Dhoni        M.S  IN100\n",
       "4       True    History   NaN    None    Oldman       John  XX001\n",
       "3      False    Youtube  37.0    U.S.   Roberts      Bucky  US004\n",
       "2      False    Youtube  32.0    U.S.   Schafer      Corey  US003\n",
       "1       True  Adventure  14.0    U.K.     Rider       Alex  UK007\n",
       "0      False    Codding  28.0   India      Bhat  Dheemanth  IN028"
      ]
     },
     "execution_count": 43,
     "metadata": {},
     "output_type": "execute_result"
    },
    {
     "data": {
      "application/javascript": [
       "\n",
       "            setTimeout(function() {\n",
       "                var nbb_cell_id = 43;\n",
       "                var nbb_unformatted_code = \"# Fetch all rows and columns in reverse order of their indexes.\\ndf.loc[::-1, ::-1]\";\n",
       "                var nbb_formatted_code = \"# Fetch all rows and columns in reverse order of their indexes.\\ndf.loc[::-1, ::-1]\";\n",
       "                var nbb_cells = Jupyter.notebook.get_cells();\n",
       "                for (var i = 0; i < nbb_cells.length; ++i) {\n",
       "                    if (nbb_cells[i].input_prompt_number == nbb_cell_id) {\n",
       "                        if (nbb_cells[i].get_text() == nbb_unformatted_code) {\n",
       "                             nbb_cells[i].set_text(nbb_formatted_code);\n",
       "                        }\n",
       "                        break;\n",
       "                    }\n",
       "                }\n",
       "            }, 500);\n",
       "            "
      ],
      "text/plain": [
       "<IPython.core.display.Javascript object>"
      ]
     },
     "metadata": {},
     "output_type": "display_data"
    }
   ],
   "source": [
    "# Fetch all rows and columns in reverse order of their indexes.\n",
    "df.loc[::-1, ::-1]"
   ]
  },
  {
   "cell_type": "markdown",
   "id": "34b4805f",
   "metadata": {},
   "source": [
    "> Note:\n",
    "> 1. In `iloc` both rows and columns can be accessed **only with integers**.\n",
    "> 2. In `loc`, rows can be accessed with **integers for default indexes** and **string labels for custom indexes**.\n",
    "> 3. In `loc`, columns can be accessed **only with string labels**."
   ]
  },
  {
   "cell_type": "markdown",
   "id": "36d189b1",
   "metadata": {},
   "source": [
    "## Custom Indexes\n",
    "\n",
    "Every `DataFrame` has a default column at the far left without a column name called _index_. This column contains range of numbers where one particular number acts as integer identifier to access specific row in a `Dataframe`. This default index column contains **integers starting from zero, incremented by 1** until the last row, for example:\n",
    "\n",
    "```python\n",
    "df.loc[3]  # Returns 4th row in the DataFrame\n",
    "```\n",
    " \n",
    "To modify the default index call `set_index()` and pass the required column name as the parameter to act as new index. Syntax:\n",
    "```python\n",
    "df.set_index(\"col_name\", inplace=True)  # False is default\n",
    "```\n",
    "\n",
    "#### Default index"
   ]
  },
  {
   "cell_type": "code",
   "execution_count": 44,
   "id": "c4e7e525",
   "metadata": {},
   "outputs": [
    {
     "data": {
      "text/plain": [
       "RangeIndex(start=0, stop=6, step=1)"
      ]
     },
     "execution_count": 44,
     "metadata": {},
     "output_type": "execute_result"
    },
    {
     "data": {
      "application/javascript": [
       "\n",
       "            setTimeout(function() {\n",
       "                var nbb_cell_id = 44;\n",
       "                var nbb_unformatted_code = \"df.index\";\n",
       "                var nbb_formatted_code = \"df.index\";\n",
       "                var nbb_cells = Jupyter.notebook.get_cells();\n",
       "                for (var i = 0; i < nbb_cells.length; ++i) {\n",
       "                    if (nbb_cells[i].input_prompt_number == nbb_cell_id) {\n",
       "                        if (nbb_cells[i].get_text() == nbb_unformatted_code) {\n",
       "                             nbb_cells[i].set_text(nbb_formatted_code);\n",
       "                        }\n",
       "                        break;\n",
       "                    }\n",
       "                }\n",
       "            }, 500);\n",
       "            "
      ],
      "text/plain": [
       "<IPython.core.display.Javascript object>"
      ]
     },
     "metadata": {},
     "output_type": "display_data"
    }
   ],
   "source": [
    "df.index"
   ]
  },
  {
   "cell_type": "markdown",
   "id": "29125061",
   "metadata": {},
   "source": [
    "Set **_Code_** column as new _index_."
   ]
  },
  {
   "cell_type": "code",
   "execution_count": 45,
   "id": "c2c04917",
   "metadata": {},
   "outputs": [
    {
     "data": {
      "text/html": [
       "<div>\n",
       "<style scoped>\n",
       "    .dataframe tbody tr th:only-of-type {\n",
       "        vertical-align: middle;\n",
       "    }\n",
       "\n",
       "    .dataframe tbody tr th {\n",
       "        vertical-align: top;\n",
       "    }\n",
       "\n",
       "    .dataframe thead th {\n",
       "        text-align: right;\n",
       "    }\n",
       "</style>\n",
       "<table border=\"1\" class=\"dataframe\">\n",
       "  <thead>\n",
       "    <tr style=\"text-align: right;\">\n",
       "      <th></th>\n",
       "      <th>First Name</th>\n",
       "      <th>Last Name</th>\n",
       "      <th>Country</th>\n",
       "      <th>Age</th>\n",
       "      <th>AOI</th>\n",
       "      <th>Fictional</th>\n",
       "    </tr>\n",
       "    <tr>\n",
       "      <th>Code</th>\n",
       "      <th></th>\n",
       "      <th></th>\n",
       "      <th></th>\n",
       "      <th></th>\n",
       "      <th></th>\n",
       "      <th></th>\n",
       "    </tr>\n",
       "  </thead>\n",
       "  <tbody>\n",
       "    <tr>\n",
       "      <th>IN028</th>\n",
       "      <td>Dheemanth</td>\n",
       "      <td>Bhat</td>\n",
       "      <td>India</td>\n",
       "      <td>28.0</td>\n",
       "      <td>Codding</td>\n",
       "      <td>False</td>\n",
       "    </tr>\n",
       "    <tr>\n",
       "      <th>UK007</th>\n",
       "      <td>Alex</td>\n",
       "      <td>Rider</td>\n",
       "      <td>U.K.</td>\n",
       "      <td>14.0</td>\n",
       "      <td>Adventure</td>\n",
       "      <td>True</td>\n",
       "    </tr>\n",
       "    <tr>\n",
       "      <th>US003</th>\n",
       "      <td>Corey</td>\n",
       "      <td>Schafer</td>\n",
       "      <td>U.S.</td>\n",
       "      <td>32.0</td>\n",
       "      <td>Youtube</td>\n",
       "      <td>False</td>\n",
       "    </tr>\n",
       "    <tr>\n",
       "      <th>US004</th>\n",
       "      <td>Bucky</td>\n",
       "      <td>Roberts</td>\n",
       "      <td>U.S.</td>\n",
       "      <td>37.0</td>\n",
       "      <td>Youtube</td>\n",
       "      <td>False</td>\n",
       "    </tr>\n",
       "    <tr>\n",
       "      <th>XX001</th>\n",
       "      <td>John</td>\n",
       "      <td>Oldman</td>\n",
       "      <td>None</td>\n",
       "      <td>NaN</td>\n",
       "      <td>History</td>\n",
       "      <td>True</td>\n",
       "    </tr>\n",
       "    <tr>\n",
       "      <th>IN100</th>\n",
       "      <td>M.S</td>\n",
       "      <td>Dhoni</td>\n",
       "      <td>India</td>\n",
       "      <td>40.0</td>\n",
       "      <td>Cricket</td>\n",
       "      <td>False</td>\n",
       "    </tr>\n",
       "  </tbody>\n",
       "</table>\n",
       "</div>"
      ],
      "text/plain": [
       "      First Name Last Name Country   Age        AOI  Fictional\n",
       "Code                                                          \n",
       "IN028  Dheemanth      Bhat   India  28.0    Codding      False\n",
       "UK007       Alex     Rider    U.K.  14.0  Adventure       True\n",
       "US003      Corey   Schafer    U.S.  32.0    Youtube      False\n",
       "US004      Bucky   Roberts    U.S.  37.0    Youtube      False\n",
       "XX001       John    Oldman    None   NaN    History       True\n",
       "IN100        M.S     Dhoni   India  40.0    Cricket      False"
      ]
     },
     "execution_count": 45,
     "metadata": {},
     "output_type": "execute_result"
    },
    {
     "data": {
      "application/javascript": [
       "\n",
       "            setTimeout(function() {\n",
       "                var nbb_cell_id = 45;\n",
       "                var nbb_unformatted_code = \"df.set_index(\\\"Code\\\")\";\n",
       "                var nbb_formatted_code = \"df.set_index(\\\"Code\\\")\";\n",
       "                var nbb_cells = Jupyter.notebook.get_cells();\n",
       "                for (var i = 0; i < nbb_cells.length; ++i) {\n",
       "                    if (nbb_cells[i].input_prompt_number == nbb_cell_id) {\n",
       "                        if (nbb_cells[i].get_text() == nbb_unformatted_code) {\n",
       "                             nbb_cells[i].set_text(nbb_formatted_code);\n",
       "                        }\n",
       "                        break;\n",
       "                    }\n",
       "                }\n",
       "            }, 500);\n",
       "            "
      ],
      "text/plain": [
       "<IPython.core.display.Javascript object>"
      ]
     },
     "metadata": {},
     "output_type": "display_data"
    }
   ],
   "source": [
    "df.set_index(\"Code\")"
   ]
  },
  {
   "cell_type": "markdown",
   "id": "c5e4cee1",
   "metadata": {},
   "source": [
    "As seen in the above output now _index_ column has a name **`Code`** and entire column is bold like default _index_."
   ]
  },
  {
   "cell_type": "code",
   "execution_count": 46,
   "id": "84ad45b9",
   "metadata": {},
   "outputs": [
    {
     "data": {
      "text/html": [
       "<div>\n",
       "<style scoped>\n",
       "    .dataframe tbody tr th:only-of-type {\n",
       "        vertical-align: middle;\n",
       "    }\n",
       "\n",
       "    .dataframe tbody tr th {\n",
       "        vertical-align: top;\n",
       "    }\n",
       "\n",
       "    .dataframe thead th {\n",
       "        text-align: right;\n",
       "    }\n",
       "</style>\n",
       "<table border=\"1\" class=\"dataframe\">\n",
       "  <thead>\n",
       "    <tr style=\"text-align: right;\">\n",
       "      <th></th>\n",
       "      <th>Code</th>\n",
       "      <th>First Name</th>\n",
       "      <th>Last Name</th>\n",
       "      <th>Country</th>\n",
       "      <th>Age</th>\n",
       "      <th>AOI</th>\n",
       "      <th>Fictional</th>\n",
       "    </tr>\n",
       "  </thead>\n",
       "  <tbody>\n",
       "    <tr>\n",
       "      <th>0</th>\n",
       "      <td>IN028</td>\n",
       "      <td>Dheemanth</td>\n",
       "      <td>Bhat</td>\n",
       "      <td>India</td>\n",
       "      <td>28.0</td>\n",
       "      <td>Codding</td>\n",
       "      <td>False</td>\n",
       "    </tr>\n",
       "    <tr>\n",
       "      <th>1</th>\n",
       "      <td>UK007</td>\n",
       "      <td>Alex</td>\n",
       "      <td>Rider</td>\n",
       "      <td>U.K.</td>\n",
       "      <td>14.0</td>\n",
       "      <td>Adventure</td>\n",
       "      <td>True</td>\n",
       "    </tr>\n",
       "    <tr>\n",
       "      <th>2</th>\n",
       "      <td>US003</td>\n",
       "      <td>Corey</td>\n",
       "      <td>Schafer</td>\n",
       "      <td>U.S.</td>\n",
       "      <td>32.0</td>\n",
       "      <td>Youtube</td>\n",
       "      <td>False</td>\n",
       "    </tr>\n",
       "    <tr>\n",
       "      <th>3</th>\n",
       "      <td>US004</td>\n",
       "      <td>Bucky</td>\n",
       "      <td>Roberts</td>\n",
       "      <td>U.S.</td>\n",
       "      <td>37.0</td>\n",
       "      <td>Youtube</td>\n",
       "      <td>False</td>\n",
       "    </tr>\n",
       "    <tr>\n",
       "      <th>4</th>\n",
       "      <td>XX001</td>\n",
       "      <td>John</td>\n",
       "      <td>Oldman</td>\n",
       "      <td>None</td>\n",
       "      <td>NaN</td>\n",
       "      <td>History</td>\n",
       "      <td>True</td>\n",
       "    </tr>\n",
       "    <tr>\n",
       "      <th>5</th>\n",
       "      <td>IN100</td>\n",
       "      <td>M.S</td>\n",
       "      <td>Dhoni</td>\n",
       "      <td>India</td>\n",
       "      <td>40.0</td>\n",
       "      <td>Cricket</td>\n",
       "      <td>False</td>\n",
       "    </tr>\n",
       "  </tbody>\n",
       "</table>\n",
       "</div>"
      ],
      "text/plain": [
       "    Code First Name Last Name Country   Age        AOI  Fictional\n",
       "0  IN028  Dheemanth      Bhat   India  28.0    Codding      False\n",
       "1  UK007       Alex     Rider    U.K.  14.0  Adventure       True\n",
       "2  US003      Corey   Schafer    U.S.  32.0    Youtube      False\n",
       "3  US004      Bucky   Roberts    U.S.  37.0    Youtube      False\n",
       "4  XX001       John    Oldman    None   NaN    History       True\n",
       "5  IN100        M.S     Dhoni   India  40.0    Cricket      False"
      ]
     },
     "execution_count": 46,
     "metadata": {},
     "output_type": "execute_result"
    },
    {
     "data": {
      "application/javascript": [
       "\n",
       "            setTimeout(function() {\n",
       "                var nbb_cell_id = 46;\n",
       "                var nbb_unformatted_code = \"df  # Index is not updated\";\n",
       "                var nbb_formatted_code = \"df  # Index is not updated\";\n",
       "                var nbb_cells = Jupyter.notebook.get_cells();\n",
       "                for (var i = 0; i < nbb_cells.length; ++i) {\n",
       "                    if (nbb_cells[i].input_prompt_number == nbb_cell_id) {\n",
       "                        if (nbb_cells[i].get_text() == nbb_unformatted_code) {\n",
       "                             nbb_cells[i].set_text(nbb_formatted_code);\n",
       "                        }\n",
       "                        break;\n",
       "                    }\n",
       "                }\n",
       "            }, 500);\n",
       "            "
      ],
      "text/plain": [
       "<IPython.core.display.Javascript object>"
      ]
     },
     "metadata": {},
     "output_type": "display_data"
    }
   ],
   "source": [
    "df  # Index is not updated"
   ]
  },
  {
   "cell_type": "markdown",
   "id": "8c853bd3",
   "metadata": {},
   "source": [
    "> **Note: If `inplace` is not set to `True` then changes are not permanently stored.**"
   ]
  },
  {
   "cell_type": "code",
   "execution_count": 47,
   "id": "ba888ce5",
   "metadata": {},
   "outputs": [
    {
     "data": {
      "text/html": [
       "<div>\n",
       "<style scoped>\n",
       "    .dataframe tbody tr th:only-of-type {\n",
       "        vertical-align: middle;\n",
       "    }\n",
       "\n",
       "    .dataframe tbody tr th {\n",
       "        vertical-align: top;\n",
       "    }\n",
       "\n",
       "    .dataframe thead th {\n",
       "        text-align: right;\n",
       "    }\n",
       "</style>\n",
       "<table border=\"1\" class=\"dataframe\">\n",
       "  <thead>\n",
       "    <tr style=\"text-align: right;\">\n",
       "      <th></th>\n",
       "      <th>First Name</th>\n",
       "      <th>Last Name</th>\n",
       "      <th>Country</th>\n",
       "      <th>Age</th>\n",
       "      <th>AOI</th>\n",
       "      <th>Fictional</th>\n",
       "    </tr>\n",
       "    <tr>\n",
       "      <th>Code</th>\n",
       "      <th></th>\n",
       "      <th></th>\n",
       "      <th></th>\n",
       "      <th></th>\n",
       "      <th></th>\n",
       "      <th></th>\n",
       "    </tr>\n",
       "  </thead>\n",
       "  <tbody>\n",
       "    <tr>\n",
       "      <th>IN028</th>\n",
       "      <td>Dheemanth</td>\n",
       "      <td>Bhat</td>\n",
       "      <td>India</td>\n",
       "      <td>28.0</td>\n",
       "      <td>Codding</td>\n",
       "      <td>False</td>\n",
       "    </tr>\n",
       "    <tr>\n",
       "      <th>UK007</th>\n",
       "      <td>Alex</td>\n",
       "      <td>Rider</td>\n",
       "      <td>U.K.</td>\n",
       "      <td>14.0</td>\n",
       "      <td>Adventure</td>\n",
       "      <td>True</td>\n",
       "    </tr>\n",
       "    <tr>\n",
       "      <th>US003</th>\n",
       "      <td>Corey</td>\n",
       "      <td>Schafer</td>\n",
       "      <td>U.S.</td>\n",
       "      <td>32.0</td>\n",
       "      <td>Youtube</td>\n",
       "      <td>False</td>\n",
       "    </tr>\n",
       "    <tr>\n",
       "      <th>US004</th>\n",
       "      <td>Bucky</td>\n",
       "      <td>Roberts</td>\n",
       "      <td>U.S.</td>\n",
       "      <td>37.0</td>\n",
       "      <td>Youtube</td>\n",
       "      <td>False</td>\n",
       "    </tr>\n",
       "    <tr>\n",
       "      <th>XX001</th>\n",
       "      <td>John</td>\n",
       "      <td>Oldman</td>\n",
       "      <td>None</td>\n",
       "      <td>NaN</td>\n",
       "      <td>History</td>\n",
       "      <td>True</td>\n",
       "    </tr>\n",
       "    <tr>\n",
       "      <th>IN100</th>\n",
       "      <td>M.S</td>\n",
       "      <td>Dhoni</td>\n",
       "      <td>India</td>\n",
       "      <td>40.0</td>\n",
       "      <td>Cricket</td>\n",
       "      <td>False</td>\n",
       "    </tr>\n",
       "  </tbody>\n",
       "</table>\n",
       "</div>"
      ],
      "text/plain": [
       "      First Name Last Name Country   Age        AOI  Fictional\n",
       "Code                                                          \n",
       "IN028  Dheemanth      Bhat   India  28.0    Codding      False\n",
       "UK007       Alex     Rider    U.K.  14.0  Adventure       True\n",
       "US003      Corey   Schafer    U.S.  32.0    Youtube      False\n",
       "US004      Bucky   Roberts    U.S.  37.0    Youtube      False\n",
       "XX001       John    Oldman    None   NaN    History       True\n",
       "IN100        M.S     Dhoni   India  40.0    Cricket      False"
      ]
     },
     "execution_count": 47,
     "metadata": {},
     "output_type": "execute_result"
    },
    {
     "data": {
      "application/javascript": [
       "\n",
       "            setTimeout(function() {\n",
       "                var nbb_cell_id = 47;\n",
       "                var nbb_unformatted_code = \"df.set_index(\\\"Code\\\", inplace=True)\\ndf\";\n",
       "                var nbb_formatted_code = \"df.set_index(\\\"Code\\\", inplace=True)\\ndf\";\n",
       "                var nbb_cells = Jupyter.notebook.get_cells();\n",
       "                for (var i = 0; i < nbb_cells.length; ++i) {\n",
       "                    if (nbb_cells[i].input_prompt_number == nbb_cell_id) {\n",
       "                        if (nbb_cells[i].get_text() == nbb_unformatted_code) {\n",
       "                             nbb_cells[i].set_text(nbb_formatted_code);\n",
       "                        }\n",
       "                        break;\n",
       "                    }\n",
       "                }\n",
       "            }, 500);\n",
       "            "
      ],
      "text/plain": [
       "<IPython.core.display.Javascript object>"
      ]
     },
     "metadata": {},
     "output_type": "display_data"
    }
   ],
   "source": [
    "df.set_index(\"Code\", inplace=True)\n",
    "df"
   ]
  },
  {
   "cell_type": "markdown",
   "id": "5570c706",
   "metadata": {},
   "source": [
    "### Custom index effect on `loc` and `iloc`\n",
    "\n",
    "#### `iloc`\n",
    "\n",
    "Even after changing the default numerical index to some custom index, **`iloc` indexer only works with default index**."
   ]
  },
  {
   "cell_type": "code",
   "execution_count": 48,
   "id": "65b0319d",
   "metadata": {},
   "outputs": [
    {
     "name": "stdout",
     "output_type": "stream",
     "text": [
      "ERROR: Location based indexing can only have [integer, integer slice (START point is INCLUDED, END point is EXCLUDED), listlike of integers, boolean array] types\n",
      "\n",
      "First column of row at index 3: Bucky\n"
     ]
    },
    {
     "data": {
      "application/javascript": [
       "\n",
       "            setTimeout(function() {\n",
       "                var nbb_cell_id = 48;\n",
       "                var nbb_unformatted_code = \"try:\\n    df.iloc[\\\"US004\\\", 0]\\n\\nexcept ValueError as te:\\n    print(\\\"ERROR:\\\", te)\\n\\nfinally:\\n    print(\\\"\\\\nFirst column of row at index 3:\\\", df.iloc[3, 0])\";\n",
       "                var nbb_formatted_code = \"try:\\n    df.iloc[\\\"US004\\\", 0]\\n\\nexcept ValueError as te:\\n    print(\\\"ERROR:\\\", te)\\n\\nfinally:\\n    print(\\\"\\\\nFirst column of row at index 3:\\\", df.iloc[3, 0])\";\n",
       "                var nbb_cells = Jupyter.notebook.get_cells();\n",
       "                for (var i = 0; i < nbb_cells.length; ++i) {\n",
       "                    if (nbb_cells[i].input_prompt_number == nbb_cell_id) {\n",
       "                        if (nbb_cells[i].get_text() == nbb_unformatted_code) {\n",
       "                             nbb_cells[i].set_text(nbb_formatted_code);\n",
       "                        }\n",
       "                        break;\n",
       "                    }\n",
       "                }\n",
       "            }, 500);\n",
       "            "
      ],
      "text/plain": [
       "<IPython.core.display.Javascript object>"
      ]
     },
     "metadata": {},
     "output_type": "display_data"
    }
   ],
   "source": [
    "try:\n",
    "    df.iloc[\"US004\", 0]\n",
    "\n",
    "except ValueError as te:\n",
    "    print(\"ERROR:\", te)\n",
    "\n",
    "finally:\n",
    "    print(\"\\nFirst column of row at index 3:\", df.iloc[3, 0])"
   ]
  },
  {
   "cell_type": "markdown",
   "id": "e82de5fc",
   "metadata": {},
   "source": [
    "#### `loc`\n",
    "\n",
    "After changing default numerical index to some custom index, default numerical index no more acts as _labels_ while accessing rows in the `DataFrame`. **`loc` indexer only works with custom index**."
   ]
  },
  {
   "cell_type": "code",
   "execution_count": 49,
   "id": "f1bad5e0",
   "metadata": {},
   "outputs": [
    {
     "name": "stdout",
     "output_type": "stream",
     "text": [
      "KeyError: 5\n",
      "\n",
      "'AOI' of row at index 5: Cricket\n"
     ]
    },
    {
     "data": {
      "application/javascript": [
       "\n",
       "            setTimeout(function() {\n",
       "                var nbb_cell_id = 49;\n",
       "                var nbb_unformatted_code = \"try:\\n    df.loc[5, \\\"AOI\\\"]\\n\\nexcept KeyError as ke:\\n    print(\\\"KeyError:\\\", ke)\\n\\nfinally:\\n    print(\\\"\\\\n'AOI' of row at index 5:\\\", df.loc[\\\"IN100\\\", \\\"AOI\\\"])\";\n",
       "                var nbb_formatted_code = \"try:\\n    df.loc[5, \\\"AOI\\\"]\\n\\nexcept KeyError as ke:\\n    print(\\\"KeyError:\\\", ke)\\n\\nfinally:\\n    print(\\\"\\\\n'AOI' of row at index 5:\\\", df.loc[\\\"IN100\\\", \\\"AOI\\\"])\";\n",
       "                var nbb_cells = Jupyter.notebook.get_cells();\n",
       "                for (var i = 0; i < nbb_cells.length; ++i) {\n",
       "                    if (nbb_cells[i].input_prompt_number == nbb_cell_id) {\n",
       "                        if (nbb_cells[i].get_text() == nbb_unformatted_code) {\n",
       "                             nbb_cells[i].set_text(nbb_formatted_code);\n",
       "                        }\n",
       "                        break;\n",
       "                    }\n",
       "                }\n",
       "            }, 500);\n",
       "            "
      ],
      "text/plain": [
       "<IPython.core.display.Javascript object>"
      ]
     },
     "metadata": {},
     "output_type": "display_data"
    }
   ],
   "source": [
    "try:\n",
    "    df.loc[5, \"AOI\"]\n",
    "\n",
    "except KeyError as ke:\n",
    "    print(\"KeyError:\", ke)\n",
    "\n",
    "finally:\n",
    "    print(\"\\n'AOI' of row at index 5:\", df.loc[\"IN100\", \"AOI\"])"
   ]
  },
  {
   "cell_type": "markdown",
   "id": "14173b2d",
   "metadata": {},
   "source": [
    "### Why modify default index with a custom index?\n",
    "\n",
    "While accessing data in a `DataFrame` using `loc` indexer, columns can be addressed using strings, i.e., column names. Whereas rows has to be addressed using _default indexes_ which acts as _labels_. So after changing default _index_ column with a custom index using `set_index()`, even _rows_ of a `DataFrame` can be accessed using string _labels_ similar to columns.\n",
    "\n",
    "```python\n",
    "# Before `set_index()`\n",
    "df.loc[4, [\"First Name\", \"Last Name\"]]\n",
    "\n",
    "# After `set_index()`\n",
    "df.loc[\"XX001\", [\"First Name\", \"Last Name\"]]\n",
    "```"
   ]
  },
  {
   "cell_type": "code",
   "execution_count": 50,
   "id": "903a507b",
   "metadata": {},
   "outputs": [
    {
     "data": {
      "text/plain": [
       "First Name       John\n",
       "Last Name      Oldman\n",
       "Country          None\n",
       "Age               NaN\n",
       "AOI           History\n",
       "Fictional        True\n",
       "Name: XX001, dtype: object"
      ]
     },
     "execution_count": 50,
     "metadata": {},
     "output_type": "execute_result"
    },
    {
     "data": {
      "application/javascript": [
       "\n",
       "            setTimeout(function() {\n",
       "                var nbb_cell_id = 50;\n",
       "                var nbb_unformatted_code = \"df.loc[\\\"XX001\\\"]\";\n",
       "                var nbb_formatted_code = \"df.loc[\\\"XX001\\\"]\";\n",
       "                var nbb_cells = Jupyter.notebook.get_cells();\n",
       "                for (var i = 0; i < nbb_cells.length; ++i) {\n",
       "                    if (nbb_cells[i].input_prompt_number == nbb_cell_id) {\n",
       "                        if (nbb_cells[i].get_text() == nbb_unformatted_code) {\n",
       "                             nbb_cells[i].set_text(nbb_formatted_code);\n",
       "                        }\n",
       "                        break;\n",
       "                    }\n",
       "                }\n",
       "            }, 500);\n",
       "            "
      ],
      "text/plain": [
       "<IPython.core.display.Javascript object>"
      ]
     },
     "metadata": {},
     "output_type": "display_data"
    }
   ],
   "source": [
    "df.loc[\"XX001\"]"
   ]
  },
  {
   "cell_type": "markdown",
   "id": "5a47959a",
   "metadata": {},
   "source": [
    "#### Custom index in `DataFrame`"
   ]
  },
  {
   "cell_type": "code",
   "execution_count": 51,
   "id": "f1c06772",
   "metadata": {},
   "outputs": [
    {
     "data": {
      "text/html": [
       "<div>\n",
       "<style scoped>\n",
       "    .dataframe tbody tr th:only-of-type {\n",
       "        vertical-align: middle;\n",
       "    }\n",
       "\n",
       "    .dataframe tbody tr th {\n",
       "        vertical-align: top;\n",
       "    }\n",
       "\n",
       "    .dataframe thead th {\n",
       "        text-align: right;\n",
       "    }\n",
       "</style>\n",
       "<table border=\"1\" class=\"dataframe\">\n",
       "  <thead>\n",
       "    <tr style=\"text-align: right;\">\n",
       "      <th></th>\n",
       "      <th>First Name</th>\n",
       "      <th>Last Name</th>\n",
       "      <th>Country</th>\n",
       "      <th>Age</th>\n",
       "      <th>AOI</th>\n",
       "      <th>Fictional</th>\n",
       "    </tr>\n",
       "    <tr>\n",
       "      <th>Code</th>\n",
       "      <th></th>\n",
       "      <th></th>\n",
       "      <th></th>\n",
       "      <th></th>\n",
       "      <th></th>\n",
       "      <th></th>\n",
       "    </tr>\n",
       "  </thead>\n",
       "  <tbody>\n",
       "    <tr>\n",
       "      <th>US003</th>\n",
       "      <td>Corey</td>\n",
       "      <td>Schafer</td>\n",
       "      <td>U.S.</td>\n",
       "      <td>32.0</td>\n",
       "      <td>Youtube</td>\n",
       "      <td>False</td>\n",
       "    </tr>\n",
       "    <tr>\n",
       "      <th>US004</th>\n",
       "      <td>Bucky</td>\n",
       "      <td>Roberts</td>\n",
       "      <td>U.S.</td>\n",
       "      <td>37.0</td>\n",
       "      <td>Youtube</td>\n",
       "      <td>False</td>\n",
       "    </tr>\n",
       "  </tbody>\n",
       "</table>\n",
       "</div>"
      ],
      "text/plain": [
       "      First Name Last Name Country   Age      AOI  Fictional\n",
       "Code                                                        \n",
       "US003      Corey   Schafer    U.S.  32.0  Youtube      False\n",
       "US004      Bucky   Roberts    U.S.  37.0  Youtube      False"
      ]
     },
     "execution_count": 51,
     "metadata": {},
     "output_type": "execute_result"
    },
    {
     "data": {
      "application/javascript": [
       "\n",
       "            setTimeout(function() {\n",
       "                var nbb_cell_id = 51;\n",
       "                var nbb_unformatted_code = \"df.loc[[\\\"US003\\\", \\\"US004\\\"]]\";\n",
       "                var nbb_formatted_code = \"df.loc[[\\\"US003\\\", \\\"US004\\\"]]\";\n",
       "                var nbb_cells = Jupyter.notebook.get_cells();\n",
       "                for (var i = 0; i < nbb_cells.length; ++i) {\n",
       "                    if (nbb_cells[i].input_prompt_number == nbb_cell_id) {\n",
       "                        if (nbb_cells[i].get_text() == nbb_unformatted_code) {\n",
       "                             nbb_cells[i].set_text(nbb_formatted_code);\n",
       "                        }\n",
       "                        break;\n",
       "                    }\n",
       "                }\n",
       "            }, 500);\n",
       "            "
      ],
      "text/plain": [
       "<IPython.core.display.Javascript object>"
      ]
     },
     "metadata": {},
     "output_type": "display_data"
    }
   ],
   "source": [
    "df.loc[[\"US003\", \"US004\"]]"
   ]
  },
  {
   "cell_type": "code",
   "execution_count": 52,
   "id": "6f665372",
   "metadata": {},
   "outputs": [
    {
     "data": {
      "text/html": [
       "<div>\n",
       "<style scoped>\n",
       "    .dataframe tbody tr th:only-of-type {\n",
       "        vertical-align: middle;\n",
       "    }\n",
       "\n",
       "    .dataframe tbody tr th {\n",
       "        vertical-align: top;\n",
       "    }\n",
       "\n",
       "    .dataframe thead th {\n",
       "        text-align: right;\n",
       "    }\n",
       "</style>\n",
       "<table border=\"1\" class=\"dataframe\">\n",
       "  <thead>\n",
       "    <tr style=\"text-align: right;\">\n",
       "      <th></th>\n",
       "      <th>First Name</th>\n",
       "      <th>Last Name</th>\n",
       "      <th>Country</th>\n",
       "      <th>Age</th>\n",
       "      <th>AOI</th>\n",
       "      <th>Fictional</th>\n",
       "    </tr>\n",
       "    <tr>\n",
       "      <th>Code</th>\n",
       "      <th></th>\n",
       "      <th></th>\n",
       "      <th></th>\n",
       "      <th></th>\n",
       "      <th></th>\n",
       "      <th></th>\n",
       "    </tr>\n",
       "  </thead>\n",
       "  <tbody>\n",
       "    <tr>\n",
       "      <th>UK007</th>\n",
       "      <td>Alex</td>\n",
       "      <td>Rider</td>\n",
       "      <td>U.K.</td>\n",
       "      <td>14.0</td>\n",
       "      <td>Adventure</td>\n",
       "      <td>True</td>\n",
       "    </tr>\n",
       "    <tr>\n",
       "      <th>US003</th>\n",
       "      <td>Corey</td>\n",
       "      <td>Schafer</td>\n",
       "      <td>U.S.</td>\n",
       "      <td>32.0</td>\n",
       "      <td>Youtube</td>\n",
       "      <td>False</td>\n",
       "    </tr>\n",
       "    <tr>\n",
       "      <th>US004</th>\n",
       "      <td>Bucky</td>\n",
       "      <td>Roberts</td>\n",
       "      <td>U.S.</td>\n",
       "      <td>37.0</td>\n",
       "      <td>Youtube</td>\n",
       "      <td>False</td>\n",
       "    </tr>\n",
       "    <tr>\n",
       "      <th>XX001</th>\n",
       "      <td>John</td>\n",
       "      <td>Oldman</td>\n",
       "      <td>None</td>\n",
       "      <td>NaN</td>\n",
       "      <td>History</td>\n",
       "      <td>True</td>\n",
       "    </tr>\n",
       "  </tbody>\n",
       "</table>\n",
       "</div>"
      ],
      "text/plain": [
       "      First Name Last Name Country   Age        AOI  Fictional\n",
       "Code                                                          \n",
       "UK007       Alex     Rider    U.K.  14.0  Adventure       True\n",
       "US003      Corey   Schafer    U.S.  32.0    Youtube      False\n",
       "US004      Bucky   Roberts    U.S.  37.0    Youtube      False\n",
       "XX001       John    Oldman    None   NaN    History       True"
      ]
     },
     "execution_count": 52,
     "metadata": {},
     "output_type": "execute_result"
    },
    {
     "data": {
      "application/javascript": [
       "\n",
       "            setTimeout(function() {\n",
       "                var nbb_cell_id = 52;\n",
       "                var nbb_unformatted_code = \"df.loc[\\\"UK007\\\":\\\"XX001\\\"]\";\n",
       "                var nbb_formatted_code = \"df.loc[\\\"UK007\\\":\\\"XX001\\\"]\";\n",
       "                var nbb_cells = Jupyter.notebook.get_cells();\n",
       "                for (var i = 0; i < nbb_cells.length; ++i) {\n",
       "                    if (nbb_cells[i].input_prompt_number == nbb_cell_id) {\n",
       "                        if (nbb_cells[i].get_text() == nbb_unformatted_code) {\n",
       "                             nbb_cells[i].set_text(nbb_formatted_code);\n",
       "                        }\n",
       "                        break;\n",
       "                    }\n",
       "                }\n",
       "            }, 500);\n",
       "            "
      ],
      "text/plain": [
       "<IPython.core.display.Javascript object>"
      ]
     },
     "metadata": {},
     "output_type": "display_data"
    }
   ],
   "source": [
    "df.loc[\"UK007\":\"XX001\"]"
   ]
  },
  {
   "cell_type": "markdown",
   "id": "4d5a93cf",
   "metadata": {},
   "source": [
    "#### Custom Index in `Series`"
   ]
  },
  {
   "cell_type": "code",
   "execution_count": 53,
   "id": "b959c314",
   "metadata": {},
   "outputs": [
    {
     "data": {
      "text/plain": [
       "Code\n",
       "UK007     True\n",
       "US003    False\n",
       "US004    False\n",
       "XX001     True\n",
       "Name: Fictional, dtype: bool"
      ]
     },
     "execution_count": 53,
     "metadata": {},
     "output_type": "execute_result"
    },
    {
     "data": {
      "application/javascript": [
       "\n",
       "            setTimeout(function() {\n",
       "                var nbb_cell_id = 53;\n",
       "                var nbb_unformatted_code = \"df.loc[\\\"UK007\\\":\\\"XX001\\\", \\\"Fictional\\\"]\";\n",
       "                var nbb_formatted_code = \"df.loc[\\\"UK007\\\":\\\"XX001\\\", \\\"Fictional\\\"]\";\n",
       "                var nbb_cells = Jupyter.notebook.get_cells();\n",
       "                for (var i = 0; i < nbb_cells.length; ++i) {\n",
       "                    if (nbb_cells[i].input_prompt_number == nbb_cell_id) {\n",
       "                        if (nbb_cells[i].get_text() == nbb_unformatted_code) {\n",
       "                             nbb_cells[i].set_text(nbb_formatted_code);\n",
       "                        }\n",
       "                        break;\n",
       "                    }\n",
       "                }\n",
       "            }, 500);\n",
       "            "
      ],
      "text/plain": [
       "<IPython.core.display.Javascript object>"
      ]
     },
     "metadata": {},
     "output_type": "display_data"
    }
   ],
   "source": [
    "df.loc[\"UK007\":\"XX001\", \"Fictional\"]"
   ]
  },
  {
   "cell_type": "code",
   "execution_count": 54,
   "id": "4ff809ec",
   "metadata": {},
   "outputs": [
    {
     "data": {
      "text/plain": [
       "Code\n",
       "IN028    28.0\n",
       "UK007    14.0\n",
       "US003    32.0\n",
       "US004    37.0\n",
       "XX001     NaN\n",
       "IN100    40.0\n",
       "Name: Age, dtype: float64"
      ]
     },
     "execution_count": 54,
     "metadata": {},
     "output_type": "execute_result"
    },
    {
     "data": {
      "application/javascript": [
       "\n",
       "            setTimeout(function() {\n",
       "                var nbb_cell_id = 54;\n",
       "                var nbb_unformatted_code = \"df[\\\"Age\\\"]\";\n",
       "                var nbb_formatted_code = \"df[\\\"Age\\\"]\";\n",
       "                var nbb_cells = Jupyter.notebook.get_cells();\n",
       "                for (var i = 0; i < nbb_cells.length; ++i) {\n",
       "                    if (nbb_cells[i].input_prompt_number == nbb_cell_id) {\n",
       "                        if (nbb_cells[i].get_text() == nbb_unformatted_code) {\n",
       "                             nbb_cells[i].set_text(nbb_formatted_code);\n",
       "                        }\n",
       "                        break;\n",
       "                    }\n",
       "                }\n",
       "            }, 500);\n",
       "            "
      ],
      "text/plain": [
       "<IPython.core.display.Javascript object>"
      ]
     },
     "metadata": {},
     "output_type": "display_data"
    }
   ],
   "source": [
    "df[\"Age\"]"
   ]
  },
  {
   "cell_type": "markdown",
   "id": "79116c49",
   "metadata": {},
   "source": [
    "> Note: Default index is replaced with custom index - `Code` - for both `DataFrame` and `Series`."
   ]
  },
  {
   "cell_type": "markdown",
   "id": "004bbf63",
   "metadata": {},
   "source": [
    "### How to revert from custom index to default integer index?"
   ]
  },
  {
   "cell_type": "code",
   "execution_count": 55,
   "id": "1da915b1",
   "metadata": {},
   "outputs": [
    {
     "data": {
      "text/html": [
       "<div>\n",
       "<style scoped>\n",
       "    .dataframe tbody tr th:only-of-type {\n",
       "        vertical-align: middle;\n",
       "    }\n",
       "\n",
       "    .dataframe tbody tr th {\n",
       "        vertical-align: top;\n",
       "    }\n",
       "\n",
       "    .dataframe thead th {\n",
       "        text-align: right;\n",
       "    }\n",
       "</style>\n",
       "<table border=\"1\" class=\"dataframe\">\n",
       "  <thead>\n",
       "    <tr style=\"text-align: right;\">\n",
       "      <th></th>\n",
       "      <th>Code</th>\n",
       "      <th>First Name</th>\n",
       "      <th>Last Name</th>\n",
       "      <th>Country</th>\n",
       "      <th>Age</th>\n",
       "      <th>AOI</th>\n",
       "      <th>Fictional</th>\n",
       "    </tr>\n",
       "  </thead>\n",
       "  <tbody>\n",
       "    <tr>\n",
       "      <th>0</th>\n",
       "      <td>IN028</td>\n",
       "      <td>Dheemanth</td>\n",
       "      <td>Bhat</td>\n",
       "      <td>India</td>\n",
       "      <td>28.0</td>\n",
       "      <td>Codding</td>\n",
       "      <td>False</td>\n",
       "    </tr>\n",
       "    <tr>\n",
       "      <th>1</th>\n",
       "      <td>UK007</td>\n",
       "      <td>Alex</td>\n",
       "      <td>Rider</td>\n",
       "      <td>U.K.</td>\n",
       "      <td>14.0</td>\n",
       "      <td>Adventure</td>\n",
       "      <td>True</td>\n",
       "    </tr>\n",
       "    <tr>\n",
       "      <th>2</th>\n",
       "      <td>US003</td>\n",
       "      <td>Corey</td>\n",
       "      <td>Schafer</td>\n",
       "      <td>U.S.</td>\n",
       "      <td>32.0</td>\n",
       "      <td>Youtube</td>\n",
       "      <td>False</td>\n",
       "    </tr>\n",
       "    <tr>\n",
       "      <th>3</th>\n",
       "      <td>US004</td>\n",
       "      <td>Bucky</td>\n",
       "      <td>Roberts</td>\n",
       "      <td>U.S.</td>\n",
       "      <td>37.0</td>\n",
       "      <td>Youtube</td>\n",
       "      <td>False</td>\n",
       "    </tr>\n",
       "    <tr>\n",
       "      <th>4</th>\n",
       "      <td>XX001</td>\n",
       "      <td>John</td>\n",
       "      <td>Oldman</td>\n",
       "      <td>None</td>\n",
       "      <td>NaN</td>\n",
       "      <td>History</td>\n",
       "      <td>True</td>\n",
       "    </tr>\n",
       "    <tr>\n",
       "      <th>5</th>\n",
       "      <td>IN100</td>\n",
       "      <td>M.S</td>\n",
       "      <td>Dhoni</td>\n",
       "      <td>India</td>\n",
       "      <td>40.0</td>\n",
       "      <td>Cricket</td>\n",
       "      <td>False</td>\n",
       "    </tr>\n",
       "  </tbody>\n",
       "</table>\n",
       "</div>"
      ],
      "text/plain": [
       "    Code First Name Last Name Country   Age        AOI  Fictional\n",
       "0  IN028  Dheemanth      Bhat   India  28.0    Codding      False\n",
       "1  UK007       Alex     Rider    U.K.  14.0  Adventure       True\n",
       "2  US003      Corey   Schafer    U.S.  32.0    Youtube      False\n",
       "3  US004      Bucky   Roberts    U.S.  37.0    Youtube      False\n",
       "4  XX001       John    Oldman    None   NaN    History       True\n",
       "5  IN100        M.S     Dhoni   India  40.0    Cricket      False"
      ]
     },
     "execution_count": 55,
     "metadata": {},
     "output_type": "execute_result"
    },
    {
     "data": {
      "application/javascript": [
       "\n",
       "            setTimeout(function() {\n",
       "                var nbb_cell_id = 55;\n",
       "                var nbb_unformatted_code = \"df.reset_index(inplace=True)\\ndf\";\n",
       "                var nbb_formatted_code = \"df.reset_index(inplace=True)\\ndf\";\n",
       "                var nbb_cells = Jupyter.notebook.get_cells();\n",
       "                for (var i = 0; i < nbb_cells.length; ++i) {\n",
       "                    if (nbb_cells[i].input_prompt_number == nbb_cell_id) {\n",
       "                        if (nbb_cells[i].get_text() == nbb_unformatted_code) {\n",
       "                             nbb_cells[i].set_text(nbb_formatted_code);\n",
       "                        }\n",
       "                        break;\n",
       "                    }\n",
       "                }\n",
       "            }, 500);\n",
       "            "
      ],
      "text/plain": [
       "<IPython.core.display.Javascript object>"
      ]
     },
     "metadata": {},
     "output_type": "display_data"
    }
   ],
   "source": [
    "df.reset_index(inplace=True)\n",
    "df"
   ]
  },
  {
   "cell_type": "markdown",
   "id": "54b17b78",
   "metadata": {},
   "source": [
    "> Note:\n",
    "> 1. Index is not reverted permanently if **`inplace`** is not set to `True`.\n",
    "> 2. Run `reset_index` only once."
   ]
  },
  {
   "cell_type": "markdown",
   "id": "2f27457c",
   "metadata": {},
   "source": [
    "### Sorting Index column\n",
    "\n",
    "Syntax:\n",
    "```python\n",
    "df.sort_index(inplace=True, ascending=False)  # inplace: False is default, ascending: True is default \n",
    "```\n",
    "\n",
    "Set **_Code_** column as custom index."
   ]
  },
  {
   "cell_type": "code",
   "execution_count": 56,
   "id": "5c49d7d4",
   "metadata": {},
   "outputs": [
    {
     "data": {
      "application/javascript": [
       "\n",
       "            setTimeout(function() {\n",
       "                var nbb_cell_id = 56;\n",
       "                var nbb_unformatted_code = \"df.set_index(\\\"Code\\\", inplace=True)\";\n",
       "                var nbb_formatted_code = \"df.set_index(\\\"Code\\\", inplace=True)\";\n",
       "                var nbb_cells = Jupyter.notebook.get_cells();\n",
       "                for (var i = 0; i < nbb_cells.length; ++i) {\n",
       "                    if (nbb_cells[i].input_prompt_number == nbb_cell_id) {\n",
       "                        if (nbb_cells[i].get_text() == nbb_unformatted_code) {\n",
       "                             nbb_cells[i].set_text(nbb_formatted_code);\n",
       "                        }\n",
       "                        break;\n",
       "                    }\n",
       "                }\n",
       "            }, 500);\n",
       "            "
      ],
      "text/plain": [
       "<IPython.core.display.Javascript object>"
      ]
     },
     "metadata": {},
     "output_type": "display_data"
    }
   ],
   "source": [
    "df.set_index(\"Code\", inplace=True)"
   ]
  },
  {
   "cell_type": "markdown",
   "id": "302822c1",
   "metadata": {},
   "source": [
    "Sorting index column in **ascending** order."
   ]
  },
  {
   "cell_type": "code",
   "execution_count": 57,
   "id": "9fdfa8bf",
   "metadata": {},
   "outputs": [
    {
     "data": {
      "text/html": [
       "<div>\n",
       "<style scoped>\n",
       "    .dataframe tbody tr th:only-of-type {\n",
       "        vertical-align: middle;\n",
       "    }\n",
       "\n",
       "    .dataframe tbody tr th {\n",
       "        vertical-align: top;\n",
       "    }\n",
       "\n",
       "    .dataframe thead th {\n",
       "        text-align: right;\n",
       "    }\n",
       "</style>\n",
       "<table border=\"1\" class=\"dataframe\">\n",
       "  <thead>\n",
       "    <tr style=\"text-align: right;\">\n",
       "      <th></th>\n",
       "      <th>First Name</th>\n",
       "      <th>Last Name</th>\n",
       "      <th>Country</th>\n",
       "      <th>Age</th>\n",
       "      <th>AOI</th>\n",
       "      <th>Fictional</th>\n",
       "    </tr>\n",
       "    <tr>\n",
       "      <th>Code</th>\n",
       "      <th></th>\n",
       "      <th></th>\n",
       "      <th></th>\n",
       "      <th></th>\n",
       "      <th></th>\n",
       "      <th></th>\n",
       "    </tr>\n",
       "  </thead>\n",
       "  <tbody>\n",
       "    <tr>\n",
       "      <th>IN028</th>\n",
       "      <td>Dheemanth</td>\n",
       "      <td>Bhat</td>\n",
       "      <td>India</td>\n",
       "      <td>28.0</td>\n",
       "      <td>Codding</td>\n",
       "      <td>False</td>\n",
       "    </tr>\n",
       "    <tr>\n",
       "      <th>IN100</th>\n",
       "      <td>M.S</td>\n",
       "      <td>Dhoni</td>\n",
       "      <td>India</td>\n",
       "      <td>40.0</td>\n",
       "      <td>Cricket</td>\n",
       "      <td>False</td>\n",
       "    </tr>\n",
       "    <tr>\n",
       "      <th>UK007</th>\n",
       "      <td>Alex</td>\n",
       "      <td>Rider</td>\n",
       "      <td>U.K.</td>\n",
       "      <td>14.0</td>\n",
       "      <td>Adventure</td>\n",
       "      <td>True</td>\n",
       "    </tr>\n",
       "    <tr>\n",
       "      <th>US003</th>\n",
       "      <td>Corey</td>\n",
       "      <td>Schafer</td>\n",
       "      <td>U.S.</td>\n",
       "      <td>32.0</td>\n",
       "      <td>Youtube</td>\n",
       "      <td>False</td>\n",
       "    </tr>\n",
       "    <tr>\n",
       "      <th>US004</th>\n",
       "      <td>Bucky</td>\n",
       "      <td>Roberts</td>\n",
       "      <td>U.S.</td>\n",
       "      <td>37.0</td>\n",
       "      <td>Youtube</td>\n",
       "      <td>False</td>\n",
       "    </tr>\n",
       "    <tr>\n",
       "      <th>XX001</th>\n",
       "      <td>John</td>\n",
       "      <td>Oldman</td>\n",
       "      <td>None</td>\n",
       "      <td>NaN</td>\n",
       "      <td>History</td>\n",
       "      <td>True</td>\n",
       "    </tr>\n",
       "  </tbody>\n",
       "</table>\n",
       "</div>"
      ],
      "text/plain": [
       "      First Name Last Name Country   Age        AOI  Fictional\n",
       "Code                                                          \n",
       "IN028  Dheemanth      Bhat   India  28.0    Codding      False\n",
       "IN100        M.S     Dhoni   India  40.0    Cricket      False\n",
       "UK007       Alex     Rider    U.K.  14.0  Adventure       True\n",
       "US003      Corey   Schafer    U.S.  32.0    Youtube      False\n",
       "US004      Bucky   Roberts    U.S.  37.0    Youtube      False\n",
       "XX001       John    Oldman    None   NaN    History       True"
      ]
     },
     "execution_count": 57,
     "metadata": {},
     "output_type": "execute_result"
    },
    {
     "data": {
      "application/javascript": [
       "\n",
       "            setTimeout(function() {\n",
       "                var nbb_cell_id = 57;\n",
       "                var nbb_unformatted_code = \"df.sort_index()  # Sorted indexes are not preserved unless `inplace` is set to `True`.\";\n",
       "                var nbb_formatted_code = \"df.sort_index()  # Sorted indexes are not preserved unless `inplace` is set to `True`.\";\n",
       "                var nbb_cells = Jupyter.notebook.get_cells();\n",
       "                for (var i = 0; i < nbb_cells.length; ++i) {\n",
       "                    if (nbb_cells[i].input_prompt_number == nbb_cell_id) {\n",
       "                        if (nbb_cells[i].get_text() == nbb_unformatted_code) {\n",
       "                             nbb_cells[i].set_text(nbb_formatted_code);\n",
       "                        }\n",
       "                        break;\n",
       "                    }\n",
       "                }\n",
       "            }, 500);\n",
       "            "
      ],
      "text/plain": [
       "<IPython.core.display.Javascript object>"
      ]
     },
     "metadata": {},
     "output_type": "display_data"
    }
   ],
   "source": [
    "df.sort_index()  # Sorted indexes are not preserved unless `inplace` is set to `True`."
   ]
  },
  {
   "cell_type": "markdown",
   "id": "3b12897e",
   "metadata": {},
   "source": [
    "Sorting index column in **descending** order."
   ]
  },
  {
   "cell_type": "code",
   "execution_count": 58,
   "id": "5eb76695",
   "metadata": {},
   "outputs": [
    {
     "data": {
      "text/html": [
       "<div>\n",
       "<style scoped>\n",
       "    .dataframe tbody tr th:only-of-type {\n",
       "        vertical-align: middle;\n",
       "    }\n",
       "\n",
       "    .dataframe tbody tr th {\n",
       "        vertical-align: top;\n",
       "    }\n",
       "\n",
       "    .dataframe thead th {\n",
       "        text-align: right;\n",
       "    }\n",
       "</style>\n",
       "<table border=\"1\" class=\"dataframe\">\n",
       "  <thead>\n",
       "    <tr style=\"text-align: right;\">\n",
       "      <th></th>\n",
       "      <th>First Name</th>\n",
       "      <th>Last Name</th>\n",
       "      <th>Country</th>\n",
       "      <th>Age</th>\n",
       "      <th>AOI</th>\n",
       "      <th>Fictional</th>\n",
       "    </tr>\n",
       "    <tr>\n",
       "      <th>Code</th>\n",
       "      <th></th>\n",
       "      <th></th>\n",
       "      <th></th>\n",
       "      <th></th>\n",
       "      <th></th>\n",
       "      <th></th>\n",
       "    </tr>\n",
       "  </thead>\n",
       "  <tbody>\n",
       "    <tr>\n",
       "      <th>XX001</th>\n",
       "      <td>John</td>\n",
       "      <td>Oldman</td>\n",
       "      <td>None</td>\n",
       "      <td>NaN</td>\n",
       "      <td>History</td>\n",
       "      <td>True</td>\n",
       "    </tr>\n",
       "    <tr>\n",
       "      <th>US004</th>\n",
       "      <td>Bucky</td>\n",
       "      <td>Roberts</td>\n",
       "      <td>U.S.</td>\n",
       "      <td>37.0</td>\n",
       "      <td>Youtube</td>\n",
       "      <td>False</td>\n",
       "    </tr>\n",
       "    <tr>\n",
       "      <th>US003</th>\n",
       "      <td>Corey</td>\n",
       "      <td>Schafer</td>\n",
       "      <td>U.S.</td>\n",
       "      <td>32.0</td>\n",
       "      <td>Youtube</td>\n",
       "      <td>False</td>\n",
       "    </tr>\n",
       "    <tr>\n",
       "      <th>UK007</th>\n",
       "      <td>Alex</td>\n",
       "      <td>Rider</td>\n",
       "      <td>U.K.</td>\n",
       "      <td>14.0</td>\n",
       "      <td>Adventure</td>\n",
       "      <td>True</td>\n",
       "    </tr>\n",
       "    <tr>\n",
       "      <th>IN100</th>\n",
       "      <td>M.S</td>\n",
       "      <td>Dhoni</td>\n",
       "      <td>India</td>\n",
       "      <td>40.0</td>\n",
       "      <td>Cricket</td>\n",
       "      <td>False</td>\n",
       "    </tr>\n",
       "    <tr>\n",
       "      <th>IN028</th>\n",
       "      <td>Dheemanth</td>\n",
       "      <td>Bhat</td>\n",
       "      <td>India</td>\n",
       "      <td>28.0</td>\n",
       "      <td>Codding</td>\n",
       "      <td>False</td>\n",
       "    </tr>\n",
       "  </tbody>\n",
       "</table>\n",
       "</div>"
      ],
      "text/plain": [
       "      First Name Last Name Country   Age        AOI  Fictional\n",
       "Code                                                          \n",
       "XX001       John    Oldman    None   NaN    History       True\n",
       "US004      Bucky   Roberts    U.S.  37.0    Youtube      False\n",
       "US003      Corey   Schafer    U.S.  32.0    Youtube      False\n",
       "UK007       Alex     Rider    U.K.  14.0  Adventure       True\n",
       "IN100        M.S     Dhoni   India  40.0    Cricket      False\n",
       "IN028  Dheemanth      Bhat   India  28.0    Codding      False"
      ]
     },
     "execution_count": 58,
     "metadata": {},
     "output_type": "execute_result"
    },
    {
     "data": {
      "application/javascript": [
       "\n",
       "            setTimeout(function() {\n",
       "                var nbb_cell_id = 58;\n",
       "                var nbb_unformatted_code = \"df.sort_index(ascending=False)  # Sorted indexes are not preserved unless `inplace` is set to `True`.\";\n",
       "                var nbb_formatted_code = \"df.sort_index(ascending=False)  # Sorted indexes are not preserved unless `inplace` is set to `True`.\";\n",
       "                var nbb_cells = Jupyter.notebook.get_cells();\n",
       "                for (var i = 0; i < nbb_cells.length; ++i) {\n",
       "                    if (nbb_cells[i].input_prompt_number == nbb_cell_id) {\n",
       "                        if (nbb_cells[i].get_text() == nbb_unformatted_code) {\n",
       "                             nbb_cells[i].set_text(nbb_formatted_code);\n",
       "                        }\n",
       "                        break;\n",
       "                    }\n",
       "                }\n",
       "            }, 500);\n",
       "            "
      ],
      "text/plain": [
       "<IPython.core.display.Javascript object>"
      ]
     },
     "metadata": {},
     "output_type": "display_data"
    }
   ],
   "source": [
    "df.sort_index(ascending=False)  # Sorted indexes are not preserved unless `inplace` is set to `True`."
   ]
  },
  {
   "cell_type": "markdown",
   "id": "5e8a90dd",
   "metadata": {},
   "source": [
    "## Filters"
   ]
  },
  {
   "cell_type": "code",
   "execution_count": null,
   "id": "c717d0ac",
   "metadata": {},
   "outputs": [],
   "source": []
  }
 ],
 "metadata": {
  "kernelspec": {
   "display_name": "Python 3 (ipykernel)",
   "language": "python",
   "name": "python3"
  },
  "language_info": {
   "codemirror_mode": {
    "name": "ipython",
    "version": 3
   },
   "file_extension": ".py",
   "mimetype": "text/x-python",
   "name": "python",
   "nbconvert_exporter": "python",
   "pygments_lexer": "ipython3",
   "version": "3.9.7"
  }
 },
 "nbformat": 4,
 "nbformat_minor": 5
}
