{
 "cells": [
  {
   "cell_type": "code",
   "execution_count": 1,
   "id": "9c33b809",
   "metadata": {},
   "outputs": [
    {
     "data": {
      "application/javascript": [
       "\n",
       "            setTimeout(function() {\n",
       "                var nbb_cell_id = 1;\n",
       "                var nbb_unformatted_code = \"# Enable code formatting using external plugin: nb_black.\\n%reload_ext nb_black\";\n",
       "                var nbb_formatted_code = \"# Enable code formatting using external plugin: nb_black.\\n%reload_ext nb_black\";\n",
       "                var nbb_cells = Jupyter.notebook.get_cells();\n",
       "                for (var i = 0; i < nbb_cells.length; ++i) {\n",
       "                    if (nbb_cells[i].input_prompt_number == nbb_cell_id) {\n",
       "                        if (nbb_cells[i].get_text() == nbb_unformatted_code) {\n",
       "                             nbb_cells[i].set_text(nbb_formatted_code);\n",
       "                        }\n",
       "                        break;\n",
       "                    }\n",
       "                }\n",
       "            }, 500);\n",
       "            "
      ],
      "text/plain": [
       "<IPython.core.display.Javascript object>"
      ]
     },
     "metadata": {},
     "output_type": "display_data"
    }
   ],
   "source": [
    "# Enable code formatting using external plugin: nb_black.\n",
    "%reload_ext nb_black"
   ]
  },
  {
   "cell_type": "markdown",
   "id": "2f55fd95",
   "metadata": {},
   "source": [
    "# Matplotlib Tutorial - PART 3\n",
    "\n",
    "**Ref: [Matplotlib Tutorials][1] by [Corey Schafer][2]**\n",
    "\n",
    "[1]: https://youtube.com/playlist?list=PL-osiE80TeTvipOqomVEeZ1HRrcEvtZB_\n",
    "[2]: https://coreyms.com/"
   ]
  },
  {
   "cell_type": "markdown",
   "id": "3ae4b3b5",
   "metadata": {},
   "source": [
    "### Import `matplotlib` and other required libraries"
   ]
  },
  {
   "cell_type": "code",
   "execution_count": 2,
   "id": "7ef2f0e4",
   "metadata": {},
   "outputs": [
    {
     "name": "stdout",
     "output_type": "stream",
     "text": [
      "Matplotlib version:  3.4.3\n"
     ]
    },
    {
     "data": {
      "application/javascript": [
       "\n",
       "            setTimeout(function() {\n",
       "                var nbb_cell_id = 2;\n",
       "                var nbb_unformatted_code = \"import matplotlib\\nimport matplotlib.pyplot as plt\\nimport pandas as pd\\nimport numpy as np\\n\\nprint(\\\"Matplotlib version: \\\", matplotlib.__version__)\";\n",
       "                var nbb_formatted_code = \"import matplotlib\\nimport matplotlib.pyplot as plt\\nimport pandas as pd\\nimport numpy as np\\n\\nprint(\\\"Matplotlib version: \\\", matplotlib.__version__)\";\n",
       "                var nbb_cells = Jupyter.notebook.get_cells();\n",
       "                for (var i = 0; i < nbb_cells.length; ++i) {\n",
       "                    if (nbb_cells[i].input_prompt_number == nbb_cell_id) {\n",
       "                        if (nbb_cells[i].get_text() == nbb_unformatted_code) {\n",
       "                             nbb_cells[i].set_text(nbb_formatted_code);\n",
       "                        }\n",
       "                        break;\n",
       "                    }\n",
       "                }\n",
       "            }, 500);\n",
       "            "
      ],
      "text/plain": [
       "<IPython.core.display.Javascript object>"
      ]
     },
     "metadata": {},
     "output_type": "display_data"
    }
   ],
   "source": [
    "import matplotlib\n",
    "import matplotlib.pyplot as plt\n",
    "import pandas as pd\n",
    "import numpy as np\n",
    "\n",
    "print(\"Matplotlib version: \", matplotlib.__version__)"
   ]
  },
  {
   "cell_type": "markdown",
   "id": "a2dc7442",
   "metadata": {},
   "source": [
    "### Pie Chart\n",
    "\n",
    "`plt.plot()` uses _Line plot_ by default. To plot the values as a _Bar chart_ use `plt.bar()`.\n",
    "\n",
    "#### Simple Pie Chart"
   ]
  },
  {
   "cell_type": "code",
   "execution_count": 3,
   "id": "1c31ee5a",
   "metadata": {},
   "outputs": [
    {
     "data": {
      "image/png": "[encoded data removed]",
      "text/plain": [
       "<Figure size 432x288 with 1 Axes>"
      ]
     },
     "metadata": {},
     "output_type": "display_data"
    },
    {
     "data": {
      "application/javascript": [
       "\n",
       "            setTimeout(function() {\n",
       "                var nbb_cell_id = 3;\n",
       "                var nbb_unformatted_code = \"slices = [120, 80, 300, 150]\\nlabels = [\\\"Class A\\\", \\\"Class B\\\", \\\"Class C\\\", \\\"Class D\\\"]\\ncolors = [\\\"#4B8BBE\\\", \\\"#FB7A24\\\", \\\"#F0DB4F\\\", \\\"#323330\\\"]\\n\\nplt.pie(x=slices, labels=labels, colors=colors, wedgeprops={\\\"edgecolor\\\": \\\"black\\\"})\\n\\nplt.title(\\\"Simple pie chart\\\")\\n\\nplt.show()\";\n",
       "                var nbb_formatted_code = \"slices = [120, 80, 300, 150]\\nlabels = [\\\"Class A\\\", \\\"Class B\\\", \\\"Class C\\\", \\\"Class D\\\"]\\ncolors = [\\\"#4B8BBE\\\", \\\"#FB7A24\\\", \\\"#F0DB4F\\\", \\\"#323330\\\"]\\n\\nplt.pie(x=slices, labels=labels, colors=colors, wedgeprops={\\\"edgecolor\\\": \\\"black\\\"})\\n\\nplt.title(\\\"Simple pie chart\\\")\\n\\nplt.show()\";\n",
       "                var nbb_cells = Jupyter.notebook.get_cells();\n",
       "                for (var i = 0; i < nbb_cells.length; ++i) {\n",
       "                    if (nbb_cells[i].input_prompt_number == nbb_cell_id) {\n",
       "                        if (nbb_cells[i].get_text() == nbb_unformatted_code) {\n",
       "                             nbb_cells[i].set_text(nbb_formatted_code);\n",
       "                        }\n",
       "                        break;\n",
       "                    }\n",
       "                }\n",
       "            }, 500);\n",
       "            "
      ],
      "text/plain": [
       "<IPython.core.display.Javascript object>"
      ]
     },
     "metadata": {},
     "output_type": "display_data"
    }
   ],
   "source": [
    "slices = [120, 80, 300, 150]\n",
    "labels = [\"Class A\", \"Class B\", \"Class C\", \"Class D\"]\n",
    "colors = [\"#4B8BBE\", \"#FB7A24\", \"#F0DB4F\", \"#323330\"]\n",
    "\n",
    "plt.pie(x=slices, labels=labels, colors=colors, wedgeprops={\"edgecolor\": \"black\"})\n",
    "\n",
    "plt.title(\"Simple pie chart\")\n",
    "\n",
    "plt.show()"
   ]
  },
  {
   "cell_type": "markdown",
   "id": "dbba28df",
   "metadata": {},
   "source": [
    "### Load sample data from a csv file using `pandas` library"
   ]
  },
  {
   "cell_type": "code",
   "execution_count": 4,
   "id": "81ddf41e",
   "metadata": {},
   "outputs": [
    {
     "name": "stdout",
     "output_type": "stream",
     "text": [
      "Number of rows: 87569\n",
      "Number of columns: 1\n"
     ]
    },
    {
     "data": {
      "text/html": [
       "<div>\n",
       "<style scoped>\n",
       "    .dataframe tbody tr th:only-of-type {\n",
       "        vertical-align: middle;\n",
       "    }\n",
       "\n",
       "    .dataframe tbody tr th {\n",
       "        vertical-align: top;\n",
       "    }\n",
       "\n",
       "    .dataframe thead th {\n",
       "        text-align: right;\n",
       "    }\n",
       "</style>\n",
       "<table border=\"1\" class=\"dataframe\">\n",
       "  <thead>\n",
       "    <tr style=\"text-align: right;\">\n",
       "      <th></th>\n",
       "      <th>LanguagesWorkedWith</th>\n",
       "    </tr>\n",
       "    <tr>\n",
       "      <th>Responder_id</th>\n",
       "      <th></th>\n",
       "    </tr>\n",
       "  </thead>\n",
       "  <tbody>\n",
       "    <tr>\n",
       "      <th>1</th>\n",
       "      <td>HTML/CSS;Java;JavaScript;Python</td>\n",
       "    </tr>\n",
       "    <tr>\n",
       "      <th>2</th>\n",
       "      <td>C++;HTML/CSS;Python</td>\n",
       "    </tr>\n",
       "    <tr>\n",
       "      <th>3</th>\n",
       "      <td>HTML/CSS</td>\n",
       "    </tr>\n",
       "  </tbody>\n",
       "</table>\n",
       "</div>"
      ],
      "text/plain": [
       "                          LanguagesWorkedWith\n",
       "Responder_id                                 \n",
       "1             HTML/CSS;Java;JavaScript;Python\n",
       "2                         C++;HTML/CSS;Python\n",
       "3                                    HTML/CSS"
      ]
     },
     "execution_count": 4,
     "metadata": {},
     "output_type": "execute_result"
    },
    {
     "data": {
      "application/javascript": [
       "\n",
       "            setTimeout(function() {\n",
       "                var nbb_cell_id = 4;\n",
       "                var nbb_unformatted_code = \"df = pd.read_csv(\\\"./data.csv\\\", index_col=\\\"Responder_id\\\")\\n\\nrows, cols = df.shape\\n\\nprint(\\\"Number of rows:\\\", rows)\\nprint(\\\"Number of columns:\\\", cols)\\n\\ndf.head(3)\";\n",
       "                var nbb_formatted_code = \"df = pd.read_csv(\\\"./data.csv\\\", index_col=\\\"Responder_id\\\")\\n\\nrows, cols = df.shape\\n\\nprint(\\\"Number of rows:\\\", rows)\\nprint(\\\"Number of columns:\\\", cols)\\n\\ndf.head(3)\";\n",
       "                var nbb_cells = Jupyter.notebook.get_cells();\n",
       "                for (var i = 0; i < nbb_cells.length; ++i) {\n",
       "                    if (nbb_cells[i].input_prompt_number == nbb_cell_id) {\n",
       "                        if (nbb_cells[i].get_text() == nbb_unformatted_code) {\n",
       "                             nbb_cells[i].set_text(nbb_formatted_code);\n",
       "                        }\n",
       "                        break;\n",
       "                    }\n",
       "                }\n",
       "            }, 500);\n",
       "            "
      ],
      "text/plain": [
       "<IPython.core.display.Javascript object>"
      ]
     },
     "metadata": {},
     "output_type": "display_data"
    }
   ],
   "source": [
    "df = pd.read_csv(\"./data.csv\", index_col=\"Responder_id\")\n",
    "\n",
    "rows, cols = df.shape\n",
    "\n",
    "print(\"Number of rows:\", rows)\n",
    "print(\"Number of columns:\", cols)\n",
    "\n",
    "df.head(3)"
   ]
  },
  {
   "cell_type": "markdown",
   "id": "4823fc1c",
   "metadata": {},
   "source": [
    "#### Plot a _Pie Chart_ for top 10 programming languages"
   ]
  },
  {
   "cell_type": "code",
   "execution_count": 5,
   "id": "fabe0e0c",
   "metadata": {},
   "outputs": [
    {
     "data": {
      "image/png": "[encoded data removed]",
      "text/plain": [
       "<Figure size 432x288 with 1 Axes>"
      ]
     },
     "metadata": {},
     "output_type": "display_data"
    },
    {
     "data": {
      "application/javascript": [
       "\n",
       "            setTimeout(function() {\n",
       "                var nbb_cell_id = 5;\n",
       "                var nbb_unformatted_code = \"from collections import Counter\\n\\nlang_count = Counter()\\ndf[\\\"LanguagesWorkedWith\\\"].apply(lambda skills: lang_count.update(skills.split(\\\";\\\")))\\n\\n# Pick top 10 most common programming languages and plot a Bar Chart.\\nlabels, slices = zip(*lang_count.most_common(10))\\nexplode = [0.05, 0, 0, 0.1, 0, 0, 0, 0, 0, 0]\\n\\nplt.pie(x=slices, labels=labels, explode=explode, startangle=30, autopct=\\\"%1.0f%%\\\")\\n\\nplt.title(\\\"Most popular programming languages\\\")\\n\\nplt.show()\";\n",
       "                var nbb_formatted_code = \"from collections import Counter\\n\\nlang_count = Counter()\\ndf[\\\"LanguagesWorkedWith\\\"].apply(lambda skills: lang_count.update(skills.split(\\\";\\\")))\\n\\n# Pick top 10 most common programming languages and plot a Bar Chart.\\nlabels, slices = zip(*lang_count.most_common(10))\\nexplode = [0.05, 0, 0, 0.1, 0, 0, 0, 0, 0, 0]\\n\\nplt.pie(x=slices, labels=labels, explode=explode, startangle=30, autopct=\\\"%1.0f%%\\\")\\n\\nplt.title(\\\"Most popular programming languages\\\")\\n\\nplt.show()\";\n",
       "                var nbb_cells = Jupyter.notebook.get_cells();\n",
       "                for (var i = 0; i < nbb_cells.length; ++i) {\n",
       "                    if (nbb_cells[i].input_prompt_number == nbb_cell_id) {\n",
       "                        if (nbb_cells[i].get_text() == nbb_unformatted_code) {\n",
       "                             nbb_cells[i].set_text(nbb_formatted_code);\n",
       "                        }\n",
       "                        break;\n",
       "                    }\n",
       "                }\n",
       "            }, 500);\n",
       "            "
      ],
      "text/plain": [
       "<IPython.core.display.Javascript object>"
      ]
     },
     "metadata": {},
     "output_type": "display_data"
    }
   ],
   "source": [
    "from collections import Counter\n",
    "\n",
    "lang_count = Counter()\n",
    "df[\"LanguagesWorkedWith\"].apply(lambda skills: lang_count.update(skills.split(\";\")))\n",
    "\n",
    "# Pick top 10 most common programming languages and plot a Bar Chart.\n",
    "labels, slices = zip(*lang_count.most_common(10))\n",
    "explode = [0.05, 0, 0, 0.1, 0, 0, 0, 0, 0, 0]\n",
    "\n",
    "plt.pie(x=slices, labels=labels, explode=explode, startangle=30, autopct=\"%1.0f%%\")\n",
    "\n",
    "plt.title(\"Most popular programming languages\")\n",
    "\n",
    "plt.show()"
   ]
  },
  {
   "cell_type": "code",
   "execution_count": null,
   "id": "db5f7b37",
   "metadata": {},
   "outputs": [],
   "source": []
  }
 ],
 "metadata": {
  "kernelspec": {
   "display_name": "Python 3 (ipykernel)",
   "language": "python",
   "name": "python3"
  },
  "language_info": {
   "codemirror_mode": {
    "name": "ipython",
    "version": 3
   },
   "file_extension": ".py",
   "mimetype": "text/x-python",
   "name": "python",
   "nbconvert_exporter": "python",
   "pygments_lexer": "ipython3",
   "version": "3.9.7"
  }
 },
 "nbformat": 4,
 "nbformat_minor": 5
}
