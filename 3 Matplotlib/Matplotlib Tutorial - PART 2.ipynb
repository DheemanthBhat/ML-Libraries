{
 "cells": [
  {
   "cell_type": "code",
   "execution_count": 1,
   "id": "9c33b809",
   "metadata": {},
   "outputs": [
    {
     "data": {
      "application/javascript": [
       "\n",
       "            setTimeout(function() {\n",
       "                var nbb_cell_id = 1;\n",
       "                var nbb_unformatted_code = \"# Enable code formatting using external plugin: nb_black.\\n%reload_ext nb_black\";\n",
       "                var nbb_formatted_code = \"# Enable code formatting using external plugin: nb_black.\\n%reload_ext nb_black\";\n",
       "                var nbb_cells = Jupyter.notebook.get_cells();\n",
       "                for (var i = 0; i < nbb_cells.length; ++i) {\n",
       "                    if (nbb_cells[i].input_prompt_number == nbb_cell_id) {\n",
       "                        if (nbb_cells[i].get_text() == nbb_unformatted_code) {\n",
       "                             nbb_cells[i].set_text(nbb_formatted_code);\n",
       "                        }\n",
       "                        break;\n",
       "                    }\n",
       "                }\n",
       "            }, 500);\n",
       "            "
      ],
      "text/plain": [
       "<IPython.core.display.Javascript object>"
      ]
     },
     "metadata": {},
     "output_type": "display_data"
    }
   ],
   "source": [
    "# Enable code formatting using external plugin: nb_black.\n",
    "%reload_ext nb_black"
   ]
  },
  {
   "cell_type": "markdown",
   "id": "2f55fd95",
   "metadata": {},
   "source": [
    "# Matplotlib Tutorial - PART 2\n",
    "\n",
    "**Ref: [Matplotlib Tutorials](https://youtube.com/playlist?list=PL-osiE80TeTvipOqomVEeZ1HRrcEvtZB_) by [Corey Schafer](https://coreyms.com/)**"
   ]
  },
  {
   "cell_type": "markdown",
   "id": "3ae4b3b5",
   "metadata": {},
   "source": [
    "### Load `matplotlib` library"
   ]
  },
  {
   "cell_type": "code",
   "execution_count": 2,
   "id": "7ef2f0e4",
   "metadata": {},
   "outputs": [
    {
     "name": "stdout",
     "output_type": "stream",
     "text": [
      "Matplotlib version:  3.4.3\n"
     ]
    },
    {
     "data": {
      "application/javascript": [
       "\n",
       "            setTimeout(function() {\n",
       "                var nbb_cell_id = 2;\n",
       "                var nbb_unformatted_code = \"import matplotlib\\n\\nprint(\\\"Matplotlib version: \\\", matplotlib.__version__)\";\n",
       "                var nbb_formatted_code = \"import matplotlib\\n\\nprint(\\\"Matplotlib version: \\\", matplotlib.__version__)\";\n",
       "                var nbb_cells = Jupyter.notebook.get_cells();\n",
       "                for (var i = 0; i < nbb_cells.length; ++i) {\n",
       "                    if (nbb_cells[i].input_prompt_number == nbb_cell_id) {\n",
       "                        if (nbb_cells[i].get_text() == nbb_unformatted_code) {\n",
       "                             nbb_cells[i].set_text(nbb_formatted_code);\n",
       "                        }\n",
       "                        break;\n",
       "                    }\n",
       "                }\n",
       "            }, 500);\n",
       "            "
      ],
      "text/plain": [
       "<IPython.core.display.Javascript object>"
      ]
     },
     "metadata": {},
     "output_type": "display_data"
    }
   ],
   "source": [
    "import matplotlib\n",
    "\n",
    "print(\"Matplotlib version: \", matplotlib.__version__)"
   ]
  },
  {
   "cell_type": "markdown",
   "id": "a2dc7442",
   "metadata": {},
   "source": [
    "### Bar Chart"
   ]
  },
  {
   "cell_type": "code",
   "execution_count": 4,
   "id": "992f401e",
   "metadata": {},
   "outputs": [
    {
     "data": {
      "image/png": "[encoded data removed]",
      "text/plain": [
       "<Figure size 432x288 with 1 Axes>"
      ]
     },
     "metadata": {
      "needs_background": "light"
     },
     "output_type": "display_data"
    },
    {
     "data": {
      "application/javascript": [
       "\n",
       "            setTimeout(function() {\n",
       "                var nbb_cell_id = 4;\n",
       "                var nbb_unformatted_code = \"import matplotlib.pyplot as plt\\nimport numpy as np\\n\\nage_x = [25, 26, 27, 28, 29, 30, 31, 32, 33, 34, 35]\\nsal_y = [38496, 42000, 46752, 49320, 53200, 56000, 62316, 64928, 67317, 68748, 73752]  # All devs salary\\npy_sal_y = [45372, 48876, 53850, 57287, 63016, 65998, 70003, 70000, 71496, 75370, 83640]  # Python devs salary\\njs_sal_y = [37810, 43515, 46823, 49293, 53437, 56373, 62375, 66674, 68745, 68746, 74583]  # JS devs salary\\n\\nage_idx = np.arange(len(age_x))\\nbar_width = 0.25\\n\\n# All developers plot.\\nplt.bar(age_idx - bar_width, sal_y, width=bar_width, color=\\\"#444444\\\", label=\\\"All Devs\\\")\\n\\n# Python developers plot.\\nplt.bar(age_idx, py_sal_y, width=bar_width, color=\\\"#008FD5\\\", label=\\\"Py Devs\\\")\\n\\n# Javascript developers plot.\\nplt.bar(age_idx + bar_width, js_sal_y, width=bar_width, color=\\\"#F0DB4F\\\", label=\\\"JS Devs\\\")\\n\\nplt.xlabel(\\\"Age in years\\\")\\nplt.ylabel(\\\"Median salary in USD\\\")\\nplt.title(\\\"Median Salarry vs Age\\\")\\nplt.xticks(ticks=age_idx, labels=age_x)\\nplt.legend()\\n\\nplt.show()\";\n",
       "                var nbb_formatted_code = \"import matplotlib.pyplot as plt\\nimport numpy as np\\n\\nage_x = [25, 26, 27, 28, 29, 30, 31, 32, 33, 34, 35]\\nsal_y = [38496, 42000, 46752, 49320, 53200, 56000, 62316, 64928, 67317, 68748, 73752]  # All devs salary\\npy_sal_y = [45372, 48876, 53850, 57287, 63016, 65998, 70003, 70000, 71496, 75370, 83640]  # Python devs salary\\njs_sal_y = [37810, 43515, 46823, 49293, 53437, 56373, 62375, 66674, 68745, 68746, 74583]  # JS devs salary\\n\\nage_idx = np.arange(len(age_x))\\nbar_width = 0.25\\n\\n# All developers plot.\\nplt.bar(age_idx - bar_width, sal_y, width=bar_width, color=\\\"#444444\\\", label=\\\"All Devs\\\")\\n\\n# Python developers plot.\\nplt.bar(age_idx, py_sal_y, width=bar_width, color=\\\"#008FD5\\\", label=\\\"Py Devs\\\")\\n\\n# Javascript developers plot.\\nplt.bar(age_idx + bar_width, js_sal_y, width=bar_width, color=\\\"#F0DB4F\\\", label=\\\"JS Devs\\\")\\n\\nplt.xlabel(\\\"Age in years\\\")\\nplt.ylabel(\\\"Median salary in USD\\\")\\nplt.title(\\\"Median Salarry vs Age\\\")\\nplt.xticks(ticks=age_idx, labels=age_x)\\nplt.legend()\\n\\nplt.show()\";\n",
       "                var nbb_cells = Jupyter.notebook.get_cells();\n",
       "                for (var i = 0; i < nbb_cells.length; ++i) {\n",
       "                    if (nbb_cells[i].input_prompt_number == nbb_cell_id) {\n",
       "                        if (nbb_cells[i].get_text() == nbb_unformatted_code) {\n",
       "                             nbb_cells[i].set_text(nbb_formatted_code);\n",
       "                        }\n",
       "                        break;\n",
       "                    }\n",
       "                }\n",
       "            }, 500);\n",
       "            "
      ],
      "text/plain": [
       "<IPython.core.display.Javascript object>"
      ]
     },
     "metadata": {},
     "output_type": "display_data"
    }
   ],
   "source": [
    "import matplotlib.pyplot as plt\n",
    "import numpy as np\n",
    "\n",
    "age_x = [25, 26, 27, 28, 29, 30, 31, 32, 33, 34, 35]\n",
    "sal_y = [38496, 42000, 46752, 49320, 53200, 56000, 62316, 64928, 67317, 68748, 73752]  # All devs salary\n",
    "py_sal_y = [45372, 48876, 53850, 57287, 63016, 65998, 70003, 70000, 71496, 75370, 83640]  # Python devs salary\n",
    "js_sal_y = [37810, 43515, 46823, 49293, 53437, 56373, 62375, 66674, 68745, 68746, 74583]  # JS devs salary\n",
    "\n",
    "age_idx = np.arange(len(age_x))\n",
    "bar_width = 0.25\n",
    "\n",
    "# All developers plot.\n",
    "plt.bar(age_idx - bar_width, sal_y, width=bar_width, color=\"#444444\", label=\"All Devs\")\n",
    "\n",
    "# Python developers plot.\n",
    "plt.bar(age_idx, py_sal_y, width=bar_width, color=\"#008FD5\", label=\"Py Devs\")\n",
    "\n",
    "# Javascript developers plot.\n",
    "plt.bar(age_idx + bar_width, js_sal_y, width=bar_width, color=\"#F0DB4F\", label=\"JS Devs\")\n",
    "\n",
    "plt.xlabel(\"Age in years\")\n",
    "plt.ylabel(\"Median salary in USD\")\n",
    "plt.title(\"Median Salarry vs Age\")\n",
    "plt.xticks(ticks=age_idx, labels=age_x)\n",
    "plt.legend()\n",
    "\n",
    "plt.show()"
   ]
  },
  {
   "cell_type": "markdown",
   "id": "dbba28df",
   "metadata": {},
   "source": [
    "### Load sample data using `pandas` library"
   ]
  },
  {
   "cell_type": "code",
   "execution_count": 13,
   "id": "81ddf41e",
   "metadata": {},
   "outputs": [
    {
     "name": "stdout",
     "output_type": "stream",
     "text": [
      "Number of rows: 87569\n",
      "Number of columns: 1\n"
     ]
    },
    {
     "data": {
      "text/html": [
       "<div>\n",
       "<style scoped>\n",
       "    .dataframe tbody tr th:only-of-type {\n",
       "        vertical-align: middle;\n",
       "    }\n",
       "\n",
       "    .dataframe tbody tr th {\n",
       "        vertical-align: top;\n",
       "    }\n",
       "\n",
       "    .dataframe thead th {\n",
       "        text-align: right;\n",
       "    }\n",
       "</style>\n",
       "<table border=\"1\" class=\"dataframe\">\n",
       "  <thead>\n",
       "    <tr style=\"text-align: right;\">\n",
       "      <th></th>\n",
       "      <th>LanguagesWorkedWith</th>\n",
       "    </tr>\n",
       "    <tr>\n",
       "      <th>Responder_id</th>\n",
       "      <th></th>\n",
       "    </tr>\n",
       "  </thead>\n",
       "  <tbody>\n",
       "    <tr>\n",
       "      <th>1</th>\n",
       "      <td>HTML/CSS;Java;JavaScript;Python</td>\n",
       "    </tr>\n",
       "    <tr>\n",
       "      <th>2</th>\n",
       "      <td>C++;HTML/CSS;Python</td>\n",
       "    </tr>\n",
       "    <tr>\n",
       "      <th>3</th>\n",
       "      <td>HTML/CSS</td>\n",
       "    </tr>\n",
       "  </tbody>\n",
       "</table>\n",
       "</div>"
      ],
      "text/plain": [
       "                          LanguagesWorkedWith\n",
       "Responder_id                                 \n",
       "1             HTML/CSS;Java;JavaScript;Python\n",
       "2                         C++;HTML/CSS;Python\n",
       "3                                    HTML/CSS"
      ]
     },
     "execution_count": 13,
     "metadata": {},
     "output_type": "execute_result"
    },
    {
     "data": {
      "application/javascript": [
       "\n",
       "            setTimeout(function() {\n",
       "                var nbb_cell_id = 13;\n",
       "                var nbb_unformatted_code = \"import pandas as pd\\n\\ndf = pd.read_csv(\\\"./data.csv\\\", index_col=\\\"Responder_id\\\")\\n\\nrows, cols = df.shape\\n\\nprint(\\\"Number of rows:\\\", rows)\\nprint(\\\"Number of columns:\\\", cols)\\n\\ndf.head(3)\";\n",
       "                var nbb_formatted_code = \"import pandas as pd\\n\\ndf = pd.read_csv(\\\"./data.csv\\\", index_col=\\\"Responder_id\\\")\\n\\nrows, cols = df.shape\\n\\nprint(\\\"Number of rows:\\\", rows)\\nprint(\\\"Number of columns:\\\", cols)\\n\\ndf.head(3)\";\n",
       "                var nbb_cells = Jupyter.notebook.get_cells();\n",
       "                for (var i = 0; i < nbb_cells.length; ++i) {\n",
       "                    if (nbb_cells[i].input_prompt_number == nbb_cell_id) {\n",
       "                        if (nbb_cells[i].get_text() == nbb_unformatted_code) {\n",
       "                             nbb_cells[i].set_text(nbb_formatted_code);\n",
       "                        }\n",
       "                        break;\n",
       "                    }\n",
       "                }\n",
       "            }, 500);\n",
       "            "
      ],
      "text/plain": [
       "<IPython.core.display.Javascript object>"
      ]
     },
     "metadata": {},
     "output_type": "display_data"
    }
   ],
   "source": [
    "import pandas as pd\n",
    "\n",
    "df = pd.read_csv(\"./data.csv\", index_col=\"Responder_id\")\n",
    "\n",
    "rows, cols = df.shape\n",
    "\n",
    "print(\"Number of rows:\", rows)\n",
    "print(\"Number of columns:\", cols)\n",
    "\n",
    "df.head(3)"
   ]
  },
  {
   "cell_type": "code",
   "execution_count": 14,
   "id": "ccf50195",
   "metadata": {},
   "outputs": [
    {
     "data": {
      "text/plain": [
       "LanguagesWorkedWith                                                                     \n",
       "HTML/CSS;JavaScript;PHP;SQL                                                                 1483\n",
       "C#;HTML/CSS;JavaScript;SQL                                                                  1414\n",
       "HTML/CSS;JavaScript                                                                         1247\n",
       "C#;HTML/CSS;JavaScript;SQL;TypeScript                                                        990\n",
       "Java                                                                                         934\n",
       "                                                                                            ... \n",
       "Bash/Shell/PowerShell;Clojure;HTML/CSS;JavaScript;PHP;Python;TypeScript                        1\n",
       "Bash/Shell/PowerShell;Clojure;HTML/CSS;JavaScript;PHP;Ruby                                     1\n",
       "Bash/Shell/PowerShell;Clojure;HTML/CSS;JavaScript;PHP;Ruby;Rust;SQL;TypeScript;Other(s):       1\n",
       "Bash/Shell/PowerShell;Clojure;HTML/CSS;JavaScript;PHP;Rust;SQL;Swift;TypeScript                1\n",
       "Bash/Shell/PowerShell;Go;Java;Python;R;SQL                                                     1\n",
       "Length: 20098, dtype: int64"
      ]
     },
     "execution_count": 14,
     "metadata": {},
     "output_type": "execute_result"
    },
    {
     "data": {
      "application/javascript": [
       "\n",
       "            setTimeout(function() {\n",
       "                var nbb_cell_id = 14;\n",
       "                var nbb_unformatted_code = \"df.value_counts()\";\n",
       "                var nbb_formatted_code = \"df.value_counts()\";\n",
       "                var nbb_cells = Jupyter.notebook.get_cells();\n",
       "                for (var i = 0; i < nbb_cells.length; ++i) {\n",
       "                    if (nbb_cells[i].input_prompt_number == nbb_cell_id) {\n",
       "                        if (nbb_cells[i].get_text() == nbb_unformatted_code) {\n",
       "                             nbb_cells[i].set_text(nbb_formatted_code);\n",
       "                        }\n",
       "                        break;\n",
       "                    }\n",
       "                }\n",
       "            }, 500);\n",
       "            "
      ],
      "text/plain": [
       "<IPython.core.display.Javascript object>"
      ]
     },
     "metadata": {},
     "output_type": "display_data"
    }
   ],
   "source": [
    "df.value_counts()"
   ]
  },
  {
   "cell_type": "code",
   "execution_count": null,
   "id": "fabe0e0c",
   "metadata": {},
   "outputs": [],
   "source": []
  }
 ],
 "metadata": {
  "kernelspec": {
   "display_name": "Python 3 (ipykernel)",
   "language": "python",
   "name": "python3"
  },
  "language_info": {
   "codemirror_mode": {
    "name": "ipython",
    "version": 3
   },
   "file_extension": ".py",
   "mimetype": "text/x-python",
   "name": "python",
   "nbconvert_exporter": "python",
   "pygments_lexer": "ipython3",
   "version": "3.9.7"
  }
 },
 "nbformat": 4,
 "nbformat_minor": 5
}
