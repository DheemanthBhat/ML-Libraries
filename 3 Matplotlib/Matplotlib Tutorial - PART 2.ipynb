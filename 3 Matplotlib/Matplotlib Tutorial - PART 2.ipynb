{
 "cells": [
  {
   "cell_type": "code",
   "execution_count": 1,
   "id": "9c33b809",
   "metadata": {},
   "outputs": [
    {
     "data": {
      "application/javascript": [
       "\n",
       "            setTimeout(function() {\n",
       "                var nbb_cell_id = 1;\n",
       "                var nbb_unformatted_code = \"# Enable code formatting using external plugin: nb_black.\\n%reload_ext nb_black\";\n",
       "                var nbb_formatted_code = \"# Enable code formatting using external plugin: nb_black.\\n%reload_ext nb_black\";\n",
       "                var nbb_cells = Jupyter.notebook.get_cells();\n",
       "                for (var i = 0; i < nbb_cells.length; ++i) {\n",
       "                    if (nbb_cells[i].input_prompt_number == nbb_cell_id) {\n",
       "                        if (nbb_cells[i].get_text() == nbb_unformatted_code) {\n",
       "                             nbb_cells[i].set_text(nbb_formatted_code);\n",
       "                        }\n",
       "                        break;\n",
       "                    }\n",
       "                }\n",
       "            }, 500);\n",
       "            "
      ],
      "text/plain": [
       "<IPython.core.display.Javascript object>"
      ]
     },
     "metadata": {},
     "output_type": "display_data"
    }
   ],
   "source": [
    "# Enable code formatting using external plugin: nb_black.\n",
    "%reload_ext nb_black"
   ]
  },
  {
   "cell_type": "markdown",
   "id": "2f55fd95",
   "metadata": {},
   "source": [
    "# Matplotlib Tutorial - PART 2\n",
    "\n",
    "**Ref: [Matplotlib Tutorials][1] by [Corey Schafer][2]**\n",
    "\n",
    "[1]: https://youtube.com/playlist?list=PL-osiE80TeTvipOqomVEeZ1HRrcEvtZB_\n",
    "[2]: https://coreyms.com/"
   ]
  },
  {
   "cell_type": "markdown",
   "id": "3ae4b3b5",
   "metadata": {},
   "source": [
    "### Import `matplotlib` and other required libraries"
   ]
  },
  {
   "cell_type": "code",
   "execution_count": 2,
   "id": "7ef2f0e4",
   "metadata": {},
   "outputs": [
    {
     "name": "stdout",
     "output_type": "stream",
     "text": [
      "Matplotlib version:  3.4.3\n"
     ]
    },
    {
     "data": {
      "application/javascript": [
       "\n",
       "            setTimeout(function() {\n",
       "                var nbb_cell_id = 2;\n",
       "                var nbb_unformatted_code = \"import matplotlib\\nimport matplotlib.pyplot as plt\\nimport pandas as pd\\nimport numpy as np\\n\\nprint(\\\"Matplotlib version: \\\", matplotlib.__version__)\";\n",
       "                var nbb_formatted_code = \"import matplotlib\\nimport matplotlib.pyplot as plt\\nimport pandas as pd\\nimport numpy as np\\n\\nprint(\\\"Matplotlib version: \\\", matplotlib.__version__)\";\n",
       "                var nbb_cells = Jupyter.notebook.get_cells();\n",
       "                for (var i = 0; i < nbb_cells.length; ++i) {\n",
       "                    if (nbb_cells[i].input_prompt_number == nbb_cell_id) {\n",
       "                        if (nbb_cells[i].get_text() == nbb_unformatted_code) {\n",
       "                             nbb_cells[i].set_text(nbb_formatted_code);\n",
       "                        }\n",
       "                        break;\n",
       "                    }\n",
       "                }\n",
       "            }, 500);\n",
       "            "
      ],
      "text/plain": [
       "<IPython.core.display.Javascript object>"
      ]
     },
     "metadata": {},
     "output_type": "display_data"
    }
   ],
   "source": [
    "import matplotlib\n",
    "import matplotlib.pyplot as plt\n",
    "import pandas as pd\n",
    "import numpy as np\n",
    "\n",
    "print(\"Matplotlib version: \", matplotlib.__version__)"
   ]
  },
  {
   "cell_type": "markdown",
   "id": "a2dc7442",
   "metadata": {},
   "source": [
    "### Bar Chart\n",
    "\n",
    "`plt.plot()` uses _Line plot_ by default. To plot the values as a _Bar chart_ use `plt.bar()`.\n",
    "\n",
    "#### Single Bar Chart"
   ]
  },
  {
   "cell_type": "code",
   "execution_count": 3,
   "id": "01c7678f",
   "metadata": {},
   "outputs": [
    {
     "data": {
      "image/png": "[encoded data removed]",
      "text/plain": [
       "<Figure size 432x288 with 1 Axes>"
      ]
     },
     "metadata": {
      "needs_background": "light"
     },
     "output_type": "display_data"
    },
    {
     "data": {
      "application/javascript": [
       "\n",
       "            setTimeout(function() {\n",
       "                var nbb_cell_id = 3;\n",
       "                var nbb_unformatted_code = \"age_x = [25, 26, 27, 28, 29, 30, 31, 32, 33, 34, 35]\\nsal_y = [38496, 42000, 46752, 49320, 53200, 56000, 62316, 64928, 67317, 68748, 73752]  # All devs salary\\n\\n# Plot \\\"Median Salarry vs Age\\\" Bar graph for devs.\\nplt.bar(age_x, sal_y, color=\\\"#444444\\\", label=\\\"All Devs\\\")\\n\\nplt.xlabel(\\\"Age in years\\\")\\nplt.ylabel(\\\"Median salary in USD\\\")\\nplt.title(\\\"Median Salarry vs Age\\\")\\nplt.legend()\\n\\nplt.show()\";\n",
       "                var nbb_formatted_code = \"age_x = [25, 26, 27, 28, 29, 30, 31, 32, 33, 34, 35]\\nsal_y = [38496, 42000, 46752, 49320, 53200, 56000, 62316, 64928, 67317, 68748, 73752]  # All devs salary\\n\\n# Plot \\\"Median Salarry vs Age\\\" Bar graph for devs.\\nplt.bar(age_x, sal_y, color=\\\"#444444\\\", label=\\\"All Devs\\\")\\n\\nplt.xlabel(\\\"Age in years\\\")\\nplt.ylabel(\\\"Median salary in USD\\\")\\nplt.title(\\\"Median Salarry vs Age\\\")\\nplt.legend()\\n\\nplt.show()\";\n",
       "                var nbb_cells = Jupyter.notebook.get_cells();\n",
       "                for (var i = 0; i < nbb_cells.length; ++i) {\n",
       "                    if (nbb_cells[i].input_prompt_number == nbb_cell_id) {\n",
       "                        if (nbb_cells[i].get_text() == nbb_unformatted_code) {\n",
       "                             nbb_cells[i].set_text(nbb_formatted_code);\n",
       "                        }\n",
       "                        break;\n",
       "                    }\n",
       "                }\n",
       "            }, 500);\n",
       "            "
      ],
      "text/plain": [
       "<IPython.core.display.Javascript object>"
      ]
     },
     "metadata": {},
     "output_type": "display_data"
    }
   ],
   "source": [
    "age_x = [25, 26, 27, 28, 29, 30, 31, 32, 33, 34, 35]\n",
    "sal_y = [38496, 42000, 46752, 49320, 53200, 56000, 62316, 64928, 67317, 68748, 73752]  # All devs salary\n",
    "\n",
    "# Plot \"Median Salarry vs Age\" Bar graph for devs.\n",
    "plt.bar(age_x, sal_y, color=\"#444444\", label=\"All Devs\")\n",
    "\n",
    "plt.xlabel(\"Age in years\")\n",
    "plt.ylabel(\"Median salary in USD\")\n",
    "plt.title(\"Median Salarry vs Age\")\n",
    "plt.legend()\n",
    "\n",
    "plt.show()"
   ]
  },
  {
   "cell_type": "markdown",
   "id": "6011aafc",
   "metadata": {},
   "source": [
    "#### Multiple Bar Chart\n",
    "\n",
    "In `matplotlib` there is **no native support to display multiple _Bar Charts_** adjacently, instead they are **stacked on top of each other**. \n",
    "\n",
    "To plot multiple _Bar Charts_ adjacently we have to offset the _x-axis_ values of each plot. The offset values must be proportional to the width of the _Bar_. Since we need three bars \n",
    "```\n",
    "| -ve offset | Bar width  | +ve offset |\n",
    "|            |            |            |\n",
    "|------------|------------|------------|\n",
    "   Left Bar    Center Bar   Right Bar\n",
    "```"
   ]
  },
  {
   "cell_type": "code",
   "execution_count": 4,
   "id": "992f401e",
   "metadata": {},
   "outputs": [
    {
     "data": {
      "image/png": "[encoded data removed]",
      "text/plain": [
       "<Figure size 432x288 with 1 Axes>"
      ]
     },
     "metadata": {
      "needs_background": "light"
     },
     "output_type": "display_data"
    },
    {
     "data": {
      "application/javascript": [
       "\n",
       "            setTimeout(function() {\n",
       "                var nbb_cell_id = 4;\n",
       "                var nbb_unformatted_code = \"age_x = [25, 26, 27, 28, 29, 30, 31, 32, 33, 34, 35]  # Developers age range.\\nsal_y = [38496, 42000, 46752, 49320, 53200, 56000, 62316, 64928, 67317, 68748, 73752]  # All devs salary.\\npy_sal_y = [45372, 48876, 53850, 57287, 63016, 65998, 70003, 70000, 71496, 75370, 83640]  # Python devs salary.\\njs_sal_y = [37810, 43515, 46823, 49293, 53437, 56373, 62375, 66674, 68745, 68746, 74583]  # JS devs salary.\\n\\nbar_width = 0.25  # Set custom bar width.\\n\\nn_offset = np.array(age_x) - bar_width  # Negative offset.\\nplt.bar(n_offset, sal_y, width=bar_width, color=\\\"#444444\\\", label=\\\"All Devs\\\")  # All developers plot.\\n\\nplt.bar(age_x, py_sal_y, width=bar_width, color=\\\"#008FD5\\\", label=\\\"Py Devs\\\")  # Python developers plot.\\n\\np_offset = np.array(age_x) + bar_width  # Positive offset.\\nplt.bar(p_offset, js_sal_y, width=bar_width, color=\\\"#F0DB4F\\\", label=\\\"JS Devs\\\")  # JavaScript developers plot.\\n\\nplt.xlabel(\\\"Age in years\\\")\\nplt.ylabel(\\\"Median salary in USD\\\")\\nplt.title(\\\"Median Salary vs Age\\\")\\nplt.xticks(ticks=age_x, labels=age_x)\\nplt.legend()\\n\\nplt.show()\";\n",
       "                var nbb_formatted_code = \"age_x = [25, 26, 27, 28, 29, 30, 31, 32, 33, 34, 35]  # Developers age range.\\nsal_y = [38496, 42000, 46752, 49320, 53200, 56000, 62316, 64928, 67317, 68748, 73752]  # All devs salary.\\npy_sal_y = [45372, 48876, 53850, 57287, 63016, 65998, 70003, 70000, 71496, 75370, 83640]  # Python devs salary.\\njs_sal_y = [37810, 43515, 46823, 49293, 53437, 56373, 62375, 66674, 68745, 68746, 74583]  # JS devs salary.\\n\\nbar_width = 0.25  # Set custom bar width.\\n\\nn_offset = np.array(age_x) - bar_width  # Negative offset.\\nplt.bar(n_offset, sal_y, width=bar_width, color=\\\"#444444\\\", label=\\\"All Devs\\\")  # All developers plot.\\n\\nplt.bar(age_x, py_sal_y, width=bar_width, color=\\\"#008FD5\\\", label=\\\"Py Devs\\\")  # Python developers plot.\\n\\np_offset = np.array(age_x) + bar_width  # Positive offset.\\nplt.bar(p_offset, js_sal_y, width=bar_width, color=\\\"#F0DB4F\\\", label=\\\"JS Devs\\\")  # JavaScript developers plot.\\n\\nplt.xlabel(\\\"Age in years\\\")\\nplt.ylabel(\\\"Median salary in USD\\\")\\nplt.title(\\\"Median Salary vs Age\\\")\\nplt.xticks(ticks=age_x, labels=age_x)\\nplt.legend()\\n\\nplt.show()\";\n",
       "                var nbb_cells = Jupyter.notebook.get_cells();\n",
       "                for (var i = 0; i < nbb_cells.length; ++i) {\n",
       "                    if (nbb_cells[i].input_prompt_number == nbb_cell_id) {\n",
       "                        if (nbb_cells[i].get_text() == nbb_unformatted_code) {\n",
       "                             nbb_cells[i].set_text(nbb_formatted_code);\n",
       "                        }\n",
       "                        break;\n",
       "                    }\n",
       "                }\n",
       "            }, 500);\n",
       "            "
      ],
      "text/plain": [
       "<IPython.core.display.Javascript object>"
      ]
     },
     "metadata": {},
     "output_type": "display_data"
    }
   ],
   "source": [
    "age_x = [25, 26, 27, 28, 29, 30, 31, 32, 33, 34, 35]  # Developers age range.\n",
    "sal_y = [38496, 42000, 46752, 49320, 53200, 56000, 62316, 64928, 67317, 68748, 73752]  # All devs salary.\n",
    "py_sal_y = [45372, 48876, 53850, 57287, 63016, 65998, 70003, 70000, 71496, 75370, 83640]  # Python devs salary.\n",
    "js_sal_y = [37810, 43515, 46823, 49293, 53437, 56373, 62375, 66674, 68745, 68746, 74583]  # JS devs salary.\n",
    "\n",
    "bar_width = 0.25  # Set custom bar width.\n",
    "\n",
    "n_offset = np.array(age_x) - bar_width  # Negative offset.\n",
    "plt.bar(n_offset, sal_y, width=bar_width, color=\"#444444\", label=\"All Devs\")  # All developers plot.\n",
    "\n",
    "plt.bar(age_x, py_sal_y, width=bar_width, color=\"#008FD5\", label=\"Py Devs\")  # Python developers plot.\n",
    "\n",
    "p_offset = np.array(age_x) + bar_width  # Positive offset.\n",
    "plt.bar(p_offset, js_sal_y, width=bar_width, color=\"#F0DB4F\", label=\"JS Devs\")  # JavaScript developers plot.\n",
    "\n",
    "plt.xlabel(\"Age in years\")\n",
    "plt.ylabel(\"Median salary in USD\")\n",
    "plt.title(\"Median Salary vs Age\")\n",
    "plt.xticks(ticks=age_x, labels=age_x)\n",
    "plt.legend()\n",
    "\n",
    "plt.show()"
   ]
  },
  {
   "cell_type": "markdown",
   "id": "dbba28df",
   "metadata": {},
   "source": [
    "### Load sample data from a csv file using `pandas` library"
   ]
  },
  {
   "cell_type": "code",
   "execution_count": 5,
   "id": "81ddf41e",
   "metadata": {},
   "outputs": [
    {
     "name": "stdout",
     "output_type": "stream",
     "text": [
      "Number of rows: 87569\n",
      "Number of columns: 1\n"
     ]
    },
    {
     "data": {
      "text/html": [
       "<div>\n",
       "<style scoped>\n",
       "    .dataframe tbody tr th:only-of-type {\n",
       "        vertical-align: middle;\n",
       "    }\n",
       "\n",
       "    .dataframe tbody tr th {\n",
       "        vertical-align: top;\n",
       "    }\n",
       "\n",
       "    .dataframe thead th {\n",
       "        text-align: right;\n",
       "    }\n",
       "</style>\n",
       "<table border=\"1\" class=\"dataframe\">\n",
       "  <thead>\n",
       "    <tr style=\"text-align: right;\">\n",
       "      <th></th>\n",
       "      <th>LanguagesWorkedWith</th>\n",
       "    </tr>\n",
       "    <tr>\n",
       "      <th>Responder_id</th>\n",
       "      <th></th>\n",
       "    </tr>\n",
       "  </thead>\n",
       "  <tbody>\n",
       "    <tr>\n",
       "      <th>1</th>\n",
       "      <td>HTML/CSS;Java;JavaScript;Python</td>\n",
       "    </tr>\n",
       "    <tr>\n",
       "      <th>2</th>\n",
       "      <td>C++;HTML/CSS;Python</td>\n",
       "    </tr>\n",
       "    <tr>\n",
       "      <th>3</th>\n",
       "      <td>HTML/CSS</td>\n",
       "    </tr>\n",
       "  </tbody>\n",
       "</table>\n",
       "</div>"
      ],
      "text/plain": [
       "                          LanguagesWorkedWith\n",
       "Responder_id                                 \n",
       "1             HTML/CSS;Java;JavaScript;Python\n",
       "2                         C++;HTML/CSS;Python\n",
       "3                                    HTML/CSS"
      ]
     },
     "execution_count": 5,
     "metadata": {},
     "output_type": "execute_result"
    },
    {
     "data": {
      "application/javascript": [
       "\n",
       "            setTimeout(function() {\n",
       "                var nbb_cell_id = 5;\n",
       "                var nbb_unformatted_code = \"df = pd.read_csv(\\\"./data.csv\\\", index_col=\\\"Responder_id\\\")\\n\\nrows, cols = df.shape\\n\\nprint(\\\"Number of rows:\\\", rows)\\nprint(\\\"Number of columns:\\\", cols)\\n\\ndf.head(3)\";\n",
       "                var nbb_formatted_code = \"df = pd.read_csv(\\\"./data.csv\\\", index_col=\\\"Responder_id\\\")\\n\\nrows, cols = df.shape\\n\\nprint(\\\"Number of rows:\\\", rows)\\nprint(\\\"Number of columns:\\\", cols)\\n\\ndf.head(3)\";\n",
       "                var nbb_cells = Jupyter.notebook.get_cells();\n",
       "                for (var i = 0; i < nbb_cells.length; ++i) {\n",
       "                    if (nbb_cells[i].input_prompt_number == nbb_cell_id) {\n",
       "                        if (nbb_cells[i].get_text() == nbb_unformatted_code) {\n",
       "                             nbb_cells[i].set_text(nbb_formatted_code);\n",
       "                        }\n",
       "                        break;\n",
       "                    }\n",
       "                }\n",
       "            }, 500);\n",
       "            "
      ],
      "text/plain": [
       "<IPython.core.display.Javascript object>"
      ]
     },
     "metadata": {},
     "output_type": "display_data"
    }
   ],
   "source": [
    "df = pd.read_csv(\"./data.csv\", index_col=\"Responder_id\")\n",
    "\n",
    "rows, cols = df.shape\n",
    "\n",
    "print(\"Number of rows:\", rows)\n",
    "print(\"Number of columns:\", cols)\n",
    "\n",
    "df.head(3)"
   ]
  },
  {
   "cell_type": "markdown",
   "id": "f8ebc545",
   "metadata": {},
   "source": [
    "#### Plot a _Bar Chart_ for top programming languages"
   ]
  },
  {
   "cell_type": "code",
   "execution_count": 16,
   "id": "fabe0e0c",
   "metadata": {},
   "outputs": [
    {
     "data": {
      "image/png": "[encoded data removed]",
      "text/plain": [
       "<Figure size 432x288 with 1 Axes>"
      ]
     },
     "metadata": {
      "needs_background": "light"
     },
     "output_type": "display_data"
    },
    {
     "data": {
      "application/javascript": [
       "\n",
       "            setTimeout(function() {\n",
       "                var nbb_cell_id = 16;\n",
       "                var nbb_unformatted_code = \"from collections import Counter\\n\\nlang_count = Counter()\\ndf[\\\"LanguagesWorkedWith\\\"].apply(lambda skills: lang_count.update(skills.split(\\\";\\\")))\\n\\n# Pick top 15 most common programming languages and plot a Bar Chart.\\nx_vals, y_vals = zip(*lang_count.most_common(15))\\n\\n# Reverse tupels to show most mopular at the top.\\nx_vals = x_vals[::-1]\\ny_vals = y_vals[::-1]\\n\\nplt.barh(x_vals, y_vals)\\n\\nplt.title(\\\"Most popular programming languages\\\")\\nplt.xlabel(\\\"Popularity (Dev count)\\\")\\n\\nplt.show()\";\n",
       "                var nbb_formatted_code = \"from collections import Counter\\n\\nlang_count = Counter()\\ndf[\\\"LanguagesWorkedWith\\\"].apply(lambda skills: lang_count.update(skills.split(\\\";\\\")))\\n\\n# Pick top 15 most common programming languages and plot a Bar Chart.\\nx_vals, y_vals = zip(*lang_count.most_common(15))\\n\\n# Reverse tupels to show most mopular at the top.\\nx_vals = x_vals[::-1]\\ny_vals = y_vals[::-1]\\n\\nplt.barh(x_vals, y_vals)\\n\\nplt.title(\\\"Most popular programming languages\\\")\\nplt.xlabel(\\\"Popularity (Dev count)\\\")\\n\\nplt.show()\";\n",
       "                var nbb_cells = Jupyter.notebook.get_cells();\n",
       "                for (var i = 0; i < nbb_cells.length; ++i) {\n",
       "                    if (nbb_cells[i].input_prompt_number == nbb_cell_id) {\n",
       "                        if (nbb_cells[i].get_text() == nbb_unformatted_code) {\n",
       "                             nbb_cells[i].set_text(nbb_formatted_code);\n",
       "                        }\n",
       "                        break;\n",
       "                    }\n",
       "                }\n",
       "            }, 500);\n",
       "            "
      ],
      "text/plain": [
       "<IPython.core.display.Javascript object>"
      ]
     },
     "metadata": {},
     "output_type": "display_data"
    }
   ],
   "source": [
    "from collections import Counter\n",
    "\n",
    "lang_count = Counter()\n",
    "df[\"LanguagesWorkedWith\"].apply(lambda skills: lang_count.update(skills.split(\";\")))\n",
    "\n",
    "# Pick top 15 most common programming languages and plot a Bar Chart.\n",
    "x_vals, y_vals = zip(*lang_count.most_common(15))\n",
    "\n",
    "# Reverse tupels to show most mopular at the top.\n",
    "x_vals = x_vals[::-1]\n",
    "y_vals = y_vals[::-1]\n",
    "\n",
    "plt.barh(x_vals, y_vals)\n",
    "\n",
    "plt.title(\"Most popular programming languages\")\n",
    "plt.xlabel(\"Popularity (Dev count)\")\n",
    "\n",
    "plt.show()"
   ]
  }
 ],
 "metadata": {
  "kernelspec": {
   "display_name": "Python 3 (ipykernel)",
   "language": "python",
   "name": "python3"
  },
  "language_info": {
   "codemirror_mode": {
    "name": "ipython",
    "version": 3
   },
   "file_extension": ".py",
   "mimetype": "text/x-python",
   "name": "python",
   "nbconvert_exporter": "python",
   "pygments_lexer": "ipython3",
   "version": "3.9.7"
  }
 },
 "nbformat": 4,
 "nbformat_minor": 5
}
